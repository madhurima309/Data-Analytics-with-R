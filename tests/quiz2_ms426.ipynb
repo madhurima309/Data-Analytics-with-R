{
 "cells": [
  {
   "cell_type": "code",
   "execution_count": 1,
   "id": "f0675273",
   "metadata": {},
   "outputs": [
    {
     "name": "stderr",
     "output_type": "stream",
     "text": [
      "\n",
      "Attaching package: 'dplyr'\n",
      "\n",
      "The following objects are masked from 'package:stats':\n",
      "\n",
      "    filter, lag\n",
      "\n",
      "The following objects are masked from 'package:base':\n",
      "\n",
      "    intersect, setdiff, setequal, union\n",
      "\n"
     ]
    }
   ],
   "source": [
    "library(dplyr)"
   ]
  },
  {
   "cell_type": "code",
   "execution_count": 2,
   "id": "f2f4572f",
   "metadata": {},
   "outputs": [
    {
     "data": {
      "text/html": [
       "<table>\n",
       "<thead><tr><th></th><th scope=col>mpg</th><th scope=col>cyl</th><th scope=col>disp</th><th scope=col>hp</th><th scope=col>drat</th><th scope=col>wt</th><th scope=col>qsec</th><th scope=col>vs</th><th scope=col>am</th><th scope=col>gear</th><th scope=col>carb</th></tr></thead>\n",
       "<tbody>\n",
       "\t<tr><th scope=row>Mazda RX4</th><td>21.0 </td><td>6    </td><td>160  </td><td>110  </td><td>3.90 </td><td>2.620</td><td>16.46</td><td>0    </td><td>1    </td><td>4    </td><td>4    </td></tr>\n",
       "\t<tr><th scope=row>Mazda RX4 Wag</th><td>21.0 </td><td>6    </td><td>160  </td><td>110  </td><td>3.90 </td><td>2.875</td><td>17.02</td><td>0    </td><td>1    </td><td>4    </td><td>4    </td></tr>\n",
       "\t<tr><th scope=row>Datsun 710</th><td>22.8 </td><td>4    </td><td>108  </td><td> 93  </td><td>3.85 </td><td>2.320</td><td>18.61</td><td>1    </td><td>1    </td><td>4    </td><td>1    </td></tr>\n",
       "\t<tr><th scope=row>Hornet 4 Drive</th><td>21.4 </td><td>6    </td><td>258  </td><td>110  </td><td>3.08 </td><td>3.215</td><td>19.44</td><td>1    </td><td>0    </td><td>3    </td><td>1    </td></tr>\n",
       "\t<tr><th scope=row>Hornet Sportabout</th><td>18.7 </td><td>8    </td><td>360  </td><td>175  </td><td>3.15 </td><td>3.440</td><td>17.02</td><td>0    </td><td>0    </td><td>3    </td><td>2    </td></tr>\n",
       "\t<tr><th scope=row>Valiant</th><td>18.1 </td><td>6    </td><td>225  </td><td>105  </td><td>2.76 </td><td>3.460</td><td>20.22</td><td>1    </td><td>0    </td><td>3    </td><td>1    </td></tr>\n",
       "</tbody>\n",
       "</table>\n"
      ],
      "text/latex": [
       "\\begin{tabular}{r|lllllllllll}\n",
       "  & mpg & cyl & disp & hp & drat & wt & qsec & vs & am & gear & carb\\\\\n",
       "\\hline\n",
       "\tMazda RX4 & 21.0  & 6     & 160   & 110   & 3.90  & 2.620 & 16.46 & 0     & 1     & 4     & 4    \\\\\n",
       "\tMazda RX4 Wag & 21.0  & 6     & 160   & 110   & 3.90  & 2.875 & 17.02 & 0     & 1     & 4     & 4    \\\\\n",
       "\tDatsun 710 & 22.8  & 4     & 108   &  93   & 3.85  & 2.320 & 18.61 & 1     & 1     & 4     & 1    \\\\\n",
       "\tHornet 4 Drive & 21.4  & 6     & 258   & 110   & 3.08  & 3.215 & 19.44 & 1     & 0     & 3     & 1    \\\\\n",
       "\tHornet Sportabout & 18.7  & 8     & 360   & 175   & 3.15  & 3.440 & 17.02 & 0     & 0     & 3     & 2    \\\\\n",
       "\tValiant & 18.1  & 6     & 225   & 105   & 2.76  & 3.460 & 20.22 & 1     & 0     & 3     & 1    \\\\\n",
       "\\end{tabular}\n"
      ],
      "text/markdown": [
       "\n",
       "| <!--/--> | mpg | cyl | disp | hp | drat | wt | qsec | vs | am | gear | carb |\n",
       "|---|---|---|---|---|---|---|---|---|---|---|---|\n",
       "| Mazda RX4 | 21.0  | 6     | 160   | 110   | 3.90  | 2.620 | 16.46 | 0     | 1     | 4     | 4     |\n",
       "| Mazda RX4 Wag | 21.0  | 6     | 160   | 110   | 3.90  | 2.875 | 17.02 | 0     | 1     | 4     | 4     |\n",
       "| Datsun 710 | 22.8  | 4     | 108   |  93   | 3.85  | 2.320 | 18.61 | 1     | 1     | 4     | 1     |\n",
       "| Hornet 4 Drive | 21.4  | 6     | 258   | 110   | 3.08  | 3.215 | 19.44 | 1     | 0     | 3     | 1     |\n",
       "| Hornet Sportabout | 18.7  | 8     | 360   | 175   | 3.15  | 3.440 | 17.02 | 0     | 0     | 3     | 2     |\n",
       "| Valiant | 18.1  | 6     | 225   | 105   | 2.76  | 3.460 | 20.22 | 1     | 0     | 3     | 1     |\n",
       "\n"
      ],
      "text/plain": [
       "                  mpg  cyl disp hp  drat wt    qsec  vs am gear carb\n",
       "Mazda RX4         21.0 6   160  110 3.90 2.620 16.46 0  1  4    4   \n",
       "Mazda RX4 Wag     21.0 6   160  110 3.90 2.875 17.02 0  1  4    4   \n",
       "Datsun 710        22.8 4   108   93 3.85 2.320 18.61 1  1  4    1   \n",
       "Hornet 4 Drive    21.4 6   258  110 3.08 3.215 19.44 1  0  3    1   \n",
       "Hornet Sportabout 18.7 8   360  175 3.15 3.440 17.02 0  0  3    2   \n",
       "Valiant           18.1 6   225  105 2.76 3.460 20.22 1  0  3    1   "
      ]
     },
     "metadata": {},
     "output_type": "display_data"
    }
   ],
   "source": [
    "head(mtcars)"
   ]
  },
  {
   "cell_type": "code",
   "execution_count": 4,
   "id": "c04f6579",
   "metadata": {},
   "outputs": [
    {
     "data": {
      "text/html": [
       "160"
      ],
      "text/latex": [
       "160"
      ],
      "text/markdown": [
       "160"
      ],
      "text/plain": [
       "[1] 160"
      ]
     },
     "metadata": {},
     "output_type": "display_data"
    }
   ],
   "source": [
    "mtcars[\"Mazda RX4 Wag\", \"disp\"]"
   ]
  },
  {
   "cell_type": "code",
   "execution_count": 8,
   "id": "eabe8d80",
   "metadata": {},
   "outputs": [
    {
     "data": {
      "text/html": [
       "<ol class=list-inline>\n",
       "\t<li>110</li>\n",
       "\t<li>110</li>\n",
       "\t<li>93</li>\n",
       "\t<li>110</li>\n",
       "\t<li>175</li>\n",
       "\t<li>105</li>\n",
       "\t<li>245</li>\n",
       "\t<li>62</li>\n",
       "\t<li>95</li>\n",
       "\t<li>123</li>\n",
       "\t<li>123</li>\n",
       "\t<li>180</li>\n",
       "\t<li>180</li>\n",
       "\t<li>180</li>\n",
       "\t<li>205</li>\n",
       "\t<li>215</li>\n",
       "\t<li>230</li>\n",
       "\t<li>66</li>\n",
       "\t<li>52</li>\n",
       "\t<li>65</li>\n",
       "\t<li>97</li>\n",
       "\t<li>150</li>\n",
       "\t<li>150</li>\n",
       "\t<li>245</li>\n",
       "\t<li>175</li>\n",
       "\t<li>66</li>\n",
       "\t<li>91</li>\n",
       "\t<li>113</li>\n",
       "\t<li>264</li>\n",
       "\t<li>175</li>\n",
       "\t<li>335</li>\n",
       "\t<li>109</li>\n",
       "</ol>\n"
      ],
      "text/latex": [
       "\\begin{enumerate*}\n",
       "\\item 110\n",
       "\\item 110\n",
       "\\item 93\n",
       "\\item 110\n",
       "\\item 175\n",
       "\\item 105\n",
       "\\item 245\n",
       "\\item 62\n",
       "\\item 95\n",
       "\\item 123\n",
       "\\item 123\n",
       "\\item 180\n",
       "\\item 180\n",
       "\\item 180\n",
       "\\item 205\n",
       "\\item 215\n",
       "\\item 230\n",
       "\\item 66\n",
       "\\item 52\n",
       "\\item 65\n",
       "\\item 97\n",
       "\\item 150\n",
       "\\item 150\n",
       "\\item 245\n",
       "\\item 175\n",
       "\\item 66\n",
       "\\item 91\n",
       "\\item 113\n",
       "\\item 264\n",
       "\\item 175\n",
       "\\item 335\n",
       "\\item 109\n",
       "\\end{enumerate*}\n"
      ],
      "text/markdown": [
       "1. 110\n",
       "2. 110\n",
       "3. 93\n",
       "4. 110\n",
       "5. 175\n",
       "6. 105\n",
       "7. 245\n",
       "8. 62\n",
       "9. 95\n",
       "10. 123\n",
       "11. 123\n",
       "12. 180\n",
       "13. 180\n",
       "14. 180\n",
       "15. 205\n",
       "16. 215\n",
       "17. 230\n",
       "18. 66\n",
       "19. 52\n",
       "20. 65\n",
       "21. 97\n",
       "22. 150\n",
       "23. 150\n",
       "24. 245\n",
       "25. 175\n",
       "26. 66\n",
       "27. 91\n",
       "28. 113\n",
       "29. 264\n",
       "30. 175\n",
       "31. 335\n",
       "32. 109\n",
       "\n",
       "\n"
      ],
      "text/plain": [
       " [1] 110 110  93 110 175 105 245  62  95 123 123 180 180 180 205 215 230  66  52\n",
       "[20]  65  97 150 150 245 175  66  91 113 264 175 335 109"
      ]
     },
     "metadata": {},
     "output_type": "display_data"
    }
   ],
   "source": [
    "x = mtcars[,\"hp\"]; x"
   ]
  },
  {
   "cell_type": "code",
   "execution_count": 13,
   "id": "f66886fe",
   "metadata": {},
   "outputs": [
    {
     "data": {
      "text/html": [
       "<dl>\n",
       "\t<dt>$sex</dt>\n",
       "\t\t<dd><ol class=list-inline>\n",
       "\t<li>1</li>\n",
       "\t<li>1</li>\n",
       "\t<li>1</li>\n",
       "\t<li>1</li>\n",
       "\t<li>2</li>\n",
       "\t<li>2</li>\n",
       "\t<li>2</li>\n",
       "\t<li>2</li>\n",
       "\t<li>2</li>\n",
       "\t<li>2</li>\n",
       "</ol>\n",
       "</dd>\n",
       "\t<dt>$smoking</dt>\n",
       "\t\t<dd><ol class=list-inline>\n",
       "\t<li>1</li>\n",
       "\t<li>0</li>\n",
       "\t<li>1</li>\n",
       "\t<li>0</li>\n",
       "\t<li>1</li>\n",
       "\t<li>0</li>\n",
       "\t<li>0</li>\n",
       "\t<li>0</li>\n",
       "\t<li>1</li>\n",
       "\t<li>1</li>\n",
       "</ol>\n",
       "</dd>\n",
       "\t<dt>$age</dt>\n",
       "\t\t<dd><ol class=list-inline>\n",
       "\t<li>21</li>\n",
       "\t<li>22</li>\n",
       "\t<li>23</li>\n",
       "\t<li>24</li>\n",
       "\t<li>25</li>\n",
       "\t<li>26</li>\n",
       "\t<li>27</li>\n",
       "\t<li>28</li>\n",
       "\t<li>29</li>\n",
       "\t<li>30</li>\n",
       "</ol>\n",
       "</dd>\n",
       "</dl>\n"
      ],
      "text/latex": [
       "\\begin{description}\n",
       "\\item[\\$sex] \\begin{enumerate*}\n",
       "\\item 1\n",
       "\\item 1\n",
       "\\item 1\n",
       "\\item 1\n",
       "\\item 2\n",
       "\\item 2\n",
       "\\item 2\n",
       "\\item 2\n",
       "\\item 2\n",
       "\\item 2\n",
       "\\end{enumerate*}\n",
       "\n",
       "\\item[\\$smoking] \\begin{enumerate*}\n",
       "\\item 1\n",
       "\\item 0\n",
       "\\item 1\n",
       "\\item 0\n",
       "\\item 1\n",
       "\\item 0\n",
       "\\item 0\n",
       "\\item 0\n",
       "\\item 1\n",
       "\\item 1\n",
       "\\end{enumerate*}\n",
       "\n",
       "\\item[\\$age] \\begin{enumerate*}\n",
       "\\item 21\n",
       "\\item 22\n",
       "\\item 23\n",
       "\\item 24\n",
       "\\item 25\n",
       "\\item 26\n",
       "\\item 27\n",
       "\\item 28\n",
       "\\item 29\n",
       "\\item 30\n",
       "\\end{enumerate*}\n",
       "\n",
       "\\end{description}\n"
      ],
      "text/markdown": [
       "$sex\n",
       ":   1. 1\n",
       "2. 1\n",
       "3. 1\n",
       "4. 1\n",
       "5. 2\n",
       "6. 2\n",
       "7. 2\n",
       "8. 2\n",
       "9. 2\n",
       "10. 2\n",
       "\n",
       "\n",
       "\n",
       "$smoking\n",
       ":   1. 1\n",
       "2. 0\n",
       "3. 1\n",
       "4. 0\n",
       "5. 1\n",
       "6. 0\n",
       "7. 0\n",
       "8. 0\n",
       "9. 1\n",
       "10. 1\n",
       "\n",
       "\n",
       "\n",
       "$age\n",
       ":   1. 21\n",
       "2. 22\n",
       "3. 23\n",
       "4. 24\n",
       "5. 25\n",
       "6. 26\n",
       "7. 27\n",
       "8. 28\n",
       "9. 29\n",
       "10. 30\n",
       "\n",
       "\n",
       "\n",
       "\n",
       "\n"
      ],
      "text/plain": [
       "$sex\n",
       " [1] 1 1 1 1 2 2 2 2 2 2\n",
       "\n",
       "$smoking\n",
       " [1] 1 0 1 0 1 0 0 0 1 1\n",
       "\n",
       "$age\n",
       " [1] 21 22 23 24 25 26 27 28 29 30\n"
      ]
     },
     "metadata": {},
     "output_type": "display_data"
    }
   ],
   "source": [
    "mylist=list(sex = c(1,1,1,1,2,2,2,2,2,2), smoking = c(1,0,1,0,1,0,0,0,1,1), age=c(21:30)); mylist"
   ]
  },
  {
   "cell_type": "code",
   "execution_count": 14,
   "id": "44696eec",
   "metadata": {},
   "outputs": [
    {
     "data": {
      "text/html": [
       "<dl>\n",
       "\t<dt>$sex</dt>\n",
       "\t\t<dd><ol class=list-inline>\n",
       "\t<li>2</li>\n",
       "\t<li>2</li>\n",
       "\t<li>2</li>\n",
       "\t<li>2</li>\n",
       "\t<li>4</li>\n",
       "\t<li>4</li>\n",
       "\t<li>4</li>\n",
       "\t<li>4</li>\n",
       "\t<li>4</li>\n",
       "\t<li>4</li>\n",
       "</ol>\n",
       "</dd>\n",
       "\t<dt>$smoking</dt>\n",
       "\t\t<dd><ol class=list-inline>\n",
       "\t<li>2</li>\n",
       "\t<li>0</li>\n",
       "\t<li>2</li>\n",
       "\t<li>0</li>\n",
       "\t<li>2</li>\n",
       "\t<li>0</li>\n",
       "\t<li>0</li>\n",
       "\t<li>0</li>\n",
       "\t<li>2</li>\n",
       "\t<li>2</li>\n",
       "</ol>\n",
       "</dd>\n",
       "\t<dt>$age</dt>\n",
       "\t\t<dd><ol class=list-inline>\n",
       "\t<li>42</li>\n",
       "\t<li>44</li>\n",
       "\t<li>46</li>\n",
       "\t<li>48</li>\n",
       "\t<li>50</li>\n",
       "\t<li>52</li>\n",
       "\t<li>54</li>\n",
       "\t<li>56</li>\n",
       "\t<li>58</li>\n",
       "\t<li>60</li>\n",
       "</ol>\n",
       "</dd>\n",
       "</dl>\n"
      ],
      "text/latex": [
       "\\begin{description}\n",
       "\\item[\\$sex] \\begin{enumerate*}\n",
       "\\item 2\n",
       "\\item 2\n",
       "\\item 2\n",
       "\\item 2\n",
       "\\item 4\n",
       "\\item 4\n",
       "\\item 4\n",
       "\\item 4\n",
       "\\item 4\n",
       "\\item 4\n",
       "\\end{enumerate*}\n",
       "\n",
       "\\item[\\$smoking] \\begin{enumerate*}\n",
       "\\item 2\n",
       "\\item 0\n",
       "\\item 2\n",
       "\\item 0\n",
       "\\item 2\n",
       "\\item 0\n",
       "\\item 0\n",
       "\\item 0\n",
       "\\item 2\n",
       "\\item 2\n",
       "\\end{enumerate*}\n",
       "\n",
       "\\item[\\$age] \\begin{enumerate*}\n",
       "\\item 42\n",
       "\\item 44\n",
       "\\item 46\n",
       "\\item 48\n",
       "\\item 50\n",
       "\\item 52\n",
       "\\item 54\n",
       "\\item 56\n",
       "\\item 58\n",
       "\\item 60\n",
       "\\end{enumerate*}\n",
       "\n",
       "\\end{description}\n"
      ],
      "text/markdown": [
       "$sex\n",
       ":   1. 2\n",
       "2. 2\n",
       "3. 2\n",
       "4. 2\n",
       "5. 4\n",
       "6. 4\n",
       "7. 4\n",
       "8. 4\n",
       "9. 4\n",
       "10. 4\n",
       "\n",
       "\n",
       "\n",
       "$smoking\n",
       ":   1. 2\n",
       "2. 0\n",
       "3. 2\n",
       "4. 0\n",
       "5. 2\n",
       "6. 0\n",
       "7. 0\n",
       "8. 0\n",
       "9. 2\n",
       "10. 2\n",
       "\n",
       "\n",
       "\n",
       "$age\n",
       ":   1. 42\n",
       "2. 44\n",
       "3. 46\n",
       "4. 48\n",
       "5. 50\n",
       "6. 52\n",
       "7. 54\n",
       "8. 56\n",
       "9. 58\n",
       "10. 60\n",
       "\n",
       "\n",
       "\n",
       "\n",
       "\n"
      ],
      "text/plain": [
       "$sex\n",
       " [1] 2 2 2 2 4 4 4 4 4 4\n",
       "\n",
       "$smoking\n",
       " [1] 2 0 2 0 2 0 0 0 2 2\n",
       "\n",
       "$age\n",
       " [1] 42 44 46 48 50 52 54 56 58 60\n"
      ]
     },
     "metadata": {},
     "output_type": "display_data"
    }
   ],
   "source": [
    "lapply(mylist, function(kk){ kk*2 })"
   ]
  },
  {
   "cell_type": "code",
   "execution_count": 18,
   "id": "485bafe3",
   "metadata": {},
   "outputs": [
    {
     "data": {
      "text/html": [
       "<dl class=dl-horizontal>\n",
       "\t<dt>sex</dt>\n",
       "\t\t<dd>1</dd>\n",
       "\t<dt>smoking</dt>\n",
       "\t\t<dd>0</dd>\n",
       "\t<dt>age</dt>\n",
       "\t\t<dd>21</dd>\n",
       "</dl>\n"
      ],
      "text/latex": [
       "\\begin{description*}\n",
       "\\item[sex] 1\n",
       "\\item[smoking] 0\n",
       "\\item[age] 21\n",
       "\\end{description*}\n"
      ],
      "text/markdown": [
       "sex\n",
       ":   1smoking\n",
       ":   0age\n",
       ":   21\n",
       "\n"
      ],
      "text/plain": [
       "    sex smoking     age \n",
       "      1       0      21 "
      ]
     },
     "metadata": {},
     "output_type": "display_data"
    }
   ],
   "source": [
    "a=sapply(mylist, min);a"
   ]
  },
  {
   "cell_type": "code",
   "execution_count": 19,
   "id": "b5032aca",
   "metadata": {},
   "outputs": [
    {
     "data": {
      "text/html": [
       "<dl>\n",
       "\t<dt>$sex</dt>\n",
       "\t\t<dd>1</dd>\n",
       "\t<dt>$smoking</dt>\n",
       "\t\t<dd>0</dd>\n",
       "\t<dt>$age</dt>\n",
       "\t\t<dd>21</dd>\n",
       "</dl>\n"
      ],
      "text/latex": [
       "\\begin{description}\n",
       "\\item[\\$sex] 1\n",
       "\\item[\\$smoking] 0\n",
       "\\item[\\$age] 21\n",
       "\\end{description}\n"
      ],
      "text/markdown": [
       "$sex\n",
       ":   1\n",
       "$smoking\n",
       ":   0\n",
       "$age\n",
       ":   21\n",
       "\n",
       "\n"
      ],
      "text/plain": [
       "$sex\n",
       "[1] 1\n",
       "\n",
       "$smoking\n",
       "[1] 0\n",
       "\n",
       "$age\n",
       "[1] 21\n"
      ]
     },
     "metadata": {},
     "output_type": "display_data"
    }
   ],
   "source": [
    "b=lapply(mylist, min);b"
   ]
  },
  {
   "cell_type": "code",
   "execution_count": 20,
   "id": "2afe5da4",
   "metadata": {},
   "outputs": [
    {
     "data": {
      "text/html": [
       "'numeric'"
      ],
      "text/latex": [
       "'numeric'"
      ],
      "text/markdown": [
       "'numeric'"
      ],
      "text/plain": [
       "[1] \"numeric\""
      ]
     },
     "metadata": {},
     "output_type": "display_data"
    },
    {
     "data": {
      "text/html": [
       "'list'"
      ],
      "text/latex": [
       "'list'"
      ],
      "text/markdown": [
       "'list'"
      ],
      "text/plain": [
       "[1] \"list\""
      ]
     },
     "metadata": {},
     "output_type": "display_data"
    }
   ],
   "source": [
    "class(a)\n",
    "class(b)"
   ]
  },
  {
   "cell_type": "markdown",
   "id": "7ef15e45",
   "metadata": {},
   "source": [
    "sapply will try and simplify the output, essentially sapply works the same in handling the input, but when giving the output it simplifies, so when using lappy the output we get is a list but when using sapply we get vector."
   ]
  },
  {
   "cell_type": "code",
   "execution_count": 23,
   "id": "078687f2",
   "metadata": {},
   "outputs": [
    {
     "data": {
      "text/html": [
       "<table>\n",
       "<tbody>\n",
       "\t<tr><td>1 </td><td>2 </td><td>NA</td><td>3 </td><td>4 </td></tr>\n",
       "\t<tr><td>5 </td><td>6 </td><td> 7</td><td>8 </td><td>9 </td></tr>\n",
       "</tbody>\n",
       "</table>\n"
      ],
      "text/latex": [
       "\\begin{tabular}{lllll}\n",
       "\t 1  & 2  & NA & 3  & 4 \\\\\n",
       "\t 5  & 6  &  7 & 8  & 9 \\\\\n",
       "\\end{tabular}\n"
      ],
      "text/markdown": [
       "\n",
       "| 1  | 2  | NA | 3  | 4  |\n",
       "| 5  | 6  |  7 | 8  | 9  |\n",
       "\n"
      ],
      "text/plain": [
       "     [,1] [,2] [,3] [,4] [,5]\n",
       "[1,] 1    2    NA   3    4   \n",
       "[2,] 5    6     7   8    9   "
      ]
     },
     "metadata": {},
     "output_type": "display_data"
    }
   ],
   "source": [
    "zz=matrix(c(c(1,2,NA), c(3,4,5), 6:9), nrow = 2, ncol = 5, byrow = TRUE);zz"
   ]
  },
  {
   "cell_type": "code",
   "execution_count": 24,
   "id": "c121a2a2",
   "metadata": {},
   "outputs": [
    {
     "data": {
      "text/html": [
       "<ol class=list-inline>\n",
       "\t<li>10</li>\n",
       "\t<li>35</li>\n",
       "</ol>\n"
      ],
      "text/latex": [
       "\\begin{enumerate*}\n",
       "\\item 10\n",
       "\\item 35\n",
       "\\end{enumerate*}\n"
      ],
      "text/markdown": [
       "1. 10\n",
       "2. 35\n",
       "\n",
       "\n"
      ],
      "text/plain": [
       "[1] 10 35"
      ]
     },
     "metadata": {},
     "output_type": "display_data"
    },
    {
     "data": {
      "text/html": [
       "<ol class=list-inline>\n",
       "\t<li>3</li>\n",
       "\t<li>4</li>\n",
       "\t<li>7</li>\n",
       "\t<li>5.5</li>\n",
       "\t<li>6.5</li>\n",
       "</ol>\n"
      ],
      "text/latex": [
       "\\begin{enumerate*}\n",
       "\\item 3\n",
       "\\item 4\n",
       "\\item 7\n",
       "\\item 5.5\n",
       "\\item 6.5\n",
       "\\end{enumerate*}\n"
      ],
      "text/markdown": [
       "1. 3\n",
       "2. 4\n",
       "3. 7\n",
       "4. 5.5\n",
       "5. 6.5\n",
       "\n",
       "\n"
      ],
      "text/plain": [
       "[1] 3.0 4.0 7.0 5.5 6.5"
      ]
     },
     "metadata": {},
     "output_type": "display_data"
    }
   ],
   "source": [
    "#sum of each row\n",
    "apply(zz,1,sum,na.rm = TRUE)\n",
    "\n",
    "#avg of each column\n",
    "apply(zz,2,mean,na.rm = TRUE)"
   ]
  },
  {
   "cell_type": "code",
   "execution_count": 30,
   "id": "0e86d3ce",
   "metadata": {},
   "outputs": [
    {
     "data": {
      "text/html": [
       "<table>\n",
       "<thead><tr><th scope=col>Index...symbol...color</th></tr></thead>\n",
       "<tbody>\n",
       "\t<tr><td>1             A            red</td></tr>\n",
       "\t<tr><td>2             B            red</td></tr>\n",
       "\t<tr><td>3             C            red</td></tr>\n",
       "\t<tr><td>4             D            red</td></tr>\n",
       "\t<tr><td>5             E            red</td></tr>\n",
       "\t<tr><td>6             F            red</td></tr>\n",
       "</tbody>\n",
       "</table>\n"
      ],
      "text/latex": [
       "\\begin{tabular}{r|l}\n",
       " Index...symbol...color\\\\\n",
       "\\hline\n",
       "\t 1             A            red\\\\\n",
       "\t 2             B            red\\\\\n",
       "\t 3             C            red\\\\\n",
       "\t 4             D            red\\\\\n",
       "\t 5             E            red\\\\\n",
       "\t 6             F            red\\\\\n",
       "\\end{tabular}\n"
      ],
      "text/markdown": [
       "\n",
       "| Index...symbol...color |\n",
       "|---|\n",
       "| 1             A            red |\n",
       "| 2             B            red |\n",
       "| 3             C            red |\n",
       "| 4             D            red |\n",
       "| 5             E            red |\n",
       "| 6             F            red |\n",
       "\n"
      ],
      "text/plain": [
       "  Index...symbol...color        \n",
       "1 1             A            red\n",
       "2 2             B            red\n",
       "3 3             C            red\n",
       "4 4             D            red\n",
       "5 5             E            red\n",
       "6 6             F            red"
      ]
     },
     "metadata": {},
     "output_type": "display_data"
    }
   ],
   "source": [
    "var=read.delim(\"test.txt\",header=TRUE, sep=\"\\t\"); var"
   ]
  },
  {
   "cell_type": "code",
   "execution_count": 31,
   "id": "1cbdc0b6",
   "metadata": {},
   "outputs": [
    {
     "data": {
      "text/html": [
       "'data.frame'"
      ],
      "text/latex": [
       "'data.frame'"
      ],
      "text/markdown": [
       "'data.frame'"
      ],
      "text/plain": [
       "[1] \"data.frame\""
      ]
     },
     "metadata": {},
     "output_type": "display_data"
    }
   ],
   "source": [
    "class(var)"
   ]
  },
  {
   "cell_type": "code",
   "execution_count": 32,
   "id": "9a8d7fca",
   "metadata": {},
   "outputs": [
    {
     "data": {
      "text/html": [
       "<table>\n",
       "<thead><tr><th></th><th scope=col>hp</th><th scope=col>drat</th><th scope=col>wt</th><th scope=col>qsec</th><th scope=col>vs</th></tr></thead>\n",
       "<tbody>\n",
       "\t<tr><th scope=row>Mazda RX4</th><td>110  </td><td>3.90 </td><td>2.620</td><td>16.46</td><td>0    </td></tr>\n",
       "\t<tr><th scope=row>Mazda RX4 Wag</th><td>110  </td><td>3.90 </td><td>2.875</td><td>17.02</td><td>0    </td></tr>\n",
       "\t<tr><th scope=row>Datsun 710</th><td> 93  </td><td>3.85 </td><td>2.320</td><td>18.61</td><td>1    </td></tr>\n",
       "\t<tr><th scope=row>Hornet 4 Drive</th><td>110  </td><td>3.08 </td><td>3.215</td><td>19.44</td><td>1    </td></tr>\n",
       "\t<tr><th scope=row>Hornet Sportabout</th><td>175  </td><td>3.15 </td><td>3.440</td><td>17.02</td><td>0    </td></tr>\n",
       "\t<tr><th scope=row>Valiant</th><td>105  </td><td>2.76 </td><td>3.460</td><td>20.22</td><td>1    </td></tr>\n",
       "\t<tr><th scope=row>Duster 360</th><td>245  </td><td>3.21 </td><td>3.570</td><td>15.84</td><td>0    </td></tr>\n",
       "\t<tr><th scope=row>Merc 240D</th><td> 62  </td><td>3.69 </td><td>3.190</td><td>20.00</td><td>1    </td></tr>\n",
       "\t<tr><th scope=row>Merc 230</th><td> 95  </td><td>3.92 </td><td>3.150</td><td>22.90</td><td>1    </td></tr>\n",
       "\t<tr><th scope=row>Merc 280</th><td>123  </td><td>3.92 </td><td>3.440</td><td>18.30</td><td>1    </td></tr>\n",
       "\t<tr><th scope=row>Merc 280C</th><td>123  </td><td>3.92 </td><td>3.440</td><td>18.90</td><td>1    </td></tr>\n",
       "\t<tr><th scope=row>Merc 450SE</th><td>180  </td><td>3.07 </td><td>4.070</td><td>17.40</td><td>0    </td></tr>\n",
       "\t<tr><th scope=row>Merc 450SL</th><td>180  </td><td>3.07 </td><td>3.730</td><td>17.60</td><td>0    </td></tr>\n",
       "\t<tr><th scope=row>Merc 450SLC</th><td>180  </td><td>3.07 </td><td>3.780</td><td>18.00</td><td>0    </td></tr>\n",
       "\t<tr><th scope=row>Cadillac Fleetwood</th><td>205  </td><td>2.93 </td><td>5.250</td><td>17.98</td><td>0    </td></tr>\n",
       "\t<tr><th scope=row>Lincoln Continental</th><td>215  </td><td>3.00 </td><td>5.424</td><td>17.82</td><td>0    </td></tr>\n",
       "\t<tr><th scope=row>Chrysler Imperial</th><td>230  </td><td>3.23 </td><td>5.345</td><td>17.42</td><td>0    </td></tr>\n",
       "\t<tr><th scope=row>Fiat 128</th><td> 66  </td><td>4.08 </td><td>2.200</td><td>19.47</td><td>1    </td></tr>\n",
       "\t<tr><th scope=row>Honda Civic</th><td> 52  </td><td>4.93 </td><td>1.615</td><td>18.52</td><td>1    </td></tr>\n",
       "\t<tr><th scope=row>Toyota Corolla</th><td> 65  </td><td>4.22 </td><td>1.835</td><td>19.90</td><td>1    </td></tr>\n",
       "\t<tr><th scope=row>Toyota Corona</th><td> 97  </td><td>3.70 </td><td>2.465</td><td>20.01</td><td>1    </td></tr>\n",
       "\t<tr><th scope=row>Dodge Challenger</th><td>150  </td><td>2.76 </td><td>3.520</td><td>16.87</td><td>0    </td></tr>\n",
       "\t<tr><th scope=row>AMC Javelin</th><td>150  </td><td>3.15 </td><td>3.435</td><td>17.30</td><td>0    </td></tr>\n",
       "\t<tr><th scope=row>Camaro Z28</th><td>245  </td><td>3.73 </td><td>3.840</td><td>15.41</td><td>0    </td></tr>\n",
       "\t<tr><th scope=row>Pontiac Firebird</th><td>175  </td><td>3.08 </td><td>3.845</td><td>17.05</td><td>0    </td></tr>\n",
       "\t<tr><th scope=row>Fiat X1-9</th><td> 66  </td><td>4.08 </td><td>1.935</td><td>18.90</td><td>1    </td></tr>\n",
       "\t<tr><th scope=row>Porsche 914-2</th><td> 91  </td><td>4.43 </td><td>2.140</td><td>16.70</td><td>0    </td></tr>\n",
       "\t<tr><th scope=row>Lotus Europa</th><td>113  </td><td>3.77 </td><td>1.513</td><td>16.90</td><td>1    </td></tr>\n",
       "\t<tr><th scope=row>Ford Pantera L</th><td>264  </td><td>4.22 </td><td>3.170</td><td>14.50</td><td>0    </td></tr>\n",
       "\t<tr><th scope=row>Ferrari Dino</th><td>175  </td><td>3.62 </td><td>2.770</td><td>15.50</td><td>0    </td></tr>\n",
       "\t<tr><th scope=row>Maserati Bora</th><td>335  </td><td>3.54 </td><td>3.570</td><td>14.60</td><td>0    </td></tr>\n",
       "\t<tr><th scope=row>Volvo 142E</th><td>109  </td><td>4.11 </td><td>2.780</td><td>18.60</td><td>1    </td></tr>\n",
       "</tbody>\n",
       "</table>\n"
      ],
      "text/latex": [
       "\\begin{tabular}{r|lllll}\n",
       "  & hp & drat & wt & qsec & vs\\\\\n",
       "\\hline\n",
       "\tMazda RX4 & 110   & 3.90  & 2.620 & 16.46 & 0    \\\\\n",
       "\tMazda RX4 Wag & 110   & 3.90  & 2.875 & 17.02 & 0    \\\\\n",
       "\tDatsun 710 &  93   & 3.85  & 2.320 & 18.61 & 1    \\\\\n",
       "\tHornet 4 Drive & 110   & 3.08  & 3.215 & 19.44 & 1    \\\\\n",
       "\tHornet Sportabout & 175   & 3.15  & 3.440 & 17.02 & 0    \\\\\n",
       "\tValiant & 105   & 2.76  & 3.460 & 20.22 & 1    \\\\\n",
       "\tDuster 360 & 245   & 3.21  & 3.570 & 15.84 & 0    \\\\\n",
       "\tMerc 240D &  62   & 3.69  & 3.190 & 20.00 & 1    \\\\\n",
       "\tMerc 230 &  95   & 3.92  & 3.150 & 22.90 & 1    \\\\\n",
       "\tMerc 280 & 123   & 3.92  & 3.440 & 18.30 & 1    \\\\\n",
       "\tMerc 280C & 123   & 3.92  & 3.440 & 18.90 & 1    \\\\\n",
       "\tMerc 450SE & 180   & 3.07  & 4.070 & 17.40 & 0    \\\\\n",
       "\tMerc 450SL & 180   & 3.07  & 3.730 & 17.60 & 0    \\\\\n",
       "\tMerc 450SLC & 180   & 3.07  & 3.780 & 18.00 & 0    \\\\\n",
       "\tCadillac Fleetwood & 205   & 2.93  & 5.250 & 17.98 & 0    \\\\\n",
       "\tLincoln Continental & 215   & 3.00  & 5.424 & 17.82 & 0    \\\\\n",
       "\tChrysler Imperial & 230   & 3.23  & 5.345 & 17.42 & 0    \\\\\n",
       "\tFiat 128 &  66   & 4.08  & 2.200 & 19.47 & 1    \\\\\n",
       "\tHonda Civic &  52   & 4.93  & 1.615 & 18.52 & 1    \\\\\n",
       "\tToyota Corolla &  65   & 4.22  & 1.835 & 19.90 & 1    \\\\\n",
       "\tToyota Corona &  97   & 3.70  & 2.465 & 20.01 & 1    \\\\\n",
       "\tDodge Challenger & 150   & 2.76  & 3.520 & 16.87 & 0    \\\\\n",
       "\tAMC Javelin & 150   & 3.15  & 3.435 & 17.30 & 0    \\\\\n",
       "\tCamaro Z28 & 245   & 3.73  & 3.840 & 15.41 & 0    \\\\\n",
       "\tPontiac Firebird & 175   & 3.08  & 3.845 & 17.05 & 0    \\\\\n",
       "\tFiat X1-9 &  66   & 4.08  & 1.935 & 18.90 & 1    \\\\\n",
       "\tPorsche 914-2 &  91   & 4.43  & 2.140 & 16.70 & 0    \\\\\n",
       "\tLotus Europa & 113   & 3.77  & 1.513 & 16.90 & 1    \\\\\n",
       "\tFord Pantera L & 264   & 4.22  & 3.170 & 14.50 & 0    \\\\\n",
       "\tFerrari Dino & 175   & 3.62  & 2.770 & 15.50 & 0    \\\\\n",
       "\tMaserati Bora & 335   & 3.54  & 3.570 & 14.60 & 0    \\\\\n",
       "\tVolvo 142E & 109   & 4.11  & 2.780 & 18.60 & 1    \\\\\n",
       "\\end{tabular}\n"
      ],
      "text/markdown": [
       "\n",
       "| <!--/--> | hp | drat | wt | qsec | vs |\n",
       "|---|---|---|---|---|---|\n",
       "| Mazda RX4 | 110   | 3.90  | 2.620 | 16.46 | 0     |\n",
       "| Mazda RX4 Wag | 110   | 3.90  | 2.875 | 17.02 | 0     |\n",
       "| Datsun 710 |  93   | 3.85  | 2.320 | 18.61 | 1     |\n",
       "| Hornet 4 Drive | 110   | 3.08  | 3.215 | 19.44 | 1     |\n",
       "| Hornet Sportabout | 175   | 3.15  | 3.440 | 17.02 | 0     |\n",
       "| Valiant | 105   | 2.76  | 3.460 | 20.22 | 1     |\n",
       "| Duster 360 | 245   | 3.21  | 3.570 | 15.84 | 0     |\n",
       "| Merc 240D |  62   | 3.69  | 3.190 | 20.00 | 1     |\n",
       "| Merc 230 |  95   | 3.92  | 3.150 | 22.90 | 1     |\n",
       "| Merc 280 | 123   | 3.92  | 3.440 | 18.30 | 1     |\n",
       "| Merc 280C | 123   | 3.92  | 3.440 | 18.90 | 1     |\n",
       "| Merc 450SE | 180   | 3.07  | 4.070 | 17.40 | 0     |\n",
       "| Merc 450SL | 180   | 3.07  | 3.730 | 17.60 | 0     |\n",
       "| Merc 450SLC | 180   | 3.07  | 3.780 | 18.00 | 0     |\n",
       "| Cadillac Fleetwood | 205   | 2.93  | 5.250 | 17.98 | 0     |\n",
       "| Lincoln Continental | 215   | 3.00  | 5.424 | 17.82 | 0     |\n",
       "| Chrysler Imperial | 230   | 3.23  | 5.345 | 17.42 | 0     |\n",
       "| Fiat 128 |  66   | 4.08  | 2.200 | 19.47 | 1     |\n",
       "| Honda Civic |  52   | 4.93  | 1.615 | 18.52 | 1     |\n",
       "| Toyota Corolla |  65   | 4.22  | 1.835 | 19.90 | 1     |\n",
       "| Toyota Corona |  97   | 3.70  | 2.465 | 20.01 | 1     |\n",
       "| Dodge Challenger | 150   | 2.76  | 3.520 | 16.87 | 0     |\n",
       "| AMC Javelin | 150   | 3.15  | 3.435 | 17.30 | 0     |\n",
       "| Camaro Z28 | 245   | 3.73  | 3.840 | 15.41 | 0     |\n",
       "| Pontiac Firebird | 175   | 3.08  | 3.845 | 17.05 | 0     |\n",
       "| Fiat X1-9 |  66   | 4.08  | 1.935 | 18.90 | 1     |\n",
       "| Porsche 914-2 |  91   | 4.43  | 2.140 | 16.70 | 0     |\n",
       "| Lotus Europa | 113   | 3.77  | 1.513 | 16.90 | 1     |\n",
       "| Ford Pantera L | 264   | 4.22  | 3.170 | 14.50 | 0     |\n",
       "| Ferrari Dino | 175   | 3.62  | 2.770 | 15.50 | 0     |\n",
       "| Maserati Bora | 335   | 3.54  | 3.570 | 14.60 | 0     |\n",
       "| Volvo 142E | 109   | 4.11  | 2.780 | 18.60 | 1     |\n",
       "\n"
      ],
      "text/plain": [
       "                    hp  drat wt    qsec  vs\n",
       "Mazda RX4           110 3.90 2.620 16.46 0 \n",
       "Mazda RX4 Wag       110 3.90 2.875 17.02 0 \n",
       "Datsun 710           93 3.85 2.320 18.61 1 \n",
       "Hornet 4 Drive      110 3.08 3.215 19.44 1 \n",
       "Hornet Sportabout   175 3.15 3.440 17.02 0 \n",
       "Valiant             105 2.76 3.460 20.22 1 \n",
       "Duster 360          245 3.21 3.570 15.84 0 \n",
       "Merc 240D            62 3.69 3.190 20.00 1 \n",
       "Merc 230             95 3.92 3.150 22.90 1 \n",
       "Merc 280            123 3.92 3.440 18.30 1 \n",
       "Merc 280C           123 3.92 3.440 18.90 1 \n",
       "Merc 450SE          180 3.07 4.070 17.40 0 \n",
       "Merc 450SL          180 3.07 3.730 17.60 0 \n",
       "Merc 450SLC         180 3.07 3.780 18.00 0 \n",
       "Cadillac Fleetwood  205 2.93 5.250 17.98 0 \n",
       "Lincoln Continental 215 3.00 5.424 17.82 0 \n",
       "Chrysler Imperial   230 3.23 5.345 17.42 0 \n",
       "Fiat 128             66 4.08 2.200 19.47 1 \n",
       "Honda Civic          52 4.93 1.615 18.52 1 \n",
       "Toyota Corolla       65 4.22 1.835 19.90 1 \n",
       "Toyota Corona        97 3.70 2.465 20.01 1 \n",
       "Dodge Challenger    150 2.76 3.520 16.87 0 \n",
       "AMC Javelin         150 3.15 3.435 17.30 0 \n",
       "Camaro Z28          245 3.73 3.840 15.41 0 \n",
       "Pontiac Firebird    175 3.08 3.845 17.05 0 \n",
       "Fiat X1-9            66 4.08 1.935 18.90 1 \n",
       "Porsche 914-2        91 4.43 2.140 16.70 0 \n",
       "Lotus Europa        113 3.77 1.513 16.90 1 \n",
       "Ford Pantera L      264 4.22 3.170 14.50 0 \n",
       "Ferrari Dino        175 3.62 2.770 15.50 0 \n",
       "Maserati Bora       335 3.54 3.570 14.60 0 \n",
       "Volvo 142E          109 4.11 2.780 18.60 1 "
      ]
     },
     "metadata": {},
     "output_type": "display_data"
    }
   ],
   "source": [
    "select(mtcars, hp:vs)"
   ]
  },
  {
   "cell_type": "code",
   "execution_count": 38,
   "id": "cd6abec5",
   "metadata": {},
   "outputs": [
    {
     "data": {
      "text/html": [
       "<table>\n",
       "<thead><tr><th scope=col>mpg</th><th scope=col>cyl</th><th scope=col>disp</th><th scope=col>hp</th><th scope=col>drat</th><th scope=col>wt</th><th scope=col>qsec</th><th scope=col>vs</th><th scope=col>am</th><th scope=col>gear</th><th scope=col>carb</th></tr></thead>\n",
       "<tbody>\n",
       "\t<tr><td>21.0 </td><td>6    </td><td>160.0</td><td>110  </td><td>3.90 </td><td>2.620</td><td>16.46</td><td>0    </td><td>1    </td><td>4    </td><td>4    </td></tr>\n",
       "\t<tr><td>21.0 </td><td>6    </td><td>160.0</td><td>110  </td><td>3.90 </td><td>2.875</td><td>17.02</td><td>0    </td><td>1    </td><td>4    </td><td>4    </td></tr>\n",
       "\t<tr><td>21.4 </td><td>6    </td><td>258.0</td><td>110  </td><td>3.08 </td><td>3.215</td><td>19.44</td><td>1    </td><td>0    </td><td>3    </td><td>1    </td></tr>\n",
       "\t<tr><td>18.7 </td><td>8    </td><td>360.0</td><td>175  </td><td>3.15 </td><td>3.440</td><td>17.02</td><td>0    </td><td>0    </td><td>3    </td><td>2    </td></tr>\n",
       "\t<tr><td>18.1 </td><td>6    </td><td>225.0</td><td>105  </td><td>2.76 </td><td>3.460</td><td>20.22</td><td>1    </td><td>0    </td><td>3    </td><td>1    </td></tr>\n",
       "\t<tr><td>14.3 </td><td>8    </td><td>360.0</td><td>245  </td><td>3.21 </td><td>3.570</td><td>15.84</td><td>0    </td><td>0    </td><td>3    </td><td>4    </td></tr>\n",
       "\t<tr><td>19.2 </td><td>6    </td><td>167.6</td><td>123  </td><td>3.92 </td><td>3.440</td><td>18.30</td><td>1    </td><td>0    </td><td>4    </td><td>4    </td></tr>\n",
       "\t<tr><td>17.8 </td><td>6    </td><td>167.6</td><td>123  </td><td>3.92 </td><td>3.440</td><td>18.90</td><td>1    </td><td>0    </td><td>4    </td><td>4    </td></tr>\n",
       "\t<tr><td>16.4 </td><td>8    </td><td>275.8</td><td>180  </td><td>3.07 </td><td>4.070</td><td>17.40</td><td>0    </td><td>0    </td><td>3    </td><td>3    </td></tr>\n",
       "\t<tr><td>17.3 </td><td>8    </td><td>275.8</td><td>180  </td><td>3.07 </td><td>3.730</td><td>17.60</td><td>0    </td><td>0    </td><td>3    </td><td>3    </td></tr>\n",
       "\t<tr><td>15.2 </td><td>8    </td><td>275.8</td><td>180  </td><td>3.07 </td><td>3.780</td><td>18.00</td><td>0    </td><td>0    </td><td>3    </td><td>3    </td></tr>\n",
       "\t<tr><td>10.4 </td><td>8    </td><td>472.0</td><td>205  </td><td>2.93 </td><td>5.250</td><td>17.98</td><td>0    </td><td>0    </td><td>3    </td><td>4    </td></tr>\n",
       "\t<tr><td>10.4 </td><td>8    </td><td>460.0</td><td>215  </td><td>3.00 </td><td>5.424</td><td>17.82</td><td>0    </td><td>0    </td><td>3    </td><td>4    </td></tr>\n",
       "\t<tr><td>14.7 </td><td>8    </td><td>440.0</td><td>230  </td><td>3.23 </td><td>5.345</td><td>17.42</td><td>0    </td><td>0    </td><td>3    </td><td>4    </td></tr>\n",
       "\t<tr><td>15.5 </td><td>8    </td><td>318.0</td><td>150  </td><td>2.76 </td><td>3.520</td><td>16.87</td><td>0    </td><td>0    </td><td>3    </td><td>2    </td></tr>\n",
       "\t<tr><td>15.2 </td><td>8    </td><td>304.0</td><td>150  </td><td>3.15 </td><td>3.435</td><td>17.30</td><td>0    </td><td>0    </td><td>3    </td><td>2    </td></tr>\n",
       "\t<tr><td>13.3 </td><td>8    </td><td>350.0</td><td>245  </td><td>3.73 </td><td>3.840</td><td>15.41</td><td>0    </td><td>0    </td><td>3    </td><td>4    </td></tr>\n",
       "\t<tr><td>19.2 </td><td>8    </td><td>400.0</td><td>175  </td><td>3.08 </td><td>3.845</td><td>17.05</td><td>0    </td><td>0    </td><td>3    </td><td>2    </td></tr>\n",
       "\t<tr><td>30.4 </td><td>4    </td><td> 95.1</td><td>113  </td><td>3.77 </td><td>1.513</td><td>16.90</td><td>1    </td><td>1    </td><td>5    </td><td>2    </td></tr>\n",
       "\t<tr><td>15.8 </td><td>8    </td><td>351.0</td><td>264  </td><td>4.22 </td><td>3.170</td><td>14.50</td><td>0    </td><td>1    </td><td>5    </td><td>4    </td></tr>\n",
       "\t<tr><td>19.7 </td><td>6    </td><td>145.0</td><td>175  </td><td>3.62 </td><td>2.770</td><td>15.50</td><td>0    </td><td>1    </td><td>5    </td><td>6    </td></tr>\n",
       "\t<tr><td>15.0 </td><td>8    </td><td>301.0</td><td>335  </td><td>3.54 </td><td>3.570</td><td>14.60</td><td>0    </td><td>1    </td><td>5    </td><td>8    </td></tr>\n",
       "\t<tr><td>21.4 </td><td>4    </td><td>121.0</td><td>109  </td><td>4.11 </td><td>2.780</td><td>18.60</td><td>1    </td><td>1    </td><td>4    </td><td>2    </td></tr>\n",
       "</tbody>\n",
       "</table>\n"
      ],
      "text/latex": [
       "\\begin{tabular}{r|lllllllllll}\n",
       " mpg & cyl & disp & hp & drat & wt & qsec & vs & am & gear & carb\\\\\n",
       "\\hline\n",
       "\t 21.0  & 6     & 160.0 & 110   & 3.90  & 2.620 & 16.46 & 0     & 1     & 4     & 4    \\\\\n",
       "\t 21.0  & 6     & 160.0 & 110   & 3.90  & 2.875 & 17.02 & 0     & 1     & 4     & 4    \\\\\n",
       "\t 21.4  & 6     & 258.0 & 110   & 3.08  & 3.215 & 19.44 & 1     & 0     & 3     & 1    \\\\\n",
       "\t 18.7  & 8     & 360.0 & 175   & 3.15  & 3.440 & 17.02 & 0     & 0     & 3     & 2    \\\\\n",
       "\t 18.1  & 6     & 225.0 & 105   & 2.76  & 3.460 & 20.22 & 1     & 0     & 3     & 1    \\\\\n",
       "\t 14.3  & 8     & 360.0 & 245   & 3.21  & 3.570 & 15.84 & 0     & 0     & 3     & 4    \\\\\n",
       "\t 19.2  & 6     & 167.6 & 123   & 3.92  & 3.440 & 18.30 & 1     & 0     & 4     & 4    \\\\\n",
       "\t 17.8  & 6     & 167.6 & 123   & 3.92  & 3.440 & 18.90 & 1     & 0     & 4     & 4    \\\\\n",
       "\t 16.4  & 8     & 275.8 & 180   & 3.07  & 4.070 & 17.40 & 0     & 0     & 3     & 3    \\\\\n",
       "\t 17.3  & 8     & 275.8 & 180   & 3.07  & 3.730 & 17.60 & 0     & 0     & 3     & 3    \\\\\n",
       "\t 15.2  & 8     & 275.8 & 180   & 3.07  & 3.780 & 18.00 & 0     & 0     & 3     & 3    \\\\\n",
       "\t 10.4  & 8     & 472.0 & 205   & 2.93  & 5.250 & 17.98 & 0     & 0     & 3     & 4    \\\\\n",
       "\t 10.4  & 8     & 460.0 & 215   & 3.00  & 5.424 & 17.82 & 0     & 0     & 3     & 4    \\\\\n",
       "\t 14.7  & 8     & 440.0 & 230   & 3.23  & 5.345 & 17.42 & 0     & 0     & 3     & 4    \\\\\n",
       "\t 15.5  & 8     & 318.0 & 150   & 2.76  & 3.520 & 16.87 & 0     & 0     & 3     & 2    \\\\\n",
       "\t 15.2  & 8     & 304.0 & 150   & 3.15  & 3.435 & 17.30 & 0     & 0     & 3     & 2    \\\\\n",
       "\t 13.3  & 8     & 350.0 & 245   & 3.73  & 3.840 & 15.41 & 0     & 0     & 3     & 4    \\\\\n",
       "\t 19.2  & 8     & 400.0 & 175   & 3.08  & 3.845 & 17.05 & 0     & 0     & 3     & 2    \\\\\n",
       "\t 30.4  & 4     &  95.1 & 113   & 3.77  & 1.513 & 16.90 & 1     & 1     & 5     & 2    \\\\\n",
       "\t 15.8  & 8     & 351.0 & 264   & 4.22  & 3.170 & 14.50 & 0     & 1     & 5     & 4    \\\\\n",
       "\t 19.7  & 6     & 145.0 & 175   & 3.62  & 2.770 & 15.50 & 0     & 1     & 5     & 6    \\\\\n",
       "\t 15.0  & 8     & 301.0 & 335   & 3.54  & 3.570 & 14.60 & 0     & 1     & 5     & 8    \\\\\n",
       "\t 21.4  & 4     & 121.0 & 109   & 4.11  & 2.780 & 18.60 & 1     & 1     & 4     & 2    \\\\\n",
       "\\end{tabular}\n"
      ],
      "text/markdown": [
       "\n",
       "| mpg | cyl | disp | hp | drat | wt | qsec | vs | am | gear | carb |\n",
       "|---|---|---|---|---|---|---|---|---|---|---|\n",
       "| 21.0  | 6     | 160.0 | 110   | 3.90  | 2.620 | 16.46 | 0     | 1     | 4     | 4     |\n",
       "| 21.0  | 6     | 160.0 | 110   | 3.90  | 2.875 | 17.02 | 0     | 1     | 4     | 4     |\n",
       "| 21.4  | 6     | 258.0 | 110   | 3.08  | 3.215 | 19.44 | 1     | 0     | 3     | 1     |\n",
       "| 18.7  | 8     | 360.0 | 175   | 3.15  | 3.440 | 17.02 | 0     | 0     | 3     | 2     |\n",
       "| 18.1  | 6     | 225.0 | 105   | 2.76  | 3.460 | 20.22 | 1     | 0     | 3     | 1     |\n",
       "| 14.3  | 8     | 360.0 | 245   | 3.21  | 3.570 | 15.84 | 0     | 0     | 3     | 4     |\n",
       "| 19.2  | 6     | 167.6 | 123   | 3.92  | 3.440 | 18.30 | 1     | 0     | 4     | 4     |\n",
       "| 17.8  | 6     | 167.6 | 123   | 3.92  | 3.440 | 18.90 | 1     | 0     | 4     | 4     |\n",
       "| 16.4  | 8     | 275.8 | 180   | 3.07  | 4.070 | 17.40 | 0     | 0     | 3     | 3     |\n",
       "| 17.3  | 8     | 275.8 | 180   | 3.07  | 3.730 | 17.60 | 0     | 0     | 3     | 3     |\n",
       "| 15.2  | 8     | 275.8 | 180   | 3.07  | 3.780 | 18.00 | 0     | 0     | 3     | 3     |\n",
       "| 10.4  | 8     | 472.0 | 205   | 2.93  | 5.250 | 17.98 | 0     | 0     | 3     | 4     |\n",
       "| 10.4  | 8     | 460.0 | 215   | 3.00  | 5.424 | 17.82 | 0     | 0     | 3     | 4     |\n",
       "| 14.7  | 8     | 440.0 | 230   | 3.23  | 5.345 | 17.42 | 0     | 0     | 3     | 4     |\n",
       "| 15.5  | 8     | 318.0 | 150   | 2.76  | 3.520 | 16.87 | 0     | 0     | 3     | 2     |\n",
       "| 15.2  | 8     | 304.0 | 150   | 3.15  | 3.435 | 17.30 | 0     | 0     | 3     | 2     |\n",
       "| 13.3  | 8     | 350.0 | 245   | 3.73  | 3.840 | 15.41 | 0     | 0     | 3     | 4     |\n",
       "| 19.2  | 8     | 400.0 | 175   | 3.08  | 3.845 | 17.05 | 0     | 0     | 3     | 2     |\n",
       "| 30.4  | 4     |  95.1 | 113   | 3.77  | 1.513 | 16.90 | 1     | 1     | 5     | 2     |\n",
       "| 15.8  | 8     | 351.0 | 264   | 4.22  | 3.170 | 14.50 | 0     | 1     | 5     | 4     |\n",
       "| 19.7  | 6     | 145.0 | 175   | 3.62  | 2.770 | 15.50 | 0     | 1     | 5     | 6     |\n",
       "| 15.0  | 8     | 301.0 | 335   | 3.54  | 3.570 | 14.60 | 0     | 1     | 5     | 8     |\n",
       "| 21.4  | 4     | 121.0 | 109   | 4.11  | 2.780 | 18.60 | 1     | 1     | 4     | 2     |\n",
       "\n"
      ],
      "text/plain": [
       "   mpg  cyl disp  hp  drat wt    qsec  vs am gear carb\n",
       "1  21.0 6   160.0 110 3.90 2.620 16.46 0  1  4    4   \n",
       "2  21.0 6   160.0 110 3.90 2.875 17.02 0  1  4    4   \n",
       "3  21.4 6   258.0 110 3.08 3.215 19.44 1  0  3    1   \n",
       "4  18.7 8   360.0 175 3.15 3.440 17.02 0  0  3    2   \n",
       "5  18.1 6   225.0 105 2.76 3.460 20.22 1  0  3    1   \n",
       "6  14.3 8   360.0 245 3.21 3.570 15.84 0  0  3    4   \n",
       "7  19.2 6   167.6 123 3.92 3.440 18.30 1  0  4    4   \n",
       "8  17.8 6   167.6 123 3.92 3.440 18.90 1  0  4    4   \n",
       "9  16.4 8   275.8 180 3.07 4.070 17.40 0  0  3    3   \n",
       "10 17.3 8   275.8 180 3.07 3.730 17.60 0  0  3    3   \n",
       "11 15.2 8   275.8 180 3.07 3.780 18.00 0  0  3    3   \n",
       "12 10.4 8   472.0 205 2.93 5.250 17.98 0  0  3    4   \n",
       "13 10.4 8   460.0 215 3.00 5.424 17.82 0  0  3    4   \n",
       "14 14.7 8   440.0 230 3.23 5.345 17.42 0  0  3    4   \n",
       "15 15.5 8   318.0 150 2.76 3.520 16.87 0  0  3    2   \n",
       "16 15.2 8   304.0 150 3.15 3.435 17.30 0  0  3    2   \n",
       "17 13.3 8   350.0 245 3.73 3.840 15.41 0  0  3    4   \n",
       "18 19.2 8   400.0 175 3.08 3.845 17.05 0  0  3    2   \n",
       "19 30.4 4    95.1 113 3.77 1.513 16.90 1  1  5    2   \n",
       "20 15.8 8   351.0 264 4.22 3.170 14.50 0  1  5    4   \n",
       "21 19.7 6   145.0 175 3.62 2.770 15.50 0  1  5    6   \n",
       "22 15.0 8   301.0 335 3.54 3.570 14.60 0  1  5    8   \n",
       "23 21.4 4   121.0 109 4.11 2.780 18.60 1  1  4    2   "
      ]
     },
     "metadata": {},
     "output_type": "display_data"
    }
   ],
   "source": [
    "filter(mtcars, hp>100)"
   ]
  },
  {
   "cell_type": "code",
   "execution_count": 34,
   "id": "b4d49d2c",
   "metadata": {},
   "outputs": [
    {
     "data": {
      "text/html": [
       "<table>\n",
       "<thead><tr><th scope=col>mpg</th><th scope=col>cyl</th><th scope=col>disp</th><th scope=col>hp</th><th scope=col>drat</th><th scope=col>wt</th><th scope=col>qsec</th><th scope=col>vs</th><th scope=col>am</th><th scope=col>gear</th><th scope=col>carb</th></tr></thead>\n",
       "<tbody>\n",
       "\t<tr><td>10.4 </td><td>8    </td><td>472.0</td><td>205  </td><td>2.93 </td><td>5.250</td><td>17.98</td><td>0    </td><td>0    </td><td>3    </td><td>4    </td></tr>\n",
       "\t<tr><td>10.4 </td><td>8    </td><td>460.0</td><td>215  </td><td>3.00 </td><td>5.424</td><td>17.82</td><td>0    </td><td>0    </td><td>3    </td><td>4    </td></tr>\n",
       "\t<tr><td>13.3 </td><td>8    </td><td>350.0</td><td>245  </td><td>3.73 </td><td>3.840</td><td>15.41</td><td>0    </td><td>0    </td><td>3    </td><td>4    </td></tr>\n",
       "\t<tr><td>14.3 </td><td>8    </td><td>360.0</td><td>245  </td><td>3.21 </td><td>3.570</td><td>15.84</td><td>0    </td><td>0    </td><td>3    </td><td>4    </td></tr>\n",
       "\t<tr><td>14.7 </td><td>8    </td><td>440.0</td><td>230  </td><td>3.23 </td><td>5.345</td><td>17.42</td><td>0    </td><td>0    </td><td>3    </td><td>4    </td></tr>\n",
       "\t<tr><td>15.0 </td><td>8    </td><td>301.0</td><td>335  </td><td>3.54 </td><td>3.570</td><td>14.60</td><td>0    </td><td>1    </td><td>5    </td><td>8    </td></tr>\n",
       "\t<tr><td>15.2 </td><td>8    </td><td>275.8</td><td>180  </td><td>3.07 </td><td>3.780</td><td>18.00</td><td>0    </td><td>0    </td><td>3    </td><td>3    </td></tr>\n",
       "\t<tr><td>15.2 </td><td>8    </td><td>304.0</td><td>150  </td><td>3.15 </td><td>3.435</td><td>17.30</td><td>0    </td><td>0    </td><td>3    </td><td>2    </td></tr>\n",
       "\t<tr><td>15.5 </td><td>8    </td><td>318.0</td><td>150  </td><td>2.76 </td><td>3.520</td><td>16.87</td><td>0    </td><td>0    </td><td>3    </td><td>2    </td></tr>\n",
       "\t<tr><td>15.8 </td><td>8    </td><td>351.0</td><td>264  </td><td>4.22 </td><td>3.170</td><td>14.50</td><td>0    </td><td>1    </td><td>5    </td><td>4    </td></tr>\n",
       "\t<tr><td>16.4 </td><td>8    </td><td>275.8</td><td>180  </td><td>3.07 </td><td>4.070</td><td>17.40</td><td>0    </td><td>0    </td><td>3    </td><td>3    </td></tr>\n",
       "\t<tr><td>17.3 </td><td>8    </td><td>275.8</td><td>180  </td><td>3.07 </td><td>3.730</td><td>17.60</td><td>0    </td><td>0    </td><td>3    </td><td>3    </td></tr>\n",
       "\t<tr><td>17.8 </td><td>6    </td><td>167.6</td><td>123  </td><td>3.92 </td><td>3.440</td><td>18.90</td><td>1    </td><td>0    </td><td>4    </td><td>4    </td></tr>\n",
       "\t<tr><td>18.1 </td><td>6    </td><td>225.0</td><td>105  </td><td>2.76 </td><td>3.460</td><td>20.22</td><td>1    </td><td>0    </td><td>3    </td><td>1    </td></tr>\n",
       "\t<tr><td>18.7 </td><td>8    </td><td>360.0</td><td>175  </td><td>3.15 </td><td>3.440</td><td>17.02</td><td>0    </td><td>0    </td><td>3    </td><td>2    </td></tr>\n",
       "\t<tr><td>19.2 </td><td>6    </td><td>167.6</td><td>123  </td><td>3.92 </td><td>3.440</td><td>18.30</td><td>1    </td><td>0    </td><td>4    </td><td>4    </td></tr>\n",
       "\t<tr><td>19.2 </td><td>8    </td><td>400.0</td><td>175  </td><td>3.08 </td><td>3.845</td><td>17.05</td><td>0    </td><td>0    </td><td>3    </td><td>2    </td></tr>\n",
       "\t<tr><td>19.7 </td><td>6    </td><td>145.0</td><td>175  </td><td>3.62 </td><td>2.770</td><td>15.50</td><td>0    </td><td>1    </td><td>5    </td><td>6    </td></tr>\n",
       "\t<tr><td>21.0 </td><td>6    </td><td>160.0</td><td>110  </td><td>3.90 </td><td>2.620</td><td>16.46</td><td>0    </td><td>1    </td><td>4    </td><td>4    </td></tr>\n",
       "\t<tr><td>21.0 </td><td>6    </td><td>160.0</td><td>110  </td><td>3.90 </td><td>2.875</td><td>17.02</td><td>0    </td><td>1    </td><td>4    </td><td>4    </td></tr>\n",
       "\t<tr><td>21.4 </td><td>6    </td><td>258.0</td><td>110  </td><td>3.08 </td><td>3.215</td><td>19.44</td><td>1    </td><td>0    </td><td>3    </td><td>1    </td></tr>\n",
       "\t<tr><td>21.4 </td><td>4    </td><td>121.0</td><td>109  </td><td>4.11 </td><td>2.780</td><td>18.60</td><td>1    </td><td>1    </td><td>4    </td><td>2    </td></tr>\n",
       "\t<tr><td>21.5 </td><td>4    </td><td>120.1</td><td> 97  </td><td>3.70 </td><td>2.465</td><td>20.01</td><td>1    </td><td>0    </td><td>3    </td><td>1    </td></tr>\n",
       "\t<tr><td>22.8 </td><td>4    </td><td>108.0</td><td> 93  </td><td>3.85 </td><td>2.320</td><td>18.61</td><td>1    </td><td>1    </td><td>4    </td><td>1    </td></tr>\n",
       "\t<tr><td>22.8 </td><td>4    </td><td>140.8</td><td> 95  </td><td>3.92 </td><td>3.150</td><td>22.90</td><td>1    </td><td>0    </td><td>4    </td><td>2    </td></tr>\n",
       "\t<tr><td>24.4 </td><td>4    </td><td>146.7</td><td> 62  </td><td>3.69 </td><td>3.190</td><td>20.00</td><td>1    </td><td>0    </td><td>4    </td><td>2    </td></tr>\n",
       "\t<tr><td>26.0 </td><td>4    </td><td>120.3</td><td> 91  </td><td>4.43 </td><td>2.140</td><td>16.70</td><td>0    </td><td>1    </td><td>5    </td><td>2    </td></tr>\n",
       "\t<tr><td>27.3 </td><td>4    </td><td> 79.0</td><td> 66  </td><td>4.08 </td><td>1.935</td><td>18.90</td><td>1    </td><td>1    </td><td>4    </td><td>1    </td></tr>\n",
       "\t<tr><td>30.4 </td><td>4    </td><td> 75.7</td><td> 52  </td><td>4.93 </td><td>1.615</td><td>18.52</td><td>1    </td><td>1    </td><td>4    </td><td>2    </td></tr>\n",
       "\t<tr><td>30.4 </td><td>4    </td><td> 95.1</td><td>113  </td><td>3.77 </td><td>1.513</td><td>16.90</td><td>1    </td><td>1    </td><td>5    </td><td>2    </td></tr>\n",
       "\t<tr><td>32.4 </td><td>4    </td><td> 78.7</td><td> 66  </td><td>4.08 </td><td>2.200</td><td>19.47</td><td>1    </td><td>1    </td><td>4    </td><td>1    </td></tr>\n",
       "\t<tr><td>33.9 </td><td>4    </td><td> 71.1</td><td> 65  </td><td>4.22 </td><td>1.835</td><td>19.90</td><td>1    </td><td>1    </td><td>4    </td><td>1    </td></tr>\n",
       "</tbody>\n",
       "</table>\n"
      ],
      "text/latex": [
       "\\begin{tabular}{r|lllllllllll}\n",
       " mpg & cyl & disp & hp & drat & wt & qsec & vs & am & gear & carb\\\\\n",
       "\\hline\n",
       "\t 10.4  & 8     & 472.0 & 205   & 2.93  & 5.250 & 17.98 & 0     & 0     & 3     & 4    \\\\\n",
       "\t 10.4  & 8     & 460.0 & 215   & 3.00  & 5.424 & 17.82 & 0     & 0     & 3     & 4    \\\\\n",
       "\t 13.3  & 8     & 350.0 & 245   & 3.73  & 3.840 & 15.41 & 0     & 0     & 3     & 4    \\\\\n",
       "\t 14.3  & 8     & 360.0 & 245   & 3.21  & 3.570 & 15.84 & 0     & 0     & 3     & 4    \\\\\n",
       "\t 14.7  & 8     & 440.0 & 230   & 3.23  & 5.345 & 17.42 & 0     & 0     & 3     & 4    \\\\\n",
       "\t 15.0  & 8     & 301.0 & 335   & 3.54  & 3.570 & 14.60 & 0     & 1     & 5     & 8    \\\\\n",
       "\t 15.2  & 8     & 275.8 & 180   & 3.07  & 3.780 & 18.00 & 0     & 0     & 3     & 3    \\\\\n",
       "\t 15.2  & 8     & 304.0 & 150   & 3.15  & 3.435 & 17.30 & 0     & 0     & 3     & 2    \\\\\n",
       "\t 15.5  & 8     & 318.0 & 150   & 2.76  & 3.520 & 16.87 & 0     & 0     & 3     & 2    \\\\\n",
       "\t 15.8  & 8     & 351.0 & 264   & 4.22  & 3.170 & 14.50 & 0     & 1     & 5     & 4    \\\\\n",
       "\t 16.4  & 8     & 275.8 & 180   & 3.07  & 4.070 & 17.40 & 0     & 0     & 3     & 3    \\\\\n",
       "\t 17.3  & 8     & 275.8 & 180   & 3.07  & 3.730 & 17.60 & 0     & 0     & 3     & 3    \\\\\n",
       "\t 17.8  & 6     & 167.6 & 123   & 3.92  & 3.440 & 18.90 & 1     & 0     & 4     & 4    \\\\\n",
       "\t 18.1  & 6     & 225.0 & 105   & 2.76  & 3.460 & 20.22 & 1     & 0     & 3     & 1    \\\\\n",
       "\t 18.7  & 8     & 360.0 & 175   & 3.15  & 3.440 & 17.02 & 0     & 0     & 3     & 2    \\\\\n",
       "\t 19.2  & 6     & 167.6 & 123   & 3.92  & 3.440 & 18.30 & 1     & 0     & 4     & 4    \\\\\n",
       "\t 19.2  & 8     & 400.0 & 175   & 3.08  & 3.845 & 17.05 & 0     & 0     & 3     & 2    \\\\\n",
       "\t 19.7  & 6     & 145.0 & 175   & 3.62  & 2.770 & 15.50 & 0     & 1     & 5     & 6    \\\\\n",
       "\t 21.0  & 6     & 160.0 & 110   & 3.90  & 2.620 & 16.46 & 0     & 1     & 4     & 4    \\\\\n",
       "\t 21.0  & 6     & 160.0 & 110   & 3.90  & 2.875 & 17.02 & 0     & 1     & 4     & 4    \\\\\n",
       "\t 21.4  & 6     & 258.0 & 110   & 3.08  & 3.215 & 19.44 & 1     & 0     & 3     & 1    \\\\\n",
       "\t 21.4  & 4     & 121.0 & 109   & 4.11  & 2.780 & 18.60 & 1     & 1     & 4     & 2    \\\\\n",
       "\t 21.5  & 4     & 120.1 &  97   & 3.70  & 2.465 & 20.01 & 1     & 0     & 3     & 1    \\\\\n",
       "\t 22.8  & 4     & 108.0 &  93   & 3.85  & 2.320 & 18.61 & 1     & 1     & 4     & 1    \\\\\n",
       "\t 22.8  & 4     & 140.8 &  95   & 3.92  & 3.150 & 22.90 & 1     & 0     & 4     & 2    \\\\\n",
       "\t 24.4  & 4     & 146.7 &  62   & 3.69  & 3.190 & 20.00 & 1     & 0     & 4     & 2    \\\\\n",
       "\t 26.0  & 4     & 120.3 &  91   & 4.43  & 2.140 & 16.70 & 0     & 1     & 5     & 2    \\\\\n",
       "\t 27.3  & 4     &  79.0 &  66   & 4.08  & 1.935 & 18.90 & 1     & 1     & 4     & 1    \\\\\n",
       "\t 30.4  & 4     &  75.7 &  52   & 4.93  & 1.615 & 18.52 & 1     & 1     & 4     & 2    \\\\\n",
       "\t 30.4  & 4     &  95.1 & 113   & 3.77  & 1.513 & 16.90 & 1     & 1     & 5     & 2    \\\\\n",
       "\t 32.4  & 4     &  78.7 &  66   & 4.08  & 2.200 & 19.47 & 1     & 1     & 4     & 1    \\\\\n",
       "\t 33.9  & 4     &  71.1 &  65   & 4.22  & 1.835 & 19.90 & 1     & 1     & 4     & 1    \\\\\n",
       "\\end{tabular}\n"
      ],
      "text/markdown": [
       "\n",
       "| mpg | cyl | disp | hp | drat | wt | qsec | vs | am | gear | carb |\n",
       "|---|---|---|---|---|---|---|---|---|---|---|\n",
       "| 10.4  | 8     | 472.0 | 205   | 2.93  | 5.250 | 17.98 | 0     | 0     | 3     | 4     |\n",
       "| 10.4  | 8     | 460.0 | 215   | 3.00  | 5.424 | 17.82 | 0     | 0     | 3     | 4     |\n",
       "| 13.3  | 8     | 350.0 | 245   | 3.73  | 3.840 | 15.41 | 0     | 0     | 3     | 4     |\n",
       "| 14.3  | 8     | 360.0 | 245   | 3.21  | 3.570 | 15.84 | 0     | 0     | 3     | 4     |\n",
       "| 14.7  | 8     | 440.0 | 230   | 3.23  | 5.345 | 17.42 | 0     | 0     | 3     | 4     |\n",
       "| 15.0  | 8     | 301.0 | 335   | 3.54  | 3.570 | 14.60 | 0     | 1     | 5     | 8     |\n",
       "| 15.2  | 8     | 275.8 | 180   | 3.07  | 3.780 | 18.00 | 0     | 0     | 3     | 3     |\n",
       "| 15.2  | 8     | 304.0 | 150   | 3.15  | 3.435 | 17.30 | 0     | 0     | 3     | 2     |\n",
       "| 15.5  | 8     | 318.0 | 150   | 2.76  | 3.520 | 16.87 | 0     | 0     | 3     | 2     |\n",
       "| 15.8  | 8     | 351.0 | 264   | 4.22  | 3.170 | 14.50 | 0     | 1     | 5     | 4     |\n",
       "| 16.4  | 8     | 275.8 | 180   | 3.07  | 4.070 | 17.40 | 0     | 0     | 3     | 3     |\n",
       "| 17.3  | 8     | 275.8 | 180   | 3.07  | 3.730 | 17.60 | 0     | 0     | 3     | 3     |\n",
       "| 17.8  | 6     | 167.6 | 123   | 3.92  | 3.440 | 18.90 | 1     | 0     | 4     | 4     |\n",
       "| 18.1  | 6     | 225.0 | 105   | 2.76  | 3.460 | 20.22 | 1     | 0     | 3     | 1     |\n",
       "| 18.7  | 8     | 360.0 | 175   | 3.15  | 3.440 | 17.02 | 0     | 0     | 3     | 2     |\n",
       "| 19.2  | 6     | 167.6 | 123   | 3.92  | 3.440 | 18.30 | 1     | 0     | 4     | 4     |\n",
       "| 19.2  | 8     | 400.0 | 175   | 3.08  | 3.845 | 17.05 | 0     | 0     | 3     | 2     |\n",
       "| 19.7  | 6     | 145.0 | 175   | 3.62  | 2.770 | 15.50 | 0     | 1     | 5     | 6     |\n",
       "| 21.0  | 6     | 160.0 | 110   | 3.90  | 2.620 | 16.46 | 0     | 1     | 4     | 4     |\n",
       "| 21.0  | 6     | 160.0 | 110   | 3.90  | 2.875 | 17.02 | 0     | 1     | 4     | 4     |\n",
       "| 21.4  | 6     | 258.0 | 110   | 3.08  | 3.215 | 19.44 | 1     | 0     | 3     | 1     |\n",
       "| 21.4  | 4     | 121.0 | 109   | 4.11  | 2.780 | 18.60 | 1     | 1     | 4     | 2     |\n",
       "| 21.5  | 4     | 120.1 |  97   | 3.70  | 2.465 | 20.01 | 1     | 0     | 3     | 1     |\n",
       "| 22.8  | 4     | 108.0 |  93   | 3.85  | 2.320 | 18.61 | 1     | 1     | 4     | 1     |\n",
       "| 22.8  | 4     | 140.8 |  95   | 3.92  | 3.150 | 22.90 | 1     | 0     | 4     | 2     |\n",
       "| 24.4  | 4     | 146.7 |  62   | 3.69  | 3.190 | 20.00 | 1     | 0     | 4     | 2     |\n",
       "| 26.0  | 4     | 120.3 |  91   | 4.43  | 2.140 | 16.70 | 0     | 1     | 5     | 2     |\n",
       "| 27.3  | 4     |  79.0 |  66   | 4.08  | 1.935 | 18.90 | 1     | 1     | 4     | 1     |\n",
       "| 30.4  | 4     |  75.7 |  52   | 4.93  | 1.615 | 18.52 | 1     | 1     | 4     | 2     |\n",
       "| 30.4  | 4     |  95.1 | 113   | 3.77  | 1.513 | 16.90 | 1     | 1     | 5     | 2     |\n",
       "| 32.4  | 4     |  78.7 |  66   | 4.08  | 2.200 | 19.47 | 1     | 1     | 4     | 1     |\n",
       "| 33.9  | 4     |  71.1 |  65   | 4.22  | 1.835 | 19.90 | 1     | 1     | 4     | 1     |\n",
       "\n"
      ],
      "text/plain": [
       "   mpg  cyl disp  hp  drat wt    qsec  vs am gear carb\n",
       "1  10.4 8   472.0 205 2.93 5.250 17.98 0  0  3    4   \n",
       "2  10.4 8   460.0 215 3.00 5.424 17.82 0  0  3    4   \n",
       "3  13.3 8   350.0 245 3.73 3.840 15.41 0  0  3    4   \n",
       "4  14.3 8   360.0 245 3.21 3.570 15.84 0  0  3    4   \n",
       "5  14.7 8   440.0 230 3.23 5.345 17.42 0  0  3    4   \n",
       "6  15.0 8   301.0 335 3.54 3.570 14.60 0  1  5    8   \n",
       "7  15.2 8   275.8 180 3.07 3.780 18.00 0  0  3    3   \n",
       "8  15.2 8   304.0 150 3.15 3.435 17.30 0  0  3    2   \n",
       "9  15.5 8   318.0 150 2.76 3.520 16.87 0  0  3    2   \n",
       "10 15.8 8   351.0 264 4.22 3.170 14.50 0  1  5    4   \n",
       "11 16.4 8   275.8 180 3.07 4.070 17.40 0  0  3    3   \n",
       "12 17.3 8   275.8 180 3.07 3.730 17.60 0  0  3    3   \n",
       "13 17.8 6   167.6 123 3.92 3.440 18.90 1  0  4    4   \n",
       "14 18.1 6   225.0 105 2.76 3.460 20.22 1  0  3    1   \n",
       "15 18.7 8   360.0 175 3.15 3.440 17.02 0  0  3    2   \n",
       "16 19.2 6   167.6 123 3.92 3.440 18.30 1  0  4    4   \n",
       "17 19.2 8   400.0 175 3.08 3.845 17.05 0  0  3    2   \n",
       "18 19.7 6   145.0 175 3.62 2.770 15.50 0  1  5    6   \n",
       "19 21.0 6   160.0 110 3.90 2.620 16.46 0  1  4    4   \n",
       "20 21.0 6   160.0 110 3.90 2.875 17.02 0  1  4    4   \n",
       "21 21.4 6   258.0 110 3.08 3.215 19.44 1  0  3    1   \n",
       "22 21.4 4   121.0 109 4.11 2.780 18.60 1  1  4    2   \n",
       "23 21.5 4   120.1  97 3.70 2.465 20.01 1  0  3    1   \n",
       "24 22.8 4   108.0  93 3.85 2.320 18.61 1  1  4    1   \n",
       "25 22.8 4   140.8  95 3.92 3.150 22.90 1  0  4    2   \n",
       "26 24.4 4   146.7  62 3.69 3.190 20.00 1  0  4    2   \n",
       "27 26.0 4   120.3  91 4.43 2.140 16.70 0  1  5    2   \n",
       "28 27.3 4    79.0  66 4.08 1.935 18.90 1  1  4    1   \n",
       "29 30.4 4    75.7  52 4.93 1.615 18.52 1  1  4    2   \n",
       "30 30.4 4    95.1 113 3.77 1.513 16.90 1  1  5    2   \n",
       "31 32.4 4    78.7  66 4.08 2.200 19.47 1  1  4    1   \n",
       "32 33.9 4    71.1  65 4.22 1.835 19.90 1  1  4    1   "
      ]
     },
     "metadata": {},
     "output_type": "display_data"
    }
   ],
   "source": [
    "arrange(mtcars, mpg)"
   ]
  },
  {
   "cell_type": "code",
   "execution_count": 35,
   "id": "545279c6",
   "metadata": {},
   "outputs": [
    {
     "data": {
      "text/html": [
       "<table>\n",
       "<thead><tr><th scope=col>mpg</th><th scope=col>cyl</th><th scope=col>disp</th><th scope=col>hp</th><th scope=col>drat</th><th scope=col>wt</th><th scope=col>qsec</th><th scope=col>vs</th><th scope=col>am</th><th scope=col>gear</th><th scope=col>carb</th><th scope=col>wt1000</th></tr></thead>\n",
       "<tbody>\n",
       "\t<tr><td>21.0 </td><td>6    </td><td>160.0</td><td>110  </td><td>3.90 </td><td>2.620</td><td>16.46</td><td>0    </td><td>1    </td><td>4    </td><td>4    </td><td>2620 </td></tr>\n",
       "\t<tr><td>21.0 </td><td>6    </td><td>160.0</td><td>110  </td><td>3.90 </td><td>2.875</td><td>17.02</td><td>0    </td><td>1    </td><td>4    </td><td>4    </td><td>2875 </td></tr>\n",
       "\t<tr><td>22.8 </td><td>4    </td><td>108.0</td><td> 93  </td><td>3.85 </td><td>2.320</td><td>18.61</td><td>1    </td><td>1    </td><td>4    </td><td>1    </td><td>2320 </td></tr>\n",
       "\t<tr><td>21.4 </td><td>6    </td><td>258.0</td><td>110  </td><td>3.08 </td><td>3.215</td><td>19.44</td><td>1    </td><td>0    </td><td>3    </td><td>1    </td><td>3215 </td></tr>\n",
       "\t<tr><td>18.7 </td><td>8    </td><td>360.0</td><td>175  </td><td>3.15 </td><td>3.440</td><td>17.02</td><td>0    </td><td>0    </td><td>3    </td><td>2    </td><td>3440 </td></tr>\n",
       "\t<tr><td>18.1 </td><td>6    </td><td>225.0</td><td>105  </td><td>2.76 </td><td>3.460</td><td>20.22</td><td>1    </td><td>0    </td><td>3    </td><td>1    </td><td>3460 </td></tr>\n",
       "\t<tr><td>14.3 </td><td>8    </td><td>360.0</td><td>245  </td><td>3.21 </td><td>3.570</td><td>15.84</td><td>0    </td><td>0    </td><td>3    </td><td>4    </td><td>3570 </td></tr>\n",
       "\t<tr><td>24.4 </td><td>4    </td><td>146.7</td><td> 62  </td><td>3.69 </td><td>3.190</td><td>20.00</td><td>1    </td><td>0    </td><td>4    </td><td>2    </td><td>3190 </td></tr>\n",
       "\t<tr><td>22.8 </td><td>4    </td><td>140.8</td><td> 95  </td><td>3.92 </td><td>3.150</td><td>22.90</td><td>1    </td><td>0    </td><td>4    </td><td>2    </td><td>3150 </td></tr>\n",
       "\t<tr><td>19.2 </td><td>6    </td><td>167.6</td><td>123  </td><td>3.92 </td><td>3.440</td><td>18.30</td><td>1    </td><td>0    </td><td>4    </td><td>4    </td><td>3440 </td></tr>\n",
       "\t<tr><td>17.8 </td><td>6    </td><td>167.6</td><td>123  </td><td>3.92 </td><td>3.440</td><td>18.90</td><td>1    </td><td>0    </td><td>4    </td><td>4    </td><td>3440 </td></tr>\n",
       "\t<tr><td>16.4 </td><td>8    </td><td>275.8</td><td>180  </td><td>3.07 </td><td>4.070</td><td>17.40</td><td>0    </td><td>0    </td><td>3    </td><td>3    </td><td>4070 </td></tr>\n",
       "\t<tr><td>17.3 </td><td>8    </td><td>275.8</td><td>180  </td><td>3.07 </td><td>3.730</td><td>17.60</td><td>0    </td><td>0    </td><td>3    </td><td>3    </td><td>3730 </td></tr>\n",
       "\t<tr><td>15.2 </td><td>8    </td><td>275.8</td><td>180  </td><td>3.07 </td><td>3.780</td><td>18.00</td><td>0    </td><td>0    </td><td>3    </td><td>3    </td><td>3780 </td></tr>\n",
       "\t<tr><td>10.4 </td><td>8    </td><td>472.0</td><td>205  </td><td>2.93 </td><td>5.250</td><td>17.98</td><td>0    </td><td>0    </td><td>3    </td><td>4    </td><td>5250 </td></tr>\n",
       "\t<tr><td>10.4 </td><td>8    </td><td>460.0</td><td>215  </td><td>3.00 </td><td>5.424</td><td>17.82</td><td>0    </td><td>0    </td><td>3    </td><td>4    </td><td>5424 </td></tr>\n",
       "\t<tr><td>14.7 </td><td>8    </td><td>440.0</td><td>230  </td><td>3.23 </td><td>5.345</td><td>17.42</td><td>0    </td><td>0    </td><td>3    </td><td>4    </td><td>5345 </td></tr>\n",
       "\t<tr><td>32.4 </td><td>4    </td><td> 78.7</td><td> 66  </td><td>4.08 </td><td>2.200</td><td>19.47</td><td>1    </td><td>1    </td><td>4    </td><td>1    </td><td>2200 </td></tr>\n",
       "\t<tr><td>30.4 </td><td>4    </td><td> 75.7</td><td> 52  </td><td>4.93 </td><td>1.615</td><td>18.52</td><td>1    </td><td>1    </td><td>4    </td><td>2    </td><td>1615 </td></tr>\n",
       "\t<tr><td>33.9 </td><td>4    </td><td> 71.1</td><td> 65  </td><td>4.22 </td><td>1.835</td><td>19.90</td><td>1    </td><td>1    </td><td>4    </td><td>1    </td><td>1835 </td></tr>\n",
       "\t<tr><td>21.5 </td><td>4    </td><td>120.1</td><td> 97  </td><td>3.70 </td><td>2.465</td><td>20.01</td><td>1    </td><td>0    </td><td>3    </td><td>1    </td><td>2465 </td></tr>\n",
       "\t<tr><td>15.5 </td><td>8    </td><td>318.0</td><td>150  </td><td>2.76 </td><td>3.520</td><td>16.87</td><td>0    </td><td>0    </td><td>3    </td><td>2    </td><td>3520 </td></tr>\n",
       "\t<tr><td>15.2 </td><td>8    </td><td>304.0</td><td>150  </td><td>3.15 </td><td>3.435</td><td>17.30</td><td>0    </td><td>0    </td><td>3    </td><td>2    </td><td>3435 </td></tr>\n",
       "\t<tr><td>13.3 </td><td>8    </td><td>350.0</td><td>245  </td><td>3.73 </td><td>3.840</td><td>15.41</td><td>0    </td><td>0    </td><td>3    </td><td>4    </td><td>3840 </td></tr>\n",
       "\t<tr><td>19.2 </td><td>8    </td><td>400.0</td><td>175  </td><td>3.08 </td><td>3.845</td><td>17.05</td><td>0    </td><td>0    </td><td>3    </td><td>2    </td><td>3845 </td></tr>\n",
       "\t<tr><td>27.3 </td><td>4    </td><td> 79.0</td><td> 66  </td><td>4.08 </td><td>1.935</td><td>18.90</td><td>1    </td><td>1    </td><td>4    </td><td>1    </td><td>1935 </td></tr>\n",
       "\t<tr><td>26.0 </td><td>4    </td><td>120.3</td><td> 91  </td><td>4.43 </td><td>2.140</td><td>16.70</td><td>0    </td><td>1    </td><td>5    </td><td>2    </td><td>2140 </td></tr>\n",
       "\t<tr><td>30.4 </td><td>4    </td><td> 95.1</td><td>113  </td><td>3.77 </td><td>1.513</td><td>16.90</td><td>1    </td><td>1    </td><td>5    </td><td>2    </td><td>1513 </td></tr>\n",
       "\t<tr><td>15.8 </td><td>8    </td><td>351.0</td><td>264  </td><td>4.22 </td><td>3.170</td><td>14.50</td><td>0    </td><td>1    </td><td>5    </td><td>4    </td><td>3170 </td></tr>\n",
       "\t<tr><td>19.7 </td><td>6    </td><td>145.0</td><td>175  </td><td>3.62 </td><td>2.770</td><td>15.50</td><td>0    </td><td>1    </td><td>5    </td><td>6    </td><td>2770 </td></tr>\n",
       "\t<tr><td>15.0 </td><td>8    </td><td>301.0</td><td>335  </td><td>3.54 </td><td>3.570</td><td>14.60</td><td>0    </td><td>1    </td><td>5    </td><td>8    </td><td>3570 </td></tr>\n",
       "\t<tr><td>21.4 </td><td>4    </td><td>121.0</td><td>109  </td><td>4.11 </td><td>2.780</td><td>18.60</td><td>1    </td><td>1    </td><td>4    </td><td>2    </td><td>2780 </td></tr>\n",
       "</tbody>\n",
       "</table>\n"
      ],
      "text/latex": [
       "\\begin{tabular}{r|llllllllllll}\n",
       " mpg & cyl & disp & hp & drat & wt & qsec & vs & am & gear & carb & wt1000\\\\\n",
       "\\hline\n",
       "\t 21.0  & 6     & 160.0 & 110   & 3.90  & 2.620 & 16.46 & 0     & 1     & 4     & 4     & 2620 \\\\\n",
       "\t 21.0  & 6     & 160.0 & 110   & 3.90  & 2.875 & 17.02 & 0     & 1     & 4     & 4     & 2875 \\\\\n",
       "\t 22.8  & 4     & 108.0 &  93   & 3.85  & 2.320 & 18.61 & 1     & 1     & 4     & 1     & 2320 \\\\\n",
       "\t 21.4  & 6     & 258.0 & 110   & 3.08  & 3.215 & 19.44 & 1     & 0     & 3     & 1     & 3215 \\\\\n",
       "\t 18.7  & 8     & 360.0 & 175   & 3.15  & 3.440 & 17.02 & 0     & 0     & 3     & 2     & 3440 \\\\\n",
       "\t 18.1  & 6     & 225.0 & 105   & 2.76  & 3.460 & 20.22 & 1     & 0     & 3     & 1     & 3460 \\\\\n",
       "\t 14.3  & 8     & 360.0 & 245   & 3.21  & 3.570 & 15.84 & 0     & 0     & 3     & 4     & 3570 \\\\\n",
       "\t 24.4  & 4     & 146.7 &  62   & 3.69  & 3.190 & 20.00 & 1     & 0     & 4     & 2     & 3190 \\\\\n",
       "\t 22.8  & 4     & 140.8 &  95   & 3.92  & 3.150 & 22.90 & 1     & 0     & 4     & 2     & 3150 \\\\\n",
       "\t 19.2  & 6     & 167.6 & 123   & 3.92  & 3.440 & 18.30 & 1     & 0     & 4     & 4     & 3440 \\\\\n",
       "\t 17.8  & 6     & 167.6 & 123   & 3.92  & 3.440 & 18.90 & 1     & 0     & 4     & 4     & 3440 \\\\\n",
       "\t 16.4  & 8     & 275.8 & 180   & 3.07  & 4.070 & 17.40 & 0     & 0     & 3     & 3     & 4070 \\\\\n",
       "\t 17.3  & 8     & 275.8 & 180   & 3.07  & 3.730 & 17.60 & 0     & 0     & 3     & 3     & 3730 \\\\\n",
       "\t 15.2  & 8     & 275.8 & 180   & 3.07  & 3.780 & 18.00 & 0     & 0     & 3     & 3     & 3780 \\\\\n",
       "\t 10.4  & 8     & 472.0 & 205   & 2.93  & 5.250 & 17.98 & 0     & 0     & 3     & 4     & 5250 \\\\\n",
       "\t 10.4  & 8     & 460.0 & 215   & 3.00  & 5.424 & 17.82 & 0     & 0     & 3     & 4     & 5424 \\\\\n",
       "\t 14.7  & 8     & 440.0 & 230   & 3.23  & 5.345 & 17.42 & 0     & 0     & 3     & 4     & 5345 \\\\\n",
       "\t 32.4  & 4     &  78.7 &  66   & 4.08  & 2.200 & 19.47 & 1     & 1     & 4     & 1     & 2200 \\\\\n",
       "\t 30.4  & 4     &  75.7 &  52   & 4.93  & 1.615 & 18.52 & 1     & 1     & 4     & 2     & 1615 \\\\\n",
       "\t 33.9  & 4     &  71.1 &  65   & 4.22  & 1.835 & 19.90 & 1     & 1     & 4     & 1     & 1835 \\\\\n",
       "\t 21.5  & 4     & 120.1 &  97   & 3.70  & 2.465 & 20.01 & 1     & 0     & 3     & 1     & 2465 \\\\\n",
       "\t 15.5  & 8     & 318.0 & 150   & 2.76  & 3.520 & 16.87 & 0     & 0     & 3     & 2     & 3520 \\\\\n",
       "\t 15.2  & 8     & 304.0 & 150   & 3.15  & 3.435 & 17.30 & 0     & 0     & 3     & 2     & 3435 \\\\\n",
       "\t 13.3  & 8     & 350.0 & 245   & 3.73  & 3.840 & 15.41 & 0     & 0     & 3     & 4     & 3840 \\\\\n",
       "\t 19.2  & 8     & 400.0 & 175   & 3.08  & 3.845 & 17.05 & 0     & 0     & 3     & 2     & 3845 \\\\\n",
       "\t 27.3  & 4     &  79.0 &  66   & 4.08  & 1.935 & 18.90 & 1     & 1     & 4     & 1     & 1935 \\\\\n",
       "\t 26.0  & 4     & 120.3 &  91   & 4.43  & 2.140 & 16.70 & 0     & 1     & 5     & 2     & 2140 \\\\\n",
       "\t 30.4  & 4     &  95.1 & 113   & 3.77  & 1.513 & 16.90 & 1     & 1     & 5     & 2     & 1513 \\\\\n",
       "\t 15.8  & 8     & 351.0 & 264   & 4.22  & 3.170 & 14.50 & 0     & 1     & 5     & 4     & 3170 \\\\\n",
       "\t 19.7  & 6     & 145.0 & 175   & 3.62  & 2.770 & 15.50 & 0     & 1     & 5     & 6     & 2770 \\\\\n",
       "\t 15.0  & 8     & 301.0 & 335   & 3.54  & 3.570 & 14.60 & 0     & 1     & 5     & 8     & 3570 \\\\\n",
       "\t 21.4  & 4     & 121.0 & 109   & 4.11  & 2.780 & 18.60 & 1     & 1     & 4     & 2     & 2780 \\\\\n",
       "\\end{tabular}\n"
      ],
      "text/markdown": [
       "\n",
       "| mpg | cyl | disp | hp | drat | wt | qsec | vs | am | gear | carb | wt1000 |\n",
       "|---|---|---|---|---|---|---|---|---|---|---|---|\n",
       "| 21.0  | 6     | 160.0 | 110   | 3.90  | 2.620 | 16.46 | 0     | 1     | 4     | 4     | 2620  |\n",
       "| 21.0  | 6     | 160.0 | 110   | 3.90  | 2.875 | 17.02 | 0     | 1     | 4     | 4     | 2875  |\n",
       "| 22.8  | 4     | 108.0 |  93   | 3.85  | 2.320 | 18.61 | 1     | 1     | 4     | 1     | 2320  |\n",
       "| 21.4  | 6     | 258.0 | 110   | 3.08  | 3.215 | 19.44 | 1     | 0     | 3     | 1     | 3215  |\n",
       "| 18.7  | 8     | 360.0 | 175   | 3.15  | 3.440 | 17.02 | 0     | 0     | 3     | 2     | 3440  |\n",
       "| 18.1  | 6     | 225.0 | 105   | 2.76  | 3.460 | 20.22 | 1     | 0     | 3     | 1     | 3460  |\n",
       "| 14.3  | 8     | 360.0 | 245   | 3.21  | 3.570 | 15.84 | 0     | 0     | 3     | 4     | 3570  |\n",
       "| 24.4  | 4     | 146.7 |  62   | 3.69  | 3.190 | 20.00 | 1     | 0     | 4     | 2     | 3190  |\n",
       "| 22.8  | 4     | 140.8 |  95   | 3.92  | 3.150 | 22.90 | 1     | 0     | 4     | 2     | 3150  |\n",
       "| 19.2  | 6     | 167.6 | 123   | 3.92  | 3.440 | 18.30 | 1     | 0     | 4     | 4     | 3440  |\n",
       "| 17.8  | 6     | 167.6 | 123   | 3.92  | 3.440 | 18.90 | 1     | 0     | 4     | 4     | 3440  |\n",
       "| 16.4  | 8     | 275.8 | 180   | 3.07  | 4.070 | 17.40 | 0     | 0     | 3     | 3     | 4070  |\n",
       "| 17.3  | 8     | 275.8 | 180   | 3.07  | 3.730 | 17.60 | 0     | 0     | 3     | 3     | 3730  |\n",
       "| 15.2  | 8     | 275.8 | 180   | 3.07  | 3.780 | 18.00 | 0     | 0     | 3     | 3     | 3780  |\n",
       "| 10.4  | 8     | 472.0 | 205   | 2.93  | 5.250 | 17.98 | 0     | 0     | 3     | 4     | 5250  |\n",
       "| 10.4  | 8     | 460.0 | 215   | 3.00  | 5.424 | 17.82 | 0     | 0     | 3     | 4     | 5424  |\n",
       "| 14.7  | 8     | 440.0 | 230   | 3.23  | 5.345 | 17.42 | 0     | 0     | 3     | 4     | 5345  |\n",
       "| 32.4  | 4     |  78.7 |  66   | 4.08  | 2.200 | 19.47 | 1     | 1     | 4     | 1     | 2200  |\n",
       "| 30.4  | 4     |  75.7 |  52   | 4.93  | 1.615 | 18.52 | 1     | 1     | 4     | 2     | 1615  |\n",
       "| 33.9  | 4     |  71.1 |  65   | 4.22  | 1.835 | 19.90 | 1     | 1     | 4     | 1     | 1835  |\n",
       "| 21.5  | 4     | 120.1 |  97   | 3.70  | 2.465 | 20.01 | 1     | 0     | 3     | 1     | 2465  |\n",
       "| 15.5  | 8     | 318.0 | 150   | 2.76  | 3.520 | 16.87 | 0     | 0     | 3     | 2     | 3520  |\n",
       "| 15.2  | 8     | 304.0 | 150   | 3.15  | 3.435 | 17.30 | 0     | 0     | 3     | 2     | 3435  |\n",
       "| 13.3  | 8     | 350.0 | 245   | 3.73  | 3.840 | 15.41 | 0     | 0     | 3     | 4     | 3840  |\n",
       "| 19.2  | 8     | 400.0 | 175   | 3.08  | 3.845 | 17.05 | 0     | 0     | 3     | 2     | 3845  |\n",
       "| 27.3  | 4     |  79.0 |  66   | 4.08  | 1.935 | 18.90 | 1     | 1     | 4     | 1     | 1935  |\n",
       "| 26.0  | 4     | 120.3 |  91   | 4.43  | 2.140 | 16.70 | 0     | 1     | 5     | 2     | 2140  |\n",
       "| 30.4  | 4     |  95.1 | 113   | 3.77  | 1.513 | 16.90 | 1     | 1     | 5     | 2     | 1513  |\n",
       "| 15.8  | 8     | 351.0 | 264   | 4.22  | 3.170 | 14.50 | 0     | 1     | 5     | 4     | 3170  |\n",
       "| 19.7  | 6     | 145.0 | 175   | 3.62  | 2.770 | 15.50 | 0     | 1     | 5     | 6     | 2770  |\n",
       "| 15.0  | 8     | 301.0 | 335   | 3.54  | 3.570 | 14.60 | 0     | 1     | 5     | 8     | 3570  |\n",
       "| 21.4  | 4     | 121.0 | 109   | 4.11  | 2.780 | 18.60 | 1     | 1     | 4     | 2     | 2780  |\n",
       "\n"
      ],
      "text/plain": [
       "   mpg  cyl disp  hp  drat wt    qsec  vs am gear carb wt1000\n",
       "1  21.0 6   160.0 110 3.90 2.620 16.46 0  1  4    4    2620  \n",
       "2  21.0 6   160.0 110 3.90 2.875 17.02 0  1  4    4    2875  \n",
       "3  22.8 4   108.0  93 3.85 2.320 18.61 1  1  4    1    2320  \n",
       "4  21.4 6   258.0 110 3.08 3.215 19.44 1  0  3    1    3215  \n",
       "5  18.7 8   360.0 175 3.15 3.440 17.02 0  0  3    2    3440  \n",
       "6  18.1 6   225.0 105 2.76 3.460 20.22 1  0  3    1    3460  \n",
       "7  14.3 8   360.0 245 3.21 3.570 15.84 0  0  3    4    3570  \n",
       "8  24.4 4   146.7  62 3.69 3.190 20.00 1  0  4    2    3190  \n",
       "9  22.8 4   140.8  95 3.92 3.150 22.90 1  0  4    2    3150  \n",
       "10 19.2 6   167.6 123 3.92 3.440 18.30 1  0  4    4    3440  \n",
       "11 17.8 6   167.6 123 3.92 3.440 18.90 1  0  4    4    3440  \n",
       "12 16.4 8   275.8 180 3.07 4.070 17.40 0  0  3    3    4070  \n",
       "13 17.3 8   275.8 180 3.07 3.730 17.60 0  0  3    3    3730  \n",
       "14 15.2 8   275.8 180 3.07 3.780 18.00 0  0  3    3    3780  \n",
       "15 10.4 8   472.0 205 2.93 5.250 17.98 0  0  3    4    5250  \n",
       "16 10.4 8   460.0 215 3.00 5.424 17.82 0  0  3    4    5424  \n",
       "17 14.7 8   440.0 230 3.23 5.345 17.42 0  0  3    4    5345  \n",
       "18 32.4 4    78.7  66 4.08 2.200 19.47 1  1  4    1    2200  \n",
       "19 30.4 4    75.7  52 4.93 1.615 18.52 1  1  4    2    1615  \n",
       "20 33.9 4    71.1  65 4.22 1.835 19.90 1  1  4    1    1835  \n",
       "21 21.5 4   120.1  97 3.70 2.465 20.01 1  0  3    1    2465  \n",
       "22 15.5 8   318.0 150 2.76 3.520 16.87 0  0  3    2    3520  \n",
       "23 15.2 8   304.0 150 3.15 3.435 17.30 0  0  3    2    3435  \n",
       "24 13.3 8   350.0 245 3.73 3.840 15.41 0  0  3    4    3840  \n",
       "25 19.2 8   400.0 175 3.08 3.845 17.05 0  0  3    2    3845  \n",
       "26 27.3 4    79.0  66 4.08 1.935 18.90 1  1  4    1    1935  \n",
       "27 26.0 4   120.3  91 4.43 2.140 16.70 0  1  5    2    2140  \n",
       "28 30.4 4    95.1 113 3.77 1.513 16.90 1  1  5    2    1513  \n",
       "29 15.8 8   351.0 264 4.22 3.170 14.50 0  1  5    4    3170  \n",
       "30 19.7 6   145.0 175 3.62 2.770 15.50 0  1  5    6    2770  \n",
       "31 15.0 8   301.0 335 3.54 3.570 14.60 0  1  5    8    3570  \n",
       "32 21.4 4   121.0 109 4.11 2.780 18.60 1  1  4    2    2780  "
      ]
     },
     "metadata": {},
     "output_type": "display_data"
    }
   ],
   "source": [
    "mutate(mtcars, wt1000=wt*1000)"
   ]
  },
  {
   "cell_type": "code",
   "execution_count": null,
   "id": "6f79103a",
   "metadata": {},
   "outputs": [],
   "source": []
  }
 ],
 "metadata": {
  "kernelspec": {
   "display_name": "R",
   "language": "R",
   "name": "ir"
  },
  "language_info": {
   "codemirror_mode": "r",
   "file_extension": ".r",
   "mimetype": "text/x-r-source",
   "name": "R",
   "pygments_lexer": "r",
   "version": "3.5.1"
  }
 },
 "nbformat": 4,
 "nbformat_minor": 5
}
