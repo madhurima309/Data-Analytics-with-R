{
 "cells": [
  {
   "cell_type": "code",
   "execution_count": 37,
   "id": "8a598de5",
   "metadata": {},
   "outputs": [
    {
     "data": {
      "image/png": "[encoded data removed]",
      "text/plain": [
       "plot without title"
      ]
     },
     "metadata": {},
     "output_type": "display_data"
    }
   ],
   "source": [
    "x= c(1,2,3,4,5,6,7,8,9,10)\n",
    "y= c(1,2,3,4,5,5,4,3,2,1)\n",
    "plot(x, y, xlab = \"Index\")"
   ]
  },
  {
   "cell_type": "code",
   "execution_count": 38,
   "id": "ece016be",
   "metadata": {},
   "outputs": [
    {
     "data": {
      "image/png": "[encoded data removed]",
      "text/plain": [
       "plot without title"
      ]
     },
     "metadata": {},
     "output_type": "display_data"
    }
   ],
   "source": [
    "x= c(1,2,3,4,5,6,7,8,9,10)\n",
    "y= c(1,2,3,4,5,5,4,3,2,1)\n",
    "plot(x, y, type = \"b\", xlab = \"Index\")"
   ]
  },
  {
   "cell_type": "code",
   "execution_count": 39,
   "id": "bc85bec3",
   "metadata": {},
   "outputs": [
    {
     "data": {
      "text/html": [
       "<ol class=list-inline>\n",
       "\t<li>3</li>\n",
       "\t<li>5</li>\n",
       "\t<li>5</li>\n",
       "\t<li>7</li>\n",
       "</ol>\n"
      ],
      "text/latex": [
       "\\begin{enumerate*}\n",
       "\\item 3\n",
       "\\item 5\n",
       "\\item 5\n",
       "\\item 7\n",
       "\\end{enumerate*}\n"
      ],
      "text/markdown": [
       "1. 3\n",
       "2. 5\n",
       "3. 5\n",
       "4. 7\n",
       "\n",
       "\n"
      ],
      "text/plain": [
       "[1] 3 5 5 7"
      ]
     },
     "metadata": {},
     "output_type": "display_data"
    }
   ],
   "source": [
    "x = 1:4\n",
    "y = 2:3\n",
    "x+y"
   ]
  },
  {
   "cell_type": "code",
   "execution_count": 40,
   "id": "77b21874",
   "metadata": {},
   "outputs": [
    {
     "data": {
      "text/html": [
       "<ol class=list-inline>\n",
       "\t<li>4</li>\n",
       "\t<li>5</li>\n",
       "\t<li>6</li>\n",
       "</ol>\n"
      ],
      "text/latex": [
       "\\begin{enumerate*}\n",
       "\\item 4\n",
       "\\item 5\n",
       "\\item 6\n",
       "\\end{enumerate*}\n"
      ],
      "text/markdown": [
       "1. 4\n",
       "2. 5\n",
       "3. 6\n",
       "\n",
       "\n"
      ],
      "text/plain": [
       "[1] 4 5 6"
      ]
     },
     "metadata": {},
     "output_type": "display_data"
    }
   ],
   "source": [
    "x = 1:3\n",
    "y = 3\n",
    "x+y"
   ]
  },
  {
   "cell_type": "code",
   "execution_count": 41,
   "id": "3970a3fa",
   "metadata": {},
   "outputs": [
    {
     "name": "stdout",
     "output_type": "stream",
     "text": [
      "[1]  4  8 12 16 20\n"
     ]
    }
   ],
   "source": [
    "print(seq(4,20,4))"
   ]
  },
  {
   "cell_type": "code",
   "execution_count": 42,
   "id": "b2e15c78",
   "metadata": {},
   "outputs": [
    {
     "data": {
      "text/html": [
       "0.690653430481824"
      ],
      "text/latex": [
       "0.690653430481824"
      ],
      "text/markdown": [
       "0.690653430481824"
      ],
      "text/plain": [
       "[1] 0.6906534"
      ]
     },
     "metadata": {},
     "output_type": "display_data"
    }
   ],
   "source": [
    "result = 0\n",
    "for (i in 1:100){\n",
    "    result = result + 1/((2*i)*((2*i)-1))\n",
    "}\n",
    "result"
   ]
  },
  {
   "cell_type": "code",
   "execution_count": 43,
   "id": "f121a58b",
   "metadata": {},
   "outputs": [
    {
     "data": {
      "text/html": [
       "0.690653430481824"
      ],
      "text/latex": [
       "0.690653430481824"
      ],
      "text/markdown": [
       "0.690653430481824"
      ],
      "text/plain": [
       "[1] 0.6906534"
      ]
     },
     "metadata": {},
     "output_type": "display_data"
    }
   ],
   "source": [
    "sum(1/((2*(1:100))*((2*(1:100))-1)))"
   ]
  },
  {
   "cell_type": "code",
   "execution_count": 44,
   "id": "589835a8",
   "metadata": {},
   "outputs": [
    {
     "data": {
      "text/html": [
       "<table>\n",
       "<thead><tr><th scope=col>index</th><th scope=col>symbol</th><th scope=col>color</th></tr></thead>\n",
       "<tbody>\n",
       "\t<tr><td> 1   </td><td>A    </td><td>red  </td></tr>\n",
       "\t<tr><td> 2   </td><td>B    </td><td>red  </td></tr>\n",
       "\t<tr><td> 3   </td><td>C    </td><td>red  </td></tr>\n",
       "\t<tr><td> 4   </td><td>D    </td><td>red  </td></tr>\n",
       "\t<tr><td> 5   </td><td>E    </td><td>red  </td></tr>\n",
       "\t<tr><td> 6   </td><td>F    </td><td>red  </td></tr>\n",
       "\t<tr><td> 7   </td><td>G    </td><td>red  </td></tr>\n",
       "\t<tr><td> 8   </td><td>H    </td><td>red  </td></tr>\n",
       "\t<tr><td> 9   </td><td>I    </td><td>red  </td></tr>\n",
       "\t<tr><td>10   </td><td>J    </td><td>red  </td></tr>\n",
       "\t<tr><td>11   </td><td>K    </td><td>green</td></tr>\n",
       "\t<tr><td>12   </td><td>L    </td><td>green</td></tr>\n",
       "\t<tr><td>13   </td><td>M    </td><td>green</td></tr>\n",
       "\t<tr><td>14   </td><td>N    </td><td>green</td></tr>\n",
       "\t<tr><td>15   </td><td>O    </td><td>green</td></tr>\n",
       "\t<tr><td>16   </td><td>P    </td><td>green</td></tr>\n",
       "\t<tr><td>17   </td><td>Q    </td><td>blue </td></tr>\n",
       "\t<tr><td>18   </td><td>R    </td><td>blue </td></tr>\n",
       "\t<tr><td>19   </td><td>S    </td><td>blue </td></tr>\n",
       "\t<tr><td>20   </td><td>T    </td><td>blue </td></tr>\n",
       "\t<tr><td>21   </td><td>U    </td><td>blue </td></tr>\n",
       "\t<tr><td>22   </td><td>V    </td><td>blue </td></tr>\n",
       "\t<tr><td>23   </td><td>W    </td><td>blue </td></tr>\n",
       "\t<tr><td>24   </td><td>X    </td><td>blue </td></tr>\n",
       "\t<tr><td>25   </td><td>Y    </td><td>blue </td></tr>\n",
       "\t<tr><td>26   </td><td>Z    </td><td>blue </td></tr>\n",
       "</tbody>\n",
       "</table>\n"
      ],
      "text/latex": [
       "\\begin{tabular}{r|lll}\n",
       " index & symbol & color\\\\\n",
       "\\hline\n",
       "\t  1    & A     & red  \\\\\n",
       "\t  2    & B     & red  \\\\\n",
       "\t  3    & C     & red  \\\\\n",
       "\t  4    & D     & red  \\\\\n",
       "\t  5    & E     & red  \\\\\n",
       "\t  6    & F     & red  \\\\\n",
       "\t  7    & G     & red  \\\\\n",
       "\t  8    & H     & red  \\\\\n",
       "\t  9    & I     & red  \\\\\n",
       "\t 10    & J     & red  \\\\\n",
       "\t 11    & K     & green\\\\\n",
       "\t 12    & L     & green\\\\\n",
       "\t 13    & M     & green\\\\\n",
       "\t 14    & N     & green\\\\\n",
       "\t 15    & O     & green\\\\\n",
       "\t 16    & P     & green\\\\\n",
       "\t 17    & Q     & blue \\\\\n",
       "\t 18    & R     & blue \\\\\n",
       "\t 19    & S     & blue \\\\\n",
       "\t 20    & T     & blue \\\\\n",
       "\t 21    & U     & blue \\\\\n",
       "\t 22    & V     & blue \\\\\n",
       "\t 23    & W     & blue \\\\\n",
       "\t 24    & X     & blue \\\\\n",
       "\t 25    & Y     & blue \\\\\n",
       "\t 26    & Z     & blue \\\\\n",
       "\\end{tabular}\n"
      ],
      "text/markdown": [
       "\n",
       "| index | symbol | color |\n",
       "|---|---|---|\n",
       "|  1    | A     | red   |\n",
       "|  2    | B     | red   |\n",
       "|  3    | C     | red   |\n",
       "|  4    | D     | red   |\n",
       "|  5    | E     | red   |\n",
       "|  6    | F     | red   |\n",
       "|  7    | G     | red   |\n",
       "|  8    | H     | red   |\n",
       "|  9    | I     | red   |\n",
       "| 10    | J     | red   |\n",
       "| 11    | K     | green |\n",
       "| 12    | L     | green |\n",
       "| 13    | M     | green |\n",
       "| 14    | N     | green |\n",
       "| 15    | O     | green |\n",
       "| 16    | P     | green |\n",
       "| 17    | Q     | blue  |\n",
       "| 18    | R     | blue  |\n",
       "| 19    | S     | blue  |\n",
       "| 20    | T     | blue  |\n",
       "| 21    | U     | blue  |\n",
       "| 22    | V     | blue  |\n",
       "| 23    | W     | blue  |\n",
       "| 24    | X     | blue  |\n",
       "| 25    | Y     | blue  |\n",
       "| 26    | Z     | blue  |\n",
       "\n"
      ],
      "text/plain": [
       "   index symbol color\n",
       "1   1    A      red  \n",
       "2   2    B      red  \n",
       "3   3    C      red  \n",
       "4   4    D      red  \n",
       "5   5    E      red  \n",
       "6   6    F      red  \n",
       "7   7    G      red  \n",
       "8   8    H      red  \n",
       "9   9    I      red  \n",
       "10 10    J      red  \n",
       "11 11    K      green\n",
       "12 12    L      green\n",
       "13 13    M      green\n",
       "14 14    N      green\n",
       "15 15    O      green\n",
       "16 16    P      green\n",
       "17 17    Q      blue \n",
       "18 18    R      blue \n",
       "19 19    S      blue \n",
       "20 20    T      blue \n",
       "21 21    U      blue \n",
       "22 22    V      blue \n",
       "23 23    W      blue \n",
       "24 24    X      blue \n",
       "25 25    Y      blue \n",
       "26 26    Z      blue "
      ]
     },
     "metadata": {},
     "output_type": "display_data"
    }
   ],
   "source": [
    "alphabet<-data.frame(index=1:26, symbol=LETTERS, color=c(rep('red', 10), rep('green', 6), rep('blue', 10))); alphabet"
   ]
  },
  {
   "cell_type": "code",
   "execution_count": 45,
   "id": "bd44f1b8",
   "metadata": {},
   "outputs": [
    {
     "data": {
      "text/html": [
       "<table>\n",
       "<thead><tr><th></th><th scope=col>index</th><th scope=col>symbol</th><th scope=col>color</th></tr></thead>\n",
       "<tbody>\n",
       "\t<tr><th scope=row>26</th><td>26   </td><td>Z    </td><td>blue </td></tr>\n",
       "\t<tr><th scope=row>25</th><td>25   </td><td>Y    </td><td>blue </td></tr>\n",
       "\t<tr><th scope=row>24</th><td>24   </td><td>X    </td><td>blue </td></tr>\n",
       "\t<tr><th scope=row>23</th><td>23   </td><td>W    </td><td>blue </td></tr>\n",
       "\t<tr><th scope=row>22</th><td>22   </td><td>V    </td><td>blue </td></tr>\n",
       "\t<tr><th scope=row>21</th><td>21   </td><td>U    </td><td>blue </td></tr>\n",
       "\t<tr><th scope=row>20</th><td>20   </td><td>T    </td><td>blue </td></tr>\n",
       "\t<tr><th scope=row>19</th><td>19   </td><td>S    </td><td>blue </td></tr>\n",
       "\t<tr><th scope=row>18</th><td>18   </td><td>R    </td><td>blue </td></tr>\n",
       "\t<tr><th scope=row>17</th><td>17   </td><td>Q    </td><td>blue </td></tr>\n",
       "\t<tr><th scope=row>16</th><td>16   </td><td>P    </td><td>green</td></tr>\n",
       "\t<tr><th scope=row>15</th><td>15   </td><td>O    </td><td>green</td></tr>\n",
       "\t<tr><th scope=row>14</th><td>14   </td><td>N    </td><td>green</td></tr>\n",
       "\t<tr><th scope=row>13</th><td>13   </td><td>M    </td><td>green</td></tr>\n",
       "\t<tr><th scope=row>12</th><td>12   </td><td>L    </td><td>green</td></tr>\n",
       "\t<tr><th scope=row>11</th><td>11   </td><td>K    </td><td>green</td></tr>\n",
       "\t<tr><th scope=row>10</th><td>10   </td><td>J    </td><td>red  </td></tr>\n",
       "\t<tr><th scope=row>9</th><td> 9   </td><td>I    </td><td>red  </td></tr>\n",
       "\t<tr><th scope=row>8</th><td> 8   </td><td>H    </td><td>red  </td></tr>\n",
       "\t<tr><th scope=row>7</th><td> 7   </td><td>G    </td><td>red  </td></tr>\n",
       "\t<tr><th scope=row>6</th><td> 6   </td><td>F    </td><td>red  </td></tr>\n",
       "\t<tr><th scope=row>5</th><td> 5   </td><td>E    </td><td>red  </td></tr>\n",
       "\t<tr><th scope=row>4</th><td> 4   </td><td>D    </td><td>red  </td></tr>\n",
       "\t<tr><th scope=row>3</th><td> 3   </td><td>C    </td><td>red  </td></tr>\n",
       "\t<tr><th scope=row>2</th><td> 2   </td><td>B    </td><td>red  </td></tr>\n",
       "\t<tr><th scope=row>1</th><td> 1   </td><td>A    </td><td>red  </td></tr>\n",
       "</tbody>\n",
       "</table>\n"
      ],
      "text/latex": [
       "\\begin{tabular}{r|lll}\n",
       "  & index & symbol & color\\\\\n",
       "\\hline\n",
       "\t26 & 26    & Z     & blue \\\\\n",
       "\t25 & 25    & Y     & blue \\\\\n",
       "\t24 & 24    & X     & blue \\\\\n",
       "\t23 & 23    & W     & blue \\\\\n",
       "\t22 & 22    & V     & blue \\\\\n",
       "\t21 & 21    & U     & blue \\\\\n",
       "\t20 & 20    & T     & blue \\\\\n",
       "\t19 & 19    & S     & blue \\\\\n",
       "\t18 & 18    & R     & blue \\\\\n",
       "\t17 & 17    & Q     & blue \\\\\n",
       "\t16 & 16    & P     & green\\\\\n",
       "\t15 & 15    & O     & green\\\\\n",
       "\t14 & 14    & N     & green\\\\\n",
       "\t13 & 13    & M     & green\\\\\n",
       "\t12 & 12    & L     & green\\\\\n",
       "\t11 & 11    & K     & green\\\\\n",
       "\t10 & 10    & J     & red  \\\\\n",
       "\t9 &  9    & I     & red  \\\\\n",
       "\t8 &  8    & H     & red  \\\\\n",
       "\t7 &  7    & G     & red  \\\\\n",
       "\t6 &  6    & F     & red  \\\\\n",
       "\t5 &  5    & E     & red  \\\\\n",
       "\t4 &  4    & D     & red  \\\\\n",
       "\t3 &  3    & C     & red  \\\\\n",
       "\t2 &  2    & B     & red  \\\\\n",
       "\t1 &  1    & A     & red  \\\\\n",
       "\\end{tabular}\n"
      ],
      "text/markdown": [
       "\n",
       "| <!--/--> | index | symbol | color |\n",
       "|---|---|---|---|\n",
       "| 26 | 26    | Z     | blue  |\n",
       "| 25 | 25    | Y     | blue  |\n",
       "| 24 | 24    | X     | blue  |\n",
       "| 23 | 23    | W     | blue  |\n",
       "| 22 | 22    | V     | blue  |\n",
       "| 21 | 21    | U     | blue  |\n",
       "| 20 | 20    | T     | blue  |\n",
       "| 19 | 19    | S     | blue  |\n",
       "| 18 | 18    | R     | blue  |\n",
       "| 17 | 17    | Q     | blue  |\n",
       "| 16 | 16    | P     | green |\n",
       "| 15 | 15    | O     | green |\n",
       "| 14 | 14    | N     | green |\n",
       "| 13 | 13    | M     | green |\n",
       "| 12 | 12    | L     | green |\n",
       "| 11 | 11    | K     | green |\n",
       "| 10 | 10    | J     | red   |\n",
       "| 9 |  9    | I     | red   |\n",
       "| 8 |  8    | H     | red   |\n",
       "| 7 |  7    | G     | red   |\n",
       "| 6 |  6    | F     | red   |\n",
       "| 5 |  5    | E     | red   |\n",
       "| 4 |  4    | D     | red   |\n",
       "| 3 |  3    | C     | red   |\n",
       "| 2 |  2    | B     | red   |\n",
       "| 1 |  1    | A     | red   |\n",
       "\n"
      ],
      "text/plain": [
       "   index symbol color\n",
       "26 26    Z      blue \n",
       "25 25    Y      blue \n",
       "24 24    X      blue \n",
       "23 23    W      blue \n",
       "22 22    V      blue \n",
       "21 21    U      blue \n",
       "20 20    T      blue \n",
       "19 19    S      blue \n",
       "18 18    R      blue \n",
       "17 17    Q      blue \n",
       "16 16    P      green\n",
       "15 15    O      green\n",
       "14 14    N      green\n",
       "13 13    M      green\n",
       "12 12    L      green\n",
       "11 11    K      green\n",
       "10 10    J      red  \n",
       "9   9    I      red  \n",
       "8   8    H      red  \n",
       "7   7    G      red  \n",
       "6   6    F      red  \n",
       "5   5    E      red  \n",
       "4   4    D      red  \n",
       "3   3    C      red  \n",
       "2   2    B      red  \n",
       "1   1    A      red  "
      ]
     },
     "metadata": {},
     "output_type": "display_data"
    },
    {
     "data": {
      "text/html": [
       "'factor'"
      ],
      "text/latex": [
       "'factor'"
      ],
      "text/markdown": [
       "'factor'"
      ],
      "text/plain": [
       "[1] \"factor\""
      ]
     },
     "metadata": {},
     "output_type": "display_data"
    }
   ],
   "source": [
    "alphabet[order(-alphabet$index),]\n",
    "class(alphabet$color)"
   ]
  },
  {
   "cell_type": "code",
   "execution_count": 46,
   "id": "acd8d424",
   "metadata": {},
   "outputs": [
    {
     "data": {
      "text/html": [
       "<table>\n",
       "<thead><tr><th scope=col>index</th><th scope=col>symbol</th><th scope=col>color</th></tr></thead>\n",
       "<tbody>\n",
       "\t<tr><td>1  </td><td>A  </td><td>red</td></tr>\n",
       "\t<tr><td>2  </td><td>B  </td><td>red</td></tr>\n",
       "\t<tr><td>3  </td><td>C  </td><td>red</td></tr>\n",
       "\t<tr><td>4  </td><td>D  </td><td>red</td></tr>\n",
       "</tbody>\n",
       "</table>\n"
      ],
      "text/latex": [
       "\\begin{tabular}{r|lll}\n",
       " index & symbol & color\\\\\n",
       "\\hline\n",
       "\t 1   & A   & red\\\\\n",
       "\t 2   & B   & red\\\\\n",
       "\t 3   & C   & red\\\\\n",
       "\t 4   & D   & red\\\\\n",
       "\\end{tabular}\n"
      ],
      "text/markdown": [
       "\n",
       "| index | symbol | color |\n",
       "|---|---|---|\n",
       "| 1   | A   | red |\n",
       "| 2   | B   | red |\n",
       "| 3   | C   | red |\n",
       "| 4   | D   | red |\n",
       "\n"
      ],
      "text/plain": [
       "  index symbol color\n",
       "1 1     A      red  \n",
       "2 2     B      red  \n",
       "3 3     C      red  \n",
       "4 4     D      red  "
      ]
     },
     "metadata": {},
     "output_type": "display_data"
    }
   ],
   "source": [
    "alphabet[(alphabet$color==\"red\") & (alphabet$index < 5),]"
   ]
  },
  {
   "cell_type": "code",
   "execution_count": 47,
   "id": "9c1260c8",
   "metadata": {},
   "outputs": [
    {
     "data": {
      "text/html": [
       "<table>\n",
       "<thead><tr><th></th><th scope=col>index</th><th scope=col>symbol</th><th scope=col>color</th></tr></thead>\n",
       "<tbody>\n",
       "\t<tr><th scope=row>1</th><td> 1   </td><td>A    </td><td>red  </td></tr>\n",
       "\t<tr><th scope=row>2</th><td> 2   </td><td>B    </td><td>red  </td></tr>\n",
       "\t<tr><th scope=row>3</th><td> 3   </td><td>C    </td><td>red  </td></tr>\n",
       "\t<tr><th scope=row>4</th><td> 4   </td><td>D    </td><td>red  </td></tr>\n",
       "\t<tr><th scope=row>16</th><td>16   </td><td>P    </td><td>green</td></tr>\n",
       "\t<tr><th scope=row>17</th><td>17   </td><td>Q    </td><td>blue </td></tr>\n",
       "\t<tr><th scope=row>18</th><td>18   </td><td>R    </td><td>blue </td></tr>\n",
       "\t<tr><th scope=row>19</th><td>19   </td><td>S    </td><td>blue </td></tr>\n",
       "\t<tr><th scope=row>20</th><td>20   </td><td>T    </td><td>blue </td></tr>\n",
       "\t<tr><th scope=row>21</th><td>21   </td><td>U    </td><td>blue </td></tr>\n",
       "\t<tr><th scope=row>22</th><td>22   </td><td>V    </td><td>blue </td></tr>\n",
       "\t<tr><th scope=row>23</th><td>23   </td><td>W    </td><td>blue </td></tr>\n",
       "\t<tr><th scope=row>24</th><td>24   </td><td>X    </td><td>blue </td></tr>\n",
       "\t<tr><th scope=row>25</th><td>25   </td><td>Y    </td><td>blue </td></tr>\n",
       "\t<tr><th scope=row>26</th><td>26   </td><td>Z    </td><td>blue </td></tr>\n",
       "</tbody>\n",
       "</table>\n"
      ],
      "text/latex": [
       "\\begin{tabular}{r|lll}\n",
       "  & index & symbol & color\\\\\n",
       "\\hline\n",
       "\t1 &  1    & A     & red  \\\\\n",
       "\t2 &  2    & B     & red  \\\\\n",
       "\t3 &  3    & C     & red  \\\\\n",
       "\t4 &  4    & D     & red  \\\\\n",
       "\t16 & 16    & P     & green\\\\\n",
       "\t17 & 17    & Q     & blue \\\\\n",
       "\t18 & 18    & R     & blue \\\\\n",
       "\t19 & 19    & S     & blue \\\\\n",
       "\t20 & 20    & T     & blue \\\\\n",
       "\t21 & 21    & U     & blue \\\\\n",
       "\t22 & 22    & V     & blue \\\\\n",
       "\t23 & 23    & W     & blue \\\\\n",
       "\t24 & 24    & X     & blue \\\\\n",
       "\t25 & 25    & Y     & blue \\\\\n",
       "\t26 & 26    & Z     & blue \\\\\n",
       "\\end{tabular}\n"
      ],
      "text/markdown": [
       "\n",
       "| <!--/--> | index | symbol | color |\n",
       "|---|---|---|---|\n",
       "| 1 |  1    | A     | red   |\n",
       "| 2 |  2    | B     | red   |\n",
       "| 3 |  3    | C     | red   |\n",
       "| 4 |  4    | D     | red   |\n",
       "| 16 | 16    | P     | green |\n",
       "| 17 | 17    | Q     | blue  |\n",
       "| 18 | 18    | R     | blue  |\n",
       "| 19 | 19    | S     | blue  |\n",
       "| 20 | 20    | T     | blue  |\n",
       "| 21 | 21    | U     | blue  |\n",
       "| 22 | 22    | V     | blue  |\n",
       "| 23 | 23    | W     | blue  |\n",
       "| 24 | 24    | X     | blue  |\n",
       "| 25 | 25    | Y     | blue  |\n",
       "| 26 | 26    | Z     | blue  |\n",
       "\n"
      ],
      "text/plain": [
       "   index symbol color\n",
       "1   1    A      red  \n",
       "2   2    B      red  \n",
       "3   3    C      red  \n",
       "4   4    D      red  \n",
       "16 16    P      green\n",
       "17 17    Q      blue \n",
       "18 18    R      blue \n",
       "19 19    S      blue \n",
       "20 20    T      blue \n",
       "21 21    U      blue \n",
       "22 22    V      blue \n",
       "23 23    W      blue \n",
       "24 24    X      blue \n",
       "25 25    Y      blue \n",
       "26 26    Z      blue "
      ]
     },
     "metadata": {},
     "output_type": "display_data"
    }
   ],
   "source": [
    "alphabet[(alphabet$index >15) | (alphabet$index < 5),]"
   ]
  },
  {
   "cell_type": "code",
   "execution_count": null,
   "id": "bfdc83b8",
   "metadata": {},
   "outputs": [],
   "source": []
  }
 ],
 "metadata": {
  "kernelspec": {
   "display_name": "R",
   "language": "R",
   "name": "ir"
  },
  "language_info": {
   "codemirror_mode": "r",
   "file_extension": ".r",
   "mimetype": "text/x-r-source",
   "name": "R",
   "pygments_lexer": "r",
   "version": "3.5.1"
  }
 },
 "nbformat": 4,
 "nbformat_minor": 5
}
