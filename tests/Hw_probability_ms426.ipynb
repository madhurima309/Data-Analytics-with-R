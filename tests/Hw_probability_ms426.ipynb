{
 "cells": [
  {
   "cell_type": "markdown",
   "id": "b7ba7f05",
   "metadata": {},
   "source": [
    "# Problem 1, Six Sigma"
   ]
  },
  {
   "cell_type": "code",
   "execution_count": 7,
   "id": "23d054e0",
   "metadata": {},
   "outputs": [],
   "source": [
    "sixsigma <- function(x){\n",
    "    constant = 1 / sqrt(2*pi)\n",
    "    return (constant * exp((-x**2)/2))\n",
    "}\n"
   ]
  },
  {
   "cell_type": "code",
   "execution_count": 8,
   "id": "040da391",
   "metadata": {},
   "outputs": [
    {
     "data": {
      "text/plain": [
       "0.6826895 with absolute error < 7.6e-15"
      ]
     },
     "metadata": {},
     "output_type": "display_data"
    }
   ],
   "source": [
    "#within σ\n",
    "\n",
    "integrate (sixsigma, -1,1)"
   ]
  },
  {
   "cell_type": "code",
   "execution_count": 9,
   "id": "1df96b34",
   "metadata": {},
   "outputs": [
    {
     "data": {
      "text/plain": [
       "0.9544997 with absolute error < 1.8e-11"
      ]
     },
     "metadata": {},
     "output_type": "display_data"
    }
   ],
   "source": [
    "##within 2σ\n",
    "integrate (sixsigma, -2,2)"
   ]
  },
  {
   "cell_type": "code",
   "execution_count": 10,
   "id": "df9e007a",
   "metadata": {},
   "outputs": [
    {
     "data": {
      "text/plain": [
       "0.9973002 with absolute error < 9.3e-07"
      ]
     },
     "metadata": {},
     "output_type": "display_data"
    }
   ],
   "source": [
    "##within 3σ\n",
    "integrate (sixsigma, -3,3)"
   ]
  },
  {
   "cell_type": "code",
   "execution_count": 18,
   "id": "38a36702",
   "metadata": {},
   "outputs": [
    {
     "data": {
      "text/plain": [
       "0.9999367 with absolute error < 4.8e-12"
      ]
     },
     "metadata": {},
     "output_type": "display_data"
    }
   ],
   "source": [
    "##within 4σ\n",
    "integrate (sixsigma, -4,4)"
   ]
  },
  {
   "cell_type": "markdown",
   "id": "8e2db950",
   "metadata": {},
   "source": [
    "#### within 4.643σ we have "
   ]
  },
  {
   "cell_type": "code",
   "execution_count": 17,
   "id": "136a7edb",
   "metadata": {},
   "outputs": [
    {
     "data": {
      "text/plain": [
       "0.9999966 with absolute error < 3.4e-10"
      ]
     },
     "metadata": {},
     "output_type": "display_data"
    }
   ],
   "source": [
    "integrate (sixsigma, -4.643,4.643)"
   ]
  },
  {
   "cell_type": "code",
   "execution_count": 15,
   "id": "8eaf47e6",
   "metadata": {},
   "outputs": [
    {
     "name": "stdout",
     "output_type": "stream",
     "text": [
      "0.6826895 with absolute error < 7.6e-15\n",
      "0.9544997 with absolute error < 1.8e-11\n",
      "0.9973002 with absolute error < 9.3e-07\n",
      "0.9999367 with absolute error < 4.8e-12\n",
      "0.9999994 with absolute error < 8.7e-10\n",
      "1 with absolute error < 1.2e-07\n"
     ]
    }
   ],
   "source": [
    "for (y in 1:6) {\n",
    "    print ( integrate (sixsigma, -y,y))\n",
    "}"
   ]
  },
  {
   "cell_type": "markdown",
   "id": "4fa68cb6",
   "metadata": {},
   "source": [
    "#### As we can see above, the probability for σ is 68%, for 2σ is 95% and for 3σ is 99.7%\n",
    "\n",
    "#### For 4.643σ its 99.9966% and for 5σ its 99.9999%, it is 1 for 6σ"
   ]
  },
  {
   "cell_type": "markdown",
   "id": "70989c76",
   "metadata": {},
   "source": [
    "# Problem 2, Job Search"
   ]
  },
  {
   "cell_type": "code",
   "execution_count": 55,
   "id": "c6681e66",
   "metadata": {},
   "outputs": [
    {
     "data": {
      "text/html": [
       "0.99"
      ],
      "text/latex": [
       "0.99"
      ],
      "text/markdown": [
       "0.99"
      ],
      "text/plain": [
       "[1] 0.99"
      ]
     },
     "metadata": {},
     "output_type": "display_data"
    }
   ],
   "source": [
    "#Please solve the problem by math. Use R mathematical expression to get the result.\n",
    "\n",
    "#probability of getting job offer\n",
    "p= 0.01\n",
    "\n",
    "#sample size\n",
    "n = 100\n",
    "\n",
    "#probability of not getting job offer\n",
    "1 - p"
   ]
  },
  {
   "cell_type": "code",
   "execution_count": 60,
   "id": "a3223bd6",
   "metadata": {},
   "outputs": [
    {
     "data": {
      "text/html": [
       "0.633967658726771"
      ],
      "text/latex": [
       "0.633967658726771"
      ],
      "text/markdown": [
       "0.633967658726771"
      ],
      "text/plain": [
       "[1] 0.6339677"
      ]
     },
     "metadata": {},
     "output_type": "display_data"
    }
   ],
   "source": [
    "#probability of getting no job offer\n",
    "p= 0.99 ** 100\n",
    "\n",
    "#probability of getting at least one job offer\n",
    "1 - p\n"
   ]
  },
  {
   "cell_type": "markdown",
   "id": "d8e62127",
   "metadata": {},
   "source": [
    "### probability of getting at least one job offer 0.633967658726771"
   ]
  },
  {
   "cell_type": "code",
   "execution_count": 56,
   "id": "dfc18730",
   "metadata": {},
   "outputs": [
    {
     "data": {
      "text/html": [
       "0.63396765872677"
      ],
      "text/latex": [
       "0.63396765872677"
      ],
      "text/markdown": [
       "0.63396765872677"
      ],
      "text/plain": [
       "[1] 0.6339677"
      ]
     },
     "metadata": {},
     "output_type": "display_data"
    }
   ],
   "source": [
    "#Analytic solution. Use R’s probability functions to solve the problem.\n",
    "1- pbinom(0, size = 100, prob = 0.01)"
   ]
  },
  {
   "cell_type": "code",
   "execution_count": 2,
   "id": "c6ca0454",
   "metadata": {},
   "outputs": [
    {
     "data": {
      "text/html": [
       "<ol class=list-inline>\n",
       "\t<li>0</li>\n",
       "\t<li>0</li>\n",
       "\t<li>0</li>\n",
       "\t<li>0</li>\n",
       "\t<li>0</li>\n",
       "\t<li>0</li>\n",
       "\t<li>0</li>\n",
       "\t<li>0</li>\n",
       "\t<li>0</li>\n",
       "\t<li>0</li>\n",
       "\t<li>0</li>\n",
       "\t<li>0</li>\n",
       "\t<li>0</li>\n",
       "\t<li>0</li>\n",
       "\t<li>0</li>\n",
       "\t<li>0</li>\n",
       "\t<li>0</li>\n",
       "\t<li>0</li>\n",
       "\t<li>0</li>\n",
       "\t<li>0</li>\n",
       "\t<li>0</li>\n",
       "\t<li>0</li>\n",
       "\t<li>0</li>\n",
       "\t<li>0</li>\n",
       "\t<li>0</li>\n",
       "\t<li>0</li>\n",
       "\t<li>0</li>\n",
       "\t<li>0</li>\n",
       "\t<li>0</li>\n",
       "\t<li>0</li>\n",
       "\t<li>0</li>\n",
       "\t<li>0</li>\n",
       "\t<li>0</li>\n",
       "\t<li>0</li>\n",
       "\t<li>0</li>\n",
       "\t<li>0</li>\n",
       "\t<li>0</li>\n",
       "\t<li>0</li>\n",
       "\t<li>0</li>\n",
       "\t<li>0</li>\n",
       "\t<li>0</li>\n",
       "\t<li>0</li>\n",
       "\t<li>0</li>\n",
       "\t<li>0</li>\n",
       "\t<li>0</li>\n",
       "\t<li>0</li>\n",
       "\t<li>0</li>\n",
       "\t<li>0</li>\n",
       "\t<li>0</li>\n",
       "\t<li>0</li>\n",
       "\t<li>0</li>\n",
       "\t<li>0</li>\n",
       "\t<li>0</li>\n",
       "\t<li>0</li>\n",
       "\t<li>0</li>\n",
       "\t<li>0</li>\n",
       "\t<li>0</li>\n",
       "\t<li>0</li>\n",
       "\t<li>0</li>\n",
       "\t<li>0</li>\n",
       "\t<li>0</li>\n",
       "\t<li>0</li>\n",
       "\t<li>0</li>\n",
       "\t<li>0</li>\n",
       "\t<li>0</li>\n",
       "\t<li>0</li>\n",
       "\t<li>0</li>\n",
       "\t<li>0</li>\n",
       "\t<li>0</li>\n",
       "\t<li>0</li>\n",
       "\t<li>0</li>\n",
       "\t<li>0</li>\n",
       "\t<li>0</li>\n",
       "\t<li>0</li>\n",
       "\t<li>0</li>\n",
       "\t<li>0</li>\n",
       "\t<li>0</li>\n",
       "\t<li>0</li>\n",
       "\t<li>0</li>\n",
       "\t<li>0</li>\n",
       "\t<li>0</li>\n",
       "\t<li>0</li>\n",
       "\t<li>0</li>\n",
       "\t<li>0</li>\n",
       "\t<li>0</li>\n",
       "\t<li>0</li>\n",
       "\t<li>0</li>\n",
       "\t<li>0</li>\n",
       "\t<li>0</li>\n",
       "\t<li>0</li>\n",
       "\t<li>0</li>\n",
       "\t<li>0</li>\n",
       "\t<li>0</li>\n",
       "\t<li>0</li>\n",
       "\t<li>0</li>\n",
       "\t<li>0</li>\n",
       "\t<li>0</li>\n",
       "\t<li>0</li>\n",
       "\t<li>0</li>\n",
       "\t<li>0</li>\n",
       "</ol>\n"
      ],
      "text/latex": [
       "\\begin{enumerate*}\n",
       "\\item 0\n",
       "\\item 0\n",
       "\\item 0\n",
       "\\item 0\n",
       "\\item 0\n",
       "\\item 0\n",
       "\\item 0\n",
       "\\item 0\n",
       "\\item 0\n",
       "\\item 0\n",
       "\\item 0\n",
       "\\item 0\n",
       "\\item 0\n",
       "\\item 0\n",
       "\\item 0\n",
       "\\item 0\n",
       "\\item 0\n",
       "\\item 0\n",
       "\\item 0\n",
       "\\item 0\n",
       "\\item 0\n",
       "\\item 0\n",
       "\\item 0\n",
       "\\item 0\n",
       "\\item 0\n",
       "\\item 0\n",
       "\\item 0\n",
       "\\item 0\n",
       "\\item 0\n",
       "\\item 0\n",
       "\\item 0\n",
       "\\item 0\n",
       "\\item 0\n",
       "\\item 0\n",
       "\\item 0\n",
       "\\item 0\n",
       "\\item 0\n",
       "\\item 0\n",
       "\\item 0\n",
       "\\item 0\n",
       "\\item 0\n",
       "\\item 0\n",
       "\\item 0\n",
       "\\item 0\n",
       "\\item 0\n",
       "\\item 0\n",
       "\\item 0\n",
       "\\item 0\n",
       "\\item 0\n",
       "\\item 0\n",
       "\\item 0\n",
       "\\item 0\n",
       "\\item 0\n",
       "\\item 0\n",
       "\\item 0\n",
       "\\item 0\n",
       "\\item 0\n",
       "\\item 0\n",
       "\\item 0\n",
       "\\item 0\n",
       "\\item 0\n",
       "\\item 0\n",
       "\\item 0\n",
       "\\item 0\n",
       "\\item 0\n",
       "\\item 0\n",
       "\\item 0\n",
       "\\item 0\n",
       "\\item 0\n",
       "\\item 0\n",
       "\\item 0\n",
       "\\item 0\n",
       "\\item 0\n",
       "\\item 0\n",
       "\\item 0\n",
       "\\item 0\n",
       "\\item 0\n",
       "\\item 0\n",
       "\\item 0\n",
       "\\item 0\n",
       "\\item 0\n",
       "\\item 0\n",
       "\\item 0\n",
       "\\item 0\n",
       "\\item 0\n",
       "\\item 0\n",
       "\\item 0\n",
       "\\item 0\n",
       "\\item 0\n",
       "\\item 0\n",
       "\\item 0\n",
       "\\item 0\n",
       "\\item 0\n",
       "\\item 0\n",
       "\\item 0\n",
       "\\item 0\n",
       "\\item 0\n",
       "\\item 0\n",
       "\\item 0\n",
       "\\item 0\n",
       "\\end{enumerate*}\n"
      ],
      "text/markdown": [
       "1. 0\n",
       "2. 0\n",
       "3. 0\n",
       "4. 0\n",
       "5. 0\n",
       "6. 0\n",
       "7. 0\n",
       "8. 0\n",
       "9. 0\n",
       "10. 0\n",
       "11. 0\n",
       "12. 0\n",
       "13. 0\n",
       "14. 0\n",
       "15. 0\n",
       "16. 0\n",
       "17. 0\n",
       "18. 0\n",
       "19. 0\n",
       "20. 0\n",
       "21. 0\n",
       "22. 0\n",
       "23. 0\n",
       "24. 0\n",
       "25. 0\n",
       "26. 0\n",
       "27. 0\n",
       "28. 0\n",
       "29. 0\n",
       "30. 0\n",
       "31. 0\n",
       "32. 0\n",
       "33. 0\n",
       "34. 0\n",
       "35. 0\n",
       "36. 0\n",
       "37. 0\n",
       "38. 0\n",
       "39. 0\n",
       "40. 0\n",
       "41. 0\n",
       "42. 0\n",
       "43. 0\n",
       "44. 0\n",
       "45. 0\n",
       "46. 0\n",
       "47. 0\n",
       "48. 0\n",
       "49. 0\n",
       "50. 0\n",
       "51. 0\n",
       "52. 0\n",
       "53. 0\n",
       "54. 0\n",
       "55. 0\n",
       "56. 0\n",
       "57. 0\n",
       "58. 0\n",
       "59. 0\n",
       "60. 0\n",
       "61. 0\n",
       "62. 0\n",
       "63. 0\n",
       "64. 0\n",
       "65. 0\n",
       "66. 0\n",
       "67. 0\n",
       "68. 0\n",
       "69. 0\n",
       "70. 0\n",
       "71. 0\n",
       "72. 0\n",
       "73. 0\n",
       "74. 0\n",
       "75. 0\n",
       "76. 0\n",
       "77. 0\n",
       "78. 0\n",
       "79. 0\n",
       "80. 0\n",
       "81. 0\n",
       "82. 0\n",
       "83. 0\n",
       "84. 0\n",
       "85. 0\n",
       "86. 0\n",
       "87. 0\n",
       "88. 0\n",
       "89. 0\n",
       "90. 0\n",
       "91. 0\n",
       "92. 0\n",
       "93. 0\n",
       "94. 0\n",
       "95. 0\n",
       "96. 0\n",
       "97. 0\n",
       "98. 0\n",
       "99. 0\n",
       "100. 0\n",
       "\n",
       "\n"
      ],
      "text/plain": [
       "  [1] 0 0 0 0 0 0 0 0 0 0 0 0 0 0 0 0 0 0 0 0 0 0 0 0 0 0 0 0 0 0 0 0 0 0 0 0 0\n",
       " [38] 0 0 0 0 0 0 0 0 0 0 0 0 0 0 0 0 0 0 0 0 0 0 0 0 0 0 0 0 0 0 0 0 0 0 0 0 0\n",
       " [75] 0 0 0 0 0 0 0 0 0 0 0 0 0 0 0 0 0 0 0 0 0 0 0 0 0 0"
      ]
     },
     "metadata": {},
     "output_type": "display_data"
    },
    {
     "data": {
      "text/plain": [
       "\n",
       "  0 \n",
       "100 "
      ]
     },
     "metadata": {},
     "output_type": "display_data"
    }
   ],
   "source": [
    "#Answer by simulation. Use sampling function to simulate the process and estimate the answer.\n",
    "n = 100; p = 0.01; \n",
    "sample(0:1, size=n, replace=TRUE, prob=c(1-p, p))\n",
    "table(sample(0:1, size=n, replace=TRUE, prob=c(1-p, p)))"
   ]
  },
  {
   "cell_type": "code",
   "execution_count": 3,
   "id": "c2f275e3",
   "metadata": {},
   "outputs": [
    {
     "data": {
      "image/png": "[encoded data removed]",
      "text/plain": [
       "plot without title"
      ]
     },
     "metadata": {
      "image/png": {
       "height": 420,
       "width": 420
      }
     },
     "output_type": "display_data"
    }
   ],
   "source": [
    "plot(factor(sample(0:1, size=n, replace=TRUE, prob=c(1-p, p))))"
   ]
  },
  {
   "cell_type": "code",
   "execution_count": 22,
   "id": "5b3ebe09",
   "metadata": {},
   "outputs": [
    {
     "data": {
      "image/png": "[encoded data removed]",
      "text/plain": [
       "plot without title"
      ]
     },
     "metadata": {
      "image/png": {
       "height": 420,
       "width": 420
      }
     },
     "output_type": "display_data"
    }
   ],
   "source": [
    "barplot(dbinom(1:100,100,0.01),names.arg=1:100)"
   ]
  },
  {
   "cell_type": "code",
   "execution_count": 24,
   "id": "fe0d2c57",
   "metadata": {},
   "outputs": [
    {
     "data": {
      "image/png": "[encoded data removed]",
      "text/plain": [
       "plot without title"
      ]
     },
     "metadata": {
      "image/png": {
       "height": 420,
       "width": 420
      }
     },
     "output_type": "display_data"
    }
   ],
   "source": [
    "barplot(dbinom(1:7,100,0.01),names.arg=1:7)"
   ]
  },
  {
   "cell_type": "markdown",
   "id": "93f2c498",
   "metadata": {},
   "source": [
    "##### Therefore by sampling we get "
   ]
  },
  {
   "cell_type": "code",
   "execution_count": 23,
   "id": "cee131ac",
   "metadata": {},
   "outputs": [
    {
     "data": {
      "text/html": [
       "0.63396765872677"
      ],
      "text/latex": [
       "0.63396765872677"
      ],
      "text/markdown": [
       "0.63396765872677"
      ],
      "text/plain": [
       "[1] 0.6339677"
      ]
     },
     "metadata": {},
     "output_type": "display_data"
    }
   ],
   "source": [
    "1- pbinom(0, size = 100, prob = 0.01)"
   ]
  },
  {
   "cell_type": "code",
   "execution_count": 75,
   "id": "d7d16ec9",
   "metadata": {},
   "outputs": [],
   "source": [
    "#How many resumes in total do you have to spam so that you will have 90% chance to get at least one job offer?\n",
    "# targeted probability is 90%\n",
    "\n",
    "p =0.9"
   ]
  },
  {
   "cell_type": "markdown",
   "id": "1b402339",
   "metadata": {},
   "source": [
    "#### as we know from above,probability of getting at least one job offer, where n is the number of resume sent, assuming that the probability is 0.9\n",
    "\n",
    "##### 1 - (0.99 ** n) = 0.9\n",
    "##### 0.99 ** n = 1 - 0.9 = 0.1\n",
    "##### n Log 0.99 = log 0.1\n",
    "##### n = log 0.1/log 0.99"
   ]
  },
  {
   "cell_type": "code",
   "execution_count": 81,
   "id": "d65cf549",
   "metadata": {},
   "outputs": [
    {
     "data": {
      "text/html": [
       "229.105288276694"
      ],
      "text/latex": [
       "229.105288276694"
      ],
      "text/markdown": [
       "229.105288276694"
      ],
      "text/plain": [
       "[1] 229.1053"
      ]
     },
     "metadata": {},
     "output_type": "display_data"
    }
   ],
   "source": [
    "log(0.1)/log(0.99)"
   ]
  },
  {
   "cell_type": "markdown",
   "id": "c230890b",
   "metadata": {},
   "source": [
    "#### 230 resume copies have to be sent to have a 90% chance of job offer"
   ]
  },
  {
   "cell_type": "code",
   "execution_count": 82,
   "id": "0d9b6677",
   "metadata": {},
   "outputs": [
    {
     "data": {
      "text/html": [
       "0.900895184481125"
      ],
      "text/latex": [
       "0.900895184481125"
      ],
      "text/markdown": [
       "0.900895184481125"
      ],
      "text/plain": [
       "[1] 0.9008952"
      ]
     },
     "metadata": {},
     "output_type": "display_data"
    }
   ],
   "source": [
    "1- pbinom(0, size = 230, prob = 0.01)"
   ]
  },
  {
   "cell_type": "markdown",
   "id": "73e9fd92",
   "metadata": {},
   "source": [
    "# Problem 3, President Election Polls"
   ]
  },
  {
   "cell_type": "markdown",
   "id": "6e3af425",
   "metadata": {},
   "source": [
    "### Use binomial distribution P(X≥600)"
   ]
  },
  {
   "cell_type": "code",
   "execution_count": 83,
   "id": "99bd0d4b",
   "metadata": {},
   "outputs": [
    {
     "data": {
      "text/html": [
       "1.36423206065217e-10"
      ],
      "text/latex": [
       "1.36423206065217e-10"
      ],
      "text/markdown": [
       "1.36423206065217e-10"
      ],
      "text/plain": [
       "[1] 1.364232e-10"
      ]
     },
     "metadata": {},
     "output_type": "display_data"
    }
   ],
   "source": [
    "1 - pbinom(599, 1000, 0.5) "
   ]
  },
  {
   "cell_type": "markdown",
   "id": "85eaef66",
   "metadata": {},
   "source": [
    "### Use normal distribution as approximation P(X≥600)"
   ]
  },
  {
   "cell_type": "markdown",
   "id": "3423aca5",
   "metadata": {},
   "source": [
    " N(np, np(1-p)) = N(500, 250)"
   ]
  },
  {
   "cell_type": "code",
   "execution_count": 84,
   "id": "9e51f330",
   "metadata": {},
   "outputs": [
    {
     "data": {
      "text/html": [
       "1.90878646222359e-10"
      ],
      "text/latex": [
       "1.90878646222359e-10"
      ],
      "text/markdown": [
       "1.90878646222359e-10"
      ],
      "text/plain": [
       "[1] 1.908786e-10"
      ]
     },
     "metadata": {},
     "output_type": "display_data"
    }
   ],
   "source": [
    "1-pnorm(599, mean=500, sd=sqrt(250))"
   ]
  },
  {
   "cell_type": "code",
   "execution_count": null,
   "id": "c602a290",
   "metadata": {},
   "outputs": [],
   "source": []
  }
 ],
 "metadata": {
  "kernelspec": {
   "display_name": "R",
   "language": "R",
   "name": "ir"
  },
  "language_info": {
   "codemirror_mode": "r",
   "file_extension": ".r",
   "mimetype": "text/x-r-source",
   "name": "R",
   "pygments_lexer": "r",
   "version": "3.5.1"
  }
 },
 "nbformat": 4,
 "nbformat_minor": 5
}
