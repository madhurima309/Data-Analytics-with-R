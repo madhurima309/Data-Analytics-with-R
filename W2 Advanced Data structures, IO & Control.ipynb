{
 "cells": [
  {
   "cell_type": "code",
   "execution_count": 1,
   "metadata": {
    "scrolled": true
   },
   "outputs": [
    {
     "data": {
      "text/html": [
       "<pre class=language-r><code>function (data = NA, nrow = 1, ncol = 1, byrow = FALSE, dimnames = NULL) \n",
       "{\n",
       "<span style=white-space:pre-wrap>    if (is.object(data) || !is.atomic(data)) </span>\n",
       "<span style=white-space:pre-wrap>        data &lt;- as.vector(data)</span>\n",
       "<span style=white-space:pre-wrap>    .Internal(matrix(data, nrow, ncol, byrow, dimnames, missing(nrow), </span>\n",
       "<span style=white-space:pre-wrap>        missing(ncol)))</span>\n",
       "}</code></pre>"
      ],
      "text/latex": [
       "\\begin{minted}{r}\n",
       "function (data = NA, nrow = 1, ncol = 1, byrow = FALSE, dimnames = NULL) \n",
       "\\{\n",
       "    if (is.object(data) \\textbar{}\\textbar{} !is.atomic(data)) \n",
       "        data <- as.vector(data)\n",
       "    .Internal(matrix(data, nrow, ncol, byrow, dimnames, missing(nrow), \n",
       "        missing(ncol)))\n",
       "\\}\n",
       "\\end{minted}"
      ],
      "text/markdown": [
       "```r\n",
       "function (data = NA, nrow = 1, ncol = 1, byrow = FALSE, dimnames = NULL) \n",
       "{\n",
       "    if (is.object(data) || !is.atomic(data)) \n",
       "        data <- as.vector(data)\n",
       "    .Internal(matrix(data, nrow, ncol, byrow, dimnames, missing(nrow), \n",
       "        missing(ncol)))\n",
       "}\n",
       "```"
      ],
      "text/plain": [
       "function (data = NA, nrow = 1, ncol = 1, byrow = FALSE, dimnames = NULL) \n",
       "{\n",
       "    if (is.object(data) || !is.atomic(data)) \n",
       "        data <- as.vector(data)\n",
       "    .Internal(matrix(data, nrow, ncol, byrow, dimnames, missing(nrow), \n",
       "        missing(ncol)))\n",
       "}\n",
       "<bytecode: 0x00000000273a0c08>\n",
       "<environment: namespace:base>"
      ]
     },
     "metadata": {},
     "output_type": "display_data"
    }
   ],
   "source": [
    "?matrix\n",
    "matrix"
   ]
  },
  {
   "cell_type": "code",
   "execution_count": 2,
   "metadata": {
    "scrolled": false
   },
   "outputs": [
    {
     "data": {
      "text/html": [
       "<table>\n",
       "<tbody>\n",
       "\t<tr><td>NA</td></tr>\n",
       "</tbody>\n",
       "</table>\n"
      ],
      "text/latex": [
       "\\begin{tabular}{l}\n",
       "\t NA\\\\\n",
       "\\end{tabular}\n"
      ],
      "text/markdown": [
       "\n",
       "| NA |\n",
       "\n"
      ],
      "text/plain": [
       "     [,1]\n",
       "[1,] NA  "
      ]
     },
     "metadata": {},
     "output_type": "display_data"
    },
    {
     "data": {
      "text/html": [
       "<table>\n",
       "<tbody>\n",
       "\t<tr><td>NA</td><td>NA</td><td>NA</td></tr>\n",
       "\t<tr><td>NA</td><td>NA</td><td>NA</td></tr>\n",
       "</tbody>\n",
       "</table>\n"
      ],
      "text/latex": [
       "\\begin{tabular}{lll}\n",
       "\t NA & NA & NA\\\\\n",
       "\t NA & NA & NA\\\\\n",
       "\\end{tabular}\n"
      ],
      "text/markdown": [
       "\n",
       "| NA | NA | NA |\n",
       "| NA | NA | NA |\n",
       "\n"
      ],
      "text/plain": [
       "     [,1] [,2] [,3]\n",
       "[1,] NA   NA   NA  \n",
       "[2,] NA   NA   NA  "
      ]
     },
     "metadata": {},
     "output_type": "display_data"
    },
    {
     "data": {
      "text/html": [
       "<table>\n",
       "<tbody>\n",
       "\t<tr><td>0</td><td>0</td><td>0</td></tr>\n",
       "\t<tr><td>0</td><td>0</td><td>0</td></tr>\n",
       "</tbody>\n",
       "</table>\n"
      ],
      "text/latex": [
       "\\begin{tabular}{lll}\n",
       "\t 0 & 0 & 0\\\\\n",
       "\t 0 & 0 & 0\\\\\n",
       "\\end{tabular}\n"
      ],
      "text/markdown": [
       "\n",
       "| 0 | 0 | 0 |\n",
       "| 0 | 0 | 0 |\n",
       "\n"
      ],
      "text/plain": [
       "     [,1] [,2] [,3]\n",
       "[1,] 0    0    0   \n",
       "[2,] 0    0    0   "
      ]
     },
     "metadata": {},
     "output_type": "display_data"
    },
    {
     "data": {
      "text/html": [
       "<table>\n",
       "<tbody>\n",
       "\t<tr><td>1</td><td>3</td><td>5</td></tr>\n",
       "\t<tr><td>2</td><td>4</td><td>6</td></tr>\n",
       "</tbody>\n",
       "</table>\n"
      ],
      "text/latex": [
       "\\begin{tabular}{lll}\n",
       "\t 1 & 3 & 5\\\\\n",
       "\t 2 & 4 & 6\\\\\n",
       "\\end{tabular}\n"
      ],
      "text/markdown": [
       "\n",
       "| 1 | 3 | 5 |\n",
       "| 2 | 4 | 6 |\n",
       "\n"
      ],
      "text/plain": [
       "     [,1] [,2] [,3]\n",
       "[1,] 1    3    5   \n",
       "[2,] 2    4    6   "
      ]
     },
     "metadata": {},
     "output_type": "display_data"
    },
    {
     "data": {
      "text/html": [
       "<table>\n",
       "<tbody>\n",
       "\t<tr><td>1</td><td>2</td><td>3</td></tr>\n",
       "\t<tr><td>4</td><td>5</td><td>6</td></tr>\n",
       "</tbody>\n",
       "</table>\n"
      ],
      "text/latex": [
       "\\begin{tabular}{lll}\n",
       "\t 1 & 2 & 3\\\\\n",
       "\t 4 & 5 & 6\\\\\n",
       "\\end{tabular}\n"
      ],
      "text/markdown": [
       "\n",
       "| 1 | 2 | 3 |\n",
       "| 4 | 5 | 6 |\n",
       "\n"
      ],
      "text/plain": [
       "     [,1] [,2] [,3]\n",
       "[1,] 1    2    3   \n",
       "[2,] 4    5    6   "
      ]
     },
     "metadata": {},
     "output_type": "display_data"
    }
   ],
   "source": [
    "matrix()\n",
    "matrix(nrow=2, ncol=3)\n",
    "matrix(0, 2, 3)\n",
    "matrix(1:6, 2, 3)\n",
    "matrix(1:6, 2, 3, byrow=TRUE)"
   ]
  },
  {
   "cell_type": "code",
   "execution_count": 3,
   "metadata": {
    "scrolled": true
   },
   "outputs": [
    {
     "data": {
      "text/html": [
       "<table>\n",
       "<thead><tr><th></th><th scope=col>C1</th><th scope=col>C2</th><th scope=col>C3</th></tr></thead>\n",
       "<tbody>\n",
       "\t<tr><th scope=row>R1</th><td>1</td><td>3</td><td>5</td></tr>\n",
       "\t<tr><th scope=row>R2</th><td>2</td><td>4</td><td>6</td></tr>\n",
       "</tbody>\n",
       "</table>\n"
      ],
      "text/latex": [
       "\\begin{tabular}{r|lll}\n",
       "  & C1 & C2 & C3\\\\\n",
       "\\hline\n",
       "\tR1 & 1 & 3 & 5\\\\\n",
       "\tR2 & 2 & 4 & 6\\\\\n",
       "\\end{tabular}\n"
      ],
      "text/markdown": [
       "\n",
       "| <!--/--> | C1 | C2 | C3 |\n",
       "|---|---|---|---|\n",
       "| R1 | 1 | 3 | 5 |\n",
       "| R2 | 2 | 4 | 6 |\n",
       "\n"
      ],
      "text/plain": [
       "   C1 C2 C3\n",
       "R1 1  3  5 \n",
       "R2 2  4  6 "
      ]
     },
     "metadata": {},
     "output_type": "display_data"
    }
   ],
   "source": [
    "#row names and column names\n",
    "rnames <- c('R1', 'R2')\n",
    "cnames <- c('C1', 'C2', 'C3')\n",
    "matrix(1:6, nrow=2, dimnames=list(rnames, cnames))"
   ]
  },
  {
   "cell_type": "code",
   "execution_count": 4,
   "metadata": {
    "scrolled": true
   },
   "outputs": [
    {
     "data": {
      "text/html": [
       "<table>\n",
       "<thead><tr><th></th><th scope=col>c1</th><th scope=col>c2</th><th scope=col>c3</th></tr></thead>\n",
       "<tbody>\n",
       "\t<tr><th scope=row>r1</th><td>1</td><td>3</td><td>5</td></tr>\n",
       "\t<tr><th scope=row>r2</th><td>2</td><td>4</td><td>6</td></tr>\n",
       "</tbody>\n",
       "</table>\n"
      ],
      "text/latex": [
       "\\begin{tabular}{r|lll}\n",
       "  & c1 & c2 & c3\\\\\n",
       "\\hline\n",
       "\tr1 & 1 & 3 & 5\\\\\n",
       "\tr2 & 2 & 4 & 6\\\\\n",
       "\\end{tabular}\n"
      ],
      "text/markdown": [
       "\n",
       "| <!--/--> | c1 | c2 | c3 |\n",
       "|---|---|---|---|\n",
       "| r1 | 1 | 3 | 5 |\n",
       "| r2 | 2 | 4 | 6 |\n",
       "\n"
      ],
      "text/plain": [
       "   c1 c2 c3\n",
       "r1 1  3  5 \n",
       "r2 2  4  6 "
      ]
     },
     "metadata": {},
     "output_type": "display_data"
    }
   ],
   "source": [
    "#assign row names and column names\n",
    "x=matrix(1:6, nrow=2)\n",
    "rownames(x)=c('r1', 'r2')\n",
    "colnames(x)=c('c1', 'c2', 'c3')\n",
    "x"
   ]
  },
  {
   "cell_type": "code",
   "execution_count": 5,
   "metadata": {
    "scrolled": true
   },
   "outputs": [
    {
     "data": {
      "text/html": [
       "<ol class=list-inline>\n",
       "\t<li>1</li>\n",
       "\t<li>2</li>\n",
       "\t<li>3</li>\n",
       "\t<li>4</li>\n",
       "\t<li>5</li>\n",
       "\t<li>6</li>\n",
       "</ol>\n"
      ],
      "text/latex": [
       "\\begin{enumerate*}\n",
       "\\item 1\n",
       "\\item 2\n",
       "\\item 3\n",
       "\\item 4\n",
       "\\item 5\n",
       "\\item 6\n",
       "\\end{enumerate*}\n"
      ],
      "text/markdown": [
       "1. 1\n",
       "2. 2\n",
       "3. 3\n",
       "4. 4\n",
       "5. 5\n",
       "6. 6\n",
       "\n",
       "\n"
      ],
      "text/plain": [
       "[1] 1 2 3 4 5 6"
      ]
     },
     "metadata": {},
     "output_type": "display_data"
    },
    {
     "data": {
      "text/html": [
       "TRUE"
      ],
      "text/latex": [
       "TRUE"
      ],
      "text/markdown": [
       "TRUE"
      ],
      "text/plain": [
       "[1] TRUE"
      ]
     },
     "metadata": {},
     "output_type": "display_data"
    },
    {
     "data": {
      "text/html": [
       "<table>\n",
       "<tbody>\n",
       "\t<tr><td>1</td><td>4</td></tr>\n",
       "\t<tr><td>2</td><td>5</td></tr>\n",
       "\t<tr><td>3</td><td>6</td></tr>\n",
       "</tbody>\n",
       "</table>\n"
      ],
      "text/latex": [
       "\\begin{tabular}{ll}\n",
       "\t 1 & 4\\\\\n",
       "\t 2 & 5\\\\\n",
       "\t 3 & 6\\\\\n",
       "\\end{tabular}\n"
      ],
      "text/markdown": [
       "\n",
       "| 1 | 4 |\n",
       "| 2 | 5 |\n",
       "| 3 | 6 |\n",
       "\n"
      ],
      "text/plain": [
       "     [,1] [,2]\n",
       "[1,] 1    4   \n",
       "[2,] 2    5   \n",
       "[3,] 3    6   "
      ]
     },
     "metadata": {},
     "output_type": "display_data"
    }
   ],
   "source": [
    "#use dim() to create matrix from vector\n",
    "x <- 1:6   ##vector\n",
    "x\n",
    "dim(x) <- c(3, 2)  ##convert vector to matrix in place\n",
    "is.matrix(x)   \n",
    "x "
   ]
  },
  {
   "cell_type": "code",
   "execution_count": 6,
   "metadata": {
    "scrolled": true
   },
   "outputs": [
    {
     "data": {
      "text/html": [
       "<table>\n",
       "<tbody>\n",
       "\t<tr><td>1</td><td>2</td><td>3</td></tr>\n",
       "\t<tr><td>4</td><td>5</td><td>6</td></tr>\n",
       "</tbody>\n",
       "</table>\n"
      ],
      "text/latex": [
       "\\begin{tabular}{lll}\n",
       "\t 1 & 2 & 3\\\\\n",
       "\t 4 & 5 & 6\\\\\n",
       "\\end{tabular}\n"
      ],
      "text/markdown": [
       "\n",
       "| 1 | 2 | 3 |\n",
       "| 4 | 5 | 6 |\n",
       "\n"
      ],
      "text/plain": [
       "     [,1] [,2] [,3]\n",
       "[1,] 1    2    3   \n",
       "[2,] 4    5    6   "
      ]
     },
     "metadata": {},
     "output_type": "display_data"
    }
   ],
   "source": [
    "#Matrix Transpose\n",
    "?t\n",
    "t(x)"
   ]
  },
  {
   "cell_type": "code",
   "execution_count": 7,
   "metadata": {
    "scrolled": true
   },
   "outputs": [
    {
     "data": {
      "text/html": [
       "<table>\n",
       "<thead><tr><th></th><th scope=col>C1</th><th scope=col>C2</th><th scope=col>C3</th></tr></thead>\n",
       "<tbody>\n",
       "\t<tr><th scope=row>R1</th><td>1</td><td>3</td><td>5</td></tr>\n",
       "\t<tr><th scope=row>R2</th><td>2</td><td>4</td><td>6</td></tr>\n",
       "</tbody>\n",
       "</table>\n"
      ],
      "text/latex": [
       "\\begin{tabular}{r|lll}\n",
       "  & C1 & C2 & C3\\\\\n",
       "\\hline\n",
       "\tR1 & 1 & 3 & 5\\\\\n",
       "\tR2 & 2 & 4 & 6\\\\\n",
       "\\end{tabular}\n"
      ],
      "text/markdown": [
       "\n",
       "| <!--/--> | C1 | C2 | C3 |\n",
       "|---|---|---|---|\n",
       "| R1 | 1 | 3 | 5 |\n",
       "| R2 | 2 | 4 | 6 |\n",
       "\n"
      ],
      "text/plain": [
       "   C1 C2 C3\n",
       "R1 1  3  5 \n",
       "R2 2  4  6 "
      ]
     },
     "metadata": {},
     "output_type": "display_data"
    },
    {
     "data": {
      "text/html": [
       "'matrix'"
      ],
      "text/latex": [
       "'matrix'"
      ],
      "text/markdown": [
       "'matrix'"
      ],
      "text/plain": [
       "[1] \"matrix\""
      ]
     },
     "metadata": {},
     "output_type": "display_data"
    },
    {
     "data": {
      "text/html": [
       "'integer'"
      ],
      "text/latex": [
       "'integer'"
      ],
      "text/markdown": [
       "'integer'"
      ],
      "text/plain": [
       "[1] \"integer\""
      ]
     },
     "metadata": {},
     "output_type": "display_data"
    },
    {
     "data": {
      "text/html": [
       "<ol class=list-inline>\n",
       "\t<li>2</li>\n",
       "\t<li>3</li>\n",
       "</ol>\n"
      ],
      "text/latex": [
       "\\begin{enumerate*}\n",
       "\\item 2\n",
       "\\item 3\n",
       "\\end{enumerate*}\n"
      ],
      "text/markdown": [
       "1. 2\n",
       "2. 3\n",
       "\n",
       "\n"
      ],
      "text/plain": [
       "[1] 2 3"
      ]
     },
     "metadata": {},
     "output_type": "display_data"
    },
    {
     "data": {
      "text/html": [
       "6"
      ],
      "text/latex": [
       "6"
      ],
      "text/markdown": [
       "6"
      ],
      "text/plain": [
       "[1] 6"
      ]
     },
     "metadata": {},
     "output_type": "display_data"
    },
    {
     "data": {
      "text/html": [
       "<ol class=list-inline>\n",
       "\t<li>'R1'</li>\n",
       "\t<li>'R2'</li>\n",
       "</ol>\n"
      ],
      "text/latex": [
       "\\begin{enumerate*}\n",
       "\\item 'R1'\n",
       "\\item 'R2'\n",
       "\\end{enumerate*}\n"
      ],
      "text/markdown": [
       "1. 'R1'\n",
       "2. 'R2'\n",
       "\n",
       "\n"
      ],
      "text/plain": [
       "[1] \"R1\" \"R2\""
      ]
     },
     "metadata": {},
     "output_type": "display_data"
    },
    {
     "data": {
      "text/html": [
       "<ol class=list-inline>\n",
       "\t<li>'C1'</li>\n",
       "\t<li>'C2'</li>\n",
       "\t<li>'C3'</li>\n",
       "</ol>\n"
      ],
      "text/latex": [
       "\\begin{enumerate*}\n",
       "\\item 'C1'\n",
       "\\item 'C2'\n",
       "\\item 'C3'\n",
       "\\end{enumerate*}\n"
      ],
      "text/markdown": [
       "1. 'C1'\n",
       "2. 'C2'\n",
       "3. 'C3'\n",
       "\n",
       "\n"
      ],
      "text/plain": [
       "[1] \"C1\" \"C2\" \"C3\""
      ]
     },
     "metadata": {},
     "output_type": "display_data"
    }
   ],
   "source": [
    "#matrix attributes\n",
    "rnames <- c('R1', 'R2')\n",
    "cnames <- c('C1', 'C2', 'C3')\n",
    "x=matrix(1:6, nrow=2, dimnames=list(rnames, cnames))\n",
    "x\n",
    "class(x)  ##data structure type\n",
    "typeof(x)  ##element data type\n",
    "dim(x)  ##dimension\n",
    "length(x)  ##total number of elements\n",
    "rownames(x)  ##get row names\n",
    "colnames(x)  ##get column names"
   ]
  },
  {
   "cell_type": "code",
   "execution_count": 8,
   "metadata": {
    "scrolled": false
   },
   "outputs": [
    {
     "data": {
      "text/html": [
       "<table>\n",
       "<tbody>\n",
       "\t<tr><td>71 </td><td>172</td></tr>\n",
       "\t<tr><td>73 </td><td>169</td></tr>\n",
       "\t<tr><td>69 </td><td>160</td></tr>\n",
       "\t<tr><td>65 </td><td>130</td></tr>\n",
       "</tbody>\n",
       "</table>\n"
      ],
      "text/latex": [
       "\\begin{tabular}{ll}\n",
       "\t 71  & 172\\\\\n",
       "\t 73  & 169\\\\\n",
       "\t 69  & 160\\\\\n",
       "\t 65  & 130\\\\\n",
       "\\end{tabular}\n"
      ],
      "text/markdown": [
       "\n",
       "| 71  | 172 |\n",
       "| 73  | 169 |\n",
       "| 69  | 160 |\n",
       "| 65  | 130 |\n",
       "\n"
      ],
      "text/plain": [
       "     [,1] [,2]\n",
       "[1,] 71   172 \n",
       "[2,] 73   169 \n",
       "[3,] 69   160 \n",
       "[4,] 65   130 "
      ]
     },
     "metadata": {},
     "output_type": "display_data"
    },
    {
     "data": {
      "text/html": [
       "<table>\n",
       "<tbody>\n",
       "\t<tr><td>71 </td><td>172</td></tr>\n",
       "\t<tr><td>73 </td><td>169</td></tr>\n",
       "\t<tr><td>69 </td><td>160</td></tr>\n",
       "\t<tr><td>65 </td><td>130</td></tr>\n",
       "</tbody>\n",
       "</table>\n"
      ],
      "text/latex": [
       "\\begin{tabular}{ll}\n",
       "\t 71  & 172\\\\\n",
       "\t 73  & 169\\\\\n",
       "\t 69  & 160\\\\\n",
       "\t 65  & 130\\\\\n",
       "\\end{tabular}\n"
      ],
      "text/markdown": [
       "\n",
       "| 71  | 172 |\n",
       "| 73  | 169 |\n",
       "| 69  | 160 |\n",
       "| 65  | 130 |\n",
       "\n"
      ],
      "text/plain": [
       "     [,1] [,2]\n",
       "[1,] 71   172 \n",
       "[2,] 73   169 \n",
       "[3,] 69   160 \n",
       "[4,] 65   130 "
      ]
     },
     "metadata": {},
     "output_type": "display_data"
    }
   ],
   "source": [
    "#bind vectors into matrix\n",
    "rbind(c(71,172),c(73,169),c(69,160),c(65,130))\n",
    "cbind(c(71,73,69,65),c(172,169,160,130))"
   ]
  },
  {
   "cell_type": "code",
   "execution_count": 9,
   "metadata": {
    "scrolled": false
   },
   "outputs": [
    {
     "data": {
      "text/html": [
       "<table>\n",
       "<thead><tr><th></th><th scope=col>C1</th><th scope=col>C2</th><th scope=col>C3</th></tr></thead>\n",
       "<tbody>\n",
       "\t<tr><th scope=row>R1</th><td>1</td><td>3</td><td>5</td></tr>\n",
       "\t<tr><th scope=row>R2</th><td>2</td><td>4</td><td>6</td></tr>\n",
       "</tbody>\n",
       "</table>\n"
      ],
      "text/latex": [
       "\\begin{tabular}{r|lll}\n",
       "  & C1 & C2 & C3\\\\\n",
       "\\hline\n",
       "\tR1 & 1 & 3 & 5\\\\\n",
       "\tR2 & 2 & 4 & 6\\\\\n",
       "\\end{tabular}\n"
      ],
      "text/markdown": [
       "\n",
       "| <!--/--> | C1 | C2 | C3 |\n",
       "|---|---|---|---|\n",
       "| R1 | 1 | 3 | 5 |\n",
       "| R2 | 2 | 4 | 6 |\n",
       "\n"
      ],
      "text/plain": [
       "   C1 C2 C3\n",
       "R1 1  3  5 \n",
       "R2 2  4  6 "
      ]
     },
     "metadata": {},
     "output_type": "display_data"
    },
    {
     "data": {
      "text/html": [
       "<dl class=dl-horizontal>\n",
       "\t<dt>R1</dt>\n",
       "\t\t<dd>3</dd>\n",
       "\t<dt>R2</dt>\n",
       "\t\t<dd>4</dd>\n",
       "</dl>\n"
      ],
      "text/latex": [
       "\\begin{description*}\n",
       "\\item[R1] 3\n",
       "\\item[R2] 4\n",
       "\\end{description*}\n"
      ],
      "text/markdown": [
       "R1\n",
       ":   3R2\n",
       ":   4\n",
       "\n"
      ],
      "text/plain": [
       "R1 R2 \n",
       " 3  4 "
      ]
     },
     "metadata": {},
     "output_type": "display_data"
    },
    {
     "data": {
      "text/html": [
       "<dl class=dl-horizontal>\n",
       "\t<dt>C1</dt>\n",
       "\t\t<dd>2</dd>\n",
       "\t<dt>C2</dt>\n",
       "\t\t<dd>4</dd>\n",
       "\t<dt>C3</dt>\n",
       "\t\t<dd>6</dd>\n",
       "</dl>\n"
      ],
      "text/latex": [
       "\\begin{description*}\n",
       "\\item[C1] 2\n",
       "\\item[C2] 4\n",
       "\\item[C3] 6\n",
       "\\end{description*}\n"
      ],
      "text/markdown": [
       "C1\n",
       ":   2C2\n",
       ":   4C3\n",
       ":   6\n",
       "\n"
      ],
      "text/plain": [
       "C1 C2 C3 \n",
       " 2  4  6 "
      ]
     },
     "metadata": {},
     "output_type": "display_data"
    },
    {
     "data": {
      "text/html": [
       "4"
      ],
      "text/latex": [
       "4"
      ],
      "text/markdown": [
       "4"
      ],
      "text/plain": [
       "[1] 4"
      ]
     },
     "metadata": {},
     "output_type": "display_data"
    }
   ],
   "source": [
    "#access elements in matrix\n",
    "x\n",
    "x[,2]\n",
    "x[2,]\n",
    "x[2,2]"
   ]
  },
  {
   "cell_type": "code",
   "execution_count": 10,
   "metadata": {},
   "outputs": [
    {
     "data": {
      "text/html": [
       "'integer'"
      ],
      "text/latex": [
       "'integer'"
      ],
      "text/markdown": [
       "'integer'"
      ],
      "text/plain": [
       "[1] \"integer\""
      ]
     },
     "metadata": {},
     "output_type": "display_data"
    },
    {
     "data": {
      "text/html": [
       "'integer'"
      ],
      "text/latex": [
       "'integer'"
      ],
      "text/markdown": [
       "'integer'"
      ],
      "text/plain": [
       "[1] \"integer\""
      ]
     },
     "metadata": {},
     "output_type": "display_data"
    },
    {
     "data": {
      "text/html": [
       "<strong>C1:</strong> 2"
      ],
      "text/latex": [
       "\\textbf{C1:} 2"
      ],
      "text/markdown": [
       "**C1:** 2"
      ],
      "text/plain": [
       "C1 \n",
       " 2 "
      ]
     },
     "metadata": {},
     "output_type": "display_data"
    }
   ],
   "source": [
    "typeof(x[2,])\n",
    "class(x[2,])\n",
    "x[2,][1]"
   ]
  },
  {
   "cell_type": "code",
   "execution_count": 11,
   "metadata": {
    "scrolled": true
   },
   "outputs": [
    {
     "data": {
      "text/html": [
       "<table>\n",
       "<thead><tr><th></th><th scope=col>C1</th><th scope=col>C2</th></tr></thead>\n",
       "<tbody>\n",
       "\t<tr><th scope=row>R1</th><td>1</td><td>3</td></tr>\n",
       "\t<tr><th scope=row>R2</th><td>2</td><td>4</td></tr>\n",
       "</tbody>\n",
       "</table>\n"
      ],
      "text/latex": [
       "\\begin{tabular}{r|ll}\n",
       "  & C1 & C2\\\\\n",
       "\\hline\n",
       "\tR1 & 1 & 3\\\\\n",
       "\tR2 & 2 & 4\\\\\n",
       "\\end{tabular}\n"
      ],
      "text/markdown": [
       "\n",
       "| <!--/--> | C1 | C2 |\n",
       "|---|---|---|\n",
       "| R1 | 1 | 3 |\n",
       "| R2 | 2 | 4 |\n",
       "\n"
      ],
      "text/plain": [
       "   C1 C2\n",
       "R1 1  3 \n",
       "R2 2  4 "
      ]
     },
     "metadata": {},
     "output_type": "display_data"
    },
    {
     "data": {
      "text/html": [
       "<table>\n",
       "<thead><tr><th></th><th scope=col>C1</th><th scope=col>C2</th><th scope=col>C3</th></tr></thead>\n",
       "<tbody>\n",
       "\t<tr><th scope=row>R1</th><td>1</td><td>3</td><td>5</td></tr>\n",
       "\t<tr><th scope=row>R2</th><td>2</td><td>4</td><td>6</td></tr>\n",
       "</tbody>\n",
       "</table>\n"
      ],
      "text/latex": [
       "\\begin{tabular}{r|lll}\n",
       "  & C1 & C2 & C3\\\\\n",
       "\\hline\n",
       "\tR1 & 1 & 3 & 5\\\\\n",
       "\tR2 & 2 & 4 & 6\\\\\n",
       "\\end{tabular}\n"
      ],
      "text/markdown": [
       "\n",
       "| <!--/--> | C1 | C2 | C3 |\n",
       "|---|---|---|---|\n",
       "| R1 | 1 | 3 | 5 |\n",
       "| R2 | 2 | 4 | 6 |\n",
       "\n"
      ],
      "text/plain": [
       "   C1 C2 C3\n",
       "R1 1  3  5 \n",
       "R2 2  4  6 "
      ]
     },
     "metadata": {},
     "output_type": "display_data"
    }
   ],
   "source": [
    "x[,c(1,2)]\n",
    "x[c(1,2),]"
   ]
  },
  {
   "cell_type": "code",
   "execution_count": 12,
   "metadata": {
    "scrolled": true
   },
   "outputs": [
    {
     "data": {
      "text/html": [
       "<table>\n",
       "<thead><tr><th></th><th scope=col>C2</th><th scope=col>C3</th></tr></thead>\n",
       "<tbody>\n",
       "\t<tr><th scope=row>R1</th><td>3</td><td>5</td></tr>\n",
       "\t<tr><th scope=row>R2</th><td>4</td><td>6</td></tr>\n",
       "</tbody>\n",
       "</table>\n"
      ],
      "text/latex": [
       "\\begin{tabular}{r|ll}\n",
       "  & C2 & C3\\\\\n",
       "\\hline\n",
       "\tR1 & 3 & 5\\\\\n",
       "\tR2 & 4 & 6\\\\\n",
       "\\end{tabular}\n"
      ],
      "text/markdown": [
       "\n",
       "| <!--/--> | C2 | C3 |\n",
       "|---|---|---|\n",
       "| R1 | 3 | 5 |\n",
       "| R2 | 4 | 6 |\n",
       "\n"
      ],
      "text/plain": [
       "   C2 C3\n",
       "R1 3  5 \n",
       "R2 4  6 "
      ]
     },
     "metadata": {},
     "output_type": "display_data"
    },
    {
     "data": {
      "text/html": [
       "<dl class=dl-horizontal>\n",
       "\t<dt>C2</dt>\n",
       "\t\t<dd>3</dd>\n",
       "\t<dt>C3</dt>\n",
       "\t\t<dd>5</dd>\n",
       "</dl>\n"
      ],
      "text/latex": [
       "\\begin{description*}\n",
       "\\item[C2] 3\n",
       "\\item[C3] 5\n",
       "\\end{description*}\n"
      ],
      "text/markdown": [
       "C2\n",
       ":   3C3\n",
       ":   5\n",
       "\n"
      ],
      "text/plain": [
       "C2 C3 \n",
       " 3  5 "
      ]
     },
     "metadata": {},
     "output_type": "display_data"
    }
   ],
   "source": [
    "x[,c(2:3)]\n",
    "x[1,c(2:3)]"
   ]
  },
  {
   "cell_type": "code",
   "execution_count": 13,
   "metadata": {},
   "outputs": [
    {
     "data": {
      "text/html": [
       "<dl class=dl-horizontal>\n",
       "\t<dt>R1</dt>\n",
       "\t\t<dd>1</dd>\n",
       "\t<dt>R2</dt>\n",
       "\t\t<dd>2</dd>\n",
       "</dl>\n"
      ],
      "text/latex": [
       "\\begin{description*}\n",
       "\\item[R1] 1\n",
       "\\item[R2] 2\n",
       "\\end{description*}\n"
      ],
      "text/markdown": [
       "R1\n",
       ":   1R2\n",
       ":   2\n",
       "\n"
      ],
      "text/plain": [
       "R1 R2 \n",
       " 1  2 "
      ]
     },
     "metadata": {},
     "output_type": "display_data"
    }
   ],
   "source": [
    "x[,-c(2:3)] #exclude"
   ]
  },
  {
   "cell_type": "code",
   "execution_count": 14,
   "metadata": {
    "scrolled": false
   },
   "outputs": [
    {
     "data": {
      "text/html": [
       "<table>\n",
       "<tbody>\n",
       "\t<tr><td>71 </td><td>172</td></tr>\n",
       "\t<tr><td>73 </td><td> 73</td></tr>\n",
       "\t<tr><td>69 </td><td>160</td></tr>\n",
       "\t<tr><td>65 </td><td>130</td></tr>\n",
       "</tbody>\n",
       "</table>\n"
      ],
      "text/latex": [
       "\\begin{tabular}{ll}\n",
       "\t 71  & 172\\\\\n",
       "\t 73  &  73\\\\\n",
       "\t 69  & 160\\\\\n",
       "\t 65  & 130\\\\\n",
       "\\end{tabular}\n"
      ],
      "text/markdown": [
       "\n",
       "| 71  | 172 |\n",
       "| 73  |  73 |\n",
       "| 69  | 160 |\n",
       "| 65  | 130 |\n",
       "\n"
      ],
      "text/plain": [
       "     [,1] [,2]\n",
       "[1,] 71   172 \n",
       "[2,] 73    73 \n",
       "[3,] 69   160 \n",
       "[4,] 65   130 "
      ]
     },
     "metadata": {},
     "output_type": "display_data"
    },
    {
     "name": "stderr",
     "output_type": "stream",
     "text": [
      "Warning message in cbind(c(71, 73, 65), c(172, 169, 160, 130)):\n",
      "\"number of rows of result is not a multiple of vector length (arg 1)\""
     ]
    },
    {
     "data": {
      "text/html": [
       "<table>\n",
       "<tbody>\n",
       "\t<tr><td>71 </td><td>172</td></tr>\n",
       "\t<tr><td>73 </td><td>169</td></tr>\n",
       "\t<tr><td>65 </td><td>160</td></tr>\n",
       "\t<tr><td>71 </td><td>130</td></tr>\n",
       "</tbody>\n",
       "</table>\n"
      ],
      "text/latex": [
       "\\begin{tabular}{ll}\n",
       "\t 71  & 172\\\\\n",
       "\t 73  & 169\\\\\n",
       "\t 65  & 160\\\\\n",
       "\t 71  & 130\\\\\n",
       "\\end{tabular}\n"
      ],
      "text/markdown": [
       "\n",
       "| 71  | 172 |\n",
       "| 73  | 169 |\n",
       "| 65  | 160 |\n",
       "| 71  | 130 |\n",
       "\n"
      ],
      "text/plain": [
       "     [,1] [,2]\n",
       "[1,] 71   172 \n",
       "[2,] 73   169 \n",
       "[3,] 65   160 \n",
       "[4,] 71   130 "
      ]
     },
     "metadata": {},
     "output_type": "display_data"
    },
    {
     "name": "stderr",
     "output_type": "stream",
     "text": [
      "Warning message in cbind(c(71, 73, 69, 65), c(172, 169, 130)):\n",
      "\"number of rows of result is not a multiple of vector length (arg 2)\""
     ]
    },
    {
     "data": {
      "text/html": [
       "<table>\n",
       "<tbody>\n",
       "\t<tr><td>71 </td><td>172</td></tr>\n",
       "\t<tr><td>73 </td><td>169</td></tr>\n",
       "\t<tr><td>69 </td><td>130</td></tr>\n",
       "\t<tr><td>65 </td><td>172</td></tr>\n",
       "</tbody>\n",
       "</table>\n"
      ],
      "text/latex": [
       "\\begin{tabular}{ll}\n",
       "\t 71  & 172\\\\\n",
       "\t 73  & 169\\\\\n",
       "\t 69  & 130\\\\\n",
       "\t 65  & 172\\\\\n",
       "\\end{tabular}\n"
      ],
      "text/markdown": [
       "\n",
       "| 71  | 172 |\n",
       "| 73  | 169 |\n",
       "| 69  | 130 |\n",
       "| 65  | 172 |\n",
       "\n"
      ],
      "text/plain": [
       "     [,1] [,2]\n",
       "[1,] 71   172 \n",
       "[2,] 73   169 \n",
       "[3,] 69   130 \n",
       "[4,] 65   172 "
      ]
     },
     "metadata": {},
     "output_type": "display_data"
    }
   ],
   "source": [
    "# how does R deal with incomplete data. Cyclically reuse the vector.\n",
    "x=rbind(c(71,172),c(73),c(69,160),c(65,130)); x\n",
    "y=cbind(c(71,73,65),c(172,169,160,130)); y\n",
    "y=cbind(c(71,73,69,65),c(172,169,130)); y"
   ]
  },
  {
   "cell_type": "code",
   "execution_count": 15,
   "metadata": {
    "scrolled": true
   },
   "outputs": [
    {
     "name": "stderr",
     "output_type": "stream",
     "text": [
      "Warning message in matrix(1:6, 2, 5):\n",
      "\"data length [6] is not a sub-multiple or multiple of the number of columns [5]\""
     ]
    },
    {
     "data": {
      "text/html": [
       "<table>\n",
       "<tbody>\n",
       "\t<tr><td>1</td><td>3</td><td>5</td><td>1</td><td>3</td></tr>\n",
       "\t<tr><td>2</td><td>4</td><td>6</td><td>2</td><td>4</td></tr>\n",
       "</tbody>\n",
       "</table>\n"
      ],
      "text/latex": [
       "\\begin{tabular}{lllll}\n",
       "\t 1 & 3 & 5 & 1 & 3\\\\\n",
       "\t 2 & 4 & 6 & 2 & 4\\\\\n",
       "\\end{tabular}\n"
      ],
      "text/markdown": [
       "\n",
       "| 1 | 3 | 5 | 1 | 3 |\n",
       "| 2 | 4 | 6 | 2 | 4 |\n",
       "\n"
      ],
      "text/plain": [
       "     [,1] [,2] [,3] [,4] [,5]\n",
       "[1,] 1    3    5    1    3   \n",
       "[2,] 2    4    6    2    4   "
      ]
     },
     "metadata": {},
     "output_type": "display_data"
    },
    {
     "name": "stderr",
     "output_type": "stream",
     "text": [
      "Warning message in matrix(1:6, 2, 5, byrow = T):\n",
      "\"data length [6] is not a sub-multiple or multiple of the number of columns [5]\""
     ]
    },
    {
     "data": {
      "text/html": [
       "<table>\n",
       "<tbody>\n",
       "\t<tr><td>1</td><td>2</td><td>3</td><td>4</td><td>5</td></tr>\n",
       "\t<tr><td>6</td><td>1</td><td>2</td><td>3</td><td>4</td></tr>\n",
       "</tbody>\n",
       "</table>\n"
      ],
      "text/latex": [
       "\\begin{tabular}{lllll}\n",
       "\t 1 & 2 & 3 & 4 & 5\\\\\n",
       "\t 6 & 1 & 2 & 3 & 4\\\\\n",
       "\\end{tabular}\n"
      ],
      "text/markdown": [
       "\n",
       "| 1 | 2 | 3 | 4 | 5 |\n",
       "| 6 | 1 | 2 | 3 | 4 |\n",
       "\n"
      ],
      "text/plain": [
       "     [,1] [,2] [,3] [,4] [,5]\n",
       "[1,] 1    2    3    4    5   \n",
       "[2,] 6    1    2    3    4   "
      ]
     },
     "metadata": {},
     "output_type": "display_data"
    }
   ],
   "source": [
    "# how does R deal with incomplete data. Cyclically reuse the vector.\n",
    "z=matrix(1:6,2,5); z\n",
    "z=matrix(1:6,2,5, byrow=T); z"
   ]
  },
  {
   "cell_type": "code",
   "execution_count": 16,
   "metadata": {
    "scrolled": false
   },
   "outputs": [
    {
     "data": {
      "text/html": [
       "<ol class=list-inline>\n",
       "\t<li>1</li>\n",
       "\t<li>2</li>\n",
       "\t<li>3</li>\n",
       "\t<li>4</li>\n",
       "\t<li>5</li>\n",
       "\t<li>6</li>\n",
       "</ol>\n"
      ],
      "text/latex": [
       "\\begin{enumerate*}\n",
       "\\item 1\n",
       "\\item 2\n",
       "\\item 3\n",
       "\\item 4\n",
       "\\item 5\n",
       "\\item 6\n",
       "\\end{enumerate*}\n"
      ],
      "text/markdown": [
       "1. 1\n",
       "2. 2\n",
       "3. 3\n",
       "4. 4\n",
       "5. 5\n",
       "6. 6\n",
       "\n",
       "\n"
      ],
      "text/plain": [
       "[1] 1 2 3 4 5 6"
      ]
     },
     "metadata": {},
     "output_type": "display_data"
    },
    {
     "data": {
      "text/html": [
       "1"
      ],
      "text/latex": [
       "1"
      ],
      "text/markdown": [
       "1"
      ],
      "text/plain": [
       "[1] 1"
      ]
     },
     "metadata": {},
     "output_type": "display_data"
    },
    {
     "data": {
      "text/html": [
       "2"
      ],
      "text/latex": [
       "2"
      ],
      "text/markdown": [
       "2"
      ],
      "text/plain": [
       "[1] 2"
      ]
     },
     "metadata": {},
     "output_type": "display_data"
    },
    {
     "data": {
      "text/html": [],
      "text/latex": [],
      "text/markdown": [],
      "text/plain": [
       "numeric(0)"
      ]
     },
     "metadata": {},
     "output_type": "display_data"
    },
    {
     "name": "stdout",
     "output_type": "stream",
     "text": [
      "numeric(0)\n"
     ]
    },
    {
     "data": {
      "text/html": [
       "<ol class=list-inline>\n",
       "\t<li>2</li>\n",
       "\t<li>3</li>\n",
       "</ol>\n"
      ],
      "text/latex": [
       "\\begin{enumerate*}\n",
       "\\item 2\n",
       "\\item 3\n",
       "\\end{enumerate*}\n"
      ],
      "text/markdown": [
       "1. 2\n",
       "2. 3\n",
       "\n",
       "\n"
      ],
      "text/plain": [
       "[1] 2 3"
      ]
     },
     "metadata": {},
     "output_type": "display_data"
    },
    {
     "data": {
      "text/html": [
       "<ol class=list-inline>\n",
       "\t<li>1</li>\n",
       "\t<li>3</li>\n",
       "\t<li>4</li>\n",
       "\t<li>5</li>\n",
       "\t<li>6</li>\n",
       "</ol>\n"
      ],
      "text/latex": [
       "\\begin{enumerate*}\n",
       "\\item 1\n",
       "\\item 3\n",
       "\\item 4\n",
       "\\item 5\n",
       "\\item 6\n",
       "\\end{enumerate*}\n"
      ],
      "text/markdown": [
       "1. 1\n",
       "2. 3\n",
       "3. 4\n",
       "4. 5\n",
       "5. 6\n",
       "\n",
       "\n"
      ],
      "text/plain": [
       "[1] 1 3 4 5 6"
      ]
     },
     "metadata": {},
     "output_type": "display_data"
    },
    {
     "data": {
      "text/html": [
       "<ol class=list-inline>\n",
       "\t<li>3</li>\n",
       "\t<li>5</li>\n",
       "\t<li>6</li>\n",
       "</ol>\n"
      ],
      "text/latex": [
       "\\begin{enumerate*}\n",
       "\\item 3\n",
       "\\item 5\n",
       "\\item 6\n",
       "\\end{enumerate*}\n"
      ],
      "text/markdown": [
       "1. 3\n",
       "2. 5\n",
       "3. 6\n",
       "\n",
       "\n"
      ],
      "text/plain": [
       "[1] 3 5 6"
      ]
     },
     "metadata": {},
     "output_type": "display_data"
    },
    {
     "data": {
      "text/html": [
       "<ol class=list-inline>\n",
       "\t<li>3</li>\n",
       "\t<li>5</li>\n",
       "\t<li>6</li>\n",
       "\t<li>&lt;NA&gt;</li>\n",
       "</ol>\n"
      ],
      "text/latex": [
       "\\begin{enumerate*}\n",
       "\\item 3\n",
       "\\item 5\n",
       "\\item 6\n",
       "\\item <NA>\n",
       "\\end{enumerate*}\n"
      ],
      "text/markdown": [
       "1. 3\n",
       "2. 5\n",
       "3. 6\n",
       "4. &lt;NA&gt;\n",
       "\n",
       "\n"
      ],
      "text/plain": [
       "[1]  3  5  6 NA"
      ]
     },
     "metadata": {},
     "output_type": "display_data"
    }
   ],
   "source": [
    "x=c(1,2,3,4,5,6);x\n",
    "x[1] #index starts from 1\n",
    "x[2]\n",
    "x[0] # it is always integer(0) or numeric(0)\n",
    "print(x[0])\n",
    "x[2:3] #slicing\n",
    "x[-2] #drop\n",
    "x[c(3,5,6)]\n",
    "x[c(3,5,6,8)] #when index is out of range"
   ]
  },
  {
   "cell_type": "code",
   "execution_count": 17,
   "metadata": {
    "scrolled": true
   },
   "outputs": [
    {
     "data": {
      "text/html": [
       "<ol class=list-inline>\n",
       "\t<li>4</li>\n",
       "\t<li>5</li>\n",
       "\t<li>6</li>\n",
       "</ol>\n"
      ],
      "text/latex": [
       "\\begin{enumerate*}\n",
       "\\item 4\n",
       "\\item 5\n",
       "\\item 6\n",
       "\\end{enumerate*}\n"
      ],
      "text/markdown": [
       "1. 4\n",
       "2. 5\n",
       "3. 6\n",
       "\n",
       "\n"
      ],
      "text/plain": [
       "[1] 4 5 6"
      ]
     },
     "metadata": {},
     "output_type": "display_data"
    },
    {
     "data": {
      "text/html": [
       "<ol class=list-inline>\n",
       "\t<li>1</li>\n",
       "\t<li>4</li>\n",
       "\t<li>5</li>\n",
       "\t<li>6</li>\n",
       "</ol>\n"
      ],
      "text/latex": [
       "\\begin{enumerate*}\n",
       "\\item 1\n",
       "\\item 4\n",
       "\\item 5\n",
       "\\item 6\n",
       "\\end{enumerate*}\n"
      ],
      "text/markdown": [
       "1. 1\n",
       "2. 4\n",
       "3. 5\n",
       "4. 6\n",
       "\n",
       "\n"
      ],
      "text/plain": [
       "[1] 1 4 5 6"
      ]
     },
     "metadata": {},
     "output_type": "display_data"
    },
    {
     "data": {
      "text/html": [
       "<ol class=list-inline>\n",
       "\t<li>4</li>\n",
       "\t<li>5</li>\n",
       "\t<li>6</li>\n",
       "</ol>\n"
      ],
      "text/latex": [
       "\\begin{enumerate*}\n",
       "\\item 4\n",
       "\\item 5\n",
       "\\item 6\n",
       "\\end{enumerate*}\n"
      ],
      "text/markdown": [
       "1. 4\n",
       "2. 5\n",
       "3. 6\n",
       "\n",
       "\n"
      ],
      "text/plain": [
       "[1] 4 5 6"
      ]
     },
     "metadata": {},
     "output_type": "display_data"
    },
    {
     "data": {
      "text/html": [
       "<ol class=list-inline>\n",
       "\t<li>1</li>\n",
       "\t<li>4</li>\n",
       "\t<li>5</li>\n",
       "\t<li>6</li>\n",
       "</ol>\n"
      ],
      "text/latex": [
       "\\begin{enumerate*}\n",
       "\\item 1\n",
       "\\item 4\n",
       "\\item 5\n",
       "\\item 6\n",
       "\\end{enumerate*}\n"
      ],
      "text/markdown": [
       "1. 1\n",
       "2. 4\n",
       "3. 5\n",
       "4. 6\n",
       "\n",
       "\n"
      ],
      "text/plain": [
       "[1] 1 4 5 6"
      ]
     },
     "metadata": {},
     "output_type": "display_data"
    },
    {
     "data": {
      "text/html": [
       "6"
      ],
      "text/latex": [
       "6"
      ],
      "text/markdown": [
       "6"
      ],
      "text/plain": [
       "[1] 6"
      ]
     },
     "metadata": {},
     "output_type": "display_data"
    },
    {
     "data": {
      "text/html": [
       "2"
      ],
      "text/latex": [
       "2"
      ],
      "text/markdown": [
       "2"
      ],
      "text/plain": [
       "[1] 2"
      ]
     },
     "metadata": {},
     "output_type": "display_data"
    }
   ],
   "source": [
    "#filtering\n",
    "x[x>3]\n",
    "x[x<2 | x>3]\n",
    "which(x>3)  #return indices\n",
    "which(x<2 | x>3)\n",
    "which.max(x)\n",
    "y=c(2,3,3,2)\n",
    "which.max(y)\n",
    "?which.max"
   ]
  },
  {
   "cell_type": "code",
   "execution_count": 18,
   "metadata": {
    "scrolled": false
   },
   "outputs": [
    {
     "data": {
      "text/html": [
       "<ol class=list-inline>\n",
       "\t<li>1</li>\n",
       "\t<li>2</li>\n",
       "\t<li>3</li>\n",
       "\t<li>4</li>\n",
       "\t<li>5</li>\n",
       "\t<li>6</li>\n",
       "</ol>\n"
      ],
      "text/latex": [
       "\\begin{enumerate*}\n",
       "\\item 1\n",
       "\\item 2\n",
       "\\item 3\n",
       "\\item 4\n",
       "\\item 5\n",
       "\\item 6\n",
       "\\end{enumerate*}\n"
      ],
      "text/markdown": [
       "1. 1\n",
       "2. 2\n",
       "3. 3\n",
       "4. 4\n",
       "5. 5\n",
       "6. 6\n",
       "\n",
       "\n"
      ],
      "text/plain": [
       "[1] 1 2 3 4 5 6"
      ]
     },
     "metadata": {},
     "output_type": "display_data"
    },
    {
     "data": {
      "text/html": [
       "<ol class=list-inline>\n",
       "\t<li>FALSE</li>\n",
       "\t<li>FALSE</li>\n",
       "\t<li>FALSE</li>\n",
       "\t<li>TRUE</li>\n",
       "\t<li>TRUE</li>\n",
       "\t<li>TRUE</li>\n",
       "</ol>\n"
      ],
      "text/latex": [
       "\\begin{enumerate*}\n",
       "\\item FALSE\n",
       "\\item FALSE\n",
       "\\item FALSE\n",
       "\\item TRUE\n",
       "\\item TRUE\n",
       "\\item TRUE\n",
       "\\end{enumerate*}\n"
      ],
      "text/markdown": [
       "1. FALSE\n",
       "2. FALSE\n",
       "3. FALSE\n",
       "4. TRUE\n",
       "5. TRUE\n",
       "6. TRUE\n",
       "\n",
       "\n"
      ],
      "text/plain": [
       "[1] FALSE FALSE FALSE  TRUE  TRUE  TRUE"
      ]
     },
     "metadata": {},
     "output_type": "display_data"
    },
    {
     "data": {
      "text/html": [
       "<ol class=list-inline>\n",
       "\t<li>TRUE</li>\n",
       "\t<li>FALSE</li>\n",
       "\t<li>FALSE</li>\n",
       "\t<li>TRUE</li>\n",
       "\t<li>TRUE</li>\n",
       "\t<li>TRUE</li>\n",
       "</ol>\n"
      ],
      "text/latex": [
       "\\begin{enumerate*}\n",
       "\\item TRUE\n",
       "\\item FALSE\n",
       "\\item FALSE\n",
       "\\item TRUE\n",
       "\\item TRUE\n",
       "\\item TRUE\n",
       "\\end{enumerate*}\n"
      ],
      "text/markdown": [
       "1. TRUE\n",
       "2. FALSE\n",
       "3. FALSE\n",
       "4. TRUE\n",
       "5. TRUE\n",
       "6. TRUE\n",
       "\n",
       "\n"
      ],
      "text/plain": [
       "[1]  TRUE FALSE FALSE  TRUE  TRUE  TRUE"
      ]
     },
     "metadata": {},
     "output_type": "display_data"
    },
    {
     "data": {
      "text/html": [
       "<ol class=list-inline>\n",
       "\t<li>FALSE</li>\n",
       "\t<li>FALSE</li>\n",
       "\t<li>FALSE</li>\n",
       "\t<li>FALSE</li>\n",
       "\t<li>FALSE</li>\n",
       "\t<li>FALSE</li>\n",
       "</ol>\n"
      ],
      "text/latex": [
       "\\begin{enumerate*}\n",
       "\\item FALSE\n",
       "\\item FALSE\n",
       "\\item FALSE\n",
       "\\item FALSE\n",
       "\\item FALSE\n",
       "\\item FALSE\n",
       "\\end{enumerate*}\n"
      ],
      "text/markdown": [
       "1. FALSE\n",
       "2. FALSE\n",
       "3. FALSE\n",
       "4. FALSE\n",
       "5. FALSE\n",
       "6. FALSE\n",
       "\n",
       "\n"
      ],
      "text/plain": [
       "[1] FALSE FALSE FALSE FALSE FALSE FALSE"
      ]
     },
     "metadata": {},
     "output_type": "display_data"
    },
    {
     "data": {
      "text/html": [
       "FALSE"
      ],
      "text/latex": [
       "FALSE"
      ],
      "text/markdown": [
       "FALSE"
      ],
      "text/plain": [
       "[1] FALSE"
      ]
     },
     "metadata": {},
     "output_type": "display_data"
    },
    {
     "data": {
      "text/html": [
       "TRUE"
      ],
      "text/latex": [
       "TRUE"
      ],
      "text/markdown": [
       "TRUE"
      ],
      "text/plain": [
       "[1] TRUE"
      ]
     },
     "metadata": {},
     "output_type": "display_data"
    },
    {
     "data": {
      "text/html": [
       "<ol class=list-inline>\n",
       "\t<li>FALSE</li>\n",
       "\t<li>TRUE</li>\n",
       "\t<li>FALSE</li>\n",
       "\t<li>TRUE</li>\n",
       "\t<li>FALSE</li>\n",
       "\t<li>FALSE</li>\n",
       "</ol>\n"
      ],
      "text/latex": [
       "\\begin{enumerate*}\n",
       "\\item FALSE\n",
       "\\item TRUE\n",
       "\\item FALSE\n",
       "\\item TRUE\n",
       "\\item FALSE\n",
       "\\item FALSE\n",
       "\\end{enumerate*}\n"
      ],
      "text/markdown": [
       "1. FALSE\n",
       "2. TRUE\n",
       "3. FALSE\n",
       "4. TRUE\n",
       "5. FALSE\n",
       "6. FALSE\n",
       "\n",
       "\n"
      ],
      "text/plain": [
       "[1] FALSE  TRUE FALSE  TRUE FALSE FALSE"
      ]
     },
     "metadata": {},
     "output_type": "display_data"
    }
   ],
   "source": [
    "# logical vectors\n",
    "x\n",
    "x>3\n",
    "x<2 | x>3  \n",
    "x<2 & x>3  \n",
    "all(x>3)\n",
    "any(x>3)\n",
    "x %in% c(2,4)"
   ]
  },
  {
   "cell_type": "code",
   "execution_count": 19,
   "metadata": {
    "scrolled": true
   },
   "outputs": [
    {
     "data": {
      "text/html": [
       "<ol class=list-inline>\n",
       "\t<li>FALSE</li>\n",
       "\t<li>FALSE</li>\n",
       "\t<li>TRUE</li>\n",
       "\t<li>TRUE</li>\n",
       "\t<li>TRUE</li>\n",
       "\t<li>TRUE</li>\n",
       "</ol>\n"
      ],
      "text/latex": [
       "\\begin{enumerate*}\n",
       "\\item FALSE\n",
       "\\item FALSE\n",
       "\\item TRUE\n",
       "\\item TRUE\n",
       "\\item TRUE\n",
       "\\item TRUE\n",
       "\\end{enumerate*}\n"
      ],
      "text/markdown": [
       "1. FALSE\n",
       "2. FALSE\n",
       "3. TRUE\n",
       "4. TRUE\n",
       "5. TRUE\n",
       "6. TRUE\n",
       "\n",
       "\n"
      ],
      "text/plain": [
       "[1] FALSE FALSE  TRUE  TRUE  TRUE  TRUE"
      ]
     },
     "metadata": {},
     "output_type": "display_data"
    },
    {
     "data": {
      "text/html": [
       "<ol class=list-inline>\n",
       "\t<li>TRUE</li>\n",
       "\t<li>TRUE</li>\n",
       "\t<li>TRUE</li>\n",
       "\t<li>TRUE</li>\n",
       "\t<li>FALSE</li>\n",
       "\t<li>FALSE</li>\n",
       "</ol>\n"
      ],
      "text/latex": [
       "\\begin{enumerate*}\n",
       "\\item TRUE\n",
       "\\item TRUE\n",
       "\\item TRUE\n",
       "\\item TRUE\n",
       "\\item FALSE\n",
       "\\item FALSE\n",
       "\\end{enumerate*}\n"
      ],
      "text/markdown": [
       "1. TRUE\n",
       "2. TRUE\n",
       "3. TRUE\n",
       "4. TRUE\n",
       "5. FALSE\n",
       "6. FALSE\n",
       "\n",
       "\n"
      ],
      "text/plain": [
       "[1]  TRUE  TRUE  TRUE  TRUE FALSE FALSE"
      ]
     },
     "metadata": {},
     "output_type": "display_data"
    },
    {
     "data": {
      "text/html": [
       "FALSE"
      ],
      "text/latex": [
       "FALSE"
      ],
      "text/markdown": [
       "FALSE"
      ],
      "text/plain": [
       "[1] FALSE"
      ]
     },
     "metadata": {},
     "output_type": "display_data"
    },
    {
     "data": {
      "text/html": [
       "FALSE"
      ],
      "text/latex": [
       "FALSE"
      ],
      "text/markdown": [
       "FALSE"
      ],
      "text/plain": [
       "[1] FALSE"
      ]
     },
     "metadata": {},
     "output_type": "display_data"
    }
   ],
   "source": [
    "# && and ||\n",
    "# The longer form evaluates left to right examining only the first element of each vector\n",
    "x=1:6\n",
    "x>2\n",
    "x<5\n",
    "(x > 2) && (x < 5)\n",
    "(x[1] > 2) & (x[1] < 5)"
   ]
  },
  {
   "cell_type": "code",
   "execution_count": 20,
   "metadata": {
    "scrolled": true
   },
   "outputs": [
    {
     "data": {
      "text/html": [
       "TRUE"
      ],
      "text/latex": [
       "TRUE"
      ],
      "text/markdown": [
       "TRUE"
      ],
      "text/plain": [
       "[1] TRUE"
      ]
     },
     "metadata": {},
     "output_type": "display_data"
    },
    {
     "data": {
      "text/html": [
       "TRUE"
      ],
      "text/latex": [
       "TRUE"
      ],
      "text/markdown": [
       "TRUE"
      ],
      "text/plain": [
       "[1] TRUE"
      ]
     },
     "metadata": {},
     "output_type": "display_data"
    }
   ],
   "source": [
    "x = 1; y = 2\n",
    "(x == 1) & (y == 2)\n",
    "(x == 1) && (y == 2)"
   ]
  },
  {
   "cell_type": "code",
   "execution_count": 21,
   "metadata": {
    "scrolled": true
   },
   "outputs": [
    {
     "data": {
      "text/html": [
       "<ol class=list-inline>\n",
       "\t<li>FALSE</li>\n",
       "\t<li>FALSE</li>\n",
       "\t<li>TRUE</li>\n",
       "\t<li>TRUE</li>\n",
       "\t<li>FALSE</li>\n",
       "\t<li>FALSE</li>\n",
       "</ol>\n"
      ],
      "text/latex": [
       "\\begin{enumerate*}\n",
       "\\item FALSE\n",
       "\\item FALSE\n",
       "\\item TRUE\n",
       "\\item TRUE\n",
       "\\item FALSE\n",
       "\\item FALSE\n",
       "\\end{enumerate*}\n"
      ],
      "text/markdown": [
       "1. FALSE\n",
       "2. FALSE\n",
       "3. TRUE\n",
       "4. TRUE\n",
       "5. FALSE\n",
       "6. FALSE\n",
       "\n",
       "\n"
      ],
      "text/plain": [
       "[1] FALSE FALSE  TRUE  TRUE FALSE FALSE"
      ]
     },
     "metadata": {},
     "output_type": "display_data"
    },
    {
     "data": {
      "text/html": [
       "<ol class=list-inline>\n",
       "\t<li>3</li>\n",
       "\t<li>4</li>\n",
       "</ol>\n"
      ],
      "text/latex": [
       "\\begin{enumerate*}\n",
       "\\item 3\n",
       "\\item 4\n",
       "\\end{enumerate*}\n"
      ],
      "text/markdown": [
       "1. 3\n",
       "2. 4\n",
       "\n",
       "\n"
      ],
      "text/plain": [
       "[1] 3 4"
      ]
     },
     "metadata": {},
     "output_type": "display_data"
    }
   ],
   "source": [
    "z = 1:6\n",
    "(z > 2) & (z < 5)\n",
    "z[(z>2) & (z<5)]"
   ]
  },
  {
   "cell_type": "code",
   "execution_count": 22,
   "metadata": {
    "scrolled": true
   },
   "outputs": [
    {
     "data": {
      "text/html": [
       "<ol class=list-inline>\n",
       "\t<li>1</li>\n",
       "\t<li>2</li>\n",
       "\t<li>3</li>\n",
       "\t<li>4</li>\n",
       "\t<li>5</li>\n",
       "\t<li>6</li>\n",
       "</ol>\n"
      ],
      "text/latex": [
       "\\begin{enumerate*}\n",
       "\\item 1\n",
       "\\item 2\n",
       "\\item 3\n",
       "\\item 4\n",
       "\\item 5\n",
       "\\item 6\n",
       "\\end{enumerate*}\n"
      ],
      "text/markdown": [
       "1. 1\n",
       "2. 2\n",
       "3. 3\n",
       "4. 4\n",
       "5. 5\n",
       "6. 6\n",
       "\n",
       "\n"
      ],
      "text/plain": [
       "[1] 1 2 3 4 5 6"
      ]
     },
     "metadata": {},
     "output_type": "display_data"
    },
    {
     "data": {
      "text/html": [
       "<ol class=list-inline>\n",
       "\t<li>FALSE</li>\n",
       "\t<li>FALSE</li>\n",
       "\t<li>TRUE</li>\n",
       "\t<li>TRUE</li>\n",
       "\t<li>TRUE</li>\n",
       "\t<li>TRUE</li>\n",
       "</ol>\n"
      ],
      "text/latex": [
       "\\begin{enumerate*}\n",
       "\\item FALSE\n",
       "\\item FALSE\n",
       "\\item TRUE\n",
       "\\item TRUE\n",
       "\\item TRUE\n",
       "\\item TRUE\n",
       "\\end{enumerate*}\n"
      ],
      "text/markdown": [
       "1. FALSE\n",
       "2. FALSE\n",
       "3. TRUE\n",
       "4. TRUE\n",
       "5. TRUE\n",
       "6. TRUE\n",
       "\n",
       "\n"
      ],
      "text/plain": [
       "[1] FALSE FALSE  TRUE  TRUE  TRUE  TRUE"
      ]
     },
     "metadata": {},
     "output_type": "display_data"
    },
    {
     "data": {
      "text/html": [
       "<ol class=list-inline>\n",
       "\t<li>TRUE</li>\n",
       "\t<li>TRUE</li>\n",
       "\t<li>TRUE</li>\n",
       "\t<li>TRUE</li>\n",
       "\t<li>FALSE</li>\n",
       "\t<li>FALSE</li>\n",
       "</ol>\n"
      ],
      "text/latex": [
       "\\begin{enumerate*}\n",
       "\\item TRUE\n",
       "\\item TRUE\n",
       "\\item TRUE\n",
       "\\item TRUE\n",
       "\\item FALSE\n",
       "\\item FALSE\n",
       "\\end{enumerate*}\n"
      ],
      "text/markdown": [
       "1. TRUE\n",
       "2. TRUE\n",
       "3. TRUE\n",
       "4. TRUE\n",
       "5. FALSE\n",
       "6. FALSE\n",
       "\n",
       "\n"
      ],
      "text/plain": [
       "[1]  TRUE  TRUE  TRUE  TRUE FALSE FALSE"
      ]
     },
     "metadata": {},
     "output_type": "display_data"
    },
    {
     "data": {
      "text/html": [
       "FALSE"
      ],
      "text/latex": [
       "FALSE"
      ],
      "text/markdown": [
       "FALSE"
      ],
      "text/plain": [
       "[1] FALSE"
      ]
     },
     "metadata": {},
     "output_type": "display_data"
    },
    {
     "data": {
      "text/html": [],
      "text/latex": [],
      "text/markdown": [],
      "text/plain": [
       "integer(0)"
      ]
     },
     "metadata": {},
     "output_type": "display_data"
    }
   ],
   "source": [
    "z\n",
    "z>2\n",
    "z<5\n",
    "(z > 2) && (z < 5)\n",
    "z[(z > 2) && (z < 5)]"
   ]
  },
  {
   "cell_type": "code",
   "execution_count": 23,
   "metadata": {
    "scrolled": true
   },
   "outputs": [
    {
     "data": {
      "text/html": [
       "FALSE"
      ],
      "text/latex": [
       "FALSE"
      ],
      "text/markdown": [
       "FALSE"
      ],
      "text/plain": [
       "[1] FALSE"
      ]
     },
     "metadata": {},
     "output_type": "display_data"
    },
    {
     "data": {
      "text/html": [
       "<ol class=list-inline>\n",
       "\t<li>1</li>\n",
       "\t<li>2</li>\n",
       "\t<li>3</li>\n",
       "\t<li>4</li>\n",
       "\t<li>5</li>\n",
       "\t<li>6</li>\n",
       "</ol>\n"
      ],
      "text/latex": [
       "\\begin{enumerate*}\n",
       "\\item 1\n",
       "\\item 2\n",
       "\\item 3\n",
       "\\item 4\n",
       "\\item 5\n",
       "\\item 6\n",
       "\\end{enumerate*}\n"
      ],
      "text/markdown": [
       "1. 1\n",
       "2. 2\n",
       "3. 3\n",
       "4. 4\n",
       "5. 5\n",
       "6. 6\n",
       "\n",
       "\n"
      ],
      "text/plain": [
       "[1] 1 2 3 4 5 6"
      ]
     },
     "metadata": {},
     "output_type": "display_data"
    }
   ],
   "source": [
    "(z > 2) && (z < 5)\n",
    "z[(z > 0) && (z < 5)]  # R recylces the TRUE variable"
   ]
  },
  {
   "cell_type": "code",
   "execution_count": 24,
   "metadata": {},
   "outputs": [
    {
     "data": {
      "text/html": [
       "<ol class=list-inline>\n",
       "\t<li>1</li>\n",
       "\t<li>2</li>\n",
       "\t<li>3</li>\n",
       "\t<li>4</li>\n",
       "\t<li>5</li>\n",
       "\t<li>6</li>\n",
       "</ol>\n"
      ],
      "text/latex": [
       "\\begin{enumerate*}\n",
       "\\item 1\n",
       "\\item 2\n",
       "\\item 3\n",
       "\\item 4\n",
       "\\item 5\n",
       "\\item 6\n",
       "\\end{enumerate*}\n"
      ],
      "text/markdown": [
       "1. 1\n",
       "2. 2\n",
       "3. 3\n",
       "4. 4\n",
       "5. 5\n",
       "6. 6\n",
       "\n",
       "\n"
      ],
      "text/plain": [
       "[1] 1 2 3 4 5 6"
      ]
     },
     "metadata": {},
     "output_type": "display_data"
    },
    {
     "data": {
      "text/html": [
       "<ol class=list-inline>\n",
       "\t<li>1</li>\n",
       "\t<li>2</li>\n",
       "\t<li>3</li>\n",
       "\t<li>4</li>\n",
       "\t<li>5</li>\n",
       "\t<li>6</li>\n",
       "</ol>\n"
      ],
      "text/latex": [
       "\\begin{enumerate*}\n",
       "\\item 1\n",
       "\\item 2\n",
       "\\item 3\n",
       "\\item 4\n",
       "\\item 5\n",
       "\\item 6\n",
       "\\end{enumerate*}\n"
      ],
      "text/markdown": [
       "1. 1\n",
       "2. 2\n",
       "3. 3\n",
       "4. 4\n",
       "5. 5\n",
       "6. 6\n",
       "\n",
       "\n"
      ],
      "text/plain": [
       "[1] 1 2 3 4 5 6"
      ]
     },
     "metadata": {},
     "output_type": "display_data"
    }
   ],
   "source": [
    "z\n",
    "z[TRUE]\n",
    "# z[FALSE] ##output nothing"
   ]
  },
  {
   "cell_type": "code",
   "execution_count": 25,
   "metadata": {},
   "outputs": [
    {
     "data": {
      "text/html": [
       "<ol class=list-inline>\n",
       "\t<li>FALSE</li>\n",
       "\t<li>FALSE</li>\n",
       "\t<li>TRUE</li>\n",
       "</ol>\n"
      ],
      "text/latex": [
       "\\begin{enumerate*}\n",
       "\\item FALSE\n",
       "\\item FALSE\n",
       "\\item TRUE\n",
       "\\end{enumerate*}\n"
      ],
      "text/markdown": [
       "1. FALSE\n",
       "2. FALSE\n",
       "3. TRUE\n",
       "\n",
       "\n"
      ],
      "text/plain": [
       "[1] FALSE FALSE  TRUE"
      ]
     },
     "metadata": {},
     "output_type": "display_data"
    },
    {
     "data": {
      "text/html": [
       "<ol class=list-inline>\n",
       "\t<li>FALSE</li>\n",
       "\t<li>TRUE</li>\n",
       "\t<li>TRUE</li>\n",
       "</ol>\n"
      ],
      "text/latex": [
       "\\begin{enumerate*}\n",
       "\\item FALSE\n",
       "\\item TRUE\n",
       "\\item TRUE\n",
       "\\end{enumerate*}\n"
      ],
      "text/markdown": [
       "1. FALSE\n",
       "2. TRUE\n",
       "3. TRUE\n",
       "\n",
       "\n"
      ],
      "text/plain": [
       "[1] FALSE  TRUE  TRUE"
      ]
     },
     "metadata": {},
     "output_type": "display_data"
    },
    {
     "data": {
      "text/html": [
       "FALSE"
      ],
      "text/latex": [
       "FALSE"
      ],
      "text/markdown": [
       "FALSE"
      ],
      "text/plain": [
       "[1] FALSE"
      ]
     },
     "metadata": {},
     "output_type": "display_data"
    },
    {
     "data": {
      "text/html": [
       "FALSE"
      ],
      "text/latex": [
       "FALSE"
      ],
      "text/markdown": [
       "FALSE"
      ],
      "text/plain": [
       "[1] FALSE"
      ]
     },
     "metadata": {},
     "output_type": "display_data"
    },
    {
     "data": {
      "text/html": [
       "<ol class=list-inline>\n",
       "\t<li>FALSE</li>\n",
       "\t<li>FALSE</li>\n",
       "\t<li>TRUE</li>\n",
       "</ol>\n"
      ],
      "text/latex": [
       "\\begin{enumerate*}\n",
       "\\item FALSE\n",
       "\\item FALSE\n",
       "\\item TRUE\n",
       "\\end{enumerate*}\n"
      ],
      "text/markdown": [
       "1. FALSE\n",
       "2. FALSE\n",
       "3. TRUE\n",
       "\n",
       "\n"
      ],
      "text/plain": [
       "[1] FALSE FALSE  TRUE"
      ]
     },
     "metadata": {},
     "output_type": "display_data"
    },
    {
     "data": {
      "text/html": [
       "<ol class=list-inline>\n",
       "\t<li>TRUE</li>\n",
       "\t<li>TRUE</li>\n",
       "\t<li>TRUE</li>\n",
       "</ol>\n"
      ],
      "text/latex": [
       "\\begin{enumerate*}\n",
       "\\item TRUE\n",
       "\\item TRUE\n",
       "\\item TRUE\n",
       "\\end{enumerate*}\n"
      ],
      "text/markdown": [
       "1. TRUE\n",
       "2. TRUE\n",
       "3. TRUE\n",
       "\n",
       "\n"
      ],
      "text/plain": [
       "[1] TRUE TRUE TRUE"
      ]
     },
     "metadata": {},
     "output_type": "display_data"
    },
    {
     "data": {
      "text/html": [
       "FALSE"
      ],
      "text/latex": [
       "FALSE"
      ],
      "text/markdown": [
       "FALSE"
      ],
      "text/plain": [
       "[1] FALSE"
      ]
     },
     "metadata": {},
     "output_type": "display_data"
    },
    {
     "data": {
      "text/html": [
       "TRUE"
      ],
      "text/latex": [
       "TRUE"
      ],
      "text/markdown": [
       "TRUE"
      ],
      "text/plain": [
       "[1] TRUE"
      ]
     },
     "metadata": {},
     "output_type": "display_data"
    },
    {
     "data": {
      "text/html": [
       "<ol class=list-inline>\n",
       "\t<li>TRUE</li>\n",
       "\t<li>FALSE</li>\n",
       "\t<li>TRUE</li>\n",
       "</ol>\n"
      ],
      "text/latex": [
       "\\begin{enumerate*}\n",
       "\\item TRUE\n",
       "\\item FALSE\n",
       "\\item TRUE\n",
       "\\end{enumerate*}\n"
      ],
      "text/markdown": [
       "1. TRUE\n",
       "2. FALSE\n",
       "3. TRUE\n",
       "\n",
       "\n"
      ],
      "text/plain": [
       "[1]  TRUE FALSE  TRUE"
      ]
     },
     "metadata": {},
     "output_type": "display_data"
    },
    {
     "data": {
      "text/html": [
       "<ol class=list-inline>\n",
       "\t<li>TRUE</li>\n",
       "\t<li>TRUE</li>\n",
       "\t<li>TRUE</li>\n",
       "</ol>\n"
      ],
      "text/latex": [
       "\\begin{enumerate*}\n",
       "\\item TRUE\n",
       "\\item TRUE\n",
       "\\item TRUE\n",
       "\\end{enumerate*}\n"
      ],
      "text/markdown": [
       "1. TRUE\n",
       "2. TRUE\n",
       "3. TRUE\n",
       "\n",
       "\n"
      ],
      "text/plain": [
       "[1] TRUE TRUE TRUE"
      ]
     },
     "metadata": {},
     "output_type": "display_data"
    },
    {
     "data": {
      "text/html": [
       "TRUE"
      ],
      "text/latex": [
       "TRUE"
      ],
      "text/markdown": [
       "TRUE"
      ],
      "text/plain": [
       "[1] TRUE"
      ]
     },
     "metadata": {},
     "output_type": "display_data"
    },
    {
     "data": {
      "text/html": [
       "TRUE"
      ],
      "text/latex": [
       "TRUE"
      ],
      "text/markdown": [
       "TRUE"
      ],
      "text/plain": [
       "[1] TRUE"
      ]
     },
     "metadata": {},
     "output_type": "display_data"
    }
   ],
   "source": [
    "# more examples of && and ||\n",
    "a=c(0,1,1)\n",
    "b=c(0,0,1)\n",
    "a & b\n",
    "a | b\n",
    "a && b # The longer form evaluates left to right examining only the first element of each vector\n",
    "a || b\n",
    "a=c(0,1,1)\n",
    "b=c(1,0,1)\n",
    "a & b\n",
    "a | b\n",
    "a && b\n",
    "a || b\n",
    "a=c(1,1,1)\n",
    "b=c(1,0,1)\n",
    "a & b\n",
    "a | b\n",
    "a && b\n",
    "a || b"
   ]
  },
  {
   "cell_type": "code",
   "execution_count": 26,
   "metadata": {},
   "outputs": [
    {
     "data": {
      "text/html": [
       "1"
      ],
      "text/latex": [
       "1"
      ],
      "text/markdown": [
       "1"
      ],
      "text/plain": [
       "[1] 1"
      ]
     },
     "metadata": {},
     "output_type": "display_data"
    },
    {
     "data": {
      "text/html": [
       "FALSE"
      ],
      "text/latex": [
       "FALSE"
      ],
      "text/markdown": [
       "FALSE"
      ],
      "text/plain": [
       "[1] FALSE"
      ]
     },
     "metadata": {},
     "output_type": "display_data"
    },
    {
     "data": {
      "text/html": [],
      "text/latex": [],
      "text/markdown": [],
      "text/plain": [
       "numeric(0)"
      ]
     },
     "metadata": {},
     "output_type": "display_data"
    }
   ],
   "source": [
    "x # a scalar is like a vector with lengh =1\n",
    "x>3\n",
    "x[x>3]"
   ]
  },
  {
   "cell_type": "code",
   "execution_count": 27,
   "metadata": {
    "scrolled": true
   },
   "outputs": [
    {
     "data": {
      "text/html": [
       "<ol class=list-inline>\n",
       "\t<li>&lt;NA&gt;</li>\n",
       "\t<li>&lt;NA&gt;</li>\n",
       "\t<li>&lt;NA&gt;</li>\n",
       "</ol>\n"
      ],
      "text/latex": [
       "\\begin{enumerate*}\n",
       "\\item <NA>\n",
       "\\item <NA>\n",
       "\\item <NA>\n",
       "\\end{enumerate*}\n"
      ],
      "text/markdown": [
       "1. &lt;NA&gt;\n",
       "2. &lt;NA&gt;\n",
       "3. &lt;NA&gt;\n",
       "\n",
       "\n"
      ],
      "text/plain": [
       "[1] NA NA NA"
      ]
     },
     "metadata": {},
     "output_type": "display_data"
    },
    {
     "data": {
      "text/html": [
       "TRUE"
      ],
      "text/latex": [
       "TRUE"
      ],
      "text/markdown": [
       "TRUE"
      ],
      "text/plain": [
       "[1] TRUE"
      ]
     },
     "metadata": {},
     "output_type": "display_data"
    },
    {
     "data": {
      "text/html": [
       "1"
      ],
      "text/latex": [
       "1"
      ],
      "text/markdown": [
       "1"
      ],
      "text/plain": [
       "[1] 1"
      ]
     },
     "metadata": {},
     "output_type": "display_data"
    },
    {
     "data": {
      "text/html": [
       "<ol class=list-inline>\n",
       "\t<li>1</li>\n",
       "\t<li>&lt;NA&gt;</li>\n",
       "\t<li>&lt;NA&gt;</li>\n",
       "\t<li>&lt;NA&gt;</li>\n",
       "</ol>\n"
      ],
      "text/latex": [
       "\\begin{enumerate*}\n",
       "\\item 1\n",
       "\\item <NA>\n",
       "\\item <NA>\n",
       "\\item <NA>\n",
       "\\end{enumerate*}\n"
      ],
      "text/markdown": [
       "1. 1\n",
       "2. &lt;NA&gt;\n",
       "3. &lt;NA&gt;\n",
       "4. &lt;NA&gt;\n",
       "\n",
       "\n"
      ],
      "text/plain": [
       "[1]  1 NA NA NA"
      ]
     },
     "metadata": {},
     "output_type": "display_data"
    }
   ],
   "source": [
    "x[c(FALSE, FALSE, FALSE, TRUE, TRUE, TRUE)]\n",
    "x<2 | x>3\n",
    "x[x<2 | x>3]\n",
    "x[c(TRUE, FALSE, FALSE, TRUE, TRUE, TRUE)]"
   ]
  },
  {
   "cell_type": "code",
   "execution_count": 28,
   "metadata": {
    "scrolled": false
   },
   "outputs": [
    {
     "data": {
      "text/html": [
       "<ol class=list-inline>\n",
       "\t<li>1</li>\n",
       "\t<li>2</li>\n",
       "\t<li>3</li>\n",
       "\t<li>&lt;NA&gt;</li>\n",
       "\t<li>4</li>\n",
       "</ol>\n"
      ],
      "text/latex": [
       "\\begin{enumerate*}\n",
       "\\item 1\n",
       "\\item 2\n",
       "\\item 3\n",
       "\\item <NA>\n",
       "\\item 4\n",
       "\\end{enumerate*}\n"
      ],
      "text/markdown": [
       "1. 1\n",
       "2. 2\n",
       "3. 3\n",
       "4. &lt;NA&gt;\n",
       "5. 4\n",
       "\n",
       "\n"
      ],
      "text/plain": [
       "[1]  1  2  3 NA  4"
      ]
     },
     "metadata": {},
     "output_type": "display_data"
    },
    {
     "data": {
      "text/html": [
       "<ol class=list-inline>\n",
       "\t<li>FALSE</li>\n",
       "\t<li>FALSE</li>\n",
       "\t<li>FALSE</li>\n",
       "\t<li>TRUE</li>\n",
       "\t<li>FALSE</li>\n",
       "</ol>\n"
      ],
      "text/latex": [
       "\\begin{enumerate*}\n",
       "\\item FALSE\n",
       "\\item FALSE\n",
       "\\item FALSE\n",
       "\\item TRUE\n",
       "\\item FALSE\n",
       "\\end{enumerate*}\n"
      ],
      "text/markdown": [
       "1. FALSE\n",
       "2. FALSE\n",
       "3. FALSE\n",
       "4. TRUE\n",
       "5. FALSE\n",
       "\n",
       "\n"
      ],
      "text/plain": [
       "[1] FALSE FALSE FALSE  TRUE FALSE"
      ]
     },
     "metadata": {},
     "output_type": "display_data"
    },
    {
     "data": {
      "text/html": [
       "&lt;NA&gt;"
      ],
      "text/latex": [
       "<NA>"
      ],
      "text/markdown": [
       "&lt;NA&gt;"
      ],
      "text/plain": [
       "[1] NA"
      ]
     },
     "metadata": {},
     "output_type": "display_data"
    },
    {
     "data": {
      "text/html": [
       "2.5"
      ],
      "text/latex": [
       "2.5"
      ],
      "text/markdown": [
       "2.5"
      ],
      "text/plain": [
       "[1] 2.5"
      ]
     },
     "metadata": {},
     "output_type": "display_data"
    },
    {
     "data": {
      "text/html": [
       "FALSE"
      ],
      "text/latex": [
       "FALSE"
      ],
      "text/markdown": [
       "FALSE"
      ],
      "text/plain": [
       "[1] FALSE"
      ]
     },
     "metadata": {},
     "output_type": "display_data"
    },
    {
     "data": {
      "text/html": [
       "TRUE"
      ],
      "text/latex": [
       "TRUE"
      ],
      "text/markdown": [
       "TRUE"
      ],
      "text/plain": [
       "[1] TRUE"
      ]
     },
     "metadata": {},
     "output_type": "display_data"
    },
    {
     "data": {
      "text/html": [
       "<ol class=list-inline>\n",
       "\t<li>1</li>\n",
       "\t<li>2</li>\n",
       "\t<li>3</li>\n",
       "\t<li>0</li>\n",
       "\t<li>4</li>\n",
       "</ol>\n"
      ],
      "text/latex": [
       "\\begin{enumerate*}\n",
       "\\item 1\n",
       "\\item 2\n",
       "\\item 3\n",
       "\\item 0\n",
       "\\item 4\n",
       "\\end{enumerate*}\n"
      ],
      "text/markdown": [
       "1. 1\n",
       "2. 2\n",
       "3. 3\n",
       "4. 0\n",
       "5. 4\n",
       "\n",
       "\n"
      ],
      "text/plain": [
       "[1] 1 2 3 0 4"
      ]
     },
     "metadata": {},
     "output_type": "display_data"
    },
    {
     "data": {
      "text/html": [
       "2"
      ],
      "text/latex": [
       "2"
      ],
      "text/markdown": [
       "2"
      ],
      "text/plain": [
       "[1] 2"
      ]
     },
     "metadata": {},
     "output_type": "display_data"
    },
    {
     "data": {
      "text/html": [
       "Inf"
      ],
      "text/latex": [
       "Inf"
      ],
      "text/markdown": [
       "Inf"
      ],
      "text/plain": [
       "[1] Inf"
      ]
     },
     "metadata": {},
     "output_type": "display_data"
    }
   ],
   "source": [
    "x=c(1,2,3,NA,4)\n",
    "x\n",
    "is.na(x)\n",
    "mean(x)\n",
    "mean(x, na.rm=TRUE)\n",
    "all(!is.na(x))\n",
    "any(is.na(x))\n",
    "x[is.na(x)]=0\n",
    "x\n",
    "mean(x)\n",
    "(1/0)*8 # NA is different from inf"
   ]
  },
  {
   "cell_type": "code",
   "execution_count": 29,
   "metadata": {
    "scrolled": false
   },
   "outputs": [
    {
     "data": {},
     "metadata": {},
     "output_type": "display_data"
    },
    {
     "data": {
      "text/html": [
       "<table>\n",
       "<thead><tr><th scope=col>Sex</th><th scope=col>Wr.Hnd</th><th scope=col>NW.Hnd</th><th scope=col>W.Hnd</th><th scope=col>Fold</th><th scope=col>Pulse</th><th scope=col>Clap</th><th scope=col>Exer</th><th scope=col>Smoke</th><th scope=col>Height</th><th scope=col>M.I</th><th scope=col>Age</th></tr></thead>\n",
       "<tbody>\n",
       "\t<tr><td>Female  </td><td>18.5    </td><td>18.0    </td><td>Right   </td><td>R on L  </td><td> 92     </td><td>Left    </td><td>Some    </td><td>Never   </td><td>173.00  </td><td>Metric  </td><td>18.250  </td></tr>\n",
       "\t<tr><td>Male    </td><td>19.5    </td><td>20.5    </td><td>Left    </td><td>R on L  </td><td>104     </td><td>Left    </td><td>None    </td><td>Regul   </td><td>177.80  </td><td>Imperial</td><td>17.583  </td></tr>\n",
       "\t<tr><td>Male    </td><td>18.0    </td><td>13.3    </td><td>Right   </td><td>L on R  </td><td> 87     </td><td>Neither </td><td>None    </td><td>Occas   </td><td>    NA  </td><td>NA      </td><td>16.917  </td></tr>\n",
       "\t<tr><td>Male    </td><td>18.8    </td><td>18.9    </td><td>Right   </td><td>R on L  </td><td> NA     </td><td>Neither </td><td>None    </td><td>Never   </td><td>160.00  </td><td>Metric  </td><td>20.333  </td></tr>\n",
       "\t<tr><td>Male    </td><td>20.0    </td><td>20.0    </td><td>Right   </td><td>Neither </td><td> 35     </td><td>Right   </td><td>Some    </td><td>Never   </td><td>165.00  </td><td>Metric  </td><td>23.667  </td></tr>\n",
       "\t<tr><td>Female  </td><td>18.0    </td><td>17.7    </td><td>Right   </td><td>L on R  </td><td> 64     </td><td>Right   </td><td>Some    </td><td>Never   </td><td>172.72  </td><td>Imperial</td><td>21.000  </td></tr>\n",
       "</tbody>\n",
       "</table>\n"
      ],
      "text/latex": [
       "\\begin{tabular}{r|llllllllllll}\n",
       " Sex & Wr.Hnd & NW.Hnd & W.Hnd & Fold & Pulse & Clap & Exer & Smoke & Height & M.I & Age\\\\\n",
       "\\hline\n",
       "\t Female   & 18.5     & 18.0     & Right    & R on L   &  92      & Left     & Some     & Never    & 173.00   & Metric   & 18.250  \\\\\n",
       "\t Male     & 19.5     & 20.5     & Left     & R on L   & 104      & Left     & None     & Regul    & 177.80   & Imperial & 17.583  \\\\\n",
       "\t Male     & 18.0     & 13.3     & Right    & L on R   &  87      & Neither  & None     & Occas    &     NA   & NA       & 16.917  \\\\\n",
       "\t Male     & 18.8     & 18.9     & Right    & R on L   &  NA      & Neither  & None     & Never    & 160.00   & Metric   & 20.333  \\\\\n",
       "\t Male     & 20.0     & 20.0     & Right    & Neither  &  35      & Right    & Some     & Never    & 165.00   & Metric   & 23.667  \\\\\n",
       "\t Female   & 18.0     & 17.7     & Right    & L on R   &  64      & Right    & Some     & Never    & 172.72   & Imperial & 21.000  \\\\\n",
       "\\end{tabular}\n"
      ],
      "text/markdown": [
       "\n",
       "| Sex | Wr.Hnd | NW.Hnd | W.Hnd | Fold | Pulse | Clap | Exer | Smoke | Height | M.I | Age |\n",
       "|---|---|---|---|---|---|---|---|---|---|---|---|\n",
       "| Female   | 18.5     | 18.0     | Right    | R on L   |  92      | Left     | Some     | Never    | 173.00   | Metric   | 18.250   |\n",
       "| Male     | 19.5     | 20.5     | Left     | R on L   | 104      | Left     | None     | Regul    | 177.80   | Imperial | 17.583   |\n",
       "| Male     | 18.0     | 13.3     | Right    | L on R   |  87      | Neither  | None     | Occas    |     NA   | NA       | 16.917   |\n",
       "| Male     | 18.8     | 18.9     | Right    | R on L   |  NA      | Neither  | None     | Never    | 160.00   | Metric   | 20.333   |\n",
       "| Male     | 20.0     | 20.0     | Right    | Neither  |  35      | Right    | Some     | Never    | 165.00   | Metric   | 23.667   |\n",
       "| Female   | 18.0     | 17.7     | Right    | L on R   |  64      | Right    | Some     | Never    | 172.72   | Imperial | 21.000   |\n",
       "\n"
      ],
      "text/plain": [
       "  Sex    Wr.Hnd NW.Hnd W.Hnd Fold    Pulse Clap    Exer Smoke Height M.I     \n",
       "1 Female 18.5   18.0   Right R on L   92   Left    Some Never 173.00 Metric  \n",
       "2 Male   19.5   20.5   Left  R on L  104   Left    None Regul 177.80 Imperial\n",
       "3 Male   18.0   13.3   Right L on R   87   Neither None Occas     NA NA      \n",
       "4 Male   18.8   18.9   Right R on L   NA   Neither None Never 160.00 Metric  \n",
       "5 Male   20.0   20.0   Right Neither  35   Right   Some Never 165.00 Metric  \n",
       "6 Female 18.0   17.7   Right L on R   64   Right   Some Never 172.72 Imperial\n",
       "  Age   \n",
       "1 18.250\n",
       "2 17.583\n",
       "3 16.917\n",
       "4 20.333\n",
       "5 23.667\n",
       "6 21.000"
      ]
     },
     "metadata": {},
     "output_type": "display_data"
    },
    {
     "data": {
      "text/html": [
       "<table>\n",
       "<thead><tr><th></th><th scope=col>Sex</th><th scope=col>Wr.Hnd</th><th scope=col>NW.Hnd</th><th scope=col>W.Hnd</th><th scope=col>Fold</th><th scope=col>Pulse</th><th scope=col>Clap</th><th scope=col>Exer</th><th scope=col>Smoke</th><th scope=col>Height</th><th scope=col>M.I</th><th scope=col>Age</th></tr></thead>\n",
       "<tbody>\n",
       "\t<tr><th scope=row>232</th><td>Male    </td><td>18.0    </td><td>16.0    </td><td>Right   </td><td>R on L  </td><td>NA      </td><td>Right   </td><td>Some    </td><td>Never   </td><td>180.34  </td><td>Imperial</td><td>20.750  </td></tr>\n",
       "\t<tr><th scope=row>233</th><td>Female  </td><td>18.0    </td><td>18.0    </td><td>Right   </td><td>L on R  </td><td>85      </td><td>Right   </td><td>Some    </td><td>Never   </td><td>165.10  </td><td>Imperial</td><td>17.667  </td></tr>\n",
       "\t<tr><th scope=row>234</th><td>Female  </td><td>18.5    </td><td>18.0    </td><td>Right   </td><td>L on R  </td><td>88      </td><td>Right   </td><td>Some    </td><td>Never   </td><td>160.00  </td><td>Metric  </td><td>16.917  </td></tr>\n",
       "\t<tr><th scope=row>235</th><td>Female  </td><td>17.5    </td><td>16.5    </td><td>Right   </td><td>R on L  </td><td>NA      </td><td>Right   </td><td>Some    </td><td>Never   </td><td>170.00  </td><td>Metric  </td><td>18.583  </td></tr>\n",
       "\t<tr><th scope=row>236</th><td>Male    </td><td>21.0    </td><td>21.5    </td><td>Right   </td><td>R on L  </td><td>90      </td><td>Right   </td><td>Some    </td><td>Never   </td><td>183.00  </td><td>Metric  </td><td>17.167  </td></tr>\n",
       "\t<tr><th scope=row>237</th><td>Female  </td><td>17.6    </td><td>17.3    </td><td>Right   </td><td>R on L  </td><td>85      </td><td>Right   </td><td>Freq    </td><td>Never   </td><td>168.50  </td><td>Metric  </td><td>17.750  </td></tr>\n",
       "</tbody>\n",
       "</table>\n"
      ],
      "text/latex": [
       "\\begin{tabular}{r|llllllllllll}\n",
       "  & Sex & Wr.Hnd & NW.Hnd & W.Hnd & Fold & Pulse & Clap & Exer & Smoke & Height & M.I & Age\\\\\n",
       "\\hline\n",
       "\t232 & Male     & 18.0     & 16.0     & Right    & R on L   & NA       & Right    & Some     & Never    & 180.34   & Imperial & 20.750  \\\\\n",
       "\t233 & Female   & 18.0     & 18.0     & Right    & L on R   & 85       & Right    & Some     & Never    & 165.10   & Imperial & 17.667  \\\\\n",
       "\t234 & Female   & 18.5     & 18.0     & Right    & L on R   & 88       & Right    & Some     & Never    & 160.00   & Metric   & 16.917  \\\\\n",
       "\t235 & Female   & 17.5     & 16.5     & Right    & R on L   & NA       & Right    & Some     & Never    & 170.00   & Metric   & 18.583  \\\\\n",
       "\t236 & Male     & 21.0     & 21.5     & Right    & R on L   & 90       & Right    & Some     & Never    & 183.00   & Metric   & 17.167  \\\\\n",
       "\t237 & Female   & 17.6     & 17.3     & Right    & R on L   & 85       & Right    & Freq     & Never    & 168.50   & Metric   & 17.750  \\\\\n",
       "\\end{tabular}\n"
      ],
      "text/markdown": [
       "\n",
       "| <!--/--> | Sex | Wr.Hnd | NW.Hnd | W.Hnd | Fold | Pulse | Clap | Exer | Smoke | Height | M.I | Age |\n",
       "|---|---|---|---|---|---|---|---|---|---|---|---|---|\n",
       "| 232 | Male     | 18.0     | 16.0     | Right    | R on L   | NA       | Right    | Some     | Never    | 180.34   | Imperial | 20.750   |\n",
       "| 233 | Female   | 18.0     | 18.0     | Right    | L on R   | 85       | Right    | Some     | Never    | 165.10   | Imperial | 17.667   |\n",
       "| 234 | Female   | 18.5     | 18.0     | Right    | L on R   | 88       | Right    | Some     | Never    | 160.00   | Metric   | 16.917   |\n",
       "| 235 | Female   | 17.5     | 16.5     | Right    | R on L   | NA       | Right    | Some     | Never    | 170.00   | Metric   | 18.583   |\n",
       "| 236 | Male     | 21.0     | 21.5     | Right    | R on L   | 90       | Right    | Some     | Never    | 183.00   | Metric   | 17.167   |\n",
       "| 237 | Female   | 17.6     | 17.3     | Right    | R on L   | 85       | Right    | Freq     | Never    | 168.50   | Metric   | 17.750   |\n",
       "\n"
      ],
      "text/plain": [
       "    Sex    Wr.Hnd NW.Hnd W.Hnd Fold   Pulse Clap  Exer Smoke Height M.I     \n",
       "232 Male   18.0   16.0   Right R on L NA    Right Some Never 180.34 Imperial\n",
       "233 Female 18.0   18.0   Right L on R 85    Right Some Never 165.10 Imperial\n",
       "234 Female 18.5   18.0   Right L on R 88    Right Some Never 160.00 Metric  \n",
       "235 Female 17.5   16.5   Right R on L NA    Right Some Never 170.00 Metric  \n",
       "236 Male   21.0   21.5   Right R on L 90    Right Some Never 183.00 Metric  \n",
       "237 Female 17.6   17.3   Right R on L 85    Right Freq Never 168.50 Metric  \n",
       "    Age   \n",
       "232 20.750\n",
       "233 17.667\n",
       "234 16.917\n",
       "235 18.583\n",
       "236 17.167\n",
       "237 17.750"
      ]
     },
     "metadata": {},
     "output_type": "display_data"
    }
   ],
   "source": [
    "library() #list all installed packages\n",
    "library(MASS)\n",
    "head(survey)\n",
    "tail(survey)\n",
    "# data(survey, package=\"MASS\")"
   ]
  },
  {
   "cell_type": "code",
   "execution_count": 30,
   "metadata": {},
   "outputs": [
    {
     "data": {
      "text/html": [
       "<dl class=dl-horizontal>\n",
       "\t<dt>Africa</dt>\n",
       "\t\t<dd>11506</dd>\n",
       "\t<dt>Antarctica</dt>\n",
       "\t\t<dd>5500</dd>\n",
       "\t<dt>Asia</dt>\n",
       "\t\t<dd>16988</dd>\n",
       "\t<dt>Australia</dt>\n",
       "\t\t<dd>2968</dd>\n",
       "\t<dt>Axel Heiberg</dt>\n",
       "\t\t<dd>16</dd>\n",
       "\t<dt>Baffin</dt>\n",
       "\t\t<dd>184</dd>\n",
       "\t<dt>Banks</dt>\n",
       "\t\t<dd>23</dd>\n",
       "\t<dt>Borneo</dt>\n",
       "\t\t<dd>280</dd>\n",
       "\t<dt>Britain</dt>\n",
       "\t\t<dd>84</dd>\n",
       "\t<dt>Celebes</dt>\n",
       "\t\t<dd>73</dd>\n",
       "\t<dt>Celon</dt>\n",
       "\t\t<dd>25</dd>\n",
       "\t<dt>Cuba</dt>\n",
       "\t\t<dd>43</dd>\n",
       "\t<dt>Devon</dt>\n",
       "\t\t<dd>21</dd>\n",
       "\t<dt>Ellesmere</dt>\n",
       "\t\t<dd>82</dd>\n",
       "\t<dt>Europe</dt>\n",
       "\t\t<dd>3745</dd>\n",
       "\t<dt>Greenland</dt>\n",
       "\t\t<dd>840</dd>\n",
       "\t<dt>Hainan</dt>\n",
       "\t\t<dd>13</dd>\n",
       "\t<dt>Hispaniola</dt>\n",
       "\t\t<dd>30</dd>\n",
       "\t<dt>Hokkaido</dt>\n",
       "\t\t<dd>30</dd>\n",
       "\t<dt>Honshu</dt>\n",
       "\t\t<dd>89</dd>\n",
       "\t<dt>Iceland</dt>\n",
       "\t\t<dd>40</dd>\n",
       "\t<dt>Ireland</dt>\n",
       "\t\t<dd>33</dd>\n",
       "\t<dt>Java</dt>\n",
       "\t\t<dd>49</dd>\n",
       "\t<dt>Kyushu</dt>\n",
       "\t\t<dd>14</dd>\n",
       "\t<dt>Luzon</dt>\n",
       "\t\t<dd>42</dd>\n",
       "\t<dt>Madagascar</dt>\n",
       "\t\t<dd>227</dd>\n",
       "\t<dt>Melville</dt>\n",
       "\t\t<dd>16</dd>\n",
       "\t<dt>Mindanao</dt>\n",
       "\t\t<dd>36</dd>\n",
       "\t<dt>Moluccas</dt>\n",
       "\t\t<dd>29</dd>\n",
       "\t<dt>New Britain</dt>\n",
       "\t\t<dd>15</dd>\n",
       "\t<dt>New Guinea</dt>\n",
       "\t\t<dd>306</dd>\n",
       "\t<dt>New Zealand (N)</dt>\n",
       "\t\t<dd>44</dd>\n",
       "\t<dt>New Zealand (S)</dt>\n",
       "\t\t<dd>58</dd>\n",
       "\t<dt>Newfoundland</dt>\n",
       "\t\t<dd>43</dd>\n",
       "\t<dt>North America</dt>\n",
       "\t\t<dd>9390</dd>\n",
       "\t<dt>Novaya Zemlya</dt>\n",
       "\t\t<dd>32</dd>\n",
       "\t<dt>Prince of Wales</dt>\n",
       "\t\t<dd>13</dd>\n",
       "\t<dt>Sakhalin</dt>\n",
       "\t\t<dd>29</dd>\n",
       "\t<dt>South America</dt>\n",
       "\t\t<dd>6795</dd>\n",
       "\t<dt>Southampton</dt>\n",
       "\t\t<dd>16</dd>\n",
       "\t<dt>Spitsbergen</dt>\n",
       "\t\t<dd>15</dd>\n",
       "\t<dt>Sumatra</dt>\n",
       "\t\t<dd>183</dd>\n",
       "\t<dt>Taiwan</dt>\n",
       "\t\t<dd>14</dd>\n",
       "\t<dt>Tasmania</dt>\n",
       "\t\t<dd>26</dd>\n",
       "\t<dt>Tierra del Fuego</dt>\n",
       "\t\t<dd>19</dd>\n",
       "\t<dt>Timor</dt>\n",
       "\t\t<dd>13</dd>\n",
       "\t<dt>Vancouver</dt>\n",
       "\t\t<dd>12</dd>\n",
       "\t<dt>Victoria</dt>\n",
       "\t\t<dd>82</dd>\n",
       "</dl>\n"
      ],
      "text/latex": [
       "\\begin{description*}\n",
       "\\item[Africa] 11506\n",
       "\\item[Antarctica] 5500\n",
       "\\item[Asia] 16988\n",
       "\\item[Australia] 2968\n",
       "\\item[Axel Heiberg] 16\n",
       "\\item[Baffin] 184\n",
       "\\item[Banks] 23\n",
       "\\item[Borneo] 280\n",
       "\\item[Britain] 84\n",
       "\\item[Celebes] 73\n",
       "\\item[Celon] 25\n",
       "\\item[Cuba] 43\n",
       "\\item[Devon] 21\n",
       "\\item[Ellesmere] 82\n",
       "\\item[Europe] 3745\n",
       "\\item[Greenland] 840\n",
       "\\item[Hainan] 13\n",
       "\\item[Hispaniola] 30\n",
       "\\item[Hokkaido] 30\n",
       "\\item[Honshu] 89\n",
       "\\item[Iceland] 40\n",
       "\\item[Ireland] 33\n",
       "\\item[Java] 49\n",
       "\\item[Kyushu] 14\n",
       "\\item[Luzon] 42\n",
       "\\item[Madagascar] 227\n",
       "\\item[Melville] 16\n",
       "\\item[Mindanao] 36\n",
       "\\item[Moluccas] 29\n",
       "\\item[New Britain] 15\n",
       "\\item[New Guinea] 306\n",
       "\\item[New Zealand (N)] 44\n",
       "\\item[New Zealand (S)] 58\n",
       "\\item[Newfoundland] 43\n",
       "\\item[North America] 9390\n",
       "\\item[Novaya Zemlya] 32\n",
       "\\item[Prince of Wales] 13\n",
       "\\item[Sakhalin] 29\n",
       "\\item[South America] 6795\n",
       "\\item[Southampton] 16\n",
       "\\item[Spitsbergen] 15\n",
       "\\item[Sumatra] 183\n",
       "\\item[Taiwan] 14\n",
       "\\item[Tasmania] 26\n",
       "\\item[Tierra del Fuego] 19\n",
       "\\item[Timor] 13\n",
       "\\item[Vancouver] 12\n",
       "\\item[Victoria] 82\n",
       "\\end{description*}\n"
      ],
      "text/markdown": [
       "Africa\n",
       ":   11506Antarctica\n",
       ":   5500Asia\n",
       ":   16988Australia\n",
       ":   2968Axel Heiberg\n",
       ":   16Baffin\n",
       ":   184Banks\n",
       ":   23Borneo\n",
       ":   280Britain\n",
       ":   84Celebes\n",
       ":   73Celon\n",
       ":   25Cuba\n",
       ":   43Devon\n",
       ":   21Ellesmere\n",
       ":   82Europe\n",
       ":   3745Greenland\n",
       ":   840Hainan\n",
       ":   13Hispaniola\n",
       ":   30Hokkaido\n",
       ":   30Honshu\n",
       ":   89Iceland\n",
       ":   40Ireland\n",
       ":   33Java\n",
       ":   49Kyushu\n",
       ":   14Luzon\n",
       ":   42Madagascar\n",
       ":   227Melville\n",
       ":   16Mindanao\n",
       ":   36Moluccas\n",
       ":   29New Britain\n",
       ":   15New Guinea\n",
       ":   306New Zealand (N)\n",
       ":   44New Zealand (S)\n",
       ":   58Newfoundland\n",
       ":   43North America\n",
       ":   9390Novaya Zemlya\n",
       ":   32Prince of Wales\n",
       ":   13Sakhalin\n",
       ":   29South America\n",
       ":   6795Southampton\n",
       ":   16Spitsbergen\n",
       ":   15Sumatra\n",
       ":   183Taiwan\n",
       ":   14Tasmania\n",
       ":   26Tierra del Fuego\n",
       ":   19Timor\n",
       ":   13Vancouver\n",
       ":   12Victoria\n",
       ":   82\n",
       "\n"
      ],
      "text/plain": [
       "          Africa       Antarctica             Asia        Australia \n",
       "           11506             5500            16988             2968 \n",
       "    Axel Heiberg           Baffin            Banks           Borneo \n",
       "              16              184               23              280 \n",
       "         Britain          Celebes            Celon             Cuba \n",
       "              84               73               25               43 \n",
       "           Devon        Ellesmere           Europe        Greenland \n",
       "              21               82             3745              840 \n",
       "          Hainan       Hispaniola         Hokkaido           Honshu \n",
       "              13               30               30               89 \n",
       "         Iceland          Ireland             Java           Kyushu \n",
       "              40               33               49               14 \n",
       "           Luzon       Madagascar         Melville         Mindanao \n",
       "              42              227               16               36 \n",
       "        Moluccas      New Britain       New Guinea  New Zealand (N) \n",
       "              29               15              306               44 \n",
       " New Zealand (S)     Newfoundland    North America    Novaya Zemlya \n",
       "              58               43             9390               32 \n",
       " Prince of Wales         Sakhalin    South America      Southampton \n",
       "              13               29             6795               16 \n",
       "     Spitsbergen          Sumatra           Taiwan         Tasmania \n",
       "              15              183               14               26 \n",
       "Tierra del Fuego            Timor        Vancouver         Victoria \n",
       "              19               13               12               82 "
      ]
     },
     "metadata": {},
     "output_type": "display_data"
    }
   ],
   "source": [
    "islands"
   ]
  },
  {
   "cell_type": "code",
   "execution_count": 31,
   "metadata": {},
   "outputs": [
    {
     "data": {
      "text/html": [
       "'numeric'"
      ],
      "text/latex": [
       "'numeric'"
      ],
      "text/markdown": [
       "'numeric'"
      ],
      "text/plain": [
       "[1] \"numeric\""
      ]
     },
     "metadata": {},
     "output_type": "display_data"
    },
    {
     "data": {
      "text/html": [
       "<dl class=dl-horizontal>\n",
       "\t<dt>Africa</dt>\n",
       "\t\t<dd>11506</dd>\n",
       "\t<dt>Antarctica</dt>\n",
       "\t\t<dd>5500</dd>\n",
       "\t<dt>Asia</dt>\n",
       "\t\t<dd>16988</dd>\n",
       "\t<dt>Australia</dt>\n",
       "\t\t<dd>2968</dd>\n",
       "\t<dt>Axel Heiberg</dt>\n",
       "\t\t<dd>16</dd>\n",
       "\t<dt>Baffin</dt>\n",
       "\t\t<dd>184</dd>\n",
       "</dl>\n"
      ],
      "text/latex": [
       "\\begin{description*}\n",
       "\\item[Africa] 11506\n",
       "\\item[Antarctica] 5500\n",
       "\\item[Asia] 16988\n",
       "\\item[Australia] 2968\n",
       "\\item[Axel Heiberg] 16\n",
       "\\item[Baffin] 184\n",
       "\\end{description*}\n"
      ],
      "text/markdown": [
       "Africa\n",
       ":   11506Antarctica\n",
       ":   5500Asia\n",
       ":   16988Australia\n",
       ":   2968Axel Heiberg\n",
       ":   16Baffin\n",
       ":   184\n",
       "\n"
      ],
      "text/plain": [
       "      Africa   Antarctica         Asia    Australia Axel Heiberg       Baffin \n",
       "       11506         5500        16988         2968           16          184 "
      ]
     },
     "metadata": {},
     "output_type": "display_data"
    },
    {
     "data": {
      "text/html": [
       "<strong>Africa:</strong> 11506"
      ],
      "text/latex": [
       "\\textbf{Africa:} 11506"
      ],
      "text/markdown": [
       "**Africa:** 11506"
      ],
      "text/plain": [
       "Africa \n",
       " 11506 "
      ]
     },
     "metadata": {},
     "output_type": "display_data"
    },
    {
     "data": {
      "text/html": [
       "<strong>Africa:</strong> 11506"
      ],
      "text/latex": [
       "\\textbf{Africa:} 11506"
      ],
      "text/markdown": [
       "**Africa:** 11506"
      ],
      "text/plain": [
       "Africa \n",
       " 11506 "
      ]
     },
     "metadata": {},
     "output_type": "display_data"
    }
   ],
   "source": [
    "# islands\n",
    "class(islands)\n",
    "head(islands)\n",
    "islands[1]\n",
    "islands['Africa']"
   ]
  },
  {
   "cell_type": "code",
   "execution_count": 32,
   "metadata": {},
   "outputs": [
    {
     "data": {},
     "metadata": {},
     "output_type": "display_data"
    },
    {
     "data": {
      "text/html": [
       "<ol class=list-inline>\n",
       "\t<li>'C:/anaconda3/Lib/R/library/MASS'</li>\n",
       "\t<li>'C:/anaconda3/Lib/R/library/stats'</li>\n",
       "\t<li>'C:/anaconda3/Lib/R/library/graphics'</li>\n",
       "\t<li>'C:/anaconda3/Lib/R/library/grDevices'</li>\n",
       "\t<li>'C:/anaconda3/Lib/R/library/utils'</li>\n",
       "\t<li>'C:/anaconda3/Lib/R/library/datasets'</li>\n",
       "\t<li>'C:/anaconda3/Lib/R/library/methods'</li>\n",
       "\t<li>'C:/anaconda3/lib/R/library/base'</li>\n",
       "</ol>\n"
      ],
      "text/latex": [
       "\\begin{enumerate*}\n",
       "\\item 'C:/anaconda3/Lib/R/library/MASS'\n",
       "\\item 'C:/anaconda3/Lib/R/library/stats'\n",
       "\\item 'C:/anaconda3/Lib/R/library/graphics'\n",
       "\\item 'C:/anaconda3/Lib/R/library/grDevices'\n",
       "\\item 'C:/anaconda3/Lib/R/library/utils'\n",
       "\\item 'C:/anaconda3/Lib/R/library/datasets'\n",
       "\\item 'C:/anaconda3/Lib/R/library/methods'\n",
       "\\item 'C:/anaconda3/lib/R/library/base'\n",
       "\\end{enumerate*}\n"
      ],
      "text/markdown": [
       "1. 'C:/anaconda3/Lib/R/library/MASS'\n",
       "2. 'C:/anaconda3/Lib/R/library/stats'\n",
       "3. 'C:/anaconda3/Lib/R/library/graphics'\n",
       "4. 'C:/anaconda3/Lib/R/library/grDevices'\n",
       "5. 'C:/anaconda3/Lib/R/library/utils'\n",
       "6. 'C:/anaconda3/Lib/R/library/datasets'\n",
       "7. 'C:/anaconda3/Lib/R/library/methods'\n",
       "8. 'C:/anaconda3/lib/R/library/base'\n",
       "\n",
       "\n"
      ],
      "text/plain": [
       "[1] \"C:/anaconda3/Lib/R/library/MASS\"     \n",
       "[2] \"C:/anaconda3/Lib/R/library/stats\"    \n",
       "[3] \"C:/anaconda3/Lib/R/library/graphics\" \n",
       "[4] \"C:/anaconda3/Lib/R/library/grDevices\"\n",
       "[5] \"C:/anaconda3/Lib/R/library/utils\"    \n",
       "[6] \"C:/anaconda3/Lib/R/library/datasets\" \n",
       "[7] \"C:/anaconda3/Lib/R/library/methods\"  \n",
       "[8] \"C:/anaconda3/lib/R/library/base\"     "
      ]
     },
     "metadata": {},
     "output_type": "display_data"
    },
    {
     "data": {
      "text/html": [
       "<ol class=list-inline>\n",
       "\t<li>'C:/anaconda3/Lib/R/library/stats'</li>\n",
       "\t<li>'C:/anaconda3/Lib/R/library/graphics'</li>\n",
       "\t<li>'C:/anaconda3/Lib/R/library/grDevices'</li>\n",
       "\t<li>'C:/anaconda3/Lib/R/library/utils'</li>\n",
       "\t<li>'C:/anaconda3/Lib/R/library/datasets'</li>\n",
       "\t<li>'C:/anaconda3/Lib/R/library/methods'</li>\n",
       "\t<li>'C:/anaconda3/lib/R/library/base'</li>\n",
       "</ol>\n"
      ],
      "text/latex": [
       "\\begin{enumerate*}\n",
       "\\item 'C:/anaconda3/Lib/R/library/stats'\n",
       "\\item 'C:/anaconda3/Lib/R/library/graphics'\n",
       "\\item 'C:/anaconda3/Lib/R/library/grDevices'\n",
       "\\item 'C:/anaconda3/Lib/R/library/utils'\n",
       "\\item 'C:/anaconda3/Lib/R/library/datasets'\n",
       "\\item 'C:/anaconda3/Lib/R/library/methods'\n",
       "\\item 'C:/anaconda3/lib/R/library/base'\n",
       "\\end{enumerate*}\n"
      ],
      "text/markdown": [
       "1. 'C:/anaconda3/Lib/R/library/stats'\n",
       "2. 'C:/anaconda3/Lib/R/library/graphics'\n",
       "3. 'C:/anaconda3/Lib/R/library/grDevices'\n",
       "4. 'C:/anaconda3/Lib/R/library/utils'\n",
       "5. 'C:/anaconda3/Lib/R/library/datasets'\n",
       "6. 'C:/anaconda3/Lib/R/library/methods'\n",
       "7. 'C:/anaconda3/lib/R/library/base'\n",
       "\n",
       "\n"
      ],
      "text/plain": [
       "[1] \"C:/anaconda3/Lib/R/library/stats\"    \n",
       "[2] \"C:/anaconda3/Lib/R/library/graphics\" \n",
       "[3] \"C:/anaconda3/Lib/R/library/grDevices\"\n",
       "[4] \"C:/anaconda3/Lib/R/library/utils\"    \n",
       "[5] \"C:/anaconda3/Lib/R/library/datasets\" \n",
       "[6] \"C:/anaconda3/Lib/R/library/methods\"  \n",
       "[7] \"C:/anaconda3/lib/R/library/base\"     "
      ]
     },
     "metadata": {},
     "output_type": "display_data"
    }
   ],
   "source": [
    "library(help=MASS)\n",
    "library(MASS)\n",
    "find.package() # list all loaded packages\n",
    "detach(\"package:MASS\", unload=TRUE)\n",
    "find.package()"
   ]
  },
  {
   "cell_type": "code",
   "execution_count": 33,
   "metadata": {},
   "outputs": [],
   "source": [
    "whales=scan() #doesn't work in jupyter"
   ]
  },
  {
   "cell_type": "code",
   "execution_count": 34,
   "metadata": {},
   "outputs": [],
   "source": [
    "data()"
   ]
  },
  {
   "cell_type": "code",
   "execution_count": 35,
   "metadata": {
    "scrolled": true
   },
   "outputs": [
    {
     "data": {
      "text/html": [
       "<table>\n",
       "<thead><tr><th scope=col>area</th><th scope=col>peri</th><th scope=col>shape</th><th scope=col>perm</th></tr></thead>\n",
       "<tbody>\n",
       "\t<tr><td>4990     </td><td>2791.90  </td><td>0.0903296</td><td> 6.3     </td></tr>\n",
       "\t<tr><td>7002     </td><td>3892.60  </td><td>0.1486220</td><td> 6.3     </td></tr>\n",
       "\t<tr><td>7558     </td><td>3930.66  </td><td>0.1833120</td><td> 6.3     </td></tr>\n",
       "\t<tr><td>7352     </td><td>3869.32  </td><td>0.1170630</td><td> 6.3     </td></tr>\n",
       "\t<tr><td>7943     </td><td>3948.54  </td><td>0.1224170</td><td>17.1     </td></tr>\n",
       "\t<tr><td>7979     </td><td>4010.15  </td><td>0.1670450</td><td>17.1     </td></tr>\n",
       "</tbody>\n",
       "</table>\n"
      ],
      "text/latex": [
       "\\begin{tabular}{r|llll}\n",
       " area & peri & shape & perm\\\\\n",
       "\\hline\n",
       "\t 4990      & 2791.90   & 0.0903296 &  6.3     \\\\\n",
       "\t 7002      & 3892.60   & 0.1486220 &  6.3     \\\\\n",
       "\t 7558      & 3930.66   & 0.1833120 &  6.3     \\\\\n",
       "\t 7352      & 3869.32   & 0.1170630 &  6.3     \\\\\n",
       "\t 7943      & 3948.54   & 0.1224170 & 17.1     \\\\\n",
       "\t 7979      & 4010.15   & 0.1670450 & 17.1     \\\\\n",
       "\\end{tabular}\n"
      ],
      "text/markdown": [
       "\n",
       "| area | peri | shape | perm |\n",
       "|---|---|---|---|\n",
       "| 4990      | 2791.90   | 0.0903296 |  6.3      |\n",
       "| 7002      | 3892.60   | 0.1486220 |  6.3      |\n",
       "| 7558      | 3930.66   | 0.1833120 |  6.3      |\n",
       "| 7352      | 3869.32   | 0.1170630 |  6.3      |\n",
       "| 7943      | 3948.54   | 0.1224170 | 17.1      |\n",
       "| 7979      | 4010.15   | 0.1670450 | 17.1      |\n",
       "\n"
      ],
      "text/plain": [
       "  area peri    shape     perm\n",
       "1 4990 2791.90 0.0903296  6.3\n",
       "2 7002 3892.60 0.1486220  6.3\n",
       "3 7558 3930.66 0.1833120  6.3\n",
       "4 7352 3869.32 0.1170630  6.3\n",
       "5 7943 3948.54 0.1224170 17.1\n",
       "6 7979 4010.15 0.1670450 17.1"
      ]
     },
     "metadata": {},
     "output_type": "display_data"
    }
   ],
   "source": [
    "head(rock)"
   ]
  },
  {
   "cell_type": "code",
   "execution_count": 21,
   "metadata": {
    "scrolled": true
   },
   "outputs": [
    {
     "data": {
      "text/html": [
       "12345896"
      ],
      "text/latex": [
       "12345896"
      ],
      "text/markdown": [
       "12345896"
      ],
      "text/plain": [
       "[1] 12345896"
      ]
     },
     "metadata": {},
     "output_type": "display_data"
    }
   ],
   "source": [
    "numbers=scan(file=\"numbers.txt\");numbers\n"
   ]
  },
  {
   "cell_type": "code",
   "execution_count": null,
   "metadata": {
    "scrolled": false
   },
   "outputs": [],
   "source": [
    "mytable=read.table(file=\"table.txt\", header=TRUE);mytable\n",
    "# read.table(file=file.choose()) \n",
    "class(mytable)"
   ]
  },
  {
   "cell_type": "code",
   "execution_count": null,
   "metadata": {
    "scrolled": true
   },
   "outputs": [],
   "source": [
    "LETTERS\n",
    "data.frame(index=1:26, symbol=LETTERS)"
   ]
  },
  {
   "cell_type": "code",
   "execution_count": null,
   "metadata": {},
   "outputs": [],
   "source": [
    "?data.frame"
   ]
  },
  {
   "cell_type": "code",
   "execution_count": null,
   "metadata": {
    "scrolled": true
   },
   "outputs": [],
   "source": [
    "mydata=data.frame(col1=1:3, col2=4:6, col3=c('x', 'y', 'z'));mydata"
   ]
  },
  {
   "cell_type": "code",
   "execution_count": null,
   "metadata": {
    "scrolled": true
   },
   "outputs": [],
   "source": [
    "# col1=9\n",
    "# rm(col1)\n",
    "# ls()\n",
    "names(mydata)\n",
    "attach(mydata)\n",
    "col1\n",
    "col2\n",
    "# detach(mydata)\n",
    "# # col1\n",
    "# # col1\n",
    "# # col2\n",
    "mydata$col1\n",
    "with(mydata, col1)\n",
    "with(mydata, mean(col1))"
   ]
  },
  {
   "cell_type": "code",
   "execution_count": 1,
   "metadata": {},
   "outputs": [
    {
     "data": {
      "text/html": [
       "<table>\n",
       "<thead><tr><th scope=col>blood.glucose</th><th scope=col>short.velocity</th></tr></thead>\n",
       "<tbody>\n",
       "\t<tr><td>15.3</td><td>1.76</td></tr>\n",
       "\t<tr><td>10.8</td><td>1.34</td></tr>\n",
       "\t<tr><td> 8.1</td><td>1.27</td></tr>\n",
       "\t<tr><td>19.5</td><td>1.47</td></tr>\n",
       "\t<tr><td> 7.2</td><td>1.27</td></tr>\n",
       "\t<tr><td> 5.3</td><td>1.49</td></tr>\n",
       "</tbody>\n",
       "</table>\n"
      ],
      "text/latex": [
       "\\begin{tabular}{r|ll}\n",
       " blood.glucose & short.velocity\\\\\n",
       "\\hline\n",
       "\t 15.3 & 1.76\\\\\n",
       "\t 10.8 & 1.34\\\\\n",
       "\t  8.1 & 1.27\\\\\n",
       "\t 19.5 & 1.47\\\\\n",
       "\t  7.2 & 1.27\\\\\n",
       "\t  5.3 & 1.49\\\\\n",
       "\\end{tabular}\n"
      ],
      "text/markdown": [
       "\n",
       "| blood.glucose | short.velocity |\n",
       "|---|---|\n",
       "| 15.3 | 1.76 |\n",
       "| 10.8 | 1.34 |\n",
       "|  8.1 | 1.27 |\n",
       "| 19.5 | 1.47 |\n",
       "|  7.2 | 1.27 |\n",
       "|  5.3 | 1.49 |\n",
       "\n"
      ],
      "text/plain": [
       "  blood.glucose short.velocity\n",
       "1 15.3          1.76          \n",
       "2 10.8          1.34          \n",
       "3  8.1          1.27          \n",
       "4 19.5          1.47          \n",
       "5  7.2          1.27          \n",
       "6  5.3          1.49          "
      ]
     },
     "metadata": {},
     "output_type": "display_data"
    },
    {
     "data": {
      "text/html": [
       "<ol class=list-inline>\n",
       "\t<li>'blood.glucose'</li>\n",
       "\t<li>'short.velocity'</li>\n",
       "</ol>\n"
      ],
      "text/latex": [
       "\\begin{enumerate*}\n",
       "\\item 'blood.glucose'\n",
       "\\item 'short.velocity'\n",
       "\\end{enumerate*}\n"
      ],
      "text/markdown": [
       "1. 'blood.glucose'\n",
       "2. 'short.velocity'\n",
       "\n",
       "\n"
      ],
      "text/plain": [
       "[1] \"blood.glucose\"  \"short.velocity\""
      ]
     },
     "metadata": {},
     "output_type": "display_data"
    },
    {
     "data": {
      "text/html": [
       "<ol class=list-inline>\n",
       "\t<li>15.3</li>\n",
       "\t<li>10.8</li>\n",
       "\t<li>8.1</li>\n",
       "\t<li>19.5</li>\n",
       "\t<li>7.2</li>\n",
       "\t<li>5.3</li>\n",
       "\t<li>9.3</li>\n",
       "\t<li>11.1</li>\n",
       "\t<li>7.5</li>\n",
       "\t<li>12.2</li>\n",
       "\t<li>6.7</li>\n",
       "\t<li>5.2</li>\n",
       "\t<li>19</li>\n",
       "\t<li>15.1</li>\n",
       "\t<li>6.7</li>\n",
       "\t<li>8.6</li>\n",
       "\t<li>4.2</li>\n",
       "\t<li>10.3</li>\n",
       "\t<li>12.5</li>\n",
       "\t<li>16.1</li>\n",
       "\t<li>13.3</li>\n",
       "\t<li>4.9</li>\n",
       "\t<li>8.8</li>\n",
       "\t<li>9.5</li>\n",
       "</ol>\n"
      ],
      "text/latex": [
       "\\begin{enumerate*}\n",
       "\\item 15.3\n",
       "\\item 10.8\n",
       "\\item 8.1\n",
       "\\item 19.5\n",
       "\\item 7.2\n",
       "\\item 5.3\n",
       "\\item 9.3\n",
       "\\item 11.1\n",
       "\\item 7.5\n",
       "\\item 12.2\n",
       "\\item 6.7\n",
       "\\item 5.2\n",
       "\\item 19\n",
       "\\item 15.1\n",
       "\\item 6.7\n",
       "\\item 8.6\n",
       "\\item 4.2\n",
       "\\item 10.3\n",
       "\\item 12.5\n",
       "\\item 16.1\n",
       "\\item 13.3\n",
       "\\item 4.9\n",
       "\\item 8.8\n",
       "\\item 9.5\n",
       "\\end{enumerate*}\n"
      ],
      "text/markdown": [
       "1. 15.3\n",
       "2. 10.8\n",
       "3. 8.1\n",
       "4. 19.5\n",
       "5. 7.2\n",
       "6. 5.3\n",
       "7. 9.3\n",
       "8. 11.1\n",
       "9. 7.5\n",
       "10. 12.2\n",
       "11. 6.7\n",
       "12. 5.2\n",
       "13. 19\n",
       "14. 15.1\n",
       "15. 6.7\n",
       "16. 8.6\n",
       "17. 4.2\n",
       "18. 10.3\n",
       "19. 12.5\n",
       "20. 16.1\n",
       "21. 13.3\n",
       "22. 4.9\n",
       "23. 8.8\n",
       "24. 9.5\n",
       "\n",
       "\n"
      ],
      "text/plain": [
       " [1] 15.3 10.8  8.1 19.5  7.2  5.3  9.3 11.1  7.5 12.2  6.7  5.2 19.0 15.1  6.7\n",
       "[16]  8.6  4.2 10.3 12.5 16.1 13.3  4.9  8.8  9.5"
      ]
     },
     "metadata": {},
     "output_type": "display_data"
    },
    {
     "data": {
      "text/html": [
       "<ol class=list-inline>\n",
       "\t<li>15.3</li>\n",
       "\t<li>10.8</li>\n",
       "\t<li>8.1</li>\n",
       "\t<li>19.5</li>\n",
       "\t<li>7.2</li>\n",
       "\t<li>5.3</li>\n",
       "\t<li>9.3</li>\n",
       "\t<li>11.1</li>\n",
       "\t<li>7.5</li>\n",
       "\t<li>12.2</li>\n",
       "\t<li>6.7</li>\n",
       "\t<li>5.2</li>\n",
       "\t<li>19</li>\n",
       "\t<li>15.1</li>\n",
       "\t<li>6.7</li>\n",
       "\t<li>8.6</li>\n",
       "\t<li>4.2</li>\n",
       "\t<li>10.3</li>\n",
       "\t<li>12.5</li>\n",
       "\t<li>16.1</li>\n",
       "\t<li>13.3</li>\n",
       "\t<li>4.9</li>\n",
       "\t<li>8.8</li>\n",
       "\t<li>9.5</li>\n",
       "</ol>\n"
      ],
      "text/latex": [
       "\\begin{enumerate*}\n",
       "\\item 15.3\n",
       "\\item 10.8\n",
       "\\item 8.1\n",
       "\\item 19.5\n",
       "\\item 7.2\n",
       "\\item 5.3\n",
       "\\item 9.3\n",
       "\\item 11.1\n",
       "\\item 7.5\n",
       "\\item 12.2\n",
       "\\item 6.7\n",
       "\\item 5.2\n",
       "\\item 19\n",
       "\\item 15.1\n",
       "\\item 6.7\n",
       "\\item 8.6\n",
       "\\item 4.2\n",
       "\\item 10.3\n",
       "\\item 12.5\n",
       "\\item 16.1\n",
       "\\item 13.3\n",
       "\\item 4.9\n",
       "\\item 8.8\n",
       "\\item 9.5\n",
       "\\end{enumerate*}\n"
      ],
      "text/markdown": [
       "1. 15.3\n",
       "2. 10.8\n",
       "3. 8.1\n",
       "4. 19.5\n",
       "5. 7.2\n",
       "6. 5.3\n",
       "7. 9.3\n",
       "8. 11.1\n",
       "9. 7.5\n",
       "10. 12.2\n",
       "11. 6.7\n",
       "12. 5.2\n",
       "13. 19\n",
       "14. 15.1\n",
       "15. 6.7\n",
       "16. 8.6\n",
       "17. 4.2\n",
       "18. 10.3\n",
       "19. 12.5\n",
       "20. 16.1\n",
       "21. 13.3\n",
       "22. 4.9\n",
       "23. 8.8\n",
       "24. 9.5\n",
       "\n",
       "\n"
      ],
      "text/plain": [
       " [1] 15.3 10.8  8.1 19.5  7.2  5.3  9.3 11.1  7.5 12.2  6.7  5.2 19.0 15.1  6.7\n",
       "[16]  8.6  4.2 10.3 12.5 16.1 13.3  4.9  8.8  9.5"
      ]
     },
     "metadata": {},
     "output_type": "display_data"
    }
   ],
   "source": [
    "library(ISwR)\n",
    "data(thuesen)\n",
    "head(thuesen)\n",
    "names(thuesen)\n",
    "attach(thuesen) #add namespace\n",
    "blood.glucose\n",
    "detach(thuesen) #remove namespace\n",
    "thuesen$blood.glucose"
   ]
  },
  {
   "cell_type": "code",
   "execution_count": 2,
   "metadata": {
    "scrolled": true
   },
   "outputs": [
    {
     "data": {
      "text/html": [
       "<ol class=list-inline>\n",
       "\t<li>15.3</li>\n",
       "\t<li>10.8</li>\n",
       "\t<li>8.1</li>\n",
       "\t<li>19.5</li>\n",
       "\t<li>7.2</li>\n",
       "\t<li>5.3</li>\n",
       "\t<li>9.3</li>\n",
       "\t<li>11.1</li>\n",
       "\t<li>7.5</li>\n",
       "\t<li>12.2</li>\n",
       "\t<li>6.7</li>\n",
       "\t<li>5.2</li>\n",
       "\t<li>19</li>\n",
       "\t<li>15.1</li>\n",
       "\t<li>6.7</li>\n",
       "\t<li>8.6</li>\n",
       "\t<li>4.2</li>\n",
       "\t<li>10.3</li>\n",
       "\t<li>12.5</li>\n",
       "\t<li>16.1</li>\n",
       "\t<li>13.3</li>\n",
       "\t<li>4.9</li>\n",
       "\t<li>8.8</li>\n",
       "\t<li>9.5</li>\n",
       "</ol>\n"
      ],
      "text/latex": [
       "\\begin{enumerate*}\n",
       "\\item 15.3\n",
       "\\item 10.8\n",
       "\\item 8.1\n",
       "\\item 19.5\n",
       "\\item 7.2\n",
       "\\item 5.3\n",
       "\\item 9.3\n",
       "\\item 11.1\n",
       "\\item 7.5\n",
       "\\item 12.2\n",
       "\\item 6.7\n",
       "\\item 5.2\n",
       "\\item 19\n",
       "\\item 15.1\n",
       "\\item 6.7\n",
       "\\item 8.6\n",
       "\\item 4.2\n",
       "\\item 10.3\n",
       "\\item 12.5\n",
       "\\item 16.1\n",
       "\\item 13.3\n",
       "\\item 4.9\n",
       "\\item 8.8\n",
       "\\item 9.5\n",
       "\\end{enumerate*}\n"
      ],
      "text/markdown": [
       "1. 15.3\n",
       "2. 10.8\n",
       "3. 8.1\n",
       "4. 19.5\n",
       "5. 7.2\n",
       "6. 5.3\n",
       "7. 9.3\n",
       "8. 11.1\n",
       "9. 7.5\n",
       "10. 12.2\n",
       "11. 6.7\n",
       "12. 5.2\n",
       "13. 19\n",
       "14. 15.1\n",
       "15. 6.7\n",
       "16. 8.6\n",
       "17. 4.2\n",
       "18. 10.3\n",
       "19. 12.5\n",
       "20. 16.1\n",
       "21. 13.3\n",
       "22. 4.9\n",
       "23. 8.8\n",
       "24. 9.5\n",
       "\n",
       "\n"
      ],
      "text/plain": [
       " [1] 15.3 10.8  8.1 19.5  7.2  5.3  9.3 11.1  7.5 12.2  6.7  5.2 19.0 15.1  6.7\n",
       "[16]  8.6  4.2 10.3 12.5 16.1 13.3  4.9  8.8  9.5"
      ]
     },
     "metadata": {},
     "output_type": "display_data"
    },
    {
     "data": {
      "text/html": [
       "10.3"
      ],
      "text/latex": [
       "10.3"
      ],
      "text/markdown": [
       "10.3"
      ],
      "text/plain": [
       "[1] 10.3"
      ]
     },
     "metadata": {},
     "output_type": "display_data"
    },
    {
     "data": {
      "text/html": [
       "<ol class=list-inline>\n",
       "\t<li>4.2</li>\n",
       "\t<li>19.5</li>\n",
       "</ol>\n"
      ],
      "text/latex": [
       "\\begin{enumerate*}\n",
       "\\item 4.2\n",
       "\\item 19.5\n",
       "\\end{enumerate*}\n"
      ],
      "text/markdown": [
       "1. 4.2\n",
       "2. 19.5\n",
       "\n",
       "\n"
      ],
      "text/plain": [
       "[1]  4.2 19.5"
      ]
     },
     "metadata": {},
     "output_type": "display_data"
    }
   ],
   "source": [
    "with(thuesen, blood.glucose) # with context\n",
    "with(thuesen, mean(blood.glucose))\n",
    "with(thuesen, range(blood.glucose))"
   ]
  },
  {
   "cell_type": "code",
   "execution_count": 3,
   "metadata": {
    "scrolled": true
   },
   "outputs": [
    {
     "data": {
      "text/html": [
       "<table>\n",
       "<thead><tr><th scope=col>expend</th><th scope=col>stature</th></tr></thead>\n",
       "<tbody>\n",
       "\t<tr><td> 9.21</td><td>obese</td></tr>\n",
       "\t<tr><td> 7.53</td><td>lean </td></tr>\n",
       "\t<tr><td> 7.48</td><td>lean </td></tr>\n",
       "\t<tr><td> 8.08</td><td>lean </td></tr>\n",
       "\t<tr><td> 8.09</td><td>lean </td></tr>\n",
       "\t<tr><td>10.15</td><td>lean </td></tr>\n",
       "</tbody>\n",
       "</table>\n"
      ],
      "text/latex": [
       "\\begin{tabular}{r|ll}\n",
       " expend & stature\\\\\n",
       "\\hline\n",
       "\t  9.21 & obese\\\\\n",
       "\t  7.53 & lean \\\\\n",
       "\t  7.48 & lean \\\\\n",
       "\t  8.08 & lean \\\\\n",
       "\t  8.09 & lean \\\\\n",
       "\t 10.15 & lean \\\\\n",
       "\\end{tabular}\n"
      ],
      "text/markdown": [
       "\n",
       "| expend | stature |\n",
       "|---|---|\n",
       "|  9.21 | obese |\n",
       "|  7.53 | lean  |\n",
       "|  7.48 | lean  |\n",
       "|  8.08 | lean  |\n",
       "|  8.09 | lean  |\n",
       "| 10.15 | lean  |\n",
       "\n"
      ],
      "text/plain": [
       "  expend stature\n",
       "1  9.21  obese  \n",
       "2  7.53  lean   \n",
       "3  7.48  lean   \n",
       "4  8.08  lean   \n",
       "5  8.09  lean   \n",
       "6 10.15  lean   "
      ]
     },
     "metadata": {},
     "output_type": "display_data"
    },
    {
     "data": {
      "text/html": [
       "'data.frame'"
      ],
      "text/latex": [
       "'data.frame'"
      ],
      "text/markdown": [
       "'data.frame'"
      ],
      "text/plain": [
       "[1] \"data.frame\""
      ]
     },
     "metadata": {},
     "output_type": "display_data"
    },
    {
     "data": {
      "text/html": [
       "<table>\n",
       "<thead><tr><th></th><th scope=col>expend</th><th scope=col>stature</th></tr></thead>\n",
       "<tbody>\n",
       "\t<tr><th scope=row>2</th><td> 7.53</td><td>lean </td></tr>\n",
       "\t<tr><th scope=row>3</th><td> 7.48</td><td>lean </td></tr>\n",
       "\t<tr><th scope=row>4</th><td> 8.08</td><td>lean </td></tr>\n",
       "\t<tr><th scope=row>5</th><td> 8.09</td><td>lean </td></tr>\n",
       "\t<tr><th scope=row>6</th><td>10.15</td><td>lean </td></tr>\n",
       "\t<tr><th scope=row>7</th><td> 8.40</td><td>lean </td></tr>\n",
       "\t<tr><th scope=row>8</th><td>10.88</td><td>lean </td></tr>\n",
       "\t<tr><th scope=row>9</th><td> 6.13</td><td>lean </td></tr>\n",
       "\t<tr><th scope=row>10</th><td> 7.90</td><td>lean </td></tr>\n",
       "\t<tr><th scope=row>13</th><td> 7.05</td><td>lean </td></tr>\n",
       "\t<tr><th scope=row>16</th><td> 7.48</td><td>lean </td></tr>\n",
       "\t<tr><th scope=row>20</th><td> 7.58</td><td>lean </td></tr>\n",
       "\t<tr><th scope=row>22</th><td> 8.11</td><td>lean </td></tr>\n",
       "</tbody>\n",
       "</table>\n"
      ],
      "text/latex": [
       "\\begin{tabular}{r|ll}\n",
       "  & expend & stature\\\\\n",
       "\\hline\n",
       "\t2 &  7.53 & lean \\\\\n",
       "\t3 &  7.48 & lean \\\\\n",
       "\t4 &  8.08 & lean \\\\\n",
       "\t5 &  8.09 & lean \\\\\n",
       "\t6 & 10.15 & lean \\\\\n",
       "\t7 &  8.40 & lean \\\\\n",
       "\t8 & 10.88 & lean \\\\\n",
       "\t9 &  6.13 & lean \\\\\n",
       "\t10 &  7.90 & lean \\\\\n",
       "\t13 &  7.05 & lean \\\\\n",
       "\t16 &  7.48 & lean \\\\\n",
       "\t20 &  7.58 & lean \\\\\n",
       "\t22 &  8.11 & lean \\\\\n",
       "\\end{tabular}\n"
      ],
      "text/markdown": [
       "\n",
       "| <!--/--> | expend | stature |\n",
       "|---|---|---|\n",
       "| 2 |  7.53 | lean  |\n",
       "| 3 |  7.48 | lean  |\n",
       "| 4 |  8.08 | lean  |\n",
       "| 5 |  8.09 | lean  |\n",
       "| 6 | 10.15 | lean  |\n",
       "| 7 |  8.40 | lean  |\n",
       "| 8 | 10.88 | lean  |\n",
       "| 9 |  6.13 | lean  |\n",
       "| 10 |  7.90 | lean  |\n",
       "| 13 |  7.05 | lean  |\n",
       "| 16 |  7.48 | lean  |\n",
       "| 20 |  7.58 | lean  |\n",
       "| 22 |  8.11 | lean  |\n",
       "\n"
      ],
      "text/plain": [
       "   expend stature\n",
       "2   7.53  lean   \n",
       "3   7.48  lean   \n",
       "4   8.08  lean   \n",
       "5   8.09  lean   \n",
       "6  10.15  lean   \n",
       "7   8.40  lean   \n",
       "8  10.88  lean   \n",
       "9   6.13  lean   \n",
       "10  7.90  lean   \n",
       "13  7.05  lean   \n",
       "16  7.48  lean   \n",
       "20  7.58  lean   \n",
       "22  8.11  lean   "
      ]
     },
     "metadata": {},
     "output_type": "display_data"
    }
   ],
   "source": [
    "head(energy)\n",
    "class(energy)\n",
    "energy[energy$stature== \"lean\",]"
   ]
  },
  {
   "cell_type": "code",
   "execution_count": 4,
   "metadata": {},
   "outputs": [
    {
     "data": {
      "text/html": [
       "<ol class=list-inline>\n",
       "\t<li>FALSE</li>\n",
       "\t<li>TRUE</li>\n",
       "\t<li>TRUE</li>\n",
       "\t<li>TRUE</li>\n",
       "\t<li>TRUE</li>\n",
       "\t<li>TRUE</li>\n",
       "\t<li>TRUE</li>\n",
       "\t<li>TRUE</li>\n",
       "\t<li>TRUE</li>\n",
       "\t<li>TRUE</li>\n",
       "\t<li>FALSE</li>\n",
       "\t<li>FALSE</li>\n",
       "\t<li>TRUE</li>\n",
       "\t<li>FALSE</li>\n",
       "\t<li>FALSE</li>\n",
       "\t<li>TRUE</li>\n",
       "\t<li>FALSE</li>\n",
       "\t<li>FALSE</li>\n",
       "\t<li>FALSE</li>\n",
       "\t<li>TRUE</li>\n",
       "\t<li>FALSE</li>\n",
       "\t<li>TRUE</li>\n",
       "</ol>\n"
      ],
      "text/latex": [
       "\\begin{enumerate*}\n",
       "\\item FALSE\n",
       "\\item TRUE\n",
       "\\item TRUE\n",
       "\\item TRUE\n",
       "\\item TRUE\n",
       "\\item TRUE\n",
       "\\item TRUE\n",
       "\\item TRUE\n",
       "\\item TRUE\n",
       "\\item TRUE\n",
       "\\item FALSE\n",
       "\\item FALSE\n",
       "\\item TRUE\n",
       "\\item FALSE\n",
       "\\item FALSE\n",
       "\\item TRUE\n",
       "\\item FALSE\n",
       "\\item FALSE\n",
       "\\item FALSE\n",
       "\\item TRUE\n",
       "\\item FALSE\n",
       "\\item TRUE\n",
       "\\end{enumerate*}\n"
      ],
      "text/markdown": [
       "1. FALSE\n",
       "2. TRUE\n",
       "3. TRUE\n",
       "4. TRUE\n",
       "5. TRUE\n",
       "6. TRUE\n",
       "7. TRUE\n",
       "8. TRUE\n",
       "9. TRUE\n",
       "10. TRUE\n",
       "11. FALSE\n",
       "12. FALSE\n",
       "13. TRUE\n",
       "14. FALSE\n",
       "15. FALSE\n",
       "16. TRUE\n",
       "17. FALSE\n",
       "18. FALSE\n",
       "19. FALSE\n",
       "20. TRUE\n",
       "21. FALSE\n",
       "22. TRUE\n",
       "\n",
       "\n"
      ],
      "text/plain": [
       " [1] FALSE  TRUE  TRUE  TRUE  TRUE  TRUE  TRUE  TRUE  TRUE  TRUE FALSE FALSE\n",
       "[13]  TRUE FALSE FALSE  TRUE FALSE FALSE FALSE  TRUE FALSE  TRUE"
      ]
     },
     "metadata": {},
     "output_type": "display_data"
    }
   ],
   "source": [
    "energy$stature== \"lean\""
   ]
  },
  {
   "cell_type": "code",
   "execution_count": 5,
   "metadata": {
    "scrolled": true
   },
   "outputs": [
    {
     "data": {
      "text/html": [
       "<ol class=list-inline>\n",
       "\t<li>9.21</li>\n",
       "\t<li>7.53</li>\n",
       "\t<li>7.48</li>\n",
       "\t<li>8.08</li>\n",
       "\t<li>8.09</li>\n",
       "\t<li>10.15</li>\n",
       "\t<li>8.4</li>\n",
       "\t<li>10.88</li>\n",
       "\t<li>6.13</li>\n",
       "\t<li>7.9</li>\n",
       "\t<li>11.51</li>\n",
       "\t<li>12.79</li>\n",
       "\t<li>7.05</li>\n",
       "\t<li>11.85</li>\n",
       "\t<li>9.97</li>\n",
       "\t<li>7.48</li>\n",
       "\t<li>8.79</li>\n",
       "\t<li>9.69</li>\n",
       "\t<li>9.68</li>\n",
       "\t<li>7.58</li>\n",
       "\t<li>9.19</li>\n",
       "\t<li>8.11</li>\n",
       "</ol>\n"
      ],
      "text/latex": [
       "\\begin{enumerate*}\n",
       "\\item 9.21\n",
       "\\item 7.53\n",
       "\\item 7.48\n",
       "\\item 8.08\n",
       "\\item 8.09\n",
       "\\item 10.15\n",
       "\\item 8.4\n",
       "\\item 10.88\n",
       "\\item 6.13\n",
       "\\item 7.9\n",
       "\\item 11.51\n",
       "\\item 12.79\n",
       "\\item 7.05\n",
       "\\item 11.85\n",
       "\\item 9.97\n",
       "\\item 7.48\n",
       "\\item 8.79\n",
       "\\item 9.69\n",
       "\\item 9.68\n",
       "\\item 7.58\n",
       "\\item 9.19\n",
       "\\item 8.11\n",
       "\\end{enumerate*}\n"
      ],
      "text/markdown": [
       "1. 9.21\n",
       "2. 7.53\n",
       "3. 7.48\n",
       "4. 8.08\n",
       "5. 8.09\n",
       "6. 10.15\n",
       "7. 8.4\n",
       "8. 10.88\n",
       "9. 6.13\n",
       "10. 7.9\n",
       "11. 11.51\n",
       "12. 12.79\n",
       "13. 7.05\n",
       "14. 11.85\n",
       "15. 9.97\n",
       "16. 7.48\n",
       "17. 8.79\n",
       "18. 9.69\n",
       "19. 9.68\n",
       "20. 7.58\n",
       "21. 9.19\n",
       "22. 8.11\n",
       "\n",
       "\n"
      ],
      "text/plain": [
       " [1]  9.21  7.53  7.48  8.08  8.09 10.15  8.40 10.88  6.13  7.90 11.51 12.79\n",
       "[13]  7.05 11.85  9.97  7.48  8.79  9.69  9.68  7.58  9.19  8.11"
      ]
     },
     "metadata": {},
     "output_type": "display_data"
    },
    {
     "data": {
      "text/html": [
       "<ol class=list-inline>\n",
       "\t<li>9</li>\n",
       "\t<li>13</li>\n",
       "\t<li>3</li>\n",
       "\t<li>16</li>\n",
       "\t<li>2</li>\n",
       "\t<li>20</li>\n",
       "\t<li>10</li>\n",
       "\t<li>4</li>\n",
       "\t<li>5</li>\n",
       "\t<li>22</li>\n",
       "\t<li>7</li>\n",
       "\t<li>17</li>\n",
       "\t<li>21</li>\n",
       "\t<li>1</li>\n",
       "\t<li>19</li>\n",
       "\t<li>18</li>\n",
       "\t<li>15</li>\n",
       "\t<li>6</li>\n",
       "\t<li>8</li>\n",
       "\t<li>11</li>\n",
       "\t<li>14</li>\n",
       "\t<li>12</li>\n",
       "</ol>\n"
      ],
      "text/latex": [
       "\\begin{enumerate*}\n",
       "\\item 9\n",
       "\\item 13\n",
       "\\item 3\n",
       "\\item 16\n",
       "\\item 2\n",
       "\\item 20\n",
       "\\item 10\n",
       "\\item 4\n",
       "\\item 5\n",
       "\\item 22\n",
       "\\item 7\n",
       "\\item 17\n",
       "\\item 21\n",
       "\\item 1\n",
       "\\item 19\n",
       "\\item 18\n",
       "\\item 15\n",
       "\\item 6\n",
       "\\item 8\n",
       "\\item 11\n",
       "\\item 14\n",
       "\\item 12\n",
       "\\end{enumerate*}\n"
      ],
      "text/markdown": [
       "1. 9\n",
       "2. 13\n",
       "3. 3\n",
       "4. 16\n",
       "5. 2\n",
       "6. 20\n",
       "7. 10\n",
       "8. 4\n",
       "9. 5\n",
       "10. 22\n",
       "11. 7\n",
       "12. 17\n",
       "13. 21\n",
       "14. 1\n",
       "15. 19\n",
       "16. 18\n",
       "17. 15\n",
       "18. 6\n",
       "19. 8\n",
       "20. 11\n",
       "21. 14\n",
       "22. 12\n",
       "\n",
       "\n"
      ],
      "text/plain": [
       " [1]  9 13  3 16  2 20 10  4  5 22  7 17 21  1 19 18 15  6  8 11 14 12"
      ]
     },
     "metadata": {},
     "output_type": "display_data"
    }
   ],
   "source": [
    "energy$expend\n",
    "order(energy$expend)"
   ]
  },
  {
   "cell_type": "code",
   "execution_count": 6,
   "metadata": {},
   "outputs": [
    {
     "data": {
      "text/html": [
       "<ol class=list-inline>\n",
       "\t<li>obese</li>\n",
       "\t<li>lean</li>\n",
       "\t<li>lean</li>\n",
       "\t<li>lean</li>\n",
       "\t<li>lean</li>\n",
       "\t<li>lean</li>\n",
       "\t<li>lean</li>\n",
       "\t<li>lean</li>\n",
       "\t<li>lean</li>\n",
       "\t<li>lean</li>\n",
       "\t<li>obese</li>\n",
       "\t<li>obese</li>\n",
       "\t<li>lean</li>\n",
       "\t<li>obese</li>\n",
       "\t<li>obese</li>\n",
       "\t<li>lean</li>\n",
       "\t<li>obese</li>\n",
       "\t<li>obese</li>\n",
       "\t<li>obese</li>\n",
       "\t<li>lean</li>\n",
       "\t<li>obese</li>\n",
       "\t<li>lean</li>\n",
       "</ol>\n",
       "\n",
       "<details>\n",
       "\t<summary style=display:list-item;cursor:pointer>\n",
       "\t\t<strong>Levels</strong>:\n",
       "\t</summary>\n",
       "\t<ol class=list-inline>\n",
       "\t\t<li>'lean'</li>\n",
       "\t\t<li>'obese'</li>\n",
       "\t</ol>\n",
       "</details>"
      ],
      "text/latex": [
       "\\begin{enumerate*}\n",
       "\\item obese\n",
       "\\item lean\n",
       "\\item lean\n",
       "\\item lean\n",
       "\\item lean\n",
       "\\item lean\n",
       "\\item lean\n",
       "\\item lean\n",
       "\\item lean\n",
       "\\item lean\n",
       "\\item obese\n",
       "\\item obese\n",
       "\\item lean\n",
       "\\item obese\n",
       "\\item obese\n",
       "\\item lean\n",
       "\\item obese\n",
       "\\item obese\n",
       "\\item obese\n",
       "\\item lean\n",
       "\\item obese\n",
       "\\item lean\n",
       "\\end{enumerate*}\n",
       "\n",
       "\\emph{Levels}: \\begin{enumerate*}\n",
       "\\item 'lean'\n",
       "\\item 'obese'\n",
       "\\end{enumerate*}\n"
      ],
      "text/markdown": [
       "1. obese\n",
       "2. lean\n",
       "3. lean\n",
       "4. lean\n",
       "5. lean\n",
       "6. lean\n",
       "7. lean\n",
       "8. lean\n",
       "9. lean\n",
       "10. lean\n",
       "11. obese\n",
       "12. obese\n",
       "13. lean\n",
       "14. obese\n",
       "15. obese\n",
       "16. lean\n",
       "17. obese\n",
       "18. obese\n",
       "19. obese\n",
       "20. lean\n",
       "21. obese\n",
       "22. lean\n",
       "\n",
       "\n",
       "\n",
       "**Levels**: 1. 'lean'\n",
       "2. 'obese'\n",
       "\n",
       "\n"
      ],
      "text/plain": [
       " [1] obese lean  lean  lean  lean  lean  lean  lean  lean  lean  obese obese\n",
       "[13] lean  obese obese lean  obese obese obese lean  obese lean \n",
       "Levels: lean obese"
      ]
     },
     "metadata": {},
     "output_type": "display_data"
    },
    {
     "data": {
      "text/html": [
       "<ol class=list-inline>\n",
       "\t<li>2</li>\n",
       "\t<li>3</li>\n",
       "\t<li>4</li>\n",
       "\t<li>5</li>\n",
       "\t<li>6</li>\n",
       "\t<li>7</li>\n",
       "\t<li>8</li>\n",
       "\t<li>9</li>\n",
       "\t<li>10</li>\n",
       "\t<li>13</li>\n",
       "\t<li>16</li>\n",
       "\t<li>20</li>\n",
       "\t<li>22</li>\n",
       "\t<li>1</li>\n",
       "\t<li>11</li>\n",
       "\t<li>12</li>\n",
       "\t<li>14</li>\n",
       "\t<li>15</li>\n",
       "\t<li>17</li>\n",
       "\t<li>18</li>\n",
       "\t<li>19</li>\n",
       "\t<li>21</li>\n",
       "</ol>\n"
      ],
      "text/latex": [
       "\\begin{enumerate*}\n",
       "\\item 2\n",
       "\\item 3\n",
       "\\item 4\n",
       "\\item 5\n",
       "\\item 6\n",
       "\\item 7\n",
       "\\item 8\n",
       "\\item 9\n",
       "\\item 10\n",
       "\\item 13\n",
       "\\item 16\n",
       "\\item 20\n",
       "\\item 22\n",
       "\\item 1\n",
       "\\item 11\n",
       "\\item 12\n",
       "\\item 14\n",
       "\\item 15\n",
       "\\item 17\n",
       "\\item 18\n",
       "\\item 19\n",
       "\\item 21\n",
       "\\end{enumerate*}\n"
      ],
      "text/markdown": [
       "1. 2\n",
       "2. 3\n",
       "3. 4\n",
       "4. 5\n",
       "5. 6\n",
       "6. 7\n",
       "7. 8\n",
       "8. 9\n",
       "9. 10\n",
       "10. 13\n",
       "11. 16\n",
       "12. 20\n",
       "13. 22\n",
       "14. 1\n",
       "15. 11\n",
       "16. 12\n",
       "17. 14\n",
       "18. 15\n",
       "19. 17\n",
       "20. 18\n",
       "21. 19\n",
       "22. 21\n",
       "\n",
       "\n"
      ],
      "text/plain": [
       " [1]  2  3  4  5  6  7  8  9 10 13 16 20 22  1 11 12 14 15 17 18 19 21"
      ]
     },
     "metadata": {},
     "output_type": "display_data"
    },
    {
     "data": {
      "text/html": [
       "<ol class=list-inline>\n",
       "\t<li>9</li>\n",
       "\t<li>13</li>\n",
       "\t<li>3</li>\n",
       "\t<li>16</li>\n",
       "\t<li>2</li>\n",
       "\t<li>20</li>\n",
       "\t<li>10</li>\n",
       "\t<li>4</li>\n",
       "\t<li>5</li>\n",
       "\t<li>22</li>\n",
       "\t<li>7</li>\n",
       "\t<li>6</li>\n",
       "\t<li>8</li>\n",
       "\t<li>17</li>\n",
       "\t<li>21</li>\n",
       "\t<li>1</li>\n",
       "\t<li>19</li>\n",
       "\t<li>18</li>\n",
       "\t<li>15</li>\n",
       "\t<li>11</li>\n",
       "\t<li>14</li>\n",
       "\t<li>12</li>\n",
       "</ol>\n"
      ],
      "text/latex": [
       "\\begin{enumerate*}\n",
       "\\item 9\n",
       "\\item 13\n",
       "\\item 3\n",
       "\\item 16\n",
       "\\item 2\n",
       "\\item 20\n",
       "\\item 10\n",
       "\\item 4\n",
       "\\item 5\n",
       "\\item 22\n",
       "\\item 7\n",
       "\\item 6\n",
       "\\item 8\n",
       "\\item 17\n",
       "\\item 21\n",
       "\\item 1\n",
       "\\item 19\n",
       "\\item 18\n",
       "\\item 15\n",
       "\\item 11\n",
       "\\item 14\n",
       "\\item 12\n",
       "\\end{enumerate*}\n"
      ],
      "text/markdown": [
       "1. 9\n",
       "2. 13\n",
       "3. 3\n",
       "4. 16\n",
       "5. 2\n",
       "6. 20\n",
       "7. 10\n",
       "8. 4\n",
       "9. 5\n",
       "10. 22\n",
       "11. 7\n",
       "12. 6\n",
       "13. 8\n",
       "14. 17\n",
       "15. 21\n",
       "16. 1\n",
       "17. 19\n",
       "18. 18\n",
       "19. 15\n",
       "20. 11\n",
       "21. 14\n",
       "22. 12\n",
       "\n",
       "\n"
      ],
      "text/plain": [
       " [1]  9 13  3 16  2 20 10  4  5 22  7  6  8 17 21  1 19 18 15 11 14 12"
      ]
     },
     "metadata": {},
     "output_type": "display_data"
    }
   ],
   "source": [
    "energy$stature\n",
    "order(energy$stature)\n",
    "order(energy$stature, energy$expend)"
   ]
  },
  {
   "cell_type": "code",
   "execution_count": 7,
   "metadata": {
    "scrolled": true
   },
   "outputs": [
    {
     "data": {
      "text/html": [
       "<table>\n",
       "<thead><tr><th></th><th scope=col>expend</th><th scope=col>stature</th></tr></thead>\n",
       "<tbody>\n",
       "\t<tr><th scope=row>9</th><td> 6.13</td><td>lean </td></tr>\n",
       "\t<tr><th scope=row>13</th><td> 7.05</td><td>lean </td></tr>\n",
       "\t<tr><th scope=row>3</th><td> 7.48</td><td>lean </td></tr>\n",
       "\t<tr><th scope=row>16</th><td> 7.48</td><td>lean </td></tr>\n",
       "\t<tr><th scope=row>2</th><td> 7.53</td><td>lean </td></tr>\n",
       "\t<tr><th scope=row>20</th><td> 7.58</td><td>lean </td></tr>\n",
       "\t<tr><th scope=row>10</th><td> 7.90</td><td>lean </td></tr>\n",
       "\t<tr><th scope=row>4</th><td> 8.08</td><td>lean </td></tr>\n",
       "\t<tr><th scope=row>5</th><td> 8.09</td><td>lean </td></tr>\n",
       "\t<tr><th scope=row>22</th><td> 8.11</td><td>lean </td></tr>\n",
       "\t<tr><th scope=row>7</th><td> 8.40</td><td>lean </td></tr>\n",
       "\t<tr><th scope=row>17</th><td> 8.79</td><td>obese</td></tr>\n",
       "\t<tr><th scope=row>21</th><td> 9.19</td><td>obese</td></tr>\n",
       "\t<tr><th scope=row>1</th><td> 9.21</td><td>obese</td></tr>\n",
       "\t<tr><th scope=row>19</th><td> 9.68</td><td>obese</td></tr>\n",
       "\t<tr><th scope=row>18</th><td> 9.69</td><td>obese</td></tr>\n",
       "\t<tr><th scope=row>15</th><td> 9.97</td><td>obese</td></tr>\n",
       "\t<tr><th scope=row>6</th><td>10.15</td><td>lean </td></tr>\n",
       "\t<tr><th scope=row>8</th><td>10.88</td><td>lean </td></tr>\n",
       "\t<tr><th scope=row>11</th><td>11.51</td><td>obese</td></tr>\n",
       "\t<tr><th scope=row>14</th><td>11.85</td><td>obese</td></tr>\n",
       "\t<tr><th scope=row>12</th><td>12.79</td><td>obese</td></tr>\n",
       "</tbody>\n",
       "</table>\n"
      ],
      "text/latex": [
       "\\begin{tabular}{r|ll}\n",
       "  & expend & stature\\\\\n",
       "\\hline\n",
       "\t9 &  6.13 & lean \\\\\n",
       "\t13 &  7.05 & lean \\\\\n",
       "\t3 &  7.48 & lean \\\\\n",
       "\t16 &  7.48 & lean \\\\\n",
       "\t2 &  7.53 & lean \\\\\n",
       "\t20 &  7.58 & lean \\\\\n",
       "\t10 &  7.90 & lean \\\\\n",
       "\t4 &  8.08 & lean \\\\\n",
       "\t5 &  8.09 & lean \\\\\n",
       "\t22 &  8.11 & lean \\\\\n",
       "\t7 &  8.40 & lean \\\\\n",
       "\t17 &  8.79 & obese\\\\\n",
       "\t21 &  9.19 & obese\\\\\n",
       "\t1 &  9.21 & obese\\\\\n",
       "\t19 &  9.68 & obese\\\\\n",
       "\t18 &  9.69 & obese\\\\\n",
       "\t15 &  9.97 & obese\\\\\n",
       "\t6 & 10.15 & lean \\\\\n",
       "\t8 & 10.88 & lean \\\\\n",
       "\t11 & 11.51 & obese\\\\\n",
       "\t14 & 11.85 & obese\\\\\n",
       "\t12 & 12.79 & obese\\\\\n",
       "\\end{tabular}\n"
      ],
      "text/markdown": [
       "\n",
       "| <!--/--> | expend | stature |\n",
       "|---|---|---|\n",
       "| 9 |  6.13 | lean  |\n",
       "| 13 |  7.05 | lean  |\n",
       "| 3 |  7.48 | lean  |\n",
       "| 16 |  7.48 | lean  |\n",
       "| 2 |  7.53 | lean  |\n",
       "| 20 |  7.58 | lean  |\n",
       "| 10 |  7.90 | lean  |\n",
       "| 4 |  8.08 | lean  |\n",
       "| 5 |  8.09 | lean  |\n",
       "| 22 |  8.11 | lean  |\n",
       "| 7 |  8.40 | lean  |\n",
       "| 17 |  8.79 | obese |\n",
       "| 21 |  9.19 | obese |\n",
       "| 1 |  9.21 | obese |\n",
       "| 19 |  9.68 | obese |\n",
       "| 18 |  9.69 | obese |\n",
       "| 15 |  9.97 | obese |\n",
       "| 6 | 10.15 | lean  |\n",
       "| 8 | 10.88 | lean  |\n",
       "| 11 | 11.51 | obese |\n",
       "| 14 | 11.85 | obese |\n",
       "| 12 | 12.79 | obese |\n",
       "\n"
      ],
      "text/plain": [
       "   expend stature\n",
       "9   6.13  lean   \n",
       "13  7.05  lean   \n",
       "3   7.48  lean   \n",
       "16  7.48  lean   \n",
       "2   7.53  lean   \n",
       "20  7.58  lean   \n",
       "10  7.90  lean   \n",
       "4   8.08  lean   \n",
       "5   8.09  lean   \n",
       "22  8.11  lean   \n",
       "7   8.40  lean   \n",
       "17  8.79  obese  \n",
       "21  9.19  obese  \n",
       "1   9.21  obese  \n",
       "19  9.68  obese  \n",
       "18  9.69  obese  \n",
       "15  9.97  obese  \n",
       "6  10.15  lean   \n",
       "8  10.88  lean   \n",
       "11 11.51  obese  \n",
       "14 11.85  obese  \n",
       "12 12.79  obese  "
      ]
     },
     "metadata": {},
     "output_type": "display_data"
    },
    {
     "data": {
      "text/html": [
       "<table>\n",
       "<thead><tr><th></th><th scope=col>expend</th><th scope=col>stature</th></tr></thead>\n",
       "<tbody>\n",
       "\t<tr><th scope=row>9</th><td> 6.13</td><td>lean </td></tr>\n",
       "\t<tr><th scope=row>13</th><td> 7.05</td><td>lean </td></tr>\n",
       "\t<tr><th scope=row>3</th><td> 7.48</td><td>lean </td></tr>\n",
       "\t<tr><th scope=row>16</th><td> 7.48</td><td>lean </td></tr>\n",
       "\t<tr><th scope=row>2</th><td> 7.53</td><td>lean </td></tr>\n",
       "\t<tr><th scope=row>20</th><td> 7.58</td><td>lean </td></tr>\n",
       "\t<tr><th scope=row>10</th><td> 7.90</td><td>lean </td></tr>\n",
       "\t<tr><th scope=row>4</th><td> 8.08</td><td>lean </td></tr>\n",
       "\t<tr><th scope=row>5</th><td> 8.09</td><td>lean </td></tr>\n",
       "\t<tr><th scope=row>22</th><td> 8.11</td><td>lean </td></tr>\n",
       "\t<tr><th scope=row>7</th><td> 8.40</td><td>lean </td></tr>\n",
       "\t<tr><th scope=row>6</th><td>10.15</td><td>lean </td></tr>\n",
       "\t<tr><th scope=row>8</th><td>10.88</td><td>lean </td></tr>\n",
       "\t<tr><th scope=row>17</th><td> 8.79</td><td>obese</td></tr>\n",
       "\t<tr><th scope=row>21</th><td> 9.19</td><td>obese</td></tr>\n",
       "\t<tr><th scope=row>1</th><td> 9.21</td><td>obese</td></tr>\n",
       "\t<tr><th scope=row>19</th><td> 9.68</td><td>obese</td></tr>\n",
       "\t<tr><th scope=row>18</th><td> 9.69</td><td>obese</td></tr>\n",
       "\t<tr><th scope=row>15</th><td> 9.97</td><td>obese</td></tr>\n",
       "\t<tr><th scope=row>11</th><td>11.51</td><td>obese</td></tr>\n",
       "\t<tr><th scope=row>14</th><td>11.85</td><td>obese</td></tr>\n",
       "\t<tr><th scope=row>12</th><td>12.79</td><td>obese</td></tr>\n",
       "</tbody>\n",
       "</table>\n"
      ],
      "text/latex": [
       "\\begin{tabular}{r|ll}\n",
       "  & expend & stature\\\\\n",
       "\\hline\n",
       "\t9 &  6.13 & lean \\\\\n",
       "\t13 &  7.05 & lean \\\\\n",
       "\t3 &  7.48 & lean \\\\\n",
       "\t16 &  7.48 & lean \\\\\n",
       "\t2 &  7.53 & lean \\\\\n",
       "\t20 &  7.58 & lean \\\\\n",
       "\t10 &  7.90 & lean \\\\\n",
       "\t4 &  8.08 & lean \\\\\n",
       "\t5 &  8.09 & lean \\\\\n",
       "\t22 &  8.11 & lean \\\\\n",
       "\t7 &  8.40 & lean \\\\\n",
       "\t6 & 10.15 & lean \\\\\n",
       "\t8 & 10.88 & lean \\\\\n",
       "\t17 &  8.79 & obese\\\\\n",
       "\t21 &  9.19 & obese\\\\\n",
       "\t1 &  9.21 & obese\\\\\n",
       "\t19 &  9.68 & obese\\\\\n",
       "\t18 &  9.69 & obese\\\\\n",
       "\t15 &  9.97 & obese\\\\\n",
       "\t11 & 11.51 & obese\\\\\n",
       "\t14 & 11.85 & obese\\\\\n",
       "\t12 & 12.79 & obese\\\\\n",
       "\\end{tabular}\n"
      ],
      "text/markdown": [
       "\n",
       "| <!--/--> | expend | stature |\n",
       "|---|---|---|\n",
       "| 9 |  6.13 | lean  |\n",
       "| 13 |  7.05 | lean  |\n",
       "| 3 |  7.48 | lean  |\n",
       "| 16 |  7.48 | lean  |\n",
       "| 2 |  7.53 | lean  |\n",
       "| 20 |  7.58 | lean  |\n",
       "| 10 |  7.90 | lean  |\n",
       "| 4 |  8.08 | lean  |\n",
       "| 5 |  8.09 | lean  |\n",
       "| 22 |  8.11 | lean  |\n",
       "| 7 |  8.40 | lean  |\n",
       "| 6 | 10.15 | lean  |\n",
       "| 8 | 10.88 | lean  |\n",
       "| 17 |  8.79 | obese |\n",
       "| 21 |  9.19 | obese |\n",
       "| 1 |  9.21 | obese |\n",
       "| 19 |  9.68 | obese |\n",
       "| 18 |  9.69 | obese |\n",
       "| 15 |  9.97 | obese |\n",
       "| 11 | 11.51 | obese |\n",
       "| 14 | 11.85 | obese |\n",
       "| 12 | 12.79 | obese |\n",
       "\n"
      ],
      "text/plain": [
       "   expend stature\n",
       "9   6.13  lean   \n",
       "13  7.05  lean   \n",
       "3   7.48  lean   \n",
       "16  7.48  lean   \n",
       "2   7.53  lean   \n",
       "20  7.58  lean   \n",
       "10  7.90  lean   \n",
       "4   8.08  lean   \n",
       "5   8.09  lean   \n",
       "22  8.11  lean   \n",
       "7   8.40  lean   \n",
       "6  10.15  lean   \n",
       "8  10.88  lean   \n",
       "17  8.79  obese  \n",
       "21  9.19  obese  \n",
       "1   9.21  obese  \n",
       "19  9.68  obese  \n",
       "18  9.69  obese  \n",
       "15  9.97  obese  \n",
       "11 11.51  obese  \n",
       "14 11.85  obese  \n",
       "12 12.79  obese  "
      ]
     },
     "metadata": {},
     "output_type": "display_data"
    },
    {
     "data": {
      "text/html": [
       "<table>\n",
       "<thead><tr><th></th><th scope=col>expend</th><th scope=col>stature</th></tr></thead>\n",
       "<tbody>\n",
       "\t<tr><th scope=row>9</th><td> 6.13</td><td>lean </td></tr>\n",
       "\t<tr><th scope=row>13</th><td> 7.05</td><td>lean </td></tr>\n",
       "\t<tr><th scope=row>3</th><td> 7.48</td><td>lean </td></tr>\n",
       "\t<tr><th scope=row>16</th><td> 7.48</td><td>lean </td></tr>\n",
       "\t<tr><th scope=row>2</th><td> 7.53</td><td>lean </td></tr>\n",
       "\t<tr><th scope=row>20</th><td> 7.58</td><td>lean </td></tr>\n",
       "\t<tr><th scope=row>10</th><td> 7.90</td><td>lean </td></tr>\n",
       "\t<tr><th scope=row>4</th><td> 8.08</td><td>lean </td></tr>\n",
       "\t<tr><th scope=row>5</th><td> 8.09</td><td>lean </td></tr>\n",
       "\t<tr><th scope=row>22</th><td> 8.11</td><td>lean </td></tr>\n",
       "\t<tr><th scope=row>7</th><td> 8.40</td><td>lean </td></tr>\n",
       "\t<tr><th scope=row>6</th><td>10.15</td><td>lean </td></tr>\n",
       "\t<tr><th scope=row>8</th><td>10.88</td><td>lean </td></tr>\n",
       "\t<tr><th scope=row>17</th><td> 8.79</td><td>obese</td></tr>\n",
       "\t<tr><th scope=row>21</th><td> 9.19</td><td>obese</td></tr>\n",
       "\t<tr><th scope=row>1</th><td> 9.21</td><td>obese</td></tr>\n",
       "\t<tr><th scope=row>19</th><td> 9.68</td><td>obese</td></tr>\n",
       "\t<tr><th scope=row>18</th><td> 9.69</td><td>obese</td></tr>\n",
       "\t<tr><th scope=row>15</th><td> 9.97</td><td>obese</td></tr>\n",
       "\t<tr><th scope=row>11</th><td>11.51</td><td>obese</td></tr>\n",
       "\t<tr><th scope=row>14</th><td>11.85</td><td>obese</td></tr>\n",
       "\t<tr><th scope=row>12</th><td>12.79</td><td>obese</td></tr>\n",
       "</tbody>\n",
       "</table>\n"
      ],
      "text/latex": [
       "\\begin{tabular}{r|ll}\n",
       "  & expend & stature\\\\\n",
       "\\hline\n",
       "\t9 &  6.13 & lean \\\\\n",
       "\t13 &  7.05 & lean \\\\\n",
       "\t3 &  7.48 & lean \\\\\n",
       "\t16 &  7.48 & lean \\\\\n",
       "\t2 &  7.53 & lean \\\\\n",
       "\t20 &  7.58 & lean \\\\\n",
       "\t10 &  7.90 & lean \\\\\n",
       "\t4 &  8.08 & lean \\\\\n",
       "\t5 &  8.09 & lean \\\\\n",
       "\t22 &  8.11 & lean \\\\\n",
       "\t7 &  8.40 & lean \\\\\n",
       "\t6 & 10.15 & lean \\\\\n",
       "\t8 & 10.88 & lean \\\\\n",
       "\t17 &  8.79 & obese\\\\\n",
       "\t21 &  9.19 & obese\\\\\n",
       "\t1 &  9.21 & obese\\\\\n",
       "\t19 &  9.68 & obese\\\\\n",
       "\t18 &  9.69 & obese\\\\\n",
       "\t15 &  9.97 & obese\\\\\n",
       "\t11 & 11.51 & obese\\\\\n",
       "\t14 & 11.85 & obese\\\\\n",
       "\t12 & 12.79 & obese\\\\\n",
       "\\end{tabular}\n"
      ],
      "text/markdown": [
       "\n",
       "| <!--/--> | expend | stature |\n",
       "|---|---|---|\n",
       "| 9 |  6.13 | lean  |\n",
       "| 13 |  7.05 | lean  |\n",
       "| 3 |  7.48 | lean  |\n",
       "| 16 |  7.48 | lean  |\n",
       "| 2 |  7.53 | lean  |\n",
       "| 20 |  7.58 | lean  |\n",
       "| 10 |  7.90 | lean  |\n",
       "| 4 |  8.08 | lean  |\n",
       "| 5 |  8.09 | lean  |\n",
       "| 22 |  8.11 | lean  |\n",
       "| 7 |  8.40 | lean  |\n",
       "| 6 | 10.15 | lean  |\n",
       "| 8 | 10.88 | lean  |\n",
       "| 17 |  8.79 | obese |\n",
       "| 21 |  9.19 | obese |\n",
       "| 1 |  9.21 | obese |\n",
       "| 19 |  9.68 | obese |\n",
       "| 18 |  9.69 | obese |\n",
       "| 15 |  9.97 | obese |\n",
       "| 11 | 11.51 | obese |\n",
       "| 14 | 11.85 | obese |\n",
       "| 12 | 12.79 | obese |\n",
       "\n"
      ],
      "text/plain": [
       "   expend stature\n",
       "9   6.13  lean   \n",
       "13  7.05  lean   \n",
       "3   7.48  lean   \n",
       "16  7.48  lean   \n",
       "2   7.53  lean   \n",
       "20  7.58  lean   \n",
       "10  7.90  lean   \n",
       "4   8.08  lean   \n",
       "5   8.09  lean   \n",
       "22  8.11  lean   \n",
       "7   8.40  lean   \n",
       "6  10.15  lean   \n",
       "8  10.88  lean   \n",
       "17  8.79  obese  \n",
       "21  9.19  obese  \n",
       "1   9.21  obese  \n",
       "19  9.68  obese  \n",
       "18  9.69  obese  \n",
       "15  9.97  obese  \n",
       "11 11.51  obese  \n",
       "14 11.85  obese  \n",
       "12 12.79  obese  "
      ]
     },
     "metadata": {},
     "output_type": "display_data"
    }
   ],
   "source": [
    "energy[order(energy$expend),]\n",
    "energy[order(energy$stature, energy$expend),]\n",
    "energy[with(energy, order(stature, expend)),] # with context"
   ]
  },
  {
   "cell_type": "code",
   "execution_count": 8,
   "metadata": {
    "scrolled": false
   },
   "outputs": [
    {
     "data": {
      "text/html": [
       "<table>\n",
       "<thead><tr><th></th><th scope=col>expend</th><th scope=col>stature</th></tr></thead>\n",
       "<tbody>\n",
       "\t<tr><th scope=row>4</th><td> 8.08</td><td>lean </td></tr>\n",
       "\t<tr><th scope=row>5</th><td> 8.09</td><td>lean </td></tr>\n",
       "\t<tr><th scope=row>6</th><td>10.15</td><td>lean </td></tr>\n",
       "\t<tr><th scope=row>7</th><td> 8.40</td><td>lean </td></tr>\n",
       "\t<tr><th scope=row>8</th><td>10.88</td><td>lean </td></tr>\n",
       "\t<tr><th scope=row>22</th><td> 8.11</td><td>lean </td></tr>\n",
       "</tbody>\n",
       "</table>\n"
      ],
      "text/latex": [
       "\\begin{tabular}{r|ll}\n",
       "  & expend & stature\\\\\n",
       "\\hline\n",
       "\t4 &  8.08 & lean \\\\\n",
       "\t5 &  8.09 & lean \\\\\n",
       "\t6 & 10.15 & lean \\\\\n",
       "\t7 &  8.40 & lean \\\\\n",
       "\t8 & 10.88 & lean \\\\\n",
       "\t22 &  8.11 & lean \\\\\n",
       "\\end{tabular}\n"
      ],
      "text/markdown": [
       "\n",
       "| <!--/--> | expend | stature |\n",
       "|---|---|---|\n",
       "| 4 |  8.08 | lean  |\n",
       "| 5 |  8.09 | lean  |\n",
       "| 6 | 10.15 | lean  |\n",
       "| 7 |  8.40 | lean  |\n",
       "| 8 | 10.88 | lean  |\n",
       "| 22 |  8.11 | lean  |\n",
       "\n"
      ],
      "text/plain": [
       "   expend stature\n",
       "4   8.08  lean   \n",
       "5   8.09  lean   \n",
       "6  10.15  lean   \n",
       "7   8.40  lean   \n",
       "8  10.88  lean   \n",
       "22  8.11  lean   "
      ]
     },
     "metadata": {},
     "output_type": "display_data"
    },
    {
     "data": {
      "text/html": [
       "<table>\n",
       "<thead><tr><th></th><th scope=col>expend</th><th scope=col>stature</th></tr></thead>\n",
       "<tbody>\n",
       "\t<tr><th scope=row>4</th><td> 8.08</td><td>lean </td></tr>\n",
       "\t<tr><th scope=row>5</th><td> 8.09</td><td>lean </td></tr>\n",
       "\t<tr><th scope=row>6</th><td>10.15</td><td>lean </td></tr>\n",
       "\t<tr><th scope=row>7</th><td> 8.40</td><td>lean </td></tr>\n",
       "\t<tr><th scope=row>8</th><td>10.88</td><td>lean </td></tr>\n",
       "\t<tr><th scope=row>22</th><td> 8.11</td><td>lean </td></tr>\n",
       "</tbody>\n",
       "</table>\n"
      ],
      "text/latex": [
       "\\begin{tabular}{r|ll}\n",
       "  & expend & stature\\\\\n",
       "\\hline\n",
       "\t4 &  8.08 & lean \\\\\n",
       "\t5 &  8.09 & lean \\\\\n",
       "\t6 & 10.15 & lean \\\\\n",
       "\t7 &  8.40 & lean \\\\\n",
       "\t8 & 10.88 & lean \\\\\n",
       "\t22 &  8.11 & lean \\\\\n",
       "\\end{tabular}\n"
      ],
      "text/markdown": [
       "\n",
       "| <!--/--> | expend | stature |\n",
       "|---|---|---|\n",
       "| 4 |  8.08 | lean  |\n",
       "| 5 |  8.09 | lean  |\n",
       "| 6 | 10.15 | lean  |\n",
       "| 7 |  8.40 | lean  |\n",
       "| 8 | 10.88 | lean  |\n",
       "| 22 |  8.11 | lean  |\n",
       "\n"
      ],
      "text/plain": [
       "   expend stature\n",
       "4   8.08  lean   \n",
       "5   8.09  lean   \n",
       "6  10.15  lean   \n",
       "7   8.40  lean   \n",
       "8  10.88  lean   \n",
       "22  8.11  lean   "
      ]
     },
     "metadata": {},
     "output_type": "display_data"
    }
   ],
   "source": [
    "subset(energy, stature==\"lean\" & expend>8)\n",
    "energy[energy$stature== \"lean\" & energy$expend>8, ]"
   ]
  },
  {
   "cell_type": "code",
   "execution_count": 9,
   "metadata": {},
   "outputs": [
    {
     "data": {
      "text/html": [
       "'list'"
      ],
      "text/latex": [
       "'list'"
      ],
      "text/markdown": [
       "'list'"
      ],
      "text/plain": [
       "[1] \"list\""
      ]
     },
     "metadata": {},
     "output_type": "display_data"
    },
    {
     "data": {
      "text/html": [
       "<dl>\n",
       "\t<dt>$lean</dt>\n",
       "\t\t<dd><ol class=list-inline>\n",
       "\t<li>7.53</li>\n",
       "\t<li>7.48</li>\n",
       "\t<li>8.08</li>\n",
       "\t<li>8.09</li>\n",
       "\t<li>10.15</li>\n",
       "\t<li>8.4</li>\n",
       "\t<li>10.88</li>\n",
       "\t<li>6.13</li>\n",
       "\t<li>7.9</li>\n",
       "\t<li>7.05</li>\n",
       "\t<li>7.48</li>\n",
       "\t<li>7.58</li>\n",
       "\t<li>8.11</li>\n",
       "</ol>\n",
       "</dd>\n",
       "\t<dt>$obese</dt>\n",
       "\t\t<dd><ol class=list-inline>\n",
       "\t<li>9.21</li>\n",
       "\t<li>11.51</li>\n",
       "\t<li>12.79</li>\n",
       "\t<li>11.85</li>\n",
       "\t<li>9.97</li>\n",
       "\t<li>8.79</li>\n",
       "\t<li>9.69</li>\n",
       "\t<li>9.68</li>\n",
       "\t<li>9.19</li>\n",
       "</ol>\n",
       "</dd>\n",
       "</dl>\n"
      ],
      "text/latex": [
       "\\begin{description}\n",
       "\\item[\\$lean] \\begin{enumerate*}\n",
       "\\item 7.53\n",
       "\\item 7.48\n",
       "\\item 8.08\n",
       "\\item 8.09\n",
       "\\item 10.15\n",
       "\\item 8.4\n",
       "\\item 10.88\n",
       "\\item 6.13\n",
       "\\item 7.9\n",
       "\\item 7.05\n",
       "\\item 7.48\n",
       "\\item 7.58\n",
       "\\item 8.11\n",
       "\\end{enumerate*}\n",
       "\n",
       "\\item[\\$obese] \\begin{enumerate*}\n",
       "\\item 9.21\n",
       "\\item 11.51\n",
       "\\item 12.79\n",
       "\\item 11.85\n",
       "\\item 9.97\n",
       "\\item 8.79\n",
       "\\item 9.69\n",
       "\\item 9.68\n",
       "\\item 9.19\n",
       "\\end{enumerate*}\n",
       "\n",
       "\\end{description}\n"
      ],
      "text/markdown": [
       "$lean\n",
       ":   1. 7.53\n",
       "2. 7.48\n",
       "3. 8.08\n",
       "4. 8.09\n",
       "5. 10.15\n",
       "6. 8.4\n",
       "7. 10.88\n",
       "8. 6.13\n",
       "9. 7.9\n",
       "10. 7.05\n",
       "11. 7.48\n",
       "12. 7.58\n",
       "13. 8.11\n",
       "\n",
       "\n",
       "\n",
       "$obese\n",
       ":   1. 9.21\n",
       "2. 11.51\n",
       "3. 12.79\n",
       "4. 11.85\n",
       "5. 9.97\n",
       "6. 8.79\n",
       "7. 9.69\n",
       "8. 9.68\n",
       "9. 9.19\n",
       "\n",
       "\n",
       "\n",
       "\n",
       "\n"
      ],
      "text/plain": [
       "$lean\n",
       " [1]  7.53  7.48  8.08  8.09 10.15  8.40 10.88  6.13  7.90  7.05  7.48  7.58\n",
       "[13]  8.11\n",
       "\n",
       "$obese\n",
       "[1]  9.21 11.51 12.79 11.85  9.97  8.79  9.69  9.68  9.19\n"
      ]
     },
     "metadata": {},
     "output_type": "display_data"
    }
   ],
   "source": [
    "x=split(energy$expend, energy$stature) # split the data in energy$expend into the groups defined by energy$stature\n",
    "class(x)\n",
    "x"
   ]
  },
  {
   "cell_type": "code",
   "execution_count": 10,
   "metadata": {},
   "outputs": [
    {
     "data": {
      "text/html": [
       "<dl>\n",
       "\t<dt>$A</dt>\n",
       "\t\t<dd><ol class=list-inline>\n",
       "\t<li>1</li>\n",
       "\t<li>3</li>\n",
       "\t<li>5</li>\n",
       "\t<li>7</li>\n",
       "\t<li>9</li>\n",
       "</ol>\n",
       "</dd>\n",
       "\t<dt>$B</dt>\n",
       "\t\t<dd><ol class=list-inline>\n",
       "\t<li>2</li>\n",
       "\t<li>4</li>\n",
       "\t<li>6</li>\n",
       "\t<li>8</li>\n",
       "\t<li>10</li>\n",
       "</ol>\n",
       "</dd>\n",
       "</dl>\n"
      ],
      "text/latex": [
       "\\begin{description}\n",
       "\\item[\\$A] \\begin{enumerate*}\n",
       "\\item 1\n",
       "\\item 3\n",
       "\\item 5\n",
       "\\item 7\n",
       "\\item 9\n",
       "\\end{enumerate*}\n",
       "\n",
       "\\item[\\$B] \\begin{enumerate*}\n",
       "\\item 2\n",
       "\\item 4\n",
       "\\item 6\n",
       "\\item 8\n",
       "\\item 10\n",
       "\\end{enumerate*}\n",
       "\n",
       "\\end{description}\n"
      ],
      "text/markdown": [
       "$A\n",
       ":   1. 1\n",
       "2. 3\n",
       "3. 5\n",
       "4. 7\n",
       "5. 9\n",
       "\n",
       "\n",
       "\n",
       "$B\n",
       ":   1. 2\n",
       "2. 4\n",
       "3. 6\n",
       "4. 8\n",
       "5. 10\n",
       "\n",
       "\n",
       "\n",
       "\n",
       "\n"
      ],
      "text/plain": [
       "$A\n",
       "[1] 1 3 5 7 9\n",
       "\n",
       "$B\n",
       "[1]  2  4  6  8 10\n"
      ]
     },
     "metadata": {},
     "output_type": "display_data"
    }
   ],
   "source": [
    "split(1:10, c(\"A\", \"B\"))\n",
    "#1 2 3 4 5 6 7 8 9 10\n",
    "#A B A B A B A B A B \n",
    "\n",
    "# list\n",
    "# A: 1,3,5,7,9\n",
    "# B: 2,4,6,8,10"
   ]
  },
  {
   "cell_type": "code",
   "execution_count": 11,
   "metadata": {
    "scrolled": false
   },
   "outputs": [
    {
     "data": {
      "text/html": [
       "<ol class=list-inline>\n",
       "\t<li>7.53</li>\n",
       "\t<li>7.48</li>\n",
       "\t<li>8.08</li>\n",
       "\t<li>8.09</li>\n",
       "\t<li>10.15</li>\n",
       "\t<li>8.4</li>\n",
       "\t<li>10.88</li>\n",
       "\t<li>6.13</li>\n",
       "\t<li>7.9</li>\n",
       "\t<li>7.05</li>\n",
       "\t<li>7.48</li>\n",
       "\t<li>7.58</li>\n",
       "\t<li>8.11</li>\n",
       "</ol>\n"
      ],
      "text/latex": [
       "\\begin{enumerate*}\n",
       "\\item 7.53\n",
       "\\item 7.48\n",
       "\\item 8.08\n",
       "\\item 8.09\n",
       "\\item 10.15\n",
       "\\item 8.4\n",
       "\\item 10.88\n",
       "\\item 6.13\n",
       "\\item 7.9\n",
       "\\item 7.05\n",
       "\\item 7.48\n",
       "\\item 7.58\n",
       "\\item 8.11\n",
       "\\end{enumerate*}\n"
      ],
      "text/markdown": [
       "1. 7.53\n",
       "2. 7.48\n",
       "3. 8.08\n",
       "4. 8.09\n",
       "5. 10.15\n",
       "6. 8.4\n",
       "7. 10.88\n",
       "8. 6.13\n",
       "9. 7.9\n",
       "10. 7.05\n",
       "11. 7.48\n",
       "12. 7.58\n",
       "13. 8.11\n",
       "\n",
       "\n"
      ],
      "text/plain": [
       " [1]  7.53  7.48  8.08  8.09 10.15  8.40 10.88  6.13  7.90  7.05  7.48  7.58\n",
       "[13]  8.11"
      ]
     },
     "metadata": {},
     "output_type": "display_data"
    },
    {
     "data": {
      "text/html": [
       "<ol class=list-inline>\n",
       "\t<li>7.53</li>\n",
       "\t<li>7.48</li>\n",
       "\t<li>8.08</li>\n",
       "\t<li>8.09</li>\n",
       "\t<li>10.15</li>\n",
       "\t<li>8.4</li>\n",
       "\t<li>10.88</li>\n",
       "\t<li>6.13</li>\n",
       "\t<li>7.9</li>\n",
       "\t<li>7.05</li>\n",
       "\t<li>7.48</li>\n",
       "\t<li>7.58</li>\n",
       "\t<li>8.11</li>\n",
       "</ol>\n"
      ],
      "text/latex": [
       "\\begin{enumerate*}\n",
       "\\item 7.53\n",
       "\\item 7.48\n",
       "\\item 8.08\n",
       "\\item 8.09\n",
       "\\item 10.15\n",
       "\\item 8.4\n",
       "\\item 10.88\n",
       "\\item 6.13\n",
       "\\item 7.9\n",
       "\\item 7.05\n",
       "\\item 7.48\n",
       "\\item 7.58\n",
       "\\item 8.11\n",
       "\\end{enumerate*}\n"
      ],
      "text/markdown": [
       "1. 7.53\n",
       "2. 7.48\n",
       "3. 8.08\n",
       "4. 8.09\n",
       "5. 10.15\n",
       "6. 8.4\n",
       "7. 10.88\n",
       "8. 6.13\n",
       "9. 7.9\n",
       "10. 7.05\n",
       "11. 7.48\n",
       "12. 7.58\n",
       "13. 8.11\n",
       "\n",
       "\n"
      ],
      "text/plain": [
       " [1]  7.53  7.48  8.08  8.09 10.15  8.40 10.88  6.13  7.90  7.05  7.48  7.58\n",
       "[13]  8.11"
      ]
     },
     "metadata": {},
     "output_type": "display_data"
    }
   ],
   "source": [
    "x$lean\n",
    "x[[1]]"
   ]
  },
  {
   "cell_type": "code",
   "execution_count": 12,
   "metadata": {},
   "outputs": [
    {
     "data": {
      "text/html": [
       "<ol class=list-inline>\n",
       "\t<li>9.21</li>\n",
       "\t<li>7.53</li>\n",
       "\t<li>7.48</li>\n",
       "\t<li>8.08</li>\n",
       "\t<li>8.09</li>\n",
       "\t<li>10.15</li>\n",
       "\t<li>8.4</li>\n",
       "\t<li>10.88</li>\n",
       "\t<li>6.13</li>\n",
       "\t<li>7.9</li>\n",
       "\t<li>11.51</li>\n",
       "\t<li>12.79</li>\n",
       "\t<li>7.05</li>\n",
       "\t<li>11.85</li>\n",
       "\t<li>9.97</li>\n",
       "\t<li>7.48</li>\n",
       "\t<li>8.79</li>\n",
       "\t<li>9.69</li>\n",
       "\t<li>9.68</li>\n",
       "\t<li>7.58</li>\n",
       "\t<li>9.19</li>\n",
       "\t<li>8.11</li>\n",
       "</ol>\n"
      ],
      "text/latex": [
       "\\begin{enumerate*}\n",
       "\\item 9.21\n",
       "\\item 7.53\n",
       "\\item 7.48\n",
       "\\item 8.08\n",
       "\\item 8.09\n",
       "\\item 10.15\n",
       "\\item 8.4\n",
       "\\item 10.88\n",
       "\\item 6.13\n",
       "\\item 7.9\n",
       "\\item 11.51\n",
       "\\item 12.79\n",
       "\\item 7.05\n",
       "\\item 11.85\n",
       "\\item 9.97\n",
       "\\item 7.48\n",
       "\\item 8.79\n",
       "\\item 9.69\n",
       "\\item 9.68\n",
       "\\item 7.58\n",
       "\\item 9.19\n",
       "\\item 8.11\n",
       "\\end{enumerate*}\n"
      ],
      "text/markdown": [
       "1. 9.21\n",
       "2. 7.53\n",
       "3. 7.48\n",
       "4. 8.08\n",
       "5. 8.09\n",
       "6. 10.15\n",
       "7. 8.4\n",
       "8. 10.88\n",
       "9. 6.13\n",
       "10. 7.9\n",
       "11. 11.51\n",
       "12. 12.79\n",
       "13. 7.05\n",
       "14. 11.85\n",
       "15. 9.97\n",
       "16. 7.48\n",
       "17. 8.79\n",
       "18. 9.69\n",
       "19. 9.68\n",
       "20. 7.58\n",
       "21. 9.19\n",
       "22. 8.11\n",
       "\n",
       "\n"
      ],
      "text/plain": [
       " [1]  9.21  7.53  7.48  8.08  8.09 10.15  8.40 10.88  6.13  7.90 11.51 12.79\n",
       "[13]  7.05 11.85  9.97  7.48  8.79  9.69  9.68  7.58  9.19  8.11"
      ]
     },
     "metadata": {},
     "output_type": "display_data"
    }
   ],
   "source": [
    "energy[[1]]"
   ]
  },
  {
   "cell_type": "code",
   "execution_count": 13,
   "metadata": {
    "scrolled": true
   },
   "outputs": [
    {
     "data": {
      "text/html": [
       "<dl>\n",
       "\t<dt>$a</dt>\n",
       "\t\t<dd><ol class=list-inline>\n",
       "\t<li>1</li>\n",
       "\t<li>2</li>\n",
       "\t<li>3</li>\n",
       "\t<li>4</li>\n",
       "</ol>\n",
       "</dd>\n",
       "\t<dt>$b</dt>\n",
       "\t\t<dd><ol class=list-inline>\n",
       "\t<li>5</li>\n",
       "\t<li>6</li>\n",
       "\t<li>7</li>\n",
       "\t<li>8</li>\n",
       "\t<li>9</li>\n",
       "</ol>\n",
       "</dd>\n",
       "\t<dt>$c</dt>\n",
       "\t\t<dd><ol class=list-inline>\n",
       "\t<li>'hello'</li>\n",
       "\t<li>'world'</li>\n",
       "</ol>\n",
       "</dd>\n",
       "\t<dt>$mymatrix</dt>\n",
       "\t\t<dd><table>\n",
       "<tbody>\n",
       "\t<tr><td>1</td><td>3</td><td>5</td></tr>\n",
       "\t<tr><td>2</td><td>4</td><td>6</td></tr>\n",
       "</tbody>\n",
       "</table>\n",
       "</dd>\n",
       "</dl>\n"
      ],
      "text/latex": [
       "\\begin{description}\n",
       "\\item[\\$a] \\begin{enumerate*}\n",
       "\\item 1\n",
       "\\item 2\n",
       "\\item 3\n",
       "\\item 4\n",
       "\\end{enumerate*}\n",
       "\n",
       "\\item[\\$b] \\begin{enumerate*}\n",
       "\\item 5\n",
       "\\item 6\n",
       "\\item 7\n",
       "\\item 8\n",
       "\\item 9\n",
       "\\end{enumerate*}\n",
       "\n",
       "\\item[\\$c] \\begin{enumerate*}\n",
       "\\item 'hello'\n",
       "\\item 'world'\n",
       "\\end{enumerate*}\n",
       "\n",
       "\\item[\\$mymatrix] \\begin{tabular}{lll}\n",
       "\t 1 & 3 & 5\\\\\n",
       "\t 2 & 4 & 6\\\\\n",
       "\\end{tabular}\n",
       "\n",
       "\\end{description}\n"
      ],
      "text/markdown": [
       "$a\n",
       ":   1. 1\n",
       "2. 2\n",
       "3. 3\n",
       "4. 4\n",
       "\n",
       "\n",
       "\n",
       "$b\n",
       ":   1. 5\n",
       "2. 6\n",
       "3. 7\n",
       "4. 8\n",
       "5. 9\n",
       "\n",
       "\n",
       "\n",
       "$c\n",
       ":   1. 'hello'\n",
       "2. 'world'\n",
       "\n",
       "\n",
       "\n",
       "$mymatrix\n",
       ":   \n",
       "| 1 | 3 | 5 |\n",
       "| 2 | 4 | 6 |\n",
       "\n",
       "\n",
       "\n",
       "\n"
      ],
      "text/plain": [
       "$a\n",
       "[1] 1 2 3 4\n",
       "\n",
       "$b\n",
       "[1] 5 6 7 8 9\n",
       "\n",
       "$c\n",
       "[1] \"hello\" \"world\"\n",
       "\n",
       "$mymatrix\n",
       "     [,1] [,2] [,3]\n",
       "[1,]    1    3    5\n",
       "[2,]    2    4    6\n"
      ]
     },
     "metadata": {},
     "output_type": "display_data"
    },
    {
     "data": {
      "text/html": [
       "<ol class=list-inline>\n",
       "\t<li>'a'</li>\n",
       "\t<li>'b'</li>\n",
       "\t<li>'c'</li>\n",
       "\t<li>'mymatrix'</li>\n",
       "</ol>\n"
      ],
      "text/latex": [
       "\\begin{enumerate*}\n",
       "\\item 'a'\n",
       "\\item 'b'\n",
       "\\item 'c'\n",
       "\\item 'mymatrix'\n",
       "\\end{enumerate*}\n"
      ],
      "text/markdown": [
       "1. 'a'\n",
       "2. 'b'\n",
       "3. 'c'\n",
       "4. 'mymatrix'\n",
       "\n",
       "\n"
      ],
      "text/plain": [
       "[1] \"a\"        \"b\"        \"c\"        \"mymatrix\""
      ]
     },
     "metadata": {},
     "output_type": "display_data"
    },
    {
     "data": {
      "text/html": [
       "<ol class=list-inline>\n",
       "\t<li>3</li>\n",
       "\t<li>4</li>\n",
       "</ol>\n"
      ],
      "text/latex": [
       "\\begin{enumerate*}\n",
       "\\item 3\n",
       "\\item 4\n",
       "\\end{enumerate*}\n"
      ],
      "text/markdown": [
       "1. 3\n",
       "2. 4\n",
       "\n",
       "\n"
      ],
      "text/plain": [
       "[1] 3 4"
      ]
     },
     "metadata": {},
     "output_type": "display_data"
    }
   ],
   "source": [
    "x=list(a=1:4, b=5:9, c=c('hello', 'world'), mymatrix=matrix(1:6, 2,3))\n",
    "x\n",
    "# x$m[2,2]\n",
    "names(x)\n",
    "x[['mymatrix']][,2]\n",
    "# x$a\n",
    "# x[[1]]\n",
    "# x[[2]]\n",
    "# x[['c']]"
   ]
  },
  {
   "cell_type": "code",
   "execution_count": 14,
   "metadata": {
    "scrolled": false
   },
   "outputs": [
    {
     "data": {
      "text/html": [
       "<ol class=list-inline>\n",
       "\t<li>'thuesen'</li>\n",
       "\t<li>'x'</li>\n",
       "</ol>\n"
      ],
      "text/latex": [
       "\\begin{enumerate*}\n",
       "\\item 'thuesen'\n",
       "\\item 'x'\n",
       "\\end{enumerate*}\n"
      ],
      "text/markdown": [
       "1. 'thuesen'\n",
       "2. 'x'\n",
       "\n",
       "\n"
      ],
      "text/plain": [
       "[1] \"thuesen\" \"x\"      "
      ]
     },
     "metadata": {},
     "output_type": "display_data"
    },
    {
     "name": "stderr",
     "output_type": "stream",
     "text": [
      "Warning message in rm(a):\n",
      "\"object 'a' not found\""
     ]
    },
    {
     "data": {
      "text/html": [
       "<ol class=list-inline>\n",
       "\t<li>'thuesen'</li>\n",
       "\t<li>'x'</li>\n",
       "</ol>\n"
      ],
      "text/latex": [
       "\\begin{enumerate*}\n",
       "\\item 'thuesen'\n",
       "\\item 'x'\n",
       "\\end{enumerate*}\n"
      ],
      "text/markdown": [
       "1. 'thuesen'\n",
       "2. 'x'\n",
       "\n",
       "\n"
      ],
      "text/plain": [
       "[1] \"thuesen\" \"x\"      "
      ]
     },
     "metadata": {},
     "output_type": "display_data"
    }
   ],
   "source": [
    "ls()\n",
    "rm(a)\n",
    "ls()"
   ]
  },
  {
   "cell_type": "code",
   "execution_count": 15,
   "metadata": {
    "scrolled": true
   },
   "outputs": [
    {
     "data": {
      "text/html": [
       "'C:/Users/madhurima singh/Desktop/R test'"
      ],
      "text/latex": [
       "'C:/Users/madhurima singh/Desktop/R test'"
      ],
      "text/markdown": [
       "'C:/Users/madhurima singh/Desktop/R test'"
      ],
      "text/plain": [
       "[1] \"C:/Users/madhurima singh/Desktop/R test\""
      ]
     },
     "metadata": {},
     "output_type": "display_data"
    }
   ],
   "source": [
    "getwd()"
   ]
  },
  {
   "cell_type": "code",
   "execution_count": 16,
   "metadata": {},
   "outputs": [
    {
     "name": "stderr",
     "output_type": "stream",
     "text": [
      "Warning message in file(con, \"r\"):\n",
      "\"cannot open file 'table.txt': No such file or directory\""
     ]
    },
    {
     "ename": "ERROR",
     "evalue": "Error in file(con, \"r\"): cannot open the connection\n",
     "output_type": "error",
     "traceback": [
      "Error in file(con, \"r\"): cannot open the connection\nTraceback:\n",
      "1. file.show(\"table.txt\")",
      "2. pager(files, header = header, title = title, delete.file = delete.file)",
      "3. readLines(path)",
      "4. file(con, \"r\")"
     ]
    }
   ],
   "source": [
    "file.show(\"table.txt\")"
   ]
  },
  {
   "cell_type": "code",
   "execution_count": null,
   "metadata": {},
   "outputs": [],
   "source": [
    "file.show(\"table.csv\")"
   ]
  },
  {
   "cell_type": "code",
   "execution_count": null,
   "metadata": {},
   "outputs": [],
   "source": [
    "read.table"
   ]
  },
  {
   "cell_type": "code",
   "execution_count": null,
   "metadata": {
    "scrolled": true
   },
   "outputs": [],
   "source": [
    "mytable=read.table(file=\"table.txt\", header=TRUE, sep=\" \");mytable\n",
    "class(mytable)\n",
    "sapply(mytable, class) #get data type for each column"
   ]
  },
  {
   "cell_type": "code",
   "execution_count": null,
   "metadata": {
    "scrolled": false
   },
   "outputs": [],
   "source": [
    "mytable\n",
    "write.table(mytable, file=\"mytable.txt\")"
   ]
  },
  {
   "cell_type": "code",
   "execution_count": null,
   "metadata": {},
   "outputs": [],
   "source": [
    "?write.table"
   ]
  },
  {
   "cell_type": "code",
   "execution_count": null,
   "metadata": {},
   "outputs": [],
   "source": [
    "file.show(\"mytable.txt\")"
   ]
  },
  {
   "cell_type": "code",
   "execution_count": null,
   "metadata": {},
   "outputs": [],
   "source": [
    "# write.csv(mytable, file=\"mytable.csv\")\n",
    "write.csv(mytable, file=\"mytable.csv\", row.names=FALSE) #do not include row numbers"
   ]
  },
  {
   "cell_type": "code",
   "execution_count": null,
   "metadata": {},
   "outputs": [],
   "source": [
    "file.show(\"mytable.csv\")"
   ]
  },
  {
   "cell_type": "code",
   "execution_count": null,
   "metadata": {
    "scrolled": false
   },
   "outputs": [],
   "source": [
    "mytable=read.csv(file=\"mytable.csv\", header=TRUE);mytable\n",
    "names(mytable)"
   ]
  },
  {
   "cell_type": "code",
   "execution_count": null,
   "metadata": {
    "scrolled": true
   },
   "outputs": [],
   "source": [
    "mytable=read.csv(file=\"table.csv\", header=TRUE);mytable\n",
    "names(mytable)"
   ]
  },
  {
   "cell_type": "code",
   "execution_count": null,
   "metadata": {},
   "outputs": [],
   "source": [
    "mytable=read.csv(file=\"table.txt\", header=TRUE);mytable\n",
    "names(mytable)"
   ]
  },
  {
   "cell_type": "code",
   "execution_count": null,
   "metadata": {
    "scrolled": false
   },
   "outputs": [],
   "source": [
    "lines=readLines(\"table.csv\")\n",
    "lines\n",
    "lines=readLines(\"table.txt\")\n",
    "lines\n",
    "lines[1]\n",
    "lines[2]\n",
    "lines[3]"
   ]
  },
  {
   "cell_type": "code",
   "execution_count": null,
   "metadata": {},
   "outputs": [],
   "source": [
    "?writeLines"
   ]
  },
  {
   "cell_type": "code",
   "execution_count": 23,
   "metadata": {},
   "outputs": [],
   "source": [
    "fileConn<-file(\"output.txt\")\n",
    "writeLines(c(\"Hello\",\"World\"), fileConn)\n",
    "close(fileConn)"
   ]
  },
  {
   "cell_type": "code",
   "execution_count": 24,
   "metadata": {
    "scrolled": true
   },
   "outputs": [
    {
     "data": {
      "text/html": [
       "<table>\n",
       "<thead><tr><th scope=col>a</th><th scope=col>b</th></tr></thead>\n",
       "<tbody>\n",
       "\t<tr><td>1</td><td>2</td></tr>\n",
       "</tbody>\n",
       "</table>\n"
      ],
      "text/latex": [
       "\\begin{tabular}{r|ll}\n",
       " a & b\\\\\n",
       "\\hline\n",
       "\t 1 & 2\\\\\n",
       "\\end{tabular}\n"
      ],
      "text/markdown": [
       "\n",
       "| a | b |\n",
       "|---|---|\n",
       "| 1 | 2 |\n",
       "\n"
      ],
      "text/plain": [
       "  a b\n",
       "1 1 2"
      ]
     },
     "metadata": {},
     "output_type": "display_data"
    },
    {
     "name": "stdout",
     "output_type": "stream",
     "text": [
      "structure(list(a = 1, b = 2), class = \"data.frame\", row.names = c(NA, \n",
      "-1L))\n"
     ]
    }
   ],
   "source": [
    "x=data.frame(a=1, b=2); x\n",
    "dput(x)"
   ]
  },
  {
   "cell_type": "code",
   "execution_count": 25,
   "metadata": {},
   "outputs": [
    {
     "name": "stdout",
     "output_type": "stream",
     "text": [
      "'data.frame':\t1 obs. of  2 variables:\n",
      " $ a: num 1\n",
      " $ b: num 2\n"
     ]
    }
   ],
   "source": [
    "str(x)"
   ]
  },
  {
   "cell_type": "code",
   "execution_count": 26,
   "metadata": {
    "scrolled": true
   },
   "outputs": [
    {
     "data": {
      "text/plain": [
       "       a           b    \n",
       " Min.   :1   Min.   :2  \n",
       " 1st Qu.:1   1st Qu.:2  \n",
       " Median :1   Median :2  \n",
       " Mean   :1   Mean   :2  \n",
       " 3rd Qu.:1   3rd Qu.:2  \n",
       " Max.   :1   Max.   :2  "
      ]
     },
     "metadata": {},
     "output_type": "display_data"
    }
   ],
   "source": [
    "summary(x)"
   ]
  },
  {
   "cell_type": "code",
   "execution_count": 27,
   "metadata": {},
   "outputs": [],
   "source": [
    "dput(x, file=\"x.R\")"
   ]
  },
  {
   "cell_type": "code",
   "execution_count": 28,
   "metadata": {},
   "outputs": [],
   "source": [
    "file.show(\"x.R\")"
   ]
  },
  {
   "cell_type": "code",
   "execution_count": 29,
   "metadata": {
    "scrolled": true
   },
   "outputs": [
    {
     "data": {
      "text/html": [
       "<table>\n",
       "<thead><tr><th scope=col>a</th><th scope=col>b</th></tr></thead>\n",
       "<tbody>\n",
       "\t<tr><td>1</td><td>2</td></tr>\n",
       "</tbody>\n",
       "</table>\n"
      ],
      "text/latex": [
       "\\begin{tabular}{r|ll}\n",
       " a & b\\\\\n",
       "\\hline\n",
       "\t 1 & 2\\\\\n",
       "\\end{tabular}\n"
      ],
      "text/markdown": [
       "\n",
       "| a | b |\n",
       "|---|---|\n",
       "| 1 | 2 |\n",
       "\n"
      ],
      "text/plain": [
       "  a b\n",
       "1 1 2"
      ]
     },
     "metadata": {},
     "output_type": "display_data"
    },
    {
     "data": {
      "text/html": [
       "<table>\n",
       "<thead><tr><th scope=col>a</th><th scope=col>b</th></tr></thead>\n",
       "<tbody>\n",
       "\t<tr><td>1</td><td>2</td></tr>\n",
       "</tbody>\n",
       "</table>\n"
      ],
      "text/latex": [
       "\\begin{tabular}{r|ll}\n",
       " a & b\\\\\n",
       "\\hline\n",
       "\t 1 & 2\\\\\n",
       "\\end{tabular}\n"
      ],
      "text/markdown": [
       "\n",
       "| a | b |\n",
       "|---|---|\n",
       "| 1 | 2 |\n",
       "\n"
      ],
      "text/plain": [
       "  a b\n",
       "1 1 2"
      ]
     },
     "metadata": {},
     "output_type": "display_data"
    },
    {
     "data": {
      "text/html": [
       "<table>\n",
       "<thead><tr><th scope=col>a</th><th scope=col>b</th></tr></thead>\n",
       "<tbody>\n",
       "\t<tr><td>1</td><td>2</td></tr>\n",
       "</tbody>\n",
       "</table>\n"
      ],
      "text/latex": [
       "\\begin{tabular}{r|ll}\n",
       " a & b\\\\\n",
       "\\hline\n",
       "\t 1 & 2\\\\\n",
       "\\end{tabular}\n"
      ],
      "text/markdown": [
       "\n",
       "| a | b |\n",
       "|---|---|\n",
       "| 1 | 2 |\n",
       "\n"
      ],
      "text/plain": [
       "  a b\n",
       "1 1 2"
      ]
     },
     "metadata": {},
     "output_type": "display_data"
    }
   ],
   "source": [
    "dget(\"x.R\")\n",
    "structure(list(a = 1, b = 2), class = \"data.frame\", row.names = c(NA, \n",
    "-1L))\n",
    "data.frame(a=1, b=2)"
   ]
  },
  {
   "cell_type": "code",
   "execution_count": 30,
   "metadata": {
    "scrolled": false
   },
   "outputs": [
    {
     "data": {
      "text/html": [
       "<table>\n",
       "<thead><tr><th scope=col>a</th><th scope=col>b</th></tr></thead>\n",
       "<tbody>\n",
       "\t<tr><td>1</td><td>2</td></tr>\n",
       "</tbody>\n",
       "</table>\n"
      ],
      "text/latex": [
       "\\begin{tabular}{r|ll}\n",
       " a & b\\\\\n",
       "\\hline\n",
       "\t 1 & 2\\\\\n",
       "\\end{tabular}\n"
      ],
      "text/markdown": [
       "\n",
       "| a | b |\n",
       "|---|---|\n",
       "| 1 | 2 |\n",
       "\n"
      ],
      "text/plain": [
       "  a b\n",
       "1 1 2"
      ]
     },
     "metadata": {},
     "output_type": "display_data"
    }
   ],
   "source": [
    "y=dget(\"x.R\") # you can think dget inserts the content here.\n",
    "y"
   ]
  },
  {
   "cell_type": "code",
   "execution_count": 31,
   "metadata": {},
   "outputs": [
    {
     "data": {
      "text/html": [
       "<table>\n",
       "<thead><tr><th scope=col>a</th><th scope=col>b</th></tr></thead>\n",
       "<tbody>\n",
       "\t<tr><td>1</td><td>2</td></tr>\n",
       "</tbody>\n",
       "</table>\n"
      ],
      "text/latex": [
       "\\begin{tabular}{r|ll}\n",
       " a & b\\\\\n",
       "\\hline\n",
       "\t 1 & 2\\\\\n",
       "\\end{tabular}\n"
      ],
      "text/markdown": [
       "\n",
       "| a | b |\n",
       "|---|---|\n",
       "| 1 | 2 |\n",
       "\n"
      ],
      "text/plain": [
       "  a b\n",
       "1 1 2"
      ]
     },
     "metadata": {},
     "output_type": "display_data"
    }
   ],
   "source": [
    "y=structure(list(a = 1, b = 2), class = \"data.frame\", row.names = c(NA, \n",
    "-1L))\n",
    "y"
   ]
  },
  {
   "cell_type": "code",
   "execution_count": 32,
   "metadata": {
    "scrolled": true
   },
   "outputs": [
    {
     "name": "stdout",
     "output_type": "stream",
     "text": [
      "[1] \"====================\"\n"
     ]
    }
   ],
   "source": [
    "print(\"====================\")\n",
    "x=8\n",
    "y=9\n",
    "# dump(c('x', 'y'))  # by default it dumps to file \"dumpdata.R\"\n",
    "dump(c('x', 'y'), file='xy.R')"
   ]
  },
  {
   "cell_type": "code",
   "execution_count": 33,
   "metadata": {},
   "outputs": [],
   "source": [
    "file.show(\"xy.R\")"
   ]
  },
  {
   "cell_type": "code",
   "execution_count": 34,
   "metadata": {},
   "outputs": [
    {
     "data": {
      "text/html": [
       "<ol class=list-inline>\n",
       "\t<li>'fileConn'</li>\n",
       "\t<li>'numbers'</li>\n",
       "\t<li>'thuesen'</li>\n",
       "\t<li>'x'</li>\n",
       "\t<li>'y'</li>\n",
       "</ol>\n"
      ],
      "text/latex": [
       "\\begin{enumerate*}\n",
       "\\item 'fileConn'\n",
       "\\item 'numbers'\n",
       "\\item 'thuesen'\n",
       "\\item 'x'\n",
       "\\item 'y'\n",
       "\\end{enumerate*}\n"
      ],
      "text/markdown": [
       "1. 'fileConn'\n",
       "2. 'numbers'\n",
       "3. 'thuesen'\n",
       "4. 'x'\n",
       "5. 'y'\n",
       "\n",
       "\n"
      ],
      "text/plain": [
       "[1] \"fileConn\" \"numbers\"  \"thuesen\"  \"x\"        \"y\"       "
      ]
     },
     "metadata": {},
     "output_type": "display_data"
    },
    {
     "data": {
      "text/html": [
       "<ol class=list-inline>\n",
       "\t<li>'fileConn'</li>\n",
       "\t<li>'numbers'</li>\n",
       "\t<li>'thuesen'</li>\n",
       "</ol>\n"
      ],
      "text/latex": [
       "\\begin{enumerate*}\n",
       "\\item 'fileConn'\n",
       "\\item 'numbers'\n",
       "\\item 'thuesen'\n",
       "\\end{enumerate*}\n"
      ],
      "text/markdown": [
       "1. 'fileConn'\n",
       "2. 'numbers'\n",
       "3. 'thuesen'\n",
       "\n",
       "\n"
      ],
      "text/plain": [
       "[1] \"fileConn\" \"numbers\"  \"thuesen\" "
      ]
     },
     "metadata": {},
     "output_type": "display_data"
    }
   ],
   "source": [
    "ls()\n",
    "rm(x, y)\n",
    "ls()"
   ]
  },
  {
   "cell_type": "code",
   "execution_count": 35,
   "metadata": {},
   "outputs": [
    {
     "data": {
      "text/html": [
       "8"
      ],
      "text/latex": [
       "8"
      ],
      "text/markdown": [
       "8"
      ],
      "text/plain": [
       "[1] 8"
      ]
     },
     "metadata": {},
     "output_type": "display_data"
    }
   ],
   "source": [
    "source(\"xy.R\") # source both inserts and executes the content here\n",
    "x"
   ]
  },
  {
   "cell_type": "code",
   "execution_count": 36,
   "metadata": {},
   "outputs": [
    {
     "name": "stdout",
     "output_type": "stream",
     "text": [
      " [1] 58 0a 00 00 00 02 00 03 05 01 00 02 03 00 00 00 00 13 00 00 00 03 00 00 00\n",
      "[26] 0e 00 00 00 01 3f f0 00 00 00 00 00 00 00 00 00 0e 00 00 00 01 40 00 00 00\n",
      "[51] 00 00 00 00 00 00 00 0e 00 00 00 01 40 08 00 00 00 00 00 00\n"
     ]
    },
    {
     "data": {
      "text/html": [
       "<ol>\n",
       "\t<li>1</li>\n",
       "\t<li>2</li>\n",
       "\t<li>3</li>\n",
       "</ol>\n"
      ],
      "text/latex": [
       "\\begin{enumerate}\n",
       "\\item 1\n",
       "\\item 2\n",
       "\\item 3\n",
       "\\end{enumerate}\n"
      ],
      "text/markdown": [
       "1. 1\n",
       "2. 2\n",
       "3. 3\n",
       "\n",
       "\n"
      ],
      "text/plain": [
       "[[1]]\n",
       "[1] 1\n",
       "\n",
       "[[2]]\n",
       "[1] 2\n",
       "\n",
       "[[3]]\n",
       "[1] 3\n"
      ]
     },
     "metadata": {},
     "output_type": "display_data"
    }
   ],
   "source": [
    "x <- serialize(list(1,2,3), NULL)\n",
    "print(x)\n",
    "y=unserialize(x)\n",
    "y"
   ]
  },
  {
   "cell_type": "code",
   "execution_count": 37,
   "metadata": {
    "scrolled": true
   },
   "outputs": [
    {
     "data": {
      "text/html": [
       "<table>\n",
       "<thead><tr><th scope=col>x</th><th scope=col>y</th></tr></thead>\n",
       "<tbody>\n",
       "\t<tr><td>-1.3714542</td><td>0.2365891 </td></tr>\n",
       "\t<tr><td> 0.6835109</td><td>0.9393540 </td></tr>\n",
       "\t<tr><td> 1.3687210</td><td>0.5520382 </td></tr>\n",
       "\t<tr><td>-0.1340534</td><td>0.7969643 </td></tr>\n",
       "\t<tr><td> 0.3069792</td><td>0.2503235 </td></tr>\n",
       "\t<tr><td> 1.6355337</td><td>0.1056800 </td></tr>\n",
       "</tbody>\n",
       "</table>\n"
      ],
      "text/latex": [
       "\\begin{tabular}{r|ll}\n",
       " x & y\\\\\n",
       "\\hline\n",
       "\t -1.3714542 & 0.2365891 \\\\\n",
       "\t  0.6835109 & 0.9393540 \\\\\n",
       "\t  1.3687210 & 0.5520382 \\\\\n",
       "\t -0.1340534 & 0.7969643 \\\\\n",
       "\t  0.3069792 & 0.2503235 \\\\\n",
       "\t  1.6355337 & 0.1056800 \\\\\n",
       "\\end{tabular}\n"
      ],
      "text/markdown": [
       "\n",
       "| x | y |\n",
       "|---|---|\n",
       "| -1.3714542 | 0.2365891  |\n",
       "|  0.6835109 | 0.9393540  |\n",
       "|  1.3687210 | 0.5520382  |\n",
       "| -0.1340534 | 0.7969643  |\n",
       "|  0.3069792 | 0.2503235  |\n",
       "|  1.6355337 | 0.1056800  |\n",
       "\n"
      ],
      "text/plain": [
       "  x          y        \n",
       "1 -1.3714542 0.2365891\n",
       "2  0.6835109 0.9393540\n",
       "3  1.3687210 0.5520382\n",
       "4 -0.1340534 0.7969643\n",
       "5  0.3069792 0.2503235\n",
       "6  1.6355337 0.1056800"
      ]
     },
     "metadata": {},
     "output_type": "display_data"
    },
    {
     "data": {
      "text/html": [
       "<ol class=list-inline>\n",
       "\t<li>3</li>\n",
       "\t<li>4.4</li>\n",
       "\t<li>0.333333333333333</li>\n",
       "</ol>\n"
      ],
      "text/latex": [
       "\\begin{enumerate*}\n",
       "\\item 3\n",
       "\\item 4.4\n",
       "\\item 0.333333333333333\n",
       "\\end{enumerate*}\n"
      ],
      "text/markdown": [
       "1. 3\n",
       "2. 4.4\n",
       "3. 0.333333333333333\n",
       "\n",
       "\n"
      ],
      "text/plain": [
       "[1] 3.0000000 4.4000000 0.3333333"
      ]
     },
     "metadata": {},
     "output_type": "display_data"
    }
   ],
   "source": [
    "a=data.frame(x = rnorm(100), y = runif(100)); head(a)\n",
    "b=c(3, 4.4, 1 / 3); b"
   ]
  },
  {
   "cell_type": "code",
   "execution_count": 38,
   "metadata": {},
   "outputs": [],
   "source": [
    "save(a, b, file = \"mydata.rda\")"
   ]
  },
  {
   "cell_type": "code",
   "execution_count": 39,
   "metadata": {
    "scrolled": true
   },
   "outputs": [
    {
     "data": {
      "text/html": [
       "<ol class=list-inline>\n",
       "\t<li>'fileConn'</li>\n",
       "\t<li>'numbers'</li>\n",
       "\t<li>'thuesen'</li>\n",
       "\t<li>'x'</li>\n",
       "\t<li>'y'</li>\n",
       "</ol>\n"
      ],
      "text/latex": [
       "\\begin{enumerate*}\n",
       "\\item 'fileConn'\n",
       "\\item 'numbers'\n",
       "\\item 'thuesen'\n",
       "\\item 'x'\n",
       "\\item 'y'\n",
       "\\end{enumerate*}\n"
      ],
      "text/markdown": [
       "1. 'fileConn'\n",
       "2. 'numbers'\n",
       "3. 'thuesen'\n",
       "4. 'x'\n",
       "5. 'y'\n",
       "\n",
       "\n"
      ],
      "text/plain": [
       "[1] \"fileConn\" \"numbers\"  \"thuesen\"  \"x\"        \"y\"       "
      ]
     },
     "metadata": {},
     "output_type": "display_data"
    }
   ],
   "source": [
    "rm(a, b)\n",
    "ls()"
   ]
  },
  {
   "cell_type": "code",
   "execution_count": 40,
   "metadata": {},
   "outputs": [],
   "source": [
    "load(\"mydata.rda\")"
   ]
  },
  {
   "cell_type": "code",
   "execution_count": 41,
   "metadata": {
    "scrolled": true
   },
   "outputs": [
    {
     "data": {
      "text/html": [
       "<ol class=list-inline>\n",
       "\t<li>'a'</li>\n",
       "\t<li>'b'</li>\n",
       "\t<li>'fileConn'</li>\n",
       "\t<li>'numbers'</li>\n",
       "\t<li>'thuesen'</li>\n",
       "\t<li>'x'</li>\n",
       "\t<li>'y'</li>\n",
       "</ol>\n"
      ],
      "text/latex": [
       "\\begin{enumerate*}\n",
       "\\item 'a'\n",
       "\\item 'b'\n",
       "\\item 'fileConn'\n",
       "\\item 'numbers'\n",
       "\\item 'thuesen'\n",
       "\\item 'x'\n",
       "\\item 'y'\n",
       "\\end{enumerate*}\n"
      ],
      "text/markdown": [
       "1. 'a'\n",
       "2. 'b'\n",
       "3. 'fileConn'\n",
       "4. 'numbers'\n",
       "5. 'thuesen'\n",
       "6. 'x'\n",
       "7. 'y'\n",
       "\n",
       "\n"
      ],
      "text/plain": [
       "[1] \"a\"        \"b\"        \"fileConn\" \"numbers\"  \"thuesen\"  \"x\"        \"y\"       "
      ]
     },
     "metadata": {},
     "output_type": "display_data"
    },
    {
     "data": {
      "text/html": [
       "<table>\n",
       "<thead><tr><th scope=col>x</th><th scope=col>y</th></tr></thead>\n",
       "<tbody>\n",
       "\t<tr><td>-1.3714542</td><td>0.2365891 </td></tr>\n",
       "\t<tr><td> 0.6835109</td><td>0.9393540 </td></tr>\n",
       "\t<tr><td> 1.3687210</td><td>0.5520382 </td></tr>\n",
       "\t<tr><td>-0.1340534</td><td>0.7969643 </td></tr>\n",
       "\t<tr><td> 0.3069792</td><td>0.2503235 </td></tr>\n",
       "\t<tr><td> 1.6355337</td><td>0.1056800 </td></tr>\n",
       "</tbody>\n",
       "</table>\n"
      ],
      "text/latex": [
       "\\begin{tabular}{r|ll}\n",
       " x & y\\\\\n",
       "\\hline\n",
       "\t -1.3714542 & 0.2365891 \\\\\n",
       "\t  0.6835109 & 0.9393540 \\\\\n",
       "\t  1.3687210 & 0.5520382 \\\\\n",
       "\t -0.1340534 & 0.7969643 \\\\\n",
       "\t  0.3069792 & 0.2503235 \\\\\n",
       "\t  1.6355337 & 0.1056800 \\\\\n",
       "\\end{tabular}\n"
      ],
      "text/markdown": [
       "\n",
       "| x | y |\n",
       "|---|---|\n",
       "| -1.3714542 | 0.2365891  |\n",
       "|  0.6835109 | 0.9393540  |\n",
       "|  1.3687210 | 0.5520382  |\n",
       "| -0.1340534 | 0.7969643  |\n",
       "|  0.3069792 | 0.2503235  |\n",
       "|  1.6355337 | 0.1056800  |\n",
       "\n"
      ],
      "text/plain": [
       "  x          y        \n",
       "1 -1.3714542 0.2365891\n",
       "2  0.6835109 0.9393540\n",
       "3  1.3687210 0.5520382\n",
       "4 -0.1340534 0.7969643\n",
       "5  0.3069792 0.2503235\n",
       "6  1.6355337 0.1056800"
      ]
     },
     "metadata": {},
     "output_type": "display_data"
    },
    {
     "data": {
      "text/html": [
       "<ol class=list-inline>\n",
       "\t<li>3</li>\n",
       "\t<li>4.4</li>\n",
       "\t<li>0.333333333333333</li>\n",
       "</ol>\n"
      ],
      "text/latex": [
       "\\begin{enumerate*}\n",
       "\\item 3\n",
       "\\item 4.4\n",
       "\\item 0.333333333333333\n",
       "\\end{enumerate*}\n"
      ],
      "text/markdown": [
       "1. 3\n",
       "2. 4.4\n",
       "3. 0.333333333333333\n",
       "\n",
       "\n"
      ],
      "text/plain": [
       "[1] 3.0000000 4.4000000 0.3333333"
      ]
     },
     "metadata": {},
     "output_type": "display_data"
    }
   ],
   "source": [
    "ls()\n",
    "head(a)\n",
    "b"
   ]
  },
  {
   "cell_type": "code",
   "execution_count": 42,
   "metadata": {},
   "outputs": [],
   "source": [
    "save.image(file=\"alldata.RData\") #then this file can be opened in another R session or even on different computer."
   ]
  },
  {
   "cell_type": "code",
   "execution_count": 43,
   "metadata": {},
   "outputs": [],
   "source": [
    "mult <- function(x, y) {\n",
    "    x*y\n",
    "}"
   ]
  },
  {
   "cell_type": "code",
   "execution_count": 44,
   "metadata": {},
   "outputs": [
    {
     "data": {
      "text/html": [
       "81"
      ],
      "text/latex": [
       "81"
      ],
      "text/markdown": [
       "81"
      ],
      "text/plain": [
       "[1] 81"
      ]
     },
     "metadata": {},
     "output_type": "display_data"
    }
   ],
   "source": [
    "mult(9, 9)"
   ]
  },
  {
   "cell_type": "code",
   "execution_count": 45,
   "metadata": {},
   "outputs": [],
   "source": [
    "dput(mult, file=\"mymult.R\")"
   ]
  },
  {
   "cell_type": "code",
   "execution_count": 46,
   "metadata": {},
   "outputs": [],
   "source": [
    "file.show(\"mymult.R\")"
   ]
  },
  {
   "cell_type": "code",
   "execution_count": 47,
   "metadata": {},
   "outputs": [],
   "source": [
    "dump(c('mult'), file=\"myfun.R\")"
   ]
  },
  {
   "cell_type": "code",
   "execution_count": 48,
   "metadata": {},
   "outputs": [],
   "source": [
    "file.show(\"myfun.R\")"
   ]
  },
  {
   "cell_type": "code",
   "execution_count": 49,
   "metadata": {},
   "outputs": [
    {
     "data": {
      "text/html": [
       "<ol class=list-inline>\n",
       "\t<li>-8</li>\n",
       "\t<li>-6</li>\n",
       "\t<li>-4</li>\n",
       "\t<li>-2</li>\n",
       "\t<li>0</li>\n",
       "\t<li>2</li>\n",
       "\t<li>4</li>\n",
       "\t<li>6</li>\n",
       "\t<li>8</li>\n",
       "</ol>\n"
      ],
      "text/latex": [
       "\\begin{enumerate*}\n",
       "\\item -8\n",
       "\\item -6\n",
       "\\item -4\n",
       "\\item -2\n",
       "\\item 0\n",
       "\\item 2\n",
       "\\item 4\n",
       "\\item 6\n",
       "\\item 8\n",
       "\\end{enumerate*}\n"
      ],
      "text/markdown": [
       "1. -8\n",
       "2. -6\n",
       "3. -4\n",
       "4. -2\n",
       "5. 0\n",
       "6. 2\n",
       "7. 4\n",
       "8. 6\n",
       "9. 8\n",
       "\n",
       "\n"
      ],
      "text/plain": [
       "[1] -8 -6 -4 -2  0  2  4  6  8"
      ]
     },
     "metadata": {},
     "output_type": "display_data"
    },
    {
     "data": {
      "text/html": [
       "<ol class=list-inline>\n",
       "\t<li>-8</li>\n",
       "\t<li>-6</li>\n",
       "\t<li>-4</li>\n",
       "\t<li>-2</li>\n",
       "\t<li>0</li>\n",
       "\t<li>2</li>\n",
       "\t<li>4</li>\n",
       "\t<li>6</li>\n",
       "\t<li>8</li>\n",
       "</ol>\n"
      ],
      "text/latex": [
       "\\begin{enumerate*}\n",
       "\\item -8\n",
       "\\item -6\n",
       "\\item -4\n",
       "\\item -2\n",
       "\\item 0\n",
       "\\item 2\n",
       "\\item 4\n",
       "\\item 6\n",
       "\\item 8\n",
       "\\end{enumerate*}\n"
      ],
      "text/markdown": [
       "1. -8\n",
       "2. -6\n",
       "3. -4\n",
       "4. -2\n",
       "5. 0\n",
       "6. 2\n",
       "7. 4\n",
       "8. 6\n",
       "9. 8\n",
       "\n",
       "\n"
      ],
      "text/plain": [
       "[1] -8 -6 -4 -2  0  2  4  6  8"
      ]
     },
     "metadata": {},
     "output_type": "display_data"
    }
   ],
   "source": [
    "# calling the functions\n",
    "# this is the file where we will call the functions in myfun.R and mymult.R\n",
    "times <- dget(\"mymult.R\")\n",
    "times(-4:4, 2)\n",
    "\n",
    "source(\"myfun.R\")\n",
    "mult(-4:4, 2)"
   ]
  },
  {
   "cell_type": "code",
   "execution_count": 50,
   "metadata": {
    "scrolled": true
   },
   "outputs": [
    {
     "name": "stdout",
     "output_type": "stream",
     "text": [
      "[1] 4\n"
     ]
    }
   ],
   "source": [
    "x=5\n",
    "\n",
    "if (x>9) \n",
    "{\n",
    "    print(2)\n",
    "} else\n",
    "{\n",
    "    print(4)\n",
    "}"
   ]
  },
  {
   "cell_type": "code",
   "execution_count": 51,
   "metadata": {},
   "outputs": [
    {
     "name": "stdout",
     "output_type": "stream",
     "text": [
      "[1] 2\n"
     ]
    }
   ],
   "source": [
    "x=8\n",
    "\n",
    "if(x<5){\n",
    "    print(1)\n",
    "} else if (x<10)  #the conditions are better to be exclusive from each other\n",
    "# } else if (5<=x & x<10) \n",
    "        {\n",
    "        print(2)\n",
    "        }else{ # x>=10\n",
    "           print(3)\n",
    "        }"
   ]
  },
  {
   "cell_type": "code",
   "execution_count": 52,
   "metadata": {
    "scrolled": true
   },
   "outputs": [
    {
     "data": {
      "text/html": [
       "5.28779804706573"
      ],
      "text/latex": [
       "5.28779804706573"
      ],
      "text/markdown": [
       "5.28779804706573"
      ],
      "text/plain": [
       "[1] 5.287798"
      ]
     },
     "metadata": {},
     "output_type": "display_data"
    },
    {
     "name": "stdout",
     "output_type": "stream",
     "text": [
      "[1] 10\n"
     ]
    }
   ],
   "source": [
    "x=runif(1, 0, 10);x\n",
    "if (x>3) print(10) else print(0)\n"
   ]
  },
  {
   "cell_type": "code",
   "execution_count": 53,
   "metadata": {},
   "outputs": [],
   "source": [
    "?runif"
   ]
  },
  {
   "cell_type": "code",
   "execution_count": 54,
   "metadata": {
    "scrolled": true
   },
   "outputs": [
    {
     "data": {
      "text/html": [
       "10"
      ],
      "text/latex": [
       "10"
      ],
      "text/markdown": [
       "10"
      ],
      "text/plain": [
       "[1] 10"
      ]
     },
     "metadata": {},
     "output_type": "display_data"
    }
   ],
   "source": [
    "x=runif(1, 0, 10)\n",
    "if (x>3) 10 else 0"
   ]
  },
  {
   "cell_type": "code",
   "execution_count": 55,
   "metadata": {
    "scrolled": false
   },
   "outputs": [
    {
     "name": "stdout",
     "output_type": "stream",
     "text": [
      "[1] 0\n",
      "[1] 0\n"
     ]
    }
   ],
   "source": [
    "x=runif(1, 0, 10)\n",
    "y=if (x>3) 10 else 0\n",
    "print(y)\n",
    "# x=runif(1, 0, 10)\n",
    "print(ifelse(x>3, 10, 0))"
   ]
  },
  {
   "cell_type": "code",
   "execution_count": 56,
   "metadata": {
    "scrolled": false
   },
   "outputs": [
    {
     "data": {
      "text/html": [
       "<pre class=language-r><code>function (test, yes, no) \n",
       "{\n",
       "<span style=white-space:pre-wrap>    if (is.atomic(test)) {</span>\n",
       "<span style=white-space:pre-wrap>        if (typeof(test) != \"logical\") </span>\n",
       "<span style=white-space:pre-wrap>            storage.mode(test) &lt;- \"logical\"</span>\n",
       "<span style=white-space:pre-wrap>        if (length(test) == 1 &amp;&amp; is.null(attributes(test))) {</span>\n",
       "<span style=white-space:pre-wrap>            if (is.na(test)) </span>\n",
       "<span style=white-space:pre-wrap>                return(NA)</span>\n",
       "<span style=white-space:pre-wrap>            else if (test) {</span>\n",
       "<span style=white-space:pre-wrap>                if (length(yes) == 1) {</span>\n",
       "<span style=white-space:pre-wrap>                  yat &lt;- attributes(yes)</span>\n",
       "<span style=white-space:pre-wrap>                  if (is.null(yat) || (is.function(yes) &amp;&amp; identical(names(yat), </span>\n",
       "<span style=white-space:pre-wrap>                    \"srcref\"))) </span>\n",
       "<span style=white-space:pre-wrap>                    return(yes)</span>\n",
       "<span style=white-space:pre-wrap>                }</span>\n",
       "<span style=white-space:pre-wrap>            }</span>\n",
       "<span style=white-space:pre-wrap>            else if (length(no) == 1) {</span>\n",
       "<span style=white-space:pre-wrap>                nat &lt;- attributes(no)</span>\n",
       "<span style=white-space:pre-wrap>                if (is.null(nat) || (is.function(no) &amp;&amp; identical(names(nat), </span>\n",
       "<span style=white-space:pre-wrap>                  \"srcref\"))) </span>\n",
       "<span style=white-space:pre-wrap>                  return(no)</span>\n",
       "<span style=white-space:pre-wrap>            }</span>\n",
       "<span style=white-space:pre-wrap>        }</span>\n",
       "<span style=white-space:pre-wrap>    }</span>\n",
       "<span style=white-space:pre-wrap>    else test &lt;- if (isS4(test)) </span>\n",
       "<span style=white-space:pre-wrap>        methods::as(test, \"logical\")</span>\n",
       "<span style=white-space:pre-wrap>    else as.logical(test)</span>\n",
       "<span style=white-space:pre-wrap>    ans &lt;- test</span>\n",
       "<span style=white-space:pre-wrap>    ok &lt;- !is.na(test)</span>\n",
       "<span style=white-space:pre-wrap>    if (any(test[ok])) </span>\n",
       "<span style=white-space:pre-wrap>        ans[test &amp; ok] &lt;- rep(yes, length.out = length(ans))[test &amp; </span>\n",
       "<span style=white-space:pre-wrap>            ok]</span>\n",
       "<span style=white-space:pre-wrap>    if (any(!test[ok])) </span>\n",
       "<span style=white-space:pre-wrap>        ans[!test &amp; ok] &lt;- rep(no, length.out = length(ans))[!test &amp; </span>\n",
       "<span style=white-space:pre-wrap>            ok]</span>\n",
       "<span style=white-space:pre-wrap>    ans</span>\n",
       "}</code></pre>"
      ],
      "text/latex": [
       "\\begin{minted}{r}\n",
       "function (test, yes, no) \n",
       "\\{\n",
       "    if (is.atomic(test)) \\{\n",
       "        if (typeof(test) != \"logical\") \n",
       "            storage.mode(test) <- \"logical\"\n",
       "        if (length(test) == 1 \\&\\& is.null(attributes(test))) \\{\n",
       "            if (is.na(test)) \n",
       "                return(NA)\n",
       "            else if (test) \\{\n",
       "                if (length(yes) == 1) \\{\n",
       "                  yat <- attributes(yes)\n",
       "                  if (is.null(yat) \\textbar{}\\textbar{} (is.function(yes) \\&\\& identical(names(yat), \n",
       "                    \"srcref\"))) \n",
       "                    return(yes)\n",
       "                \\}\n",
       "            \\}\n",
       "            else if (length(no) == 1) \\{\n",
       "                nat <- attributes(no)\n",
       "                if (is.null(nat) \\textbar{}\\textbar{} (is.function(no) \\&\\& identical(names(nat), \n",
       "                  \"srcref\"))) \n",
       "                  return(no)\n",
       "            \\}\n",
       "        \\}\n",
       "    \\}\n",
       "    else test <- if (isS4(test)) \n",
       "        methods::as(test, \"logical\")\n",
       "    else as.logical(test)\n",
       "    ans <- test\n",
       "    ok <- !is.na(test)\n",
       "    if (any(test{[}ok{]})) \n",
       "        ans{[}test \\& ok{]} <- rep(yes, length.out = length(ans)){[}test \\& \n",
       "            ok{]}\n",
       "    if (any(!test{[}ok{]})) \n",
       "        ans{[}!test \\& ok{]} <- rep(no, length.out = length(ans)){[}!test \\& \n",
       "            ok{]}\n",
       "    ans\n",
       "\\}\n",
       "\\end{minted}"
      ],
      "text/markdown": [
       "```r\n",
       "function (test, yes, no) \n",
       "{\n",
       "    if (is.atomic(test)) {\n",
       "        if (typeof(test) != \"logical\") \n",
       "            storage.mode(test) <- \"logical\"\n",
       "        if (length(test) == 1 && is.null(attributes(test))) {\n",
       "            if (is.na(test)) \n",
       "                return(NA)\n",
       "            else if (test) {\n",
       "                if (length(yes) == 1) {\n",
       "                  yat <- attributes(yes)\n",
       "                  if (is.null(yat) || (is.function(yes) && identical(names(yat), \n",
       "                    \"srcref\"))) \n",
       "                    return(yes)\n",
       "                }\n",
       "            }\n",
       "            else if (length(no) == 1) {\n",
       "                nat <- attributes(no)\n",
       "                if (is.null(nat) || (is.function(no) && identical(names(nat), \n",
       "                  \"srcref\"))) \n",
       "                  return(no)\n",
       "            }\n",
       "        }\n",
       "    }\n",
       "    else test <- if (isS4(test)) \n",
       "        methods::as(test, \"logical\")\n",
       "    else as.logical(test)\n",
       "    ans <- test\n",
       "    ok <- !is.na(test)\n",
       "    if (any(test[ok])) \n",
       "        ans[test & ok] <- rep(yes, length.out = length(ans))[test & \n",
       "            ok]\n",
       "    if (any(!test[ok])) \n",
       "        ans[!test & ok] <- rep(no, length.out = length(ans))[!test & \n",
       "            ok]\n",
       "    ans\n",
       "}\n",
       "```"
      ],
      "text/plain": [
       "function (test, yes, no) \n",
       "{\n",
       "    if (is.atomic(test)) {\n",
       "        if (typeof(test) != \"logical\") \n",
       "            storage.mode(test) <- \"logical\"\n",
       "        if (length(test) == 1 && is.null(attributes(test))) {\n",
       "            if (is.na(test)) \n",
       "                return(NA)\n",
       "            else if (test) {\n",
       "                if (length(yes) == 1) {\n",
       "                  yat <- attributes(yes)\n",
       "                  if (is.null(yat) || (is.function(yes) && identical(names(yat), \n",
       "                    \"srcref\"))) \n",
       "                    return(yes)\n",
       "                }\n",
       "            }\n",
       "            else if (length(no) == 1) {\n",
       "                nat <- attributes(no)\n",
       "                if (is.null(nat) || (is.function(no) && identical(names(nat), \n",
       "                  \"srcref\"))) \n",
       "                  return(no)\n",
       "            }\n",
       "        }\n",
       "    }\n",
       "    else test <- if (isS4(test)) \n",
       "        methods::as(test, \"logical\")\n",
       "    else as.logical(test)\n",
       "    ans <- test\n",
       "    ok <- !is.na(test)\n",
       "    if (any(test[ok])) \n",
       "        ans[test & ok] <- rep(yes, length.out = length(ans))[test & \n",
       "            ok]\n",
       "    if (any(!test[ok])) \n",
       "        ans[!test & ok] <- rep(no, length.out = length(ans))[!test & \n",
       "            ok]\n",
       "    ans\n",
       "}\n",
       "<bytecode: 0x00000000271a05c0>\n",
       "<environment: namespace:base>"
      ]
     },
     "metadata": {},
     "output_type": "display_data"
    }
   ],
   "source": [
    "ifelse #it creates both vectors, the yes and the no, and then subsets."
   ]
  },
  {
   "cell_type": "code",
   "execution_count": 57,
   "metadata": {
    "scrolled": true
   },
   "outputs": [
    {
     "data": {
      "text/html": [
       "<ol class=list-inline>\n",
       "\t<li>1</li>\n",
       "\t<li>2</li>\n",
       "\t<li>3</li>\n",
       "\t<li>1</li>\n",
       "\t<li>2</li>\n",
       "</ol>\n"
      ],
      "text/latex": [
       "\\begin{enumerate*}\n",
       "\\item 1\n",
       "\\item 2\n",
       "\\item 3\n",
       "\\item 1\n",
       "\\item 2\n",
       "\\end{enumerate*}\n"
      ],
      "text/markdown": [
       "1. 1\n",
       "2. 2\n",
       "3. 3\n",
       "4. 1\n",
       "5. 2\n",
       "\n",
       "\n"
      ],
      "text/plain": [
       "[1] 1 2 3 1 2"
      ]
     },
     "metadata": {},
     "output_type": "display_data"
    }
   ],
   "source": [
    "rep(c(1,2,3), length.out =5)\n",
    "# ?rep"
   ]
  },
  {
   "cell_type": "code",
   "execution_count": 58,
   "metadata": {},
   "outputs": [
    {
     "name": "stderr",
     "output_type": "stream",
     "text": [
      "Warning message in sqrt(x):\n",
      "\"NaNs produced\""
     ]
    },
    {
     "data": {
      "text/html": [
       "<ol class=list-inline>\n",
       "\t<li>2.44948974278318</li>\n",
       "\t<li>2.23606797749979</li>\n",
       "\t<li>2</li>\n",
       "\t<li>1.73205080756888</li>\n",
       "\t<li>1.4142135623731</li>\n",
       "\t<li>1</li>\n",
       "\t<li>0</li>\n",
       "\t<li>NaN</li>\n",
       "\t<li>NaN</li>\n",
       "\t<li>NaN</li>\n",
       "\t<li>NaN</li>\n",
       "</ol>\n"
      ],
      "text/latex": [
       "\\begin{enumerate*}\n",
       "\\item 2.44948974278318\n",
       "\\item 2.23606797749979\n",
       "\\item 2\n",
       "\\item 1.73205080756888\n",
       "\\item 1.4142135623731\n",
       "\\item 1\n",
       "\\item 0\n",
       "\\item NaN\n",
       "\\item NaN\n",
       "\\item NaN\n",
       "\\item NaN\n",
       "\\end{enumerate*}\n"
      ],
      "text/markdown": [
       "1. 2.44948974278318\n",
       "2. 2.23606797749979\n",
       "3. 2\n",
       "4. 1.73205080756888\n",
       "5. 1.4142135623731\n",
       "6. 1\n",
       "7. 0\n",
       "8. NaN\n",
       "9. NaN\n",
       "10. NaN\n",
       "11. NaN\n",
       "\n",
       "\n"
      ],
      "text/plain": [
       " [1] 2.449490 2.236068 2.000000 1.732051 1.414214 1.000000 0.000000      NaN\n",
       " [9]      NaN      NaN      NaN"
      ]
     },
     "metadata": {},
     "output_type": "display_data"
    }
   ],
   "source": [
    "x=6:-4\n",
    "sqrt(x)"
   ]
  },
  {
   "cell_type": "code",
   "execution_count": 59,
   "metadata": {
    "scrolled": false
   },
   "outputs": [
    {
     "data": {
      "text/html": [
       "<ol class=list-inline>\n",
       "\t<li>6</li>\n",
       "\t<li>5</li>\n",
       "\t<li>4</li>\n",
       "\t<li>3</li>\n",
       "\t<li>2</li>\n",
       "\t<li>1</li>\n",
       "\t<li>0</li>\n",
       "\t<li>0</li>\n",
       "\t<li>0</li>\n",
       "\t<li>0</li>\n",
       "\t<li>0</li>\n",
       "</ol>\n"
      ],
      "text/latex": [
       "\\begin{enumerate*}\n",
       "\\item 6\n",
       "\\item 5\n",
       "\\item 4\n",
       "\\item 3\n",
       "\\item 2\n",
       "\\item 1\n",
       "\\item 0\n",
       "\\item 0\n",
       "\\item 0\n",
       "\\item 0\n",
       "\\item 0\n",
       "\\end{enumerate*}\n"
      ],
      "text/markdown": [
       "1. 6\n",
       "2. 5\n",
       "3. 4\n",
       "4. 3\n",
       "5. 2\n",
       "6. 1\n",
       "7. 0\n",
       "8. 0\n",
       "9. 0\n",
       "10. 0\n",
       "11. 0\n",
       "\n",
       "\n"
      ],
      "text/plain": [
       " [1] 6 5 4 3 2 1 0 0 0 0 0"
      ]
     },
     "metadata": {},
     "output_type": "display_data"
    },
    {
     "data": {
      "text/html": [
       "<ol class=list-inline>\n",
       "\t<li>2.44948974278318</li>\n",
       "\t<li>2.23606797749979</li>\n",
       "\t<li>2</li>\n",
       "\t<li>1.73205080756888</li>\n",
       "\t<li>1.4142135623731</li>\n",
       "\t<li>1</li>\n",
       "\t<li>0</li>\n",
       "\t<li>0</li>\n",
       "\t<li>0</li>\n",
       "\t<li>0</li>\n",
       "\t<li>0</li>\n",
       "</ol>\n"
      ],
      "text/latex": [
       "\\begin{enumerate*}\n",
       "\\item 2.44948974278318\n",
       "\\item 2.23606797749979\n",
       "\\item 2\n",
       "\\item 1.73205080756888\n",
       "\\item 1.4142135623731\n",
       "\\item 1\n",
       "\\item 0\n",
       "\\item 0\n",
       "\\item 0\n",
       "\\item 0\n",
       "\\item 0\n",
       "\\end{enumerate*}\n"
      ],
      "text/markdown": [
       "1. 2.44948974278318\n",
       "2. 2.23606797749979\n",
       "3. 2\n",
       "4. 1.73205080756888\n",
       "5. 1.4142135623731\n",
       "6. 1\n",
       "7. 0\n",
       "8. 0\n",
       "9. 0\n",
       "10. 0\n",
       "11. 0\n",
       "\n",
       "\n"
      ],
      "text/plain": [
       " [1] 2.449490 2.236068 2.000000 1.732051 1.414214 1.000000 0.000000 0.000000\n",
       " [9] 0.000000 0.000000 0.000000"
      ]
     },
     "metadata": {},
     "output_type": "display_data"
    }
   ],
   "source": [
    "y=ifelse(x>=0, x, 0);y\n",
    "sqrt(y)"
   ]
  },
  {
   "cell_type": "code",
   "execution_count": 60,
   "metadata": {},
   "outputs": [
    {
     "name": "stderr",
     "output_type": "stream",
     "text": [
      "Warning message in sqrt(x):\n",
      "\"NaNs produced\""
     ]
    },
    {
     "data": {
      "text/html": [
       "<ol class=list-inline>\n",
       "\t<li>2.44948974278318</li>\n",
       "\t<li>2.23606797749979</li>\n",
       "\t<li>2</li>\n",
       "\t<li>1.73205080756888</li>\n",
       "\t<li>1.4142135623731</li>\n",
       "\t<li>1</li>\n",
       "\t<li>0</li>\n",
       "\t<li>0</li>\n",
       "\t<li>0</li>\n",
       "\t<li>0</li>\n",
       "\t<li>0</li>\n",
       "</ol>\n"
      ],
      "text/latex": [
       "\\begin{enumerate*}\n",
       "\\item 2.44948974278318\n",
       "\\item 2.23606797749979\n",
       "\\item 2\n",
       "\\item 1.73205080756888\n",
       "\\item 1.4142135623731\n",
       "\\item 1\n",
       "\\item 0\n",
       "\\item 0\n",
       "\\item 0\n",
       "\\item 0\n",
       "\\item 0\n",
       "\\end{enumerate*}\n"
      ],
      "text/markdown": [
       "1. 2.44948974278318\n",
       "2. 2.23606797749979\n",
       "3. 2\n",
       "4. 1.73205080756888\n",
       "5. 1.4142135623731\n",
       "6. 1\n",
       "7. 0\n",
       "8. 0\n",
       "9. 0\n",
       "10. 0\n",
       "11. 0\n",
       "\n",
       "\n"
      ],
      "text/plain": [
       " [1] 2.449490 2.236068 2.000000 1.732051 1.414214 1.000000 0.000000 0.000000\n",
       " [9] 0.000000 0.000000 0.000000"
      ]
     },
     "metadata": {},
     "output_type": "display_data"
    }
   ],
   "source": [
    "ifelse(x>=0, sqrt(x), 0)"
   ]
  },
  {
   "cell_type": "code",
   "execution_count": 61,
   "metadata": {},
   "outputs": [
    {
     "name": "stdout",
     "output_type": "stream",
     "text": [
      " [1]  6  5  4  3  2  1  0 -1 -2 -3 -4\n"
     ]
    },
    {
     "name": "stderr",
     "output_type": "stream",
     "text": [
      "Warning message in sqrt(x):\n",
      "\"NaNs produced\""
     ]
    },
    {
     "name": "stdout",
     "output_type": "stream",
     "text": [
      "[1] \"negative\"\n"
     ]
    },
    {
     "data": {
      "text/html": [
       "<ol class=list-inline>\n",
       "\t<li>2.44948974278318</li>\n",
       "\t<li>2.23606797749979</li>\n",
       "\t<li>2</li>\n",
       "\t<li>1.73205080756888</li>\n",
       "\t<li>1.4142135623731</li>\n",
       "\t<li>1</li>\n",
       "\t<li>0</li>\n",
       "\t<li>0</li>\n",
       "\t<li>0</li>\n",
       "\t<li>0</li>\n",
       "\t<li>0</li>\n",
       "</ol>\n"
      ],
      "text/latex": [
       "\\begin{enumerate*}\n",
       "\\item 2.44948974278318\n",
       "\\item 2.23606797749979\n",
       "\\item 2\n",
       "\\item 1.73205080756888\n",
       "\\item 1.4142135623731\n",
       "\\item 1\n",
       "\\item 0\n",
       "\\item 0\n",
       "\\item 0\n",
       "\\item 0\n",
       "\\item 0\n",
       "\\end{enumerate*}\n"
      ],
      "text/markdown": [
       "1. 2.44948974278318\n",
       "2. 2.23606797749979\n",
       "3. 2\n",
       "4. 1.73205080756888\n",
       "5. 1.4142135623731\n",
       "6. 1\n",
       "7. 0\n",
       "8. 0\n",
       "9. 0\n",
       "10. 0\n",
       "11. 0\n",
       "\n",
       "\n"
      ],
      "text/plain": [
       " [1] 2.449490 2.236068 2.000000 1.732051 1.414214 1.000000 0.000000 0.000000\n",
       " [9] 0.000000 0.000000 0.000000"
      ]
     },
     "metadata": {},
     "output_type": "display_data"
    }
   ],
   "source": [
    "ifelse(x>=0, {print(x);sqrt(x)}, {print(\"negative\");0}) #recycling happens within ifelse function as seen above"
   ]
  },
  {
   "cell_type": "code",
   "execution_count": 62,
   "metadata": {
    "scrolled": true
   },
   "outputs": [
    {
     "data": {
      "text/html": [
       "'double'"
      ],
      "text/latex": [
       "'double'"
      ],
      "text/markdown": [
       "'double'"
      ],
      "text/plain": [
       "[1] \"double\""
      ]
     },
     "metadata": {},
     "output_type": "display_data"
    },
    {
     "data": {
      "text/html": [
       "'numeric'"
      ],
      "text/latex": [
       "'numeric'"
      ],
      "text/markdown": [
       "'numeric'"
      ],
      "text/plain": [
       "[1] \"numeric\""
      ]
     },
     "metadata": {},
     "output_type": "display_data"
    },
    {
     "data": {
      "text/html": [
       "'list'"
      ],
      "text/latex": [
       "'list'"
      ],
      "text/markdown": [
       "'list'"
      ],
      "text/plain": [
       "[1] \"list\""
      ]
     },
     "metadata": {},
     "output_type": "display_data"
    },
    {
     "data": {
      "text/html": [
       "'data.frame'"
      ],
      "text/latex": [
       "'data.frame'"
      ],
      "text/markdown": [
       "'data.frame'"
      ],
      "text/plain": [
       "[1] \"data.frame\""
      ]
     },
     "metadata": {},
     "output_type": "display_data"
    }
   ],
   "source": [
    "x=c(1,2,3)\n",
    "typeof(x)  #R internal type or storage mode\n",
    "class(x)   #object's class attribute, if not, it use the result of typeof\n",
    "# ?typeof\n",
    "# ?class\n",
    "y=data.frame(x=1:2, y=3:4)\n",
    "typeof(y)\n",
    "class(y)"
   ]
  },
  {
   "cell_type": "code",
   "execution_count": 63,
   "metadata": {},
   "outputs": [
    {
     "data": {
      "text/html": [
       "'logical'"
      ],
      "text/latex": [
       "'logical'"
      ],
      "text/markdown": [
       "'logical'"
      ],
      "text/plain": [
       "[1] \"logical\""
      ]
     },
     "metadata": {},
     "output_type": "display_data"
    },
    {
     "data": {
      "text/html": [
       "'integer'"
      ],
      "text/latex": [
       "'integer'"
      ],
      "text/markdown": [
       "'integer'"
      ],
      "text/plain": [
       "[1] \"integer\""
      ]
     },
     "metadata": {},
     "output_type": "display_data"
    },
    {
     "data": {
      "text/html": [
       "'double'"
      ],
      "text/latex": [
       "'double'"
      ],
      "text/markdown": [
       "'double'"
      ],
      "text/plain": [
       "[1] \"double\""
      ]
     },
     "metadata": {},
     "output_type": "display_data"
    }
   ],
   "source": [
    "yes <- 1:3\n",
    "no <- pi^(0:3)\n",
    "typeof(ifelse(NA,    yes, no)) # logical\n",
    "typeof(ifelse(TRUE,  yes, no)) # integer\n",
    "typeof(ifelse(FALSE, yes, no)) # double"
   ]
  },
  {
   "cell_type": "code",
   "execution_count": 64,
   "metadata": {
    "scrolled": false
   },
   "outputs": [
    {
     "name": "stdout",
     "output_type": "stream",
     "text": [
      "[1] 1\n",
      "[1] 2\n",
      "[1] 3\n",
      "[1] 4\n",
      "[1] 5\n",
      "[1] 6\n",
      "[1] 7\n",
      "[1] 8\n",
      "[1] 9\n",
      "[1] 10\n"
     ]
    }
   ],
   "source": [
    "for(i in 1:10) print(i)"
   ]
  },
  {
   "cell_type": "code",
   "execution_count": 65,
   "metadata": {
    "scrolled": false
   },
   "outputs": [
    {
     "name": "stdout",
     "output_type": "stream",
     "text": [
      "[1] \"a\"\n",
      "[1] \"b\"\n",
      "[1] \"c\"\n",
      "[1] \"a\"\n",
      "[1] \"b\"\n",
      "[1] \"c\"\n"
     ]
    }
   ],
   "source": [
    "x=c('a', 'b', 'c')\n",
    "for (i in x) print(i)\n",
    "for (i in 1:length(x)) print(x[i])"
   ]
  },
  {
   "cell_type": "code",
   "execution_count": 66,
   "metadata": {
    "scrolled": true
   },
   "outputs": [
    {
     "data": {
      "text/html": [
       "<ol class=list-inline>\n",
       "\t<li>1</li>\n",
       "\t<li>2</li>\n",
       "\t<li>3</li>\n",
       "</ol>\n"
      ],
      "text/latex": [
       "\\begin{enumerate*}\n",
       "\\item 1\n",
       "\\item 2\n",
       "\\item 3\n",
       "\\end{enumerate*}\n"
      ],
      "text/markdown": [
       "1. 1\n",
       "2. 2\n",
       "3. 3\n",
       "\n",
       "\n"
      ],
      "text/plain": [
       "[1] 1 2 3"
      ]
     },
     "metadata": {},
     "output_type": "display_data"
    },
    {
     "name": "stdout",
     "output_type": "stream",
     "text": [
      "[1] 1\n",
      "[1] 2\n",
      "[1] 3\n"
     ]
    },
    {
     "data": {
      "text/html": [
       "'=================='"
      ],
      "text/latex": [
       "'=================='"
      ],
      "text/markdown": [
       "'=================='"
      ],
      "text/plain": [
       "[1] \"==================\""
      ]
     },
     "metadata": {},
     "output_type": "display_data"
    },
    {
     "data": {
      "text/html": [
       "<ol class=list-inline>\n",
       "\t<li>1</li>\n",
       "\t<li>2</li>\n",
       "\t<li>3</li>\n",
       "</ol>\n"
      ],
      "text/latex": [
       "\\begin{enumerate*}\n",
       "\\item 1\n",
       "\\item 2\n",
       "\\item 3\n",
       "\\end{enumerate*}\n"
      ],
      "text/markdown": [
       "1. 1\n",
       "2. 2\n",
       "3. 3\n",
       "\n",
       "\n"
      ],
      "text/plain": [
       "[1] 1 2 3"
      ]
     },
     "metadata": {},
     "output_type": "display_data"
    },
    {
     "name": "stdout",
     "output_type": "stream",
     "text": [
      "[1] 1\n",
      "[1] 2\n",
      "[1] 3\n"
     ]
    }
   ],
   "source": [
    "x=c('a', 'b', 'c')\n",
    "# x=c()\n",
    "1:length(x)\n",
    "for (i in 1:length(x)) print(i)\n",
    "\"==================\"\n",
    "seq_along(x) #generate the index vector safely\n",
    "for (i in seq_along(x)) print(i)"
   ]
  },
  {
   "cell_type": "code",
   "execution_count": 67,
   "metadata": {},
   "outputs": [],
   "source": [
    "?seq_along"
   ]
  },
  {
   "cell_type": "code",
   "execution_count": 68,
   "metadata": {},
   "outputs": [
    {
     "name": "stdout",
     "output_type": "stream",
     "text": [
      "[1] 1\n",
      "[1] 2\n",
      "[1] 3\n",
      "[1] 6\n"
     ]
    },
    {
     "data": {
      "text/html": [
       "'===================='"
      ],
      "text/latex": [
       "'===================='"
      ],
      "text/markdown": [
       "'===================='"
      ],
      "text/plain": [
       "[1] \"====================\""
      ]
     },
     "metadata": {},
     "output_type": "display_data"
    },
    {
     "name": "stdout",
     "output_type": "stream",
     "text": [
      "[1] 1\n",
      "[1] 2\n",
      "[1] 2\n",
      "[1] 4\n",
      "[1] 3\n",
      "[1] 6\n"
     ]
    }
   ],
   "source": [
    "for (i in seq_along(x)) print(i);print(i*2)\n",
    "\"====================\"\n",
    "for (i in seq_along(x)) {print(i);print(i*2)}"
   ]
  },
  {
   "cell_type": "code",
   "execution_count": 69,
   "metadata": {
    "scrolled": false
   },
   "outputs": [
    {
     "name": "stdout",
     "output_type": "stream",
     "text": [
      "     [,1] [,2] [,3]\n",
      "[1,]    1    3    5\n",
      "[2,]    2    4    6\n"
     ]
    },
    {
     "data": {
      "text/html": [
       "2"
      ],
      "text/latex": [
       "2"
      ],
      "text/markdown": [
       "2"
      ],
      "text/plain": [
       "[1] 2"
      ]
     },
     "metadata": {},
     "output_type": "display_data"
    },
    {
     "data": {
      "text/html": [
       "3"
      ],
      "text/latex": [
       "3"
      ],
      "text/markdown": [
       "3"
      ],
      "text/plain": [
       "[1] 3"
      ]
     },
     "metadata": {},
     "output_type": "display_data"
    },
    {
     "data": {
      "text/html": [
       "<ol class=list-inline>\n",
       "\t<li>1</li>\n",
       "\t<li>2</li>\n",
       "</ol>\n"
      ],
      "text/latex": [
       "\\begin{enumerate*}\n",
       "\\item 1\n",
       "\\item 2\n",
       "\\end{enumerate*}\n"
      ],
      "text/markdown": [
       "1. 1\n",
       "2. 2\n",
       "\n",
       "\n"
      ],
      "text/plain": [
       "[1] 1 2"
      ]
     },
     "metadata": {},
     "output_type": "display_data"
    },
    {
     "data": {
      "text/html": [
       "<ol class=list-inline>\n",
       "\t<li>1</li>\n",
       "\t<li>2</li>\n",
       "\t<li>3</li>\n",
       "</ol>\n"
      ],
      "text/latex": [
       "\\begin{enumerate*}\n",
       "\\item 1\n",
       "\\item 2\n",
       "\\item 3\n",
       "\\end{enumerate*}\n"
      ],
      "text/markdown": [
       "1. 1\n",
       "2. 2\n",
       "3. 3\n",
       "\n",
       "\n"
      ],
      "text/plain": [
       "[1] 1 2 3"
      ]
     },
     "metadata": {},
     "output_type": "display_data"
    },
    {
     "data": {
      "text/html": [
       "<ol class=list-inline>\n",
       "\t<li>1</li>\n",
       "\t<li>2</li>\n",
       "\t<li>3</li>\n",
       "\t<li>4</li>\n",
       "\t<li>5</li>\n",
       "\t<li>6</li>\n",
       "\t<li>7</li>\n",
       "\t<li>8</li>\n",
       "\t<li>9</li>\n",
       "\t<li>10</li>\n",
       "</ol>\n"
      ],
      "text/latex": [
       "\\begin{enumerate*}\n",
       "\\item 1\n",
       "\\item 2\n",
       "\\item 3\n",
       "\\item 4\n",
       "\\item 5\n",
       "\\item 6\n",
       "\\item 7\n",
       "\\item 8\n",
       "\\item 9\n",
       "\\item 10\n",
       "\\end{enumerate*}\n"
      ],
      "text/markdown": [
       "1. 1\n",
       "2. 2\n",
       "3. 3\n",
       "4. 4\n",
       "5. 5\n",
       "6. 6\n",
       "7. 7\n",
       "8. 8\n",
       "9. 9\n",
       "10. 10\n",
       "\n",
       "\n"
      ],
      "text/plain": [
       " [1]  1  2  3  4  5  6  7  8  9 10"
      ]
     },
     "metadata": {},
     "output_type": "display_data"
    },
    {
     "data": {
      "text/html": [],
      "text/latex": [],
      "text/markdown": [],
      "text/plain": [
       "integer(0)"
      ]
     },
     "metadata": {},
     "output_type": "display_data"
    },
    {
     "data": {
      "text/html": [
       "1"
      ],
      "text/latex": [
       "1"
      ],
      "text/markdown": [
       "1"
      ],
      "text/plain": [
       "[1] 1"
      ]
     },
     "metadata": {},
     "output_type": "display_data"
    },
    {
     "data": {
      "text/html": [
       "<ol class=list-inline>\n",
       "\t<li>1</li>\n",
       "\t<li>2</li>\n",
       "\t<li>3</li>\n",
       "\t<li>4</li>\n",
       "\t<li>5</li>\n",
       "\t<li>6</li>\n",
       "\t<li>7</li>\n",
       "\t<li>8</li>\n",
       "\t<li>9</li>\n",
       "\t<li>10</li>\n",
       "</ol>\n"
      ],
      "text/latex": [
       "\\begin{enumerate*}\n",
       "\\item 1\n",
       "\\item 2\n",
       "\\item 3\n",
       "\\item 4\n",
       "\\item 5\n",
       "\\item 6\n",
       "\\item 7\n",
       "\\item 8\n",
       "\\item 9\n",
       "\\item 10\n",
       "\\end{enumerate*}\n"
      ],
      "text/markdown": [
       "1. 1\n",
       "2. 2\n",
       "3. 3\n",
       "4. 4\n",
       "5. 5\n",
       "6. 6\n",
       "7. 7\n",
       "8. 8\n",
       "9. 9\n",
       "10. 10\n",
       "\n",
       "\n"
      ],
      "text/plain": [
       " [1]  1  2  3  4  5  6  7  8  9 10"
      ]
     },
     "metadata": {},
     "output_type": "display_data"
    },
    {
     "name": "stdout",
     "output_type": "stream",
     "text": [
      "[1] \"i= 1 j= 1 x= 1\"\n",
      "[1] \"i= 1 j= 2 x= 3\"\n",
      "[1] \"i= 1 j= 3 x= 5\"\n",
      "[1] \"i= 2 j= 1 x= 2\"\n",
      "[1] \"i= 2 j= 2 x= 4\"\n",
      "[1] \"i= 2 j= 3 x= 6\"\n"
     ]
    }
   ],
   "source": [
    "x=matrix(1:6, 2, 3)\n",
    "print(x)\n",
    "\n",
    "nrow(x)\n",
    "ncol(x)\n",
    "seq_len(nrow(x))\n",
    "seq_len(ncol(x))\n",
    "seq_len(10)\n",
    "seq_len(0)\n",
    "seq_along(10)\n",
    "seq_along(1:10)\n",
    "\n",
    "for(i in seq_len(nrow(x))) {\n",
    "    for (j in seq_len(ncol(x))) {\n",
    "        print(paste(\"i=\", i, \"j=\", j, \"x=\", x[i, j], sep=\" \"))\n",
    "#         print(x[i,j])\n",
    "        }\n",
    "}"
   ]
  },
  {
   "cell_type": "code",
   "execution_count": 70,
   "metadata": {
    "scrolled": true
   },
   "outputs": [
    {
     "name": "stdout",
     "output_type": "stream",
     "text": [
      "[1] 1\n",
      "[1] 2\n",
      "[1] 3\n",
      "[1] 4\n",
      "[1] 5\n"
     ]
    }
   ],
   "source": [
    "x <- 1\n",
    "repeat {\n",
    "    print(x)\n",
    "    x = x+1\n",
    "    if (x == 6) break\n",
    "}"
   ]
  },
  {
   "cell_type": "code",
   "execution_count": 73,
   "metadata": {},
   "outputs": [],
   "source": [
    "pi = 1\n",
    "\n",
    "f1 <- function(n){\n",
    "\n",
    "{for (i in range(0:n))\n",
    "        {x = (i * 2 + 3) \n",
    "        #val = num/x\n",
    "\n",
    "       if(i%%2==0){\n",
    "    \n",
    "    pi =  pi - (1/x) \n",
    "\n",
    "}else\n",
    "{\n",
    "    pi = pi + 1/x\n",
    "        }\n",
    "    \n",
    "  }\n",
    "  pi = pi*4 \n",
    " \n",
    "}\n",
    "  return (pi)    \n",
    "  \n",
    " }"
   ]
  },
  {
   "cell_type": "code",
   "execution_count": 75,
   "metadata": {},
   "outputs": [
    {
     "data": {
      "text/html": [
       "2.64696223316913"
      ],
      "text/latex": [
       "2.64696223316913"
      ],
      "text/markdown": [
       "2.64696223316913"
      ],
      "text/plain": [
       "[1] 2.646962"
      ]
     },
     "metadata": {},
     "output_type": "display_data"
    }
   ],
   "source": [
    "f1(100)"
   ]
  },
  {
   "cell_type": "code",
   "execution_count": 76,
   "metadata": {},
   "outputs": [],
   "source": [
    "compute_pi <- function(m) {\n",
    "    s = 0\n",
    "    sign = 1\n",
    "    for (n in 0:m) {\n",
    "        s = s + sign / (2 * n + 1)\n",
    "        sign = -sign\n",
    "    }\n",
    "    4 * s\n",
    "}"
   ]
  },
  {
   "cell_type": "code",
   "execution_count": 77,
   "metadata": {},
   "outputs": [
    {
     "data": {
      "text/html": [
       "3.15149340107099"
      ],
      "text/latex": [
       "3.15149340107099"
      ],
      "text/markdown": [
       "3.15149340107099"
      ],
      "text/plain": [
       "[1] 3.151493"
      ]
     },
     "metadata": {},
     "output_type": "display_data"
    }
   ],
   "source": [
    "compute_pi(100)"
   ]
  },
  {
   "cell_type": "code",
   "execution_count": null,
   "metadata": {},
   "outputs": [],
   "source": []
  }
 ],
 "metadata": {
  "kernelspec": {
   "display_name": "R",
   "language": "R",
   "name": "ir"
  },
  "language_info": {
   "codemirror_mode": "r",
   "file_extension": ".r",
   "mimetype": "text/x-r-source",
   "name": "R",
   "pygments_lexer": "r",
   "version": "3.5.1"
  }
 },
 "nbformat": 4,
 "nbformat_minor": 2
}
